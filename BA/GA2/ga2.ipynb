{
 "cells": [
  {
   "cell_type": "markdown",
   "source": [
    "**Using the dataset data_transform.xlsx analyze the sales at retail outlets for different prices (using the concept of Demand Response Curve). Fit a Simple Linear regression model to this dataset directly and answer questions (1) to (4)**."
   ],
   "metadata": {
    "collapsed": false
   },
   "id": "74b863d6f4de1a9f"
  },
  {
   "cell_type": "code",
   "execution_count": 87,
   "outputs": [],
   "source": [
    "import numpy as np\n",
    "import pandas as pd\n",
    "from sklearn.linear_model import LinearRegression\n",
    "from sklearn.model_selection import train_test_split\n",
    "from scipy.stats import f"
   ],
   "metadata": {
    "collapsed": false,
    "ExecuteTime": {
     "end_time": "2023-11-15T06:27:38.399151900Z",
     "start_time": "2023-11-15T06:27:38.347729200Z"
    }
   },
   "id": "initial_id"
  },
  {
   "cell_type": "code",
   "execution_count": 88,
   "outputs": [
    {
     "data": {
      "text/plain": "    Price  Sales\n0    2.20   68.9\n1    7.48   15.6\n2    7.26   19.5\n3    3.08   35.1\n4    8.14   10.4\n5    7.92   15.6\n6    4.84   35.1\n7    3.74   22.1\n8    3.08   79.3\n9    7.04   26.0\n10   1.76  123.5\n11   2.42   42.9\n12   5.50   24.7\n13   7.26   19.5\n14   2.20   55.9\n15   5.72   14.3\n16   6.60   26.0\n17   5.28   46.8\n18   7.92    9.1\n19   6.16   11.7\n20   5.28   27.3\n21   5.06   32.5\n22   4.62   37.7\n23   3.96   23.4\n24   7.92    7.8\n25   8.14    9.1\n26   6.38   19.5\n27   2.64   29.9\n28   2.42   66.3\n29   2.64  120.9\n30   2.20   66.3\n31   8.14   18.2\n32   2.64   53.3\n33   7.48   10.4\n34   2.20  148.2\n35   5.50   45.5\n36   4.40   23.4\n37   7.26   11.7\n38   3.96   59.8\n39   4.40   22.1\n40   2.86   55.9\n41   1.76   81.9\n42   7.92   10.4\n43   3.52   44.2\n44   1.98  188.5\n45   5.28   23.4\n46   3.74   52.0\n47   6.16   22.1\n48   7.04   22.1\n49   8.14   15.6",
      "text/html": "<div>\n<style scoped>\n    .dataframe tbody tr th:only-of-type {\n        vertical-align: middle;\n    }\n\n    .dataframe tbody tr th {\n        vertical-align: top;\n    }\n\n    .dataframe thead th {\n        text-align: right;\n    }\n</style>\n<table border=\"1\" class=\"dataframe\">\n  <thead>\n    <tr style=\"text-align: right;\">\n      <th></th>\n      <th>Price</th>\n      <th>Sales</th>\n    </tr>\n  </thead>\n  <tbody>\n    <tr>\n      <th>0</th>\n      <td>2.20</td>\n      <td>68.9</td>\n    </tr>\n    <tr>\n      <th>1</th>\n      <td>7.48</td>\n      <td>15.6</td>\n    </tr>\n    <tr>\n      <th>2</th>\n      <td>7.26</td>\n      <td>19.5</td>\n    </tr>\n    <tr>\n      <th>3</th>\n      <td>3.08</td>\n      <td>35.1</td>\n    </tr>\n    <tr>\n      <th>4</th>\n      <td>8.14</td>\n      <td>10.4</td>\n    </tr>\n    <tr>\n      <th>5</th>\n      <td>7.92</td>\n      <td>15.6</td>\n    </tr>\n    <tr>\n      <th>6</th>\n      <td>4.84</td>\n      <td>35.1</td>\n    </tr>\n    <tr>\n      <th>7</th>\n      <td>3.74</td>\n      <td>22.1</td>\n    </tr>\n    <tr>\n      <th>8</th>\n      <td>3.08</td>\n      <td>79.3</td>\n    </tr>\n    <tr>\n      <th>9</th>\n      <td>7.04</td>\n      <td>26.0</td>\n    </tr>\n    <tr>\n      <th>10</th>\n      <td>1.76</td>\n      <td>123.5</td>\n    </tr>\n    <tr>\n      <th>11</th>\n      <td>2.42</td>\n      <td>42.9</td>\n    </tr>\n    <tr>\n      <th>12</th>\n      <td>5.50</td>\n      <td>24.7</td>\n    </tr>\n    <tr>\n      <th>13</th>\n      <td>7.26</td>\n      <td>19.5</td>\n    </tr>\n    <tr>\n      <th>14</th>\n      <td>2.20</td>\n      <td>55.9</td>\n    </tr>\n    <tr>\n      <th>15</th>\n      <td>5.72</td>\n      <td>14.3</td>\n    </tr>\n    <tr>\n      <th>16</th>\n      <td>6.60</td>\n      <td>26.0</td>\n    </tr>\n    <tr>\n      <th>17</th>\n      <td>5.28</td>\n      <td>46.8</td>\n    </tr>\n    <tr>\n      <th>18</th>\n      <td>7.92</td>\n      <td>9.1</td>\n    </tr>\n    <tr>\n      <th>19</th>\n      <td>6.16</td>\n      <td>11.7</td>\n    </tr>\n    <tr>\n      <th>20</th>\n      <td>5.28</td>\n      <td>27.3</td>\n    </tr>\n    <tr>\n      <th>21</th>\n      <td>5.06</td>\n      <td>32.5</td>\n    </tr>\n    <tr>\n      <th>22</th>\n      <td>4.62</td>\n      <td>37.7</td>\n    </tr>\n    <tr>\n      <th>23</th>\n      <td>3.96</td>\n      <td>23.4</td>\n    </tr>\n    <tr>\n      <th>24</th>\n      <td>7.92</td>\n      <td>7.8</td>\n    </tr>\n    <tr>\n      <th>25</th>\n      <td>8.14</td>\n      <td>9.1</td>\n    </tr>\n    <tr>\n      <th>26</th>\n      <td>6.38</td>\n      <td>19.5</td>\n    </tr>\n    <tr>\n      <th>27</th>\n      <td>2.64</td>\n      <td>29.9</td>\n    </tr>\n    <tr>\n      <th>28</th>\n      <td>2.42</td>\n      <td>66.3</td>\n    </tr>\n    <tr>\n      <th>29</th>\n      <td>2.64</td>\n      <td>120.9</td>\n    </tr>\n    <tr>\n      <th>30</th>\n      <td>2.20</td>\n      <td>66.3</td>\n    </tr>\n    <tr>\n      <th>31</th>\n      <td>8.14</td>\n      <td>18.2</td>\n    </tr>\n    <tr>\n      <th>32</th>\n      <td>2.64</td>\n      <td>53.3</td>\n    </tr>\n    <tr>\n      <th>33</th>\n      <td>7.48</td>\n      <td>10.4</td>\n    </tr>\n    <tr>\n      <th>34</th>\n      <td>2.20</td>\n      <td>148.2</td>\n    </tr>\n    <tr>\n      <th>35</th>\n      <td>5.50</td>\n      <td>45.5</td>\n    </tr>\n    <tr>\n      <th>36</th>\n      <td>4.40</td>\n      <td>23.4</td>\n    </tr>\n    <tr>\n      <th>37</th>\n      <td>7.26</td>\n      <td>11.7</td>\n    </tr>\n    <tr>\n      <th>38</th>\n      <td>3.96</td>\n      <td>59.8</td>\n    </tr>\n    <tr>\n      <th>39</th>\n      <td>4.40</td>\n      <td>22.1</td>\n    </tr>\n    <tr>\n      <th>40</th>\n      <td>2.86</td>\n      <td>55.9</td>\n    </tr>\n    <tr>\n      <th>41</th>\n      <td>1.76</td>\n      <td>81.9</td>\n    </tr>\n    <tr>\n      <th>42</th>\n      <td>7.92</td>\n      <td>10.4</td>\n    </tr>\n    <tr>\n      <th>43</th>\n      <td>3.52</td>\n      <td>44.2</td>\n    </tr>\n    <tr>\n      <th>44</th>\n      <td>1.98</td>\n      <td>188.5</td>\n    </tr>\n    <tr>\n      <th>45</th>\n      <td>5.28</td>\n      <td>23.4</td>\n    </tr>\n    <tr>\n      <th>46</th>\n      <td>3.74</td>\n      <td>52.0</td>\n    </tr>\n    <tr>\n      <th>47</th>\n      <td>6.16</td>\n      <td>22.1</td>\n    </tr>\n    <tr>\n      <th>48</th>\n      <td>7.04</td>\n      <td>22.1</td>\n    </tr>\n    <tr>\n      <th>49</th>\n      <td>8.14</td>\n      <td>15.6</td>\n    </tr>\n  </tbody>\n</table>\n</div>"
     },
     "execution_count": 88,
     "metadata": {},
     "output_type": "execute_result"
    }
   ],
   "source": [
    "df = pd.read_excel(\"data_transform.xlsx\")\n",
    "df"
   ],
   "metadata": {
    "collapsed": false,
    "ExecuteTime": {
     "end_time": "2023-11-15T06:27:44.688954300Z",
     "start_time": "2023-11-15T06:27:39.409620Z"
    }
   },
   "id": "eeadec04a97b8ed0"
  },
  {
   "cell_type": "code",
   "execution_count": 89,
   "outputs": [
    {
     "data": {
      "text/plain": "           Price      Sales\ncount  50.000000   50.00000\nmean    5.024800   41.02800\nstd     2.165317   37.39749\nmin     1.760000    7.80000\n25%     2.915000   18.52500\n50%     5.170000   26.00000\n75%     7.205000   52.97500\nmax     8.140000  188.50000",
      "text/html": "<div>\n<style scoped>\n    .dataframe tbody tr th:only-of-type {\n        vertical-align: middle;\n    }\n\n    .dataframe tbody tr th {\n        vertical-align: top;\n    }\n\n    .dataframe thead th {\n        text-align: right;\n    }\n</style>\n<table border=\"1\" class=\"dataframe\">\n  <thead>\n    <tr style=\"text-align: right;\">\n      <th></th>\n      <th>Price</th>\n      <th>Sales</th>\n    </tr>\n  </thead>\n  <tbody>\n    <tr>\n      <th>count</th>\n      <td>50.000000</td>\n      <td>50.00000</td>\n    </tr>\n    <tr>\n      <th>mean</th>\n      <td>5.024800</td>\n      <td>41.02800</td>\n    </tr>\n    <tr>\n      <th>std</th>\n      <td>2.165317</td>\n      <td>37.39749</td>\n    </tr>\n    <tr>\n      <th>min</th>\n      <td>1.760000</td>\n      <td>7.80000</td>\n    </tr>\n    <tr>\n      <th>25%</th>\n      <td>2.915000</td>\n      <td>18.52500</td>\n    </tr>\n    <tr>\n      <th>50%</th>\n      <td>5.170000</td>\n      <td>26.00000</td>\n    </tr>\n    <tr>\n      <th>75%</th>\n      <td>7.205000</td>\n      <td>52.97500</td>\n    </tr>\n    <tr>\n      <th>max</th>\n      <td>8.140000</td>\n      <td>188.50000</td>\n    </tr>\n  </tbody>\n</table>\n</div>"
     },
     "execution_count": 89,
     "metadata": {},
     "output_type": "execute_result"
    }
   ],
   "source": [
    "df.describe()"
   ],
   "metadata": {
    "collapsed": false,
    "ExecuteTime": {
     "end_time": "2023-11-15T06:27:45.663287Z",
     "start_time": "2023-11-15T06:27:44.698523300Z"
    }
   },
   "id": "7044e2cbe0b43734"
  },
  {
   "cell_type": "code",
   "execution_count": 90,
   "outputs": [
    {
     "name": "stdout",
     "output_type": "stream",
     "text": [
      "<class 'pandas.core.frame.DataFrame'>\n",
      "RangeIndex: 50 entries, 0 to 49\n",
      "Data columns (total 2 columns):\n",
      " #   Column  Non-Null Count  Dtype  \n",
      "---  ------  --------------  -----  \n",
      " 0   Price   50 non-null     float64\n",
      " 1   Sales   50 non-null     float64\n",
      "dtypes: float64(2)\n",
      "memory usage: 932.0 bytes\n"
     ]
    }
   ],
   "source": [
    "df.info()"
   ],
   "metadata": {
    "collapsed": false,
    "ExecuteTime": {
     "end_time": "2023-11-15T06:27:47.067512200Z",
     "start_time": "2023-11-15T06:27:45.663287Z"
    }
   },
   "id": "49e51449ac076dff"
  },
  {
   "cell_type": "markdown",
   "source": [
    "\n",
    "**What is the r-square value**"
   ],
   "metadata": {
    "collapsed": false
   },
   "id": "b1aa14a74b8a11ba"
  },
  {
   "cell_type": "code",
   "execution_count": 91,
   "outputs": [
    {
     "name": "stdout",
     "output_type": "stream",
     "text": [
      "r_square: 0.5263620045670871\n"
     ]
    }
   ],
   "source": [
    "X,Y = df[['Price']],df.Sales\n",
    "\n",
    "model = LinearRegression()\n",
    "model.fit(X,Y)\n",
    "\n",
    "r_square = model.score(X,Y)\n",
    "\n",
    "print(\"r_square:\", r_square)"
   ],
   "metadata": {
    "collapsed": false,
    "ExecuteTime": {
     "end_time": "2023-11-15T06:27:47.278615800Z",
     "start_time": "2023-11-15T06:27:47.067512200Z"
    }
   },
   "id": "ef7cac82130a337"
  },
  {
   "cell_type": "code",
   "execution_count": 92,
   "outputs": [
    {
     "data": {
      "text/plain": "array([-5.78684467])"
     },
     "execution_count": 92,
     "metadata": {},
     "output_type": "execute_result"
    }
   ],
   "source": [
    "standardized_coef = model.coef_/df.Price.std()\n",
    "standardized_coef"
   ],
   "metadata": {
    "collapsed": false,
    "ExecuteTime": {
     "end_time": "2023-11-15T06:27:58.993218900Z",
     "start_time": "2023-11-15T06:27:58.964989800Z"
    }
   },
   "id": "3c4763317b9bac39"
  },
  {
   "cell_type": "markdown",
   "source": [
    "**Is the model significant?**\n",
    "\n",
    "*if the p-value is less than your significance level (e.g., 0.05), then you can reject the null hypothesis and conclude that the model is significant. Conversely, if the p-value is greater than your significance level, then you fail to reject the null hypothesis and conclude that the model is not significant 1*"
   ],
   "metadata": {
    "collapsed": false
   },
   "id": "a1d26cb9c285f1e3"
  },
  {
   "cell_type": "code",
   "execution_count": 93,
   "outputs": [
    {
     "name": "stdout",
     "output_type": "stream",
     "text": [
      "F-value: 53.34322090466416\n",
      "p-value: 2.521315378700706e-09\n"
     ]
    }
   ],
   "source": [
    "p=1\n",
    "#fvalue\n",
    "f_val = (r_square/p) / ((1-r_square)/(len(df)-p-1))\n",
    "#pvalue\n",
    "p_val = 1 - f.cdf(f_val, p, len(df)-p-1)\n",
    "\n",
    "print(\"F-value:\", f_val)\n",
    "print(\"p-value:\", p_val)"
   ],
   "metadata": {
    "collapsed": false,
    "ExecuteTime": {
     "end_time": "2023-11-15T06:28:01.902698900Z",
     "start_time": "2023-11-15T06:28:01.679810500Z"
    }
   },
   "id": "882498bb13e30ca8"
  },
  {
   "cell_type": "markdown",
   "source": [
    "*p-value is 2.52e-09, which is much smaller than the typical significance level of 0.05. Therefore, we can reject the null hypothesis and conclude that your **regression model is significant**.*"
   ],
   "metadata": {
    "collapsed": false
   },
   "id": "ac99877c2d9e3f54"
  },
  {
   "cell_type": "markdown",
   "source": [
    "**What is the value of the intercept?**"
   ],
   "metadata": {
    "collapsed": false
   },
   "id": "e46e2b64dd3db1e8"
  },
  {
   "cell_type": "code",
   "execution_count": 94,
   "outputs": [
    {
     "name": "stdout",
     "output_type": "stream",
     "text": [
      "Intercept value: 103.9905130279435\n"
     ]
    }
   ],
   "source": [
    "print(\"Intercept value:\", model.intercept_)"
   ],
   "metadata": {
    "collapsed": false,
    "ExecuteTime": {
     "end_time": "2023-11-15T06:28:08.334364500Z",
     "start_time": "2023-11-15T06:28:08.325302400Z"
    }
   },
   "id": "f80c447f8ed6682"
  },
  {
   "cell_type": "markdown",
   "source": [
    "**What is the value of the slope?**"
   ],
   "metadata": {
    "collapsed": false
   },
   "id": "a918a9429062ae02"
  },
  {
   "cell_type": "code",
   "execution_count": 95,
   "outputs": [
    {
     "name": "stdout",
     "output_type": "stream",
     "text": [
      "Slope value: -12.530352059374206\n"
     ]
    }
   ],
   "source": [
    "print(\"Slope value:\", model.coef_[0])"
   ],
   "metadata": {
    "collapsed": false,
    "ExecuteTime": {
     "end_time": "2023-11-15T06:28:14.934332400Z",
     "start_time": "2023-11-15T06:28:14.880625400Z"
    }
   },
   "id": "251f010aa0072d04"
  },
  {
   "cell_type": "markdown",
   "source": [
    "**Use natural log transformation and refit the model using the transformed dataset answer questions**"
   ],
   "metadata": {
    "collapsed": false
   },
   "id": "8d2696946175640c"
  },
  {
   "cell_type": "code",
   "execution_count": 96,
   "outputs": [],
   "source": [
    "y = np.log(Y)"
   ],
   "metadata": {
    "collapsed": false,
    "ExecuteTime": {
     "end_time": "2023-11-15T06:28:26.065817900Z",
     "start_time": "2023-11-15T06:28:26.063286100Z"
    }
   },
   "id": "3946bc1be528d504"
  },
  {
   "cell_type": "code",
   "execution_count": 100,
   "outputs": [
    {
     "name": "stdout",
     "output_type": "stream",
     "text": [
      "R-squared value: 0.7520141805237455\n"
     ]
    }
   ],
   "source": [
    "model1 = LinearRegression()\n",
    "model1.fit(X, y)\n",
    "\n",
    "r_squared = model1.score(X, y)\n",
    "\n",
    "print(\"R-squared value:\", r_squared)"
   ],
   "metadata": {
    "collapsed": false,
    "ExecuteTime": {
     "end_time": "2023-11-15T06:28:56.895209400Z",
     "start_time": "2023-11-15T06:28:56.889161900Z"
    }
   },
   "id": "c4bfbba566c1fb64"
  },
  {
   "cell_type": "markdown",
   "source": [
    "**Is the model significant?**"
   ],
   "metadata": {
    "collapsed": false
   },
   "id": "f2bd3894fd589cd6"
  },
  {
   "cell_type": "code",
   "execution_count": 101,
   "outputs": [
    {
     "name": "stdout",
     "output_type": "stream",
     "text": [
      "F-value: 145.55945473566143\n",
      "p-value: 2.521315378700706e-09\n"
     ]
    }
   ],
   "source": [
    "p=1\n",
    "#fvalue\n",
    "f_val1 = (r_squared/p) / ((1-r_squared)/(len(df)-p-1))\n",
    "#pvalue\n",
    "p_val1 = 1 - f.cdf(f_val, p, len(df)-p-1)\n",
    "\n",
    "print(\"F-value:\", f_val1)\n",
    "print(\"p-value:\", p_val1)"
   ],
   "metadata": {
    "collapsed": false,
    "ExecuteTime": {
     "end_time": "2023-11-15T06:29:02.685289700Z",
     "start_time": "2023-11-15T06:29:02.514153900Z"
    }
   },
   "id": "9b16f17ebee5efcb"
  },
  {
   "cell_type": "markdown",
   "source": [
    "*p-value is 3.33e-16, which is much smaller than the typical significance level of 0.05. Therefore, we can reject the null hypothesis and conclude that your **regression model is significant**.*"
   ],
   "metadata": {
    "collapsed": false
   },
   "id": "96b8dc879d2da1ce"
  },
  {
   "cell_type": "markdown",
   "source": [
    "**What is the value of the intercept?**"
   ],
   "metadata": {
    "collapsed": false
   },
   "id": "6acec5de72e3b42b"
  },
  {
   "cell_type": "code",
   "execution_count": 102,
   "outputs": [
    {
     "name": "stdout",
     "output_type": "stream",
     "text": [
      "Intercept value: 4.964528412063759\n"
     ]
    }
   ],
   "source": [
    "print(\"Intercept value:\", model1.intercept_)"
   ],
   "metadata": {
    "collapsed": false,
    "ExecuteTime": {
     "end_time": "2023-11-15T06:29:07.573211Z",
     "start_time": "2023-11-15T06:29:07.570635300Z"
    }
   },
   "id": "777c83d2e521dd05"
  },
  {
   "cell_type": "markdown",
   "source": [
    "**What is the value of the slope?**"
   ],
   "metadata": {
    "collapsed": false
   },
   "id": "1f4dc0042ba07e53"
  },
  {
   "cell_type": "code",
   "execution_count": 104,
   "outputs": [
    {
     "name": "stdout",
     "output_type": "stream",
     "text": [
      "Slope value: -0.3107614547091135\n"
     ]
    }
   ],
   "source": [
    "print(\"Slope value:\", model1.coef_[0])"
   ],
   "metadata": {
    "collapsed": false,
    "ExecuteTime": {
     "end_time": "2023-11-15T06:29:21.413520Z",
     "start_time": "2023-11-15T06:29:21.368113900Z"
    }
   },
   "id": "1d184d8a09006532"
  },
  {
   "cell_type": "markdown",
   "source": [
    "**Pandya Motors, a passenger car manufacturer, wants to predict the profit for its cars based on the expenditure spent on areas like safety features, tech features, and marketing. Every car has multiple variants like the base model, middle variant, top model, automatic gearbox, etc. Based on the data provided, build a linear regression model and predict the profit. Use the instructions provided below.\n",
    "\ti. You are provided with two excel files: X.xlsx and y.xlsx, where X is the feature matrix, and y is the target variable.\n",
    "\tii. Use only Google Collab for doing this assignment as we have created the scoring scheme based on the results obtained from Google Collab.\n",
    "\tiii. Do not do any kind of feature engineering as the data is already feature-engineered and ready to be used for building the regression model.\n",
    "\tiv. Use train_test_split from sklearn.model_selection and keep the test_size = 0.2, random_state = 0\n",
    "\tv. Next, use LinearRegression from sklearn.linear_model and build the regression model\n",
    "\tvi. As usual, fit the model on X_train and y_train\n",
    "\tvii. Then predict on X_test**"
   ],
   "metadata": {
    "collapsed": false
   },
   "id": "a8066a4b02905cc7"
  },
  {
   "cell_type": "code",
   "execution_count": 105,
   "outputs": [
    {
     "data": {
      "text/plain": "    Safety Features  Tech Features  Marketing Spend  Premium Hatchback  SUV\n0         175349.20      116897.80        491784.10                  0    1\n1         172597.70      131377.59        463898.53                  0    0\n2         163441.51       81145.55        427934.54                  1    0\n3         154372.41       98671.85        403199.62                  0    1\n4         152107.34       71391.77        386168.42                  1    0\n5         141876.90       79814.71        382861.36                  0    1\n6         144615.46      127198.87        147716.82                  0    0\n7         140298.13      125530.06        343876.68                  1    0\n8         130542.52      128718.95        331613.29                  0    1\n9         133334.88       88679.17        324981.62                  0    0\n10        111913.08       90594.11        249160.95                  1    0\n11        110671.96       71790.61        269744.55                  0    0\n12        103863.75      107320.38        269839.44                  1    0\n13        101992.39      115495.07        272664.93                  0    0\n14        129943.24      136547.42        276512.92                  1    0\n15        124523.61      102616.84        281776.23                  0    1\n16         88013.11      101597.55        284346.06                  0    0\n17        104657.16      125077.58        302574.31                  0    1\n18        101749.16       94175.79        314919.57                  1    0\n19         96419.70      133514.11         20000.00                  0    1\n20         86253.86       93867.30        318664.47                  0    0\n21         88389.47      133773.43        319737.29                  0    1\n22         83994.56      102782.75        323319.26                  1    0\n23         77532.53       85751.03        324768.73                  1    0\n24         87044.01       79281.34        160574.81                  0    1\n25         74664.71      119553.16        157962.62                  0    0\n26         85328.87      124135.98        154050.07                  1    0\n27         82107.60      107864.55        373183.81                  0    1\n28         76051.52      162645.56        138148.20                  1    0\n29         75605.48      133032.06        127138.38                  0    1\n30         71994.48       95641.28        111131.24                  1    0\n31         71136.38      132701.92        108218.23                  0    1\n32         73408.86      109219.61         66085.25                  0    0\n33         65493.95       83057.49        234634.81                  1    0\n34         56426.07      137693.92        230797.67                  0    0\n35         56014.02       65047.44        225517.64                  0    1\n36         38663.76      107056.21        221126.82                  1    0\n37         54069.95       31283.14        217029.42                  0    0\n38         30229.59       45947.93        205265.10                  0    1\n39         48558.51       62982.09        194999.30                  0    0\n40         38754.33       98546.05        192795.67                  0    0\n41         37892.92       64710.77        184470.71                  1    0\n42         33640.93       76189.63        168001.11                  0    0\n43         25505.73      107382.30         55534.17                  0    1\n44         32177.74      134806.14         48334.72                  0    0\n45         11000.23      104153.04         21903.93                  0    1\n46         11315.46       95816.21        317114.46                  1    0\n47         10000.00      115426.92         20000.00                  0    0\n48         10542.05       31743.15         20000.00                  0    1\n49         10000.00       96983.80         65173.06                  0    0",
      "text/html": "<div>\n<style scoped>\n    .dataframe tbody tr th:only-of-type {\n        vertical-align: middle;\n    }\n\n    .dataframe tbody tr th {\n        vertical-align: top;\n    }\n\n    .dataframe thead th {\n        text-align: right;\n    }\n</style>\n<table border=\"1\" class=\"dataframe\">\n  <thead>\n    <tr style=\"text-align: right;\">\n      <th></th>\n      <th>Safety Features</th>\n      <th>Tech Features</th>\n      <th>Marketing Spend</th>\n      <th>Premium Hatchback</th>\n      <th>SUV</th>\n    </tr>\n  </thead>\n  <tbody>\n    <tr>\n      <th>0</th>\n      <td>175349.20</td>\n      <td>116897.80</td>\n      <td>491784.10</td>\n      <td>0</td>\n      <td>1</td>\n    </tr>\n    <tr>\n      <th>1</th>\n      <td>172597.70</td>\n      <td>131377.59</td>\n      <td>463898.53</td>\n      <td>0</td>\n      <td>0</td>\n    </tr>\n    <tr>\n      <th>2</th>\n      <td>163441.51</td>\n      <td>81145.55</td>\n      <td>427934.54</td>\n      <td>1</td>\n      <td>0</td>\n    </tr>\n    <tr>\n      <th>3</th>\n      <td>154372.41</td>\n      <td>98671.85</td>\n      <td>403199.62</td>\n      <td>0</td>\n      <td>1</td>\n    </tr>\n    <tr>\n      <th>4</th>\n      <td>152107.34</td>\n      <td>71391.77</td>\n      <td>386168.42</td>\n      <td>1</td>\n      <td>0</td>\n    </tr>\n    <tr>\n      <th>5</th>\n      <td>141876.90</td>\n      <td>79814.71</td>\n      <td>382861.36</td>\n      <td>0</td>\n      <td>1</td>\n    </tr>\n    <tr>\n      <th>6</th>\n      <td>144615.46</td>\n      <td>127198.87</td>\n      <td>147716.82</td>\n      <td>0</td>\n      <td>0</td>\n    </tr>\n    <tr>\n      <th>7</th>\n      <td>140298.13</td>\n      <td>125530.06</td>\n      <td>343876.68</td>\n      <td>1</td>\n      <td>0</td>\n    </tr>\n    <tr>\n      <th>8</th>\n      <td>130542.52</td>\n      <td>128718.95</td>\n      <td>331613.29</td>\n      <td>0</td>\n      <td>1</td>\n    </tr>\n    <tr>\n      <th>9</th>\n      <td>133334.88</td>\n      <td>88679.17</td>\n      <td>324981.62</td>\n      <td>0</td>\n      <td>0</td>\n    </tr>\n    <tr>\n      <th>10</th>\n      <td>111913.08</td>\n      <td>90594.11</td>\n      <td>249160.95</td>\n      <td>1</td>\n      <td>0</td>\n    </tr>\n    <tr>\n      <th>11</th>\n      <td>110671.96</td>\n      <td>71790.61</td>\n      <td>269744.55</td>\n      <td>0</td>\n      <td>0</td>\n    </tr>\n    <tr>\n      <th>12</th>\n      <td>103863.75</td>\n      <td>107320.38</td>\n      <td>269839.44</td>\n      <td>1</td>\n      <td>0</td>\n    </tr>\n    <tr>\n      <th>13</th>\n      <td>101992.39</td>\n      <td>115495.07</td>\n      <td>272664.93</td>\n      <td>0</td>\n      <td>0</td>\n    </tr>\n    <tr>\n      <th>14</th>\n      <td>129943.24</td>\n      <td>136547.42</td>\n      <td>276512.92</td>\n      <td>1</td>\n      <td>0</td>\n    </tr>\n    <tr>\n      <th>15</th>\n      <td>124523.61</td>\n      <td>102616.84</td>\n      <td>281776.23</td>\n      <td>0</td>\n      <td>1</td>\n    </tr>\n    <tr>\n      <th>16</th>\n      <td>88013.11</td>\n      <td>101597.55</td>\n      <td>284346.06</td>\n      <td>0</td>\n      <td>0</td>\n    </tr>\n    <tr>\n      <th>17</th>\n      <td>104657.16</td>\n      <td>125077.58</td>\n      <td>302574.31</td>\n      <td>0</td>\n      <td>1</td>\n    </tr>\n    <tr>\n      <th>18</th>\n      <td>101749.16</td>\n      <td>94175.79</td>\n      <td>314919.57</td>\n      <td>1</td>\n      <td>0</td>\n    </tr>\n    <tr>\n      <th>19</th>\n      <td>96419.70</td>\n      <td>133514.11</td>\n      <td>20000.00</td>\n      <td>0</td>\n      <td>1</td>\n    </tr>\n    <tr>\n      <th>20</th>\n      <td>86253.86</td>\n      <td>93867.30</td>\n      <td>318664.47</td>\n      <td>0</td>\n      <td>0</td>\n    </tr>\n    <tr>\n      <th>21</th>\n      <td>88389.47</td>\n      <td>133773.43</td>\n      <td>319737.29</td>\n      <td>0</td>\n      <td>1</td>\n    </tr>\n    <tr>\n      <th>22</th>\n      <td>83994.56</td>\n      <td>102782.75</td>\n      <td>323319.26</td>\n      <td>1</td>\n      <td>0</td>\n    </tr>\n    <tr>\n      <th>23</th>\n      <td>77532.53</td>\n      <td>85751.03</td>\n      <td>324768.73</td>\n      <td>1</td>\n      <td>0</td>\n    </tr>\n    <tr>\n      <th>24</th>\n      <td>87044.01</td>\n      <td>79281.34</td>\n      <td>160574.81</td>\n      <td>0</td>\n      <td>1</td>\n    </tr>\n    <tr>\n      <th>25</th>\n      <td>74664.71</td>\n      <td>119553.16</td>\n      <td>157962.62</td>\n      <td>0</td>\n      <td>0</td>\n    </tr>\n    <tr>\n      <th>26</th>\n      <td>85328.87</td>\n      <td>124135.98</td>\n      <td>154050.07</td>\n      <td>1</td>\n      <td>0</td>\n    </tr>\n    <tr>\n      <th>27</th>\n      <td>82107.60</td>\n      <td>107864.55</td>\n      <td>373183.81</td>\n      <td>0</td>\n      <td>1</td>\n    </tr>\n    <tr>\n      <th>28</th>\n      <td>76051.52</td>\n      <td>162645.56</td>\n      <td>138148.20</td>\n      <td>1</td>\n      <td>0</td>\n    </tr>\n    <tr>\n      <th>29</th>\n      <td>75605.48</td>\n      <td>133032.06</td>\n      <td>127138.38</td>\n      <td>0</td>\n      <td>1</td>\n    </tr>\n    <tr>\n      <th>30</th>\n      <td>71994.48</td>\n      <td>95641.28</td>\n      <td>111131.24</td>\n      <td>1</td>\n      <td>0</td>\n    </tr>\n    <tr>\n      <th>31</th>\n      <td>71136.38</td>\n      <td>132701.92</td>\n      <td>108218.23</td>\n      <td>0</td>\n      <td>1</td>\n    </tr>\n    <tr>\n      <th>32</th>\n      <td>73408.86</td>\n      <td>109219.61</td>\n      <td>66085.25</td>\n      <td>0</td>\n      <td>0</td>\n    </tr>\n    <tr>\n      <th>33</th>\n      <td>65493.95</td>\n      <td>83057.49</td>\n      <td>234634.81</td>\n      <td>1</td>\n      <td>0</td>\n    </tr>\n    <tr>\n      <th>34</th>\n      <td>56426.07</td>\n      <td>137693.92</td>\n      <td>230797.67</td>\n      <td>0</td>\n      <td>0</td>\n    </tr>\n    <tr>\n      <th>35</th>\n      <td>56014.02</td>\n      <td>65047.44</td>\n      <td>225517.64</td>\n      <td>0</td>\n      <td>1</td>\n    </tr>\n    <tr>\n      <th>36</th>\n      <td>38663.76</td>\n      <td>107056.21</td>\n      <td>221126.82</td>\n      <td>1</td>\n      <td>0</td>\n    </tr>\n    <tr>\n      <th>37</th>\n      <td>54069.95</td>\n      <td>31283.14</td>\n      <td>217029.42</td>\n      <td>0</td>\n      <td>0</td>\n    </tr>\n    <tr>\n      <th>38</th>\n      <td>30229.59</td>\n      <td>45947.93</td>\n      <td>205265.10</td>\n      <td>0</td>\n      <td>1</td>\n    </tr>\n    <tr>\n      <th>39</th>\n      <td>48558.51</td>\n      <td>62982.09</td>\n      <td>194999.30</td>\n      <td>0</td>\n      <td>0</td>\n    </tr>\n    <tr>\n      <th>40</th>\n      <td>38754.33</td>\n      <td>98546.05</td>\n      <td>192795.67</td>\n      <td>0</td>\n      <td>0</td>\n    </tr>\n    <tr>\n      <th>41</th>\n      <td>37892.92</td>\n      <td>64710.77</td>\n      <td>184470.71</td>\n      <td>1</td>\n      <td>0</td>\n    </tr>\n    <tr>\n      <th>42</th>\n      <td>33640.93</td>\n      <td>76189.63</td>\n      <td>168001.11</td>\n      <td>0</td>\n      <td>0</td>\n    </tr>\n    <tr>\n      <th>43</th>\n      <td>25505.73</td>\n      <td>107382.30</td>\n      <td>55534.17</td>\n      <td>0</td>\n      <td>1</td>\n    </tr>\n    <tr>\n      <th>44</th>\n      <td>32177.74</td>\n      <td>134806.14</td>\n      <td>48334.72</td>\n      <td>0</td>\n      <td>0</td>\n    </tr>\n    <tr>\n      <th>45</th>\n      <td>11000.23</td>\n      <td>104153.04</td>\n      <td>21903.93</td>\n      <td>0</td>\n      <td>1</td>\n    </tr>\n    <tr>\n      <th>46</th>\n      <td>11315.46</td>\n      <td>95816.21</td>\n      <td>317114.46</td>\n      <td>1</td>\n      <td>0</td>\n    </tr>\n    <tr>\n      <th>47</th>\n      <td>10000.00</td>\n      <td>115426.92</td>\n      <td>20000.00</td>\n      <td>0</td>\n      <td>0</td>\n    </tr>\n    <tr>\n      <th>48</th>\n      <td>10542.05</td>\n      <td>31743.15</td>\n      <td>20000.00</td>\n      <td>0</td>\n      <td>1</td>\n    </tr>\n    <tr>\n      <th>49</th>\n      <td>10000.00</td>\n      <td>96983.80</td>\n      <td>65173.06</td>\n      <td>0</td>\n      <td>0</td>\n    </tr>\n  </tbody>\n</table>\n</div>"
     },
     "execution_count": 105,
     "metadata": {},
     "output_type": "execute_result"
    }
   ],
   "source": [
    "dfX = pd.read_excel(\"X.xlsx\")\n",
    "dfX"
   ],
   "metadata": {
    "collapsed": false,
    "ExecuteTime": {
     "end_time": "2023-11-15T06:29:25.094979900Z",
     "start_time": "2023-11-15T06:29:24.818978100Z"
    }
   },
   "id": "fbfcfc687bdc89b4"
  },
  {
   "cell_type": "code",
   "execution_count": 106,
   "outputs": [
    {
     "data": {
      "text/plain": "       Profit\n0   227261.83\n1   226792.06\n2   226050.39\n3   217901.99\n4   201187.94\n5   191991.12\n6   191122.51\n7   190752.60\n8   187211.77\n9   184759.96\n10  181121.95\n11  179259.40\n12  176585.52\n13  169307.35\n14  167602.65\n15  164917.04\n16  161992.93\n17  160370.37\n18  159266.90\n19  157776.86\n20  153474.03\n21  146313.02\n22  145352.25\n23  143733.99\n24  143552.04\n25  142404.34\n26  140733.54\n27  140008.31\n28  138282.38\n29  136004.64\n30  134937.59\n31  132483.56\n32  132427.84\n33  131778.92\n34  131712.80\n35  131479.51\n36  125708.19\n37  124949.14\n38  116229.06\n39  116005.76\n40  113239.91\n41  112798.83\n42  106498.49\n43  104758.98\n44  100200.33\n45   99926.08\n46   84490.75\n47   77559.73\n48   70673.41\n49   49681.40",
      "text/html": "<div>\n<style scoped>\n    .dataframe tbody tr th:only-of-type {\n        vertical-align: middle;\n    }\n\n    .dataframe tbody tr th {\n        vertical-align: top;\n    }\n\n    .dataframe thead th {\n        text-align: right;\n    }\n</style>\n<table border=\"1\" class=\"dataframe\">\n  <thead>\n    <tr style=\"text-align: right;\">\n      <th></th>\n      <th>Profit</th>\n    </tr>\n  </thead>\n  <tbody>\n    <tr>\n      <th>0</th>\n      <td>227261.83</td>\n    </tr>\n    <tr>\n      <th>1</th>\n      <td>226792.06</td>\n    </tr>\n    <tr>\n      <th>2</th>\n      <td>226050.39</td>\n    </tr>\n    <tr>\n      <th>3</th>\n      <td>217901.99</td>\n    </tr>\n    <tr>\n      <th>4</th>\n      <td>201187.94</td>\n    </tr>\n    <tr>\n      <th>5</th>\n      <td>191991.12</td>\n    </tr>\n    <tr>\n      <th>6</th>\n      <td>191122.51</td>\n    </tr>\n    <tr>\n      <th>7</th>\n      <td>190752.60</td>\n    </tr>\n    <tr>\n      <th>8</th>\n      <td>187211.77</td>\n    </tr>\n    <tr>\n      <th>9</th>\n      <td>184759.96</td>\n    </tr>\n    <tr>\n      <th>10</th>\n      <td>181121.95</td>\n    </tr>\n    <tr>\n      <th>11</th>\n      <td>179259.40</td>\n    </tr>\n    <tr>\n      <th>12</th>\n      <td>176585.52</td>\n    </tr>\n    <tr>\n      <th>13</th>\n      <td>169307.35</td>\n    </tr>\n    <tr>\n      <th>14</th>\n      <td>167602.65</td>\n    </tr>\n    <tr>\n      <th>15</th>\n      <td>164917.04</td>\n    </tr>\n    <tr>\n      <th>16</th>\n      <td>161992.93</td>\n    </tr>\n    <tr>\n      <th>17</th>\n      <td>160370.37</td>\n    </tr>\n    <tr>\n      <th>18</th>\n      <td>159266.90</td>\n    </tr>\n    <tr>\n      <th>19</th>\n      <td>157776.86</td>\n    </tr>\n    <tr>\n      <th>20</th>\n      <td>153474.03</td>\n    </tr>\n    <tr>\n      <th>21</th>\n      <td>146313.02</td>\n    </tr>\n    <tr>\n      <th>22</th>\n      <td>145352.25</td>\n    </tr>\n    <tr>\n      <th>23</th>\n      <td>143733.99</td>\n    </tr>\n    <tr>\n      <th>24</th>\n      <td>143552.04</td>\n    </tr>\n    <tr>\n      <th>25</th>\n      <td>142404.34</td>\n    </tr>\n    <tr>\n      <th>26</th>\n      <td>140733.54</td>\n    </tr>\n    <tr>\n      <th>27</th>\n      <td>140008.31</td>\n    </tr>\n    <tr>\n      <th>28</th>\n      <td>138282.38</td>\n    </tr>\n    <tr>\n      <th>29</th>\n      <td>136004.64</td>\n    </tr>\n    <tr>\n      <th>30</th>\n      <td>134937.59</td>\n    </tr>\n    <tr>\n      <th>31</th>\n      <td>132483.56</td>\n    </tr>\n    <tr>\n      <th>32</th>\n      <td>132427.84</td>\n    </tr>\n    <tr>\n      <th>33</th>\n      <td>131778.92</td>\n    </tr>\n    <tr>\n      <th>34</th>\n      <td>131712.80</td>\n    </tr>\n    <tr>\n      <th>35</th>\n      <td>131479.51</td>\n    </tr>\n    <tr>\n      <th>36</th>\n      <td>125708.19</td>\n    </tr>\n    <tr>\n      <th>37</th>\n      <td>124949.14</td>\n    </tr>\n    <tr>\n      <th>38</th>\n      <td>116229.06</td>\n    </tr>\n    <tr>\n      <th>39</th>\n      <td>116005.76</td>\n    </tr>\n    <tr>\n      <th>40</th>\n      <td>113239.91</td>\n    </tr>\n    <tr>\n      <th>41</th>\n      <td>112798.83</td>\n    </tr>\n    <tr>\n      <th>42</th>\n      <td>106498.49</td>\n    </tr>\n    <tr>\n      <th>43</th>\n      <td>104758.98</td>\n    </tr>\n    <tr>\n      <th>44</th>\n      <td>100200.33</td>\n    </tr>\n    <tr>\n      <th>45</th>\n      <td>99926.08</td>\n    </tr>\n    <tr>\n      <th>46</th>\n      <td>84490.75</td>\n    </tr>\n    <tr>\n      <th>47</th>\n      <td>77559.73</td>\n    </tr>\n    <tr>\n      <th>48</th>\n      <td>70673.41</td>\n    </tr>\n    <tr>\n      <th>49</th>\n      <td>49681.40</td>\n    </tr>\n  </tbody>\n</table>\n</div>"
     },
     "execution_count": 106,
     "metadata": {},
     "output_type": "execute_result"
    }
   ],
   "source": [
    "dfY = pd.read_excel(\"Y.xlsx\")\n",
    "dfY"
   ],
   "metadata": {
    "collapsed": false,
    "ExecuteTime": {
     "end_time": "2023-11-15T06:29:27.364619200Z",
     "start_time": "2023-11-15T06:29:26.958205Z"
    }
   },
   "id": "918f7468425815db"
  },
  {
   "cell_type": "code",
   "execution_count": 107,
   "outputs": [],
   "source": [
    "# split data into training and testing sets\n",
    "X_train, X_test, y_train, y_test = train_test_split(dfX, dfY, test_size=0.2, random_state=0)"
   ],
   "metadata": {
    "collapsed": false,
    "ExecuteTime": {
     "end_time": "2023-11-15T06:29:30.794522900Z",
     "start_time": "2023-11-15T06:29:30.409471600Z"
    }
   },
   "id": "b89b400105afb35c"
  },
  {
   "cell_type": "code",
   "execution_count": 108,
   "outputs": [
    {
     "name": "stdout",
     "output_type": "stream",
     "text": [
      "R-squared value: 0.9347068473282425\n"
     ]
    }
   ],
   "source": [
    "model = LinearRegression()\n",
    "model.fit(X_train, y_train)\n",
    "\n",
    "y_pred = model.predict(X_test)\n",
    "\n",
    "r2 = model.score(X_test, y_test)\n",
    "print(\"R-squared value:\", r2)"
   ],
   "metadata": {
    "collapsed": false,
    "ExecuteTime": {
     "end_time": "2023-11-15T06:29:40.706622600Z",
     "start_time": "2023-11-15T06:29:40.686422200Z"
    }
   },
   "id": "d655c2a42fbb457"
  },
  {
   "cell_type": "markdown",
   "source": [
    "**What is the value of the intercept?**"
   ],
   "metadata": {
    "collapsed": false
   },
   "id": "1c69bae6d42d214e"
  },
  {
   "cell_type": "code",
   "execution_count": 109,
   "outputs": [
    {
     "name": "stdout",
     "output_type": "stream",
     "text": [
      "model intercept: 69744.9871238524\n"
     ]
    }
   ],
   "source": [
    "print(\"model intercept:\", model.intercept_[0])"
   ],
   "metadata": {
    "collapsed": false,
    "ExecuteTime": {
     "end_time": "2023-11-15T06:29:47.546637700Z",
     "start_time": "2023-11-15T06:29:47.535723700Z"
    }
   },
   "id": "a81f03a83bca1912"
  },
  {
   "cell_type": "markdown",
   "source": [
    "**If X1 = 1315.46, X2 = 115816.21, X4 = 297114.46, X5 = 1, X6 = 0, then predict the profit from your linear regression model**"
   ],
   "metadata": {
    "collapsed": false
   },
   "id": "a252a7e3c0446e95"
  },
  {
   "cell_type": "code",
   "execution_count": 110,
   "outputs": [
    {
     "name": "stdout",
     "output_type": "stream",
     "text": [
      "Predicted profit: [86147.75884887]\n"
     ]
    },
    {
     "name": "stderr",
     "output_type": "stream",
     "text": [
      "D:\\SOFTWARE\\Python\\Lib\\site-packages\\sklearn\\base.py:465: UserWarning: X does not have valid feature names, but LinearRegression was fitted with feature names\n",
      "  warnings.warn(\n"
     ]
    }
   ],
   "source": [
    "X_new = [[1315.46, 115816.21, 297114.46, 0, 1]]\n",
    "y_new = model.predict(X_new)\n",
    "\n",
    "# view the predicted profit\n",
    "print(\"Predicted profit:\", y_new[0])"
   ],
   "metadata": {
    "collapsed": false,
    "ExecuteTime": {
     "end_time": "2023-11-15T06:29:50.966491300Z",
     "start_time": "2023-11-15T06:29:50.802185700Z"
    }
   },
   "id": "7f4e0506acceb812"
  },
  {
   "cell_type": "code",
   "execution_count": null,
   "outputs": [],
   "source": [],
   "metadata": {
    "collapsed": false
   },
   "id": "aec6f489db045d62"
  }
 ],
 "metadata": {
  "kernelspec": {
   "display_name": "Python 3",
   "language": "python",
   "name": "python3"
  },
  "language_info": {
   "codemirror_mode": {
    "name": "ipython",
    "version": 2
   },
   "file_extension": ".py",
   "mimetype": "text/x-python",
   "name": "python",
   "nbconvert_exporter": "python",
   "pygments_lexer": "ipython2",
   "version": "2.7.6"
  }
 },
 "nbformat": 4,
 "nbformat_minor": 5
}
