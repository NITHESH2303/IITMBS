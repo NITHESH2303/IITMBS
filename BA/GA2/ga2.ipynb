{
 "cells": [
  {
   "cell_type": "markdown",
   "id": "74b863d6f4de1a9f",
   "metadata": {
    "collapsed": false
   },
   "source": [
    "**Using the dataset data_transform.xlsx analyze the sales at retail outlets for different prices (using the concept of Demand Response Curve). Fit a Simple Linear regression model to this dataset directly and answer questions (1) to (4)**."
   ]
  },
  {
   "cell_type": "code",
   "execution_count": 1,
   "id": "initial_id",
   "metadata": {
    "ExecuteTime": {
     "end_time": "2023-11-15T06:27:38.399151900Z",
     "start_time": "2023-11-15T06:27:38.347729200Z"
    },
    "collapsed": false
   },
   "outputs": [],
   "source": [
    "import numpy as np\n",
    "import pandas as pd\n",
    "from sklearn.linear_model import LinearRegression\n",
    "from sklearn.model_selection import train_test_split\n",
    "from scipy.stats import f"
   ]
  },
  {
   "cell_type": "code",
   "execution_count": 2,
   "id": "eeadec04a97b8ed0",
   "metadata": {
    "ExecuteTime": {
     "end_time": "2023-11-15T06:27:44.688954300Z",
     "start_time": "2023-11-15T06:27:39.409620Z"
    },
    "collapsed": false
   },
   "outputs": [
    {
     "data": {
      "text/html": [
       "<div>\n",
       "<style scoped>\n",
       "    .dataframe tbody tr th:only-of-type {\n",
       "        vertical-align: middle;\n",
       "    }\n",
       "\n",
       "    .dataframe tbody tr th {\n",
       "        vertical-align: top;\n",
       "    }\n",
       "\n",
       "    .dataframe thead th {\n",
       "        text-align: right;\n",
       "    }\n",
       "</style>\n",
       "<table border=\"1\" class=\"dataframe\">\n",
       "  <thead>\n",
       "    <tr style=\"text-align: right;\">\n",
       "      <th></th>\n",
       "      <th>Sales</th>\n",
       "      <th>Price</th>\n",
       "    </tr>\n",
       "  </thead>\n",
       "  <tbody>\n",
       "    <tr>\n",
       "      <th>0</th>\n",
       "      <td>53</td>\n",
       "      <td>1.0</td>\n",
       "    </tr>\n",
       "    <tr>\n",
       "      <th>1</th>\n",
       "      <td>12</td>\n",
       "      <td>3.4</td>\n",
       "    </tr>\n",
       "    <tr>\n",
       "      <th>2</th>\n",
       "      <td>15</td>\n",
       "      <td>3.3</td>\n",
       "    </tr>\n",
       "    <tr>\n",
       "      <th>3</th>\n",
       "      <td>27</td>\n",
       "      <td>1.4</td>\n",
       "    </tr>\n",
       "    <tr>\n",
       "      <th>4</th>\n",
       "      <td>8</td>\n",
       "      <td>3.7</td>\n",
       "    </tr>\n",
       "    <tr>\n",
       "      <th>5</th>\n",
       "      <td>12</td>\n",
       "      <td>3.6</td>\n",
       "    </tr>\n",
       "    <tr>\n",
       "      <th>6</th>\n",
       "      <td>27</td>\n",
       "      <td>2.2</td>\n",
       "    </tr>\n",
       "    <tr>\n",
       "      <th>7</th>\n",
       "      <td>17</td>\n",
       "      <td>1.7</td>\n",
       "    </tr>\n",
       "    <tr>\n",
       "      <th>8</th>\n",
       "      <td>61</td>\n",
       "      <td>1.4</td>\n",
       "    </tr>\n",
       "    <tr>\n",
       "      <th>9</th>\n",
       "      <td>20</td>\n",
       "      <td>3.2</td>\n",
       "    </tr>\n",
       "    <tr>\n",
       "      <th>10</th>\n",
       "      <td>95</td>\n",
       "      <td>0.8</td>\n",
       "    </tr>\n",
       "    <tr>\n",
       "      <th>11</th>\n",
       "      <td>33</td>\n",
       "      <td>1.1</td>\n",
       "    </tr>\n",
       "    <tr>\n",
       "      <th>12</th>\n",
       "      <td>19</td>\n",
       "      <td>2.5</td>\n",
       "    </tr>\n",
       "    <tr>\n",
       "      <th>13</th>\n",
       "      <td>15</td>\n",
       "      <td>3.3</td>\n",
       "    </tr>\n",
       "    <tr>\n",
       "      <th>14</th>\n",
       "      <td>43</td>\n",
       "      <td>1.0</td>\n",
       "    </tr>\n",
       "    <tr>\n",
       "      <th>15</th>\n",
       "      <td>11</td>\n",
       "      <td>2.6</td>\n",
       "    </tr>\n",
       "    <tr>\n",
       "      <th>16</th>\n",
       "      <td>20</td>\n",
       "      <td>3.0</td>\n",
       "    </tr>\n",
       "    <tr>\n",
       "      <th>17</th>\n",
       "      <td>36</td>\n",
       "      <td>2.4</td>\n",
       "    </tr>\n",
       "    <tr>\n",
       "      <th>18</th>\n",
       "      <td>7</td>\n",
       "      <td>3.6</td>\n",
       "    </tr>\n",
       "    <tr>\n",
       "      <th>19</th>\n",
       "      <td>9</td>\n",
       "      <td>2.8</td>\n",
       "    </tr>\n",
       "    <tr>\n",
       "      <th>20</th>\n",
       "      <td>21</td>\n",
       "      <td>2.4</td>\n",
       "    </tr>\n",
       "    <tr>\n",
       "      <th>21</th>\n",
       "      <td>25</td>\n",
       "      <td>2.3</td>\n",
       "    </tr>\n",
       "    <tr>\n",
       "      <th>22</th>\n",
       "      <td>29</td>\n",
       "      <td>2.1</td>\n",
       "    </tr>\n",
       "    <tr>\n",
       "      <th>23</th>\n",
       "      <td>18</td>\n",
       "      <td>1.8</td>\n",
       "    </tr>\n",
       "    <tr>\n",
       "      <th>24</th>\n",
       "      <td>6</td>\n",
       "      <td>3.6</td>\n",
       "    </tr>\n",
       "    <tr>\n",
       "      <th>25</th>\n",
       "      <td>7</td>\n",
       "      <td>3.7</td>\n",
       "    </tr>\n",
       "    <tr>\n",
       "      <th>26</th>\n",
       "      <td>15</td>\n",
       "      <td>2.9</td>\n",
       "    </tr>\n",
       "    <tr>\n",
       "      <th>27</th>\n",
       "      <td>23</td>\n",
       "      <td>1.2</td>\n",
       "    </tr>\n",
       "    <tr>\n",
       "      <th>28</th>\n",
       "      <td>51</td>\n",
       "      <td>1.1</td>\n",
       "    </tr>\n",
       "    <tr>\n",
       "      <th>29</th>\n",
       "      <td>93</td>\n",
       "      <td>1.2</td>\n",
       "    </tr>\n",
       "    <tr>\n",
       "      <th>30</th>\n",
       "      <td>51</td>\n",
       "      <td>1.0</td>\n",
       "    </tr>\n",
       "    <tr>\n",
       "      <th>31</th>\n",
       "      <td>14</td>\n",
       "      <td>3.7</td>\n",
       "    </tr>\n",
       "    <tr>\n",
       "      <th>32</th>\n",
       "      <td>41</td>\n",
       "      <td>1.2</td>\n",
       "    </tr>\n",
       "    <tr>\n",
       "      <th>33</th>\n",
       "      <td>8</td>\n",
       "      <td>3.4</td>\n",
       "    </tr>\n",
       "    <tr>\n",
       "      <th>34</th>\n",
       "      <td>114</td>\n",
       "      <td>1.0</td>\n",
       "    </tr>\n",
       "    <tr>\n",
       "      <th>35</th>\n",
       "      <td>35</td>\n",
       "      <td>2.5</td>\n",
       "    </tr>\n",
       "    <tr>\n",
       "      <th>36</th>\n",
       "      <td>18</td>\n",
       "      <td>2.0</td>\n",
       "    </tr>\n",
       "    <tr>\n",
       "      <th>37</th>\n",
       "      <td>9</td>\n",
       "      <td>3.3</td>\n",
       "    </tr>\n",
       "    <tr>\n",
       "      <th>38</th>\n",
       "      <td>46</td>\n",
       "      <td>1.8</td>\n",
       "    </tr>\n",
       "    <tr>\n",
       "      <th>39</th>\n",
       "      <td>17</td>\n",
       "      <td>2.0</td>\n",
       "    </tr>\n",
       "    <tr>\n",
       "      <th>40</th>\n",
       "      <td>43</td>\n",
       "      <td>1.3</td>\n",
       "    </tr>\n",
       "    <tr>\n",
       "      <th>41</th>\n",
       "      <td>63</td>\n",
       "      <td>0.8</td>\n",
       "    </tr>\n",
       "    <tr>\n",
       "      <th>42</th>\n",
       "      <td>8</td>\n",
       "      <td>3.6</td>\n",
       "    </tr>\n",
       "    <tr>\n",
       "      <th>43</th>\n",
       "      <td>34</td>\n",
       "      <td>1.6</td>\n",
       "    </tr>\n",
       "    <tr>\n",
       "      <th>44</th>\n",
       "      <td>145</td>\n",
       "      <td>0.9</td>\n",
       "    </tr>\n",
       "    <tr>\n",
       "      <th>45</th>\n",
       "      <td>18</td>\n",
       "      <td>2.4</td>\n",
       "    </tr>\n",
       "    <tr>\n",
       "      <th>46</th>\n",
       "      <td>40</td>\n",
       "      <td>1.7</td>\n",
       "    </tr>\n",
       "    <tr>\n",
       "      <th>47</th>\n",
       "      <td>17</td>\n",
       "      <td>2.8</td>\n",
       "    </tr>\n",
       "    <tr>\n",
       "      <th>48</th>\n",
       "      <td>17</td>\n",
       "      <td>3.2</td>\n",
       "    </tr>\n",
       "    <tr>\n",
       "      <th>49</th>\n",
       "      <td>12</td>\n",
       "      <td>3.7</td>\n",
       "    </tr>\n",
       "  </tbody>\n",
       "</table>\n",
       "</div>"
      ],
      "text/plain": [
       "    Sales  Price\n",
       "0      53    1.0\n",
       "1      12    3.4\n",
       "2      15    3.3\n",
       "3      27    1.4\n",
       "4       8    3.7\n",
       "5      12    3.6\n",
       "6      27    2.2\n",
       "7      17    1.7\n",
       "8      61    1.4\n",
       "9      20    3.2\n",
       "10     95    0.8\n",
       "11     33    1.1\n",
       "12     19    2.5\n",
       "13     15    3.3\n",
       "14     43    1.0\n",
       "15     11    2.6\n",
       "16     20    3.0\n",
       "17     36    2.4\n",
       "18      7    3.6\n",
       "19      9    2.8\n",
       "20     21    2.4\n",
       "21     25    2.3\n",
       "22     29    2.1\n",
       "23     18    1.8\n",
       "24      6    3.6\n",
       "25      7    3.7\n",
       "26     15    2.9\n",
       "27     23    1.2\n",
       "28     51    1.1\n",
       "29     93    1.2\n",
       "30     51    1.0\n",
       "31     14    3.7\n",
       "32     41    1.2\n",
       "33      8    3.4\n",
       "34    114    1.0\n",
       "35     35    2.5\n",
       "36     18    2.0\n",
       "37      9    3.3\n",
       "38     46    1.8\n",
       "39     17    2.0\n",
       "40     43    1.3\n",
       "41     63    0.8\n",
       "42      8    3.6\n",
       "43     34    1.6\n",
       "44    145    0.9\n",
       "45     18    2.4\n",
       "46     40    1.7\n",
       "47     17    2.8\n",
       "48     17    3.2\n",
       "49     12    3.7"
      ]
     },
     "execution_count": 2,
     "metadata": {},
     "output_type": "execute_result"
    }
   ],
   "source": [
    "df = pd.read_excel(\"data_transform.xlsx\")\n",
    "df"
   ]
  },
  {
   "cell_type": "code",
   "execution_count": 3,
   "id": "7044e2cbe0b43734",
   "metadata": {
    "ExecuteTime": {
     "end_time": "2023-11-15T06:27:45.663287Z",
     "start_time": "2023-11-15T06:27:44.698523300Z"
    },
    "collapsed": false
   },
   "outputs": [
    {
     "data": {
      "text/html": [
       "<div>\n",
       "<style scoped>\n",
       "    .dataframe tbody tr th:only-of-type {\n",
       "        vertical-align: middle;\n",
       "    }\n",
       "\n",
       "    .dataframe tbody tr th {\n",
       "        vertical-align: top;\n",
       "    }\n",
       "\n",
       "    .dataframe thead th {\n",
       "        text-align: right;\n",
       "    }\n",
       "</style>\n",
       "<table border=\"1\" class=\"dataframe\">\n",
       "  <thead>\n",
       "    <tr style=\"text-align: right;\">\n",
       "      <th></th>\n",
       "      <th>Sales</th>\n",
       "      <th>Price</th>\n",
       "    </tr>\n",
       "  </thead>\n",
       "  <tbody>\n",
       "    <tr>\n",
       "      <th>count</th>\n",
       "      <td>50.0000</td>\n",
       "      <td>50.000000</td>\n",
       "    </tr>\n",
       "    <tr>\n",
       "      <th>mean</th>\n",
       "      <td>31.5600</td>\n",
       "      <td>2.284000</td>\n",
       "    </tr>\n",
       "    <tr>\n",
       "      <th>std</th>\n",
       "      <td>28.7673</td>\n",
       "      <td>0.984235</td>\n",
       "    </tr>\n",
       "    <tr>\n",
       "      <th>min</th>\n",
       "      <td>6.0000</td>\n",
       "      <td>0.800000</td>\n",
       "    </tr>\n",
       "    <tr>\n",
       "      <th>25%</th>\n",
       "      <td>14.2500</td>\n",
       "      <td>1.325000</td>\n",
       "    </tr>\n",
       "    <tr>\n",
       "      <th>50%</th>\n",
       "      <td>20.0000</td>\n",
       "      <td>2.350000</td>\n",
       "    </tr>\n",
       "    <tr>\n",
       "      <th>75%</th>\n",
       "      <td>40.7500</td>\n",
       "      <td>3.275000</td>\n",
       "    </tr>\n",
       "    <tr>\n",
       "      <th>max</th>\n",
       "      <td>145.0000</td>\n",
       "      <td>3.700000</td>\n",
       "    </tr>\n",
       "  </tbody>\n",
       "</table>\n",
       "</div>"
      ],
      "text/plain": [
       "          Sales      Price\n",
       "count   50.0000  50.000000\n",
       "mean    31.5600   2.284000\n",
       "std     28.7673   0.984235\n",
       "min      6.0000   0.800000\n",
       "25%     14.2500   1.325000\n",
       "50%     20.0000   2.350000\n",
       "75%     40.7500   3.275000\n",
       "max    145.0000   3.700000"
      ]
     },
     "execution_count": 3,
     "metadata": {},
     "output_type": "execute_result"
    }
   ],
   "source": [
    "df.describe()"
   ]
  },
  {
   "cell_type": "code",
   "execution_count": 4,
   "id": "49e51449ac076dff",
   "metadata": {
    "ExecuteTime": {
     "end_time": "2023-11-15T06:27:47.067512200Z",
     "start_time": "2023-11-15T06:27:45.663287Z"
    },
    "collapsed": false
   },
   "outputs": [
    {
     "name": "stdout",
     "output_type": "stream",
     "text": [
      "<class 'pandas.core.frame.DataFrame'>\n",
      "RangeIndex: 50 entries, 0 to 49\n",
      "Data columns (total 2 columns):\n",
      " #   Column  Non-Null Count  Dtype  \n",
      "---  ------  --------------  -----  \n",
      " 0   Sales   50 non-null     int64  \n",
      " 1   Price   50 non-null     float64\n",
      "dtypes: float64(1), int64(1)\n",
      "memory usage: 928.0 bytes\n"
     ]
    }
   ],
   "source": [
    "df.info()"
   ]
  },
  {
   "cell_type": "markdown",
   "id": "b1aa14a74b8a11ba",
   "metadata": {
    "collapsed": false
   },
   "source": [
    "\n",
    "**What is the r-square value**"
   ]
  },
  {
   "cell_type": "code",
   "execution_count": 5,
   "id": "ef7cac82130a337",
   "metadata": {
    "ExecuteTime": {
     "end_time": "2023-11-15T06:27:47.278615800Z",
     "start_time": "2023-11-15T06:27:47.067512200Z"
    },
    "collapsed": false
   },
   "outputs": [
    {
     "name": "stdout",
     "output_type": "stream",
     "text": [
      "r_square: 0.5263620045670871\n"
     ]
    }
   ],
   "source": [
    "X,Y = df[['Price']],df.Sales\n",
    "\n",
    "model = LinearRegression()\n",
    "model.fit(X,Y)\n",
    "\n",
    "r_square = model.score(X,Y)\n",
    "\n",
    "print(\"r_square:\", r_square)"
   ]
  },
  {
   "cell_type": "code",
   "execution_count": 6,
   "id": "3c4763317b9bac39",
   "metadata": {
    "ExecuteTime": {
     "end_time": "2023-11-15T06:27:58.993218900Z",
     "start_time": "2023-11-15T06:27:58.964989800Z"
    },
    "collapsed": false
   },
   "outputs": [
    {
     "data": {
      "text/plain": [
       "array([-21.54486786])"
      ]
     },
     "execution_count": 6,
     "metadata": {},
     "output_type": "execute_result"
    }
   ],
   "source": [
    "standardized_coef = model.coef_/df.Price.std()\n",
    "standardized_coef"
   ]
  },
  {
   "cell_type": "markdown",
   "id": "a1d26cb9c285f1e3",
   "metadata": {
    "collapsed": false
   },
   "source": [
    "**Is the model significant?**\n",
    "\n",
    "*if the p-value is less than your significance level (e.g., 0.05), then you can reject the null hypothesis and conclude that the model is significant. Conversely, if the p-value is greater than your significance level, then you fail to reject the null hypothesis and conclude that the model is not significant 1*"
   ]
  },
  {
   "cell_type": "code",
   "execution_count": 7,
   "id": "882498bb13e30ca8",
   "metadata": {
    "ExecuteTime": {
     "end_time": "2023-11-15T06:28:01.902698900Z",
     "start_time": "2023-11-15T06:28:01.679810500Z"
    },
    "collapsed": false
   },
   "outputs": [
    {
     "name": "stdout",
     "output_type": "stream",
     "text": [
      "F-value: 53.34322090466416\n",
      "p-value: 2.521315378700706e-09\n"
     ]
    }
   ],
   "source": [
    "p=1\n",
    "#fvalue\n",
    "f_val = (r_square/p) / ((1-r_square)/(len(df)-p-1))\n",
    "#pvalue\n",
    "p_val = 1 - f.cdf(f_val, p, len(df)-p-1)\n",
    "\n",
    "print(\"F-value:\", f_val)\n",
    "print(\"p-value:\", p_val)"
   ]
  },
  {
   "cell_type": "markdown",
   "id": "ac99877c2d9e3f54",
   "metadata": {
    "collapsed": false
   },
   "source": [
    "*p-value is 2.52e-09, which is much smaller than the typical significance level of 0.05. Therefore, we can reject the null hypothesis and conclude that your **regression model is significant**.*"
   ]
  },
  {
   "cell_type": "markdown",
   "id": "e46e2b64dd3db1e8",
   "metadata": {
    "collapsed": false
   },
   "source": [
    "**What is the value of the intercept?**"
   ]
  },
  {
   "cell_type": "code",
   "execution_count": 8,
   "id": "f80c447f8ed6682",
   "metadata": {
    "ExecuteTime": {
     "end_time": "2023-11-15T06:28:08.334364500Z",
     "start_time": "2023-11-15T06:28:08.325302400Z"
    },
    "collapsed": false
   },
   "outputs": [
    {
     "name": "stdout",
     "output_type": "stream",
     "text": [
      "Intercept value: 79.99270232918731\n"
     ]
    }
   ],
   "source": [
    "print(\"Intercept value:\", model.intercept_)"
   ]
  },
  {
   "cell_type": "markdown",
   "id": "a918a9429062ae02",
   "metadata": {
    "collapsed": false
   },
   "source": [
    "**What is the value of the slope?**"
   ]
  },
  {
   "cell_type": "code",
   "execution_count": 9,
   "id": "251f010aa0072d04",
   "metadata": {
    "ExecuteTime": {
     "end_time": "2023-11-15T06:28:14.934332400Z",
     "start_time": "2023-11-15T06:28:14.880625400Z"
    },
    "collapsed": false
   },
   "outputs": [
    {
     "name": "stdout",
     "output_type": "stream",
     "text": [
      "Slope value: -21.205211177402504\n"
     ]
    }
   ],
   "source": [
    "print(\"Slope value:\", model.coef_[0])"
   ]
  },
  {
   "cell_type": "markdown",
   "id": "8d2696946175640c",
   "metadata": {
    "collapsed": false
   },
   "source": [
    "**Use natural log transformation and refit the model using the transformed dataset answer questions**"
   ]
  },
  {
   "cell_type": "code",
   "execution_count": 10,
   "id": "3946bc1be528d504",
   "metadata": {
    "ExecuteTime": {
     "end_time": "2023-11-15T06:28:26.065817900Z",
     "start_time": "2023-11-15T06:28:26.063286100Z"
    },
    "collapsed": false
   },
   "outputs": [],
   "source": [
    "y = np.log(Y)"
   ]
  },
  {
   "cell_type": "code",
   "execution_count": 13,
   "id": "c4bfbba566c1fb64",
   "metadata": {
    "ExecuteTime": {
     "end_time": "2023-11-15T06:28:56.895209400Z",
     "start_time": "2023-11-15T06:28:56.889161900Z"
    },
    "collapsed": false
   },
   "outputs": [
    {
     "name": "stdout",
     "output_type": "stream",
     "text": [
      "R-squared value: 0.7520141805237455\n"
     ]
    }
   ],
   "source": [
    "model1 = LinearRegression()\n",
    "model1.fit(X, y)\n",
    "\n",
    "r_squared = model1.score(X, y)\n",
    "\n",
    "print(\"R-squared value:\", r_squared)"
   ]
  },
  {
   "cell_type": "markdown",
   "id": "f2bd3894fd589cd6",
   "metadata": {
    "collapsed": false
   },
   "source": [
    "**Is the model significant?**"
   ]
  },
  {
   "cell_type": "code",
   "execution_count": 14,
   "id": "9b16f17ebee5efcb",
   "metadata": {
    "ExecuteTime": {
     "end_time": "2023-11-15T06:29:02.685289700Z",
     "start_time": "2023-11-15T06:29:02.514153900Z"
    },
    "collapsed": false
   },
   "outputs": [
    {
     "name": "stdout",
     "output_type": "stream",
     "text": [
      "F-value: 145.55945473566143\n",
      "p-value: 2.521315378700706e-09\n"
     ]
    }
   ],
   "source": [
    "p=1\n",
    "#fvalue\n",
    "f_val1 = (r_squared/p) / ((1-r_squared)/(len(df)-p-1))\n",
    "#pvalue\n",
    "p_val1 = 1 - f.cdf(f_val, p, len(df)-p-1)\n",
    "\n",
    "print(\"F-value:\", f_val1)\n",
    "print(\"p-value:\", p_val1)"
   ]
  },
  {
   "cell_type": "markdown",
   "id": "96b8dc879d2da1ce",
   "metadata": {
    "collapsed": false
   },
   "source": [
    "*p-value is 3.33e-16, which is much smaller than the typical significance level of 0.05. Therefore, we can reject the null hypothesis and conclude that your **regression model is significant**.*"
   ]
  },
  {
   "cell_type": "markdown",
   "id": "6acec5de72e3b42b",
   "metadata": {
    "collapsed": false
   },
   "source": [
    "**What is the value of the intercept?**"
   ]
  },
  {
   "cell_type": "code",
   "execution_count": 15,
   "id": "777c83d2e521dd05",
   "metadata": {
    "ExecuteTime": {
     "end_time": "2023-11-15T06:29:07.573211Z",
     "start_time": "2023-11-15T06:29:07.570635300Z"
    },
    "collapsed": false
   },
   "outputs": [
    {
     "name": "stdout",
     "output_type": "stream",
     "text": [
      "Intercept value: 4.702164147596267\n"
     ]
    }
   ],
   "source": [
    "print(\"Intercept value:\", model1.intercept_)"
   ]
  },
  {
   "cell_type": "markdown",
   "id": "1f4dc0042ba07e53",
   "metadata": {
    "collapsed": false
   },
   "source": [
    "**What is the value of the slope?**"
   ]
  },
  {
   "cell_type": "code",
   "execution_count": 16,
   "id": "1d184d8a09006532",
   "metadata": {
    "ExecuteTime": {
     "end_time": "2023-11-15T06:29:21.413520Z",
     "start_time": "2023-11-15T06:29:21.368113900Z"
    },
    "collapsed": false
   },
   "outputs": [
    {
     "name": "stdout",
     "output_type": "stream",
     "text": [
      "Slope value: -0.6836752003600495\n"
     ]
    }
   ],
   "source": [
    "print(\"Slope value:\", model1.coef_[0])"
   ]
  },
  {
   "cell_type": "markdown",
   "id": "a8066a4b02905cc7",
   "metadata": {
    "collapsed": false
   },
   "source": [
    "**Pandya Motors, a passenger car manufacturer, wants to predict the profit for its cars based on the expenditure spent on areas like safety features, tech features, and marketing. Every car has multiple variants like the base model, middle variant, top model, automatic gearbox, etc. Based on the data provided, build a linear regression model and predict the profit. Use the instructions provided below.\n",
    "\ti. You are provided with two excel files: X.xlsx and y.xlsx, where X is the feature matrix, and y is the target variable.\n",
    "\tii. Use only Google Collab for doing this assignment as we have created the scoring scheme based on the results obtained from Google Collab.\n",
    "\tiii. Do not do any kind of feature engineering as the data is already feature-engineered and ready to be used for building the regression model.\n",
    "\tiv. Use train_test_split from sklearn.model_selection and keep the test_size = 0.2, random_state = 0\n",
    "\tv. Next, use LinearRegression from sklearn.linear_model and build the regression model\n",
    "\tvi. As usual, fit the model on X_train and y_train\n",
    "\tvii. Then predict on X_test**"
   ]
  },
  {
   "cell_type": "code",
   "execution_count": 105,
   "id": "fbfcfc687bdc89b4",
   "metadata": {
    "ExecuteTime": {
     "end_time": "2023-11-15T06:29:25.094979900Z",
     "start_time": "2023-11-15T06:29:24.818978100Z"
    },
    "collapsed": false
   },
   "outputs": [
    {
     "data": {
      "text/html": [
       "<div>\n",
       "<style scoped>\n",
       "    .dataframe tbody tr th:only-of-type {\n",
       "        vertical-align: middle;\n",
       "    }\n",
       "\n",
       "    .dataframe tbody tr th {\n",
       "        vertical-align: top;\n",
       "    }\n",
       "\n",
       "    .dataframe thead th {\n",
       "        text-align: right;\n",
       "    }\n",
       "</style>\n",
       "<table border=\"1\" class=\"dataframe\">\n",
       "  <thead>\n",
       "    <tr style=\"text-align: right;\">\n",
       "      <th></th>\n",
       "      <th>Safety Features</th>\n",
       "      <th>Tech Features</th>\n",
       "      <th>Marketing Spend</th>\n",
       "      <th>Premium Hatchback</th>\n",
       "      <th>SUV</th>\n",
       "    </tr>\n",
       "  </thead>\n",
       "  <tbody>\n",
       "    <tr>\n",
       "      <th>0</th>\n",
       "      <td>175349.20</td>\n",
       "      <td>116897.80</td>\n",
       "      <td>491784.10</td>\n",
       "      <td>0</td>\n",
       "      <td>1</td>\n",
       "    </tr>\n",
       "    <tr>\n",
       "      <th>1</th>\n",
       "      <td>172597.70</td>\n",
       "      <td>131377.59</td>\n",
       "      <td>463898.53</td>\n",
       "      <td>0</td>\n",
       "      <td>0</td>\n",
       "    </tr>\n",
       "    <tr>\n",
       "      <th>2</th>\n",
       "      <td>163441.51</td>\n",
       "      <td>81145.55</td>\n",
       "      <td>427934.54</td>\n",
       "      <td>1</td>\n",
       "      <td>0</td>\n",
       "    </tr>\n",
       "    <tr>\n",
       "      <th>3</th>\n",
       "      <td>154372.41</td>\n",
       "      <td>98671.85</td>\n",
       "      <td>403199.62</td>\n",
       "      <td>0</td>\n",
       "      <td>1</td>\n",
       "    </tr>\n",
       "    <tr>\n",
       "      <th>4</th>\n",
       "      <td>152107.34</td>\n",
       "      <td>71391.77</td>\n",
       "      <td>386168.42</td>\n",
       "      <td>1</td>\n",
       "      <td>0</td>\n",
       "    </tr>\n",
       "    <tr>\n",
       "      <th>5</th>\n",
       "      <td>141876.90</td>\n",
       "      <td>79814.71</td>\n",
       "      <td>382861.36</td>\n",
       "      <td>0</td>\n",
       "      <td>1</td>\n",
       "    </tr>\n",
       "    <tr>\n",
       "      <th>6</th>\n",
       "      <td>144615.46</td>\n",
       "      <td>127198.87</td>\n",
       "      <td>147716.82</td>\n",
       "      <td>0</td>\n",
       "      <td>0</td>\n",
       "    </tr>\n",
       "    <tr>\n",
       "      <th>7</th>\n",
       "      <td>140298.13</td>\n",
       "      <td>125530.06</td>\n",
       "      <td>343876.68</td>\n",
       "      <td>1</td>\n",
       "      <td>0</td>\n",
       "    </tr>\n",
       "    <tr>\n",
       "      <th>8</th>\n",
       "      <td>130542.52</td>\n",
       "      <td>128718.95</td>\n",
       "      <td>331613.29</td>\n",
       "      <td>0</td>\n",
       "      <td>1</td>\n",
       "    </tr>\n",
       "    <tr>\n",
       "      <th>9</th>\n",
       "      <td>133334.88</td>\n",
       "      <td>88679.17</td>\n",
       "      <td>324981.62</td>\n",
       "      <td>0</td>\n",
       "      <td>0</td>\n",
       "    </tr>\n",
       "    <tr>\n",
       "      <th>10</th>\n",
       "      <td>111913.08</td>\n",
       "      <td>90594.11</td>\n",
       "      <td>249160.95</td>\n",
       "      <td>1</td>\n",
       "      <td>0</td>\n",
       "    </tr>\n",
       "    <tr>\n",
       "      <th>11</th>\n",
       "      <td>110671.96</td>\n",
       "      <td>71790.61</td>\n",
       "      <td>269744.55</td>\n",
       "      <td>0</td>\n",
       "      <td>0</td>\n",
       "    </tr>\n",
       "    <tr>\n",
       "      <th>12</th>\n",
       "      <td>103863.75</td>\n",
       "      <td>107320.38</td>\n",
       "      <td>269839.44</td>\n",
       "      <td>1</td>\n",
       "      <td>0</td>\n",
       "    </tr>\n",
       "    <tr>\n",
       "      <th>13</th>\n",
       "      <td>101992.39</td>\n",
       "      <td>115495.07</td>\n",
       "      <td>272664.93</td>\n",
       "      <td>0</td>\n",
       "      <td>0</td>\n",
       "    </tr>\n",
       "    <tr>\n",
       "      <th>14</th>\n",
       "      <td>129943.24</td>\n",
       "      <td>136547.42</td>\n",
       "      <td>276512.92</td>\n",
       "      <td>1</td>\n",
       "      <td>0</td>\n",
       "    </tr>\n",
       "    <tr>\n",
       "      <th>15</th>\n",
       "      <td>124523.61</td>\n",
       "      <td>102616.84</td>\n",
       "      <td>281776.23</td>\n",
       "      <td>0</td>\n",
       "      <td>1</td>\n",
       "    </tr>\n",
       "    <tr>\n",
       "      <th>16</th>\n",
       "      <td>88013.11</td>\n",
       "      <td>101597.55</td>\n",
       "      <td>284346.06</td>\n",
       "      <td>0</td>\n",
       "      <td>0</td>\n",
       "    </tr>\n",
       "    <tr>\n",
       "      <th>17</th>\n",
       "      <td>104657.16</td>\n",
       "      <td>125077.58</td>\n",
       "      <td>302574.31</td>\n",
       "      <td>0</td>\n",
       "      <td>1</td>\n",
       "    </tr>\n",
       "    <tr>\n",
       "      <th>18</th>\n",
       "      <td>101749.16</td>\n",
       "      <td>94175.79</td>\n",
       "      <td>314919.57</td>\n",
       "      <td>1</td>\n",
       "      <td>0</td>\n",
       "    </tr>\n",
       "    <tr>\n",
       "      <th>19</th>\n",
       "      <td>96419.70</td>\n",
       "      <td>133514.11</td>\n",
       "      <td>20000.00</td>\n",
       "      <td>0</td>\n",
       "      <td>1</td>\n",
       "    </tr>\n",
       "    <tr>\n",
       "      <th>20</th>\n",
       "      <td>86253.86</td>\n",
       "      <td>93867.30</td>\n",
       "      <td>318664.47</td>\n",
       "      <td>0</td>\n",
       "      <td>0</td>\n",
       "    </tr>\n",
       "    <tr>\n",
       "      <th>21</th>\n",
       "      <td>88389.47</td>\n",
       "      <td>133773.43</td>\n",
       "      <td>319737.29</td>\n",
       "      <td>0</td>\n",
       "      <td>1</td>\n",
       "    </tr>\n",
       "    <tr>\n",
       "      <th>22</th>\n",
       "      <td>83994.56</td>\n",
       "      <td>102782.75</td>\n",
       "      <td>323319.26</td>\n",
       "      <td>1</td>\n",
       "      <td>0</td>\n",
       "    </tr>\n",
       "    <tr>\n",
       "      <th>23</th>\n",
       "      <td>77532.53</td>\n",
       "      <td>85751.03</td>\n",
       "      <td>324768.73</td>\n",
       "      <td>1</td>\n",
       "      <td>0</td>\n",
       "    </tr>\n",
       "    <tr>\n",
       "      <th>24</th>\n",
       "      <td>87044.01</td>\n",
       "      <td>79281.34</td>\n",
       "      <td>160574.81</td>\n",
       "      <td>0</td>\n",
       "      <td>1</td>\n",
       "    </tr>\n",
       "    <tr>\n",
       "      <th>25</th>\n",
       "      <td>74664.71</td>\n",
       "      <td>119553.16</td>\n",
       "      <td>157962.62</td>\n",
       "      <td>0</td>\n",
       "      <td>0</td>\n",
       "    </tr>\n",
       "    <tr>\n",
       "      <th>26</th>\n",
       "      <td>85328.87</td>\n",
       "      <td>124135.98</td>\n",
       "      <td>154050.07</td>\n",
       "      <td>1</td>\n",
       "      <td>0</td>\n",
       "    </tr>\n",
       "    <tr>\n",
       "      <th>27</th>\n",
       "      <td>82107.60</td>\n",
       "      <td>107864.55</td>\n",
       "      <td>373183.81</td>\n",
       "      <td>0</td>\n",
       "      <td>1</td>\n",
       "    </tr>\n",
       "    <tr>\n",
       "      <th>28</th>\n",
       "      <td>76051.52</td>\n",
       "      <td>162645.56</td>\n",
       "      <td>138148.20</td>\n",
       "      <td>1</td>\n",
       "      <td>0</td>\n",
       "    </tr>\n",
       "    <tr>\n",
       "      <th>29</th>\n",
       "      <td>75605.48</td>\n",
       "      <td>133032.06</td>\n",
       "      <td>127138.38</td>\n",
       "      <td>0</td>\n",
       "      <td>1</td>\n",
       "    </tr>\n",
       "    <tr>\n",
       "      <th>30</th>\n",
       "      <td>71994.48</td>\n",
       "      <td>95641.28</td>\n",
       "      <td>111131.24</td>\n",
       "      <td>1</td>\n",
       "      <td>0</td>\n",
       "    </tr>\n",
       "    <tr>\n",
       "      <th>31</th>\n",
       "      <td>71136.38</td>\n",
       "      <td>132701.92</td>\n",
       "      <td>108218.23</td>\n",
       "      <td>0</td>\n",
       "      <td>1</td>\n",
       "    </tr>\n",
       "    <tr>\n",
       "      <th>32</th>\n",
       "      <td>73408.86</td>\n",
       "      <td>109219.61</td>\n",
       "      <td>66085.25</td>\n",
       "      <td>0</td>\n",
       "      <td>0</td>\n",
       "    </tr>\n",
       "    <tr>\n",
       "      <th>33</th>\n",
       "      <td>65493.95</td>\n",
       "      <td>83057.49</td>\n",
       "      <td>234634.81</td>\n",
       "      <td>1</td>\n",
       "      <td>0</td>\n",
       "    </tr>\n",
       "    <tr>\n",
       "      <th>34</th>\n",
       "      <td>56426.07</td>\n",
       "      <td>137693.92</td>\n",
       "      <td>230797.67</td>\n",
       "      <td>0</td>\n",
       "      <td>0</td>\n",
       "    </tr>\n",
       "    <tr>\n",
       "      <th>35</th>\n",
       "      <td>56014.02</td>\n",
       "      <td>65047.44</td>\n",
       "      <td>225517.64</td>\n",
       "      <td>0</td>\n",
       "      <td>1</td>\n",
       "    </tr>\n",
       "    <tr>\n",
       "      <th>36</th>\n",
       "      <td>38663.76</td>\n",
       "      <td>107056.21</td>\n",
       "      <td>221126.82</td>\n",
       "      <td>1</td>\n",
       "      <td>0</td>\n",
       "    </tr>\n",
       "    <tr>\n",
       "      <th>37</th>\n",
       "      <td>54069.95</td>\n",
       "      <td>31283.14</td>\n",
       "      <td>217029.42</td>\n",
       "      <td>0</td>\n",
       "      <td>0</td>\n",
       "    </tr>\n",
       "    <tr>\n",
       "      <th>38</th>\n",
       "      <td>30229.59</td>\n",
       "      <td>45947.93</td>\n",
       "      <td>205265.10</td>\n",
       "      <td>0</td>\n",
       "      <td>1</td>\n",
       "    </tr>\n",
       "    <tr>\n",
       "      <th>39</th>\n",
       "      <td>48558.51</td>\n",
       "      <td>62982.09</td>\n",
       "      <td>194999.30</td>\n",
       "      <td>0</td>\n",
       "      <td>0</td>\n",
       "    </tr>\n",
       "    <tr>\n",
       "      <th>40</th>\n",
       "      <td>38754.33</td>\n",
       "      <td>98546.05</td>\n",
       "      <td>192795.67</td>\n",
       "      <td>0</td>\n",
       "      <td>0</td>\n",
       "    </tr>\n",
       "    <tr>\n",
       "      <th>41</th>\n",
       "      <td>37892.92</td>\n",
       "      <td>64710.77</td>\n",
       "      <td>184470.71</td>\n",
       "      <td>1</td>\n",
       "      <td>0</td>\n",
       "    </tr>\n",
       "    <tr>\n",
       "      <th>42</th>\n",
       "      <td>33640.93</td>\n",
       "      <td>76189.63</td>\n",
       "      <td>168001.11</td>\n",
       "      <td>0</td>\n",
       "      <td>0</td>\n",
       "    </tr>\n",
       "    <tr>\n",
       "      <th>43</th>\n",
       "      <td>25505.73</td>\n",
       "      <td>107382.30</td>\n",
       "      <td>55534.17</td>\n",
       "      <td>0</td>\n",
       "      <td>1</td>\n",
       "    </tr>\n",
       "    <tr>\n",
       "      <th>44</th>\n",
       "      <td>32177.74</td>\n",
       "      <td>134806.14</td>\n",
       "      <td>48334.72</td>\n",
       "      <td>0</td>\n",
       "      <td>0</td>\n",
       "    </tr>\n",
       "    <tr>\n",
       "      <th>45</th>\n",
       "      <td>11000.23</td>\n",
       "      <td>104153.04</td>\n",
       "      <td>21903.93</td>\n",
       "      <td>0</td>\n",
       "      <td>1</td>\n",
       "    </tr>\n",
       "    <tr>\n",
       "      <th>46</th>\n",
       "      <td>11315.46</td>\n",
       "      <td>95816.21</td>\n",
       "      <td>317114.46</td>\n",
       "      <td>1</td>\n",
       "      <td>0</td>\n",
       "    </tr>\n",
       "    <tr>\n",
       "      <th>47</th>\n",
       "      <td>10000.00</td>\n",
       "      <td>115426.92</td>\n",
       "      <td>20000.00</td>\n",
       "      <td>0</td>\n",
       "      <td>0</td>\n",
       "    </tr>\n",
       "    <tr>\n",
       "      <th>48</th>\n",
       "      <td>10542.05</td>\n",
       "      <td>31743.15</td>\n",
       "      <td>20000.00</td>\n",
       "      <td>0</td>\n",
       "      <td>1</td>\n",
       "    </tr>\n",
       "    <tr>\n",
       "      <th>49</th>\n",
       "      <td>10000.00</td>\n",
       "      <td>96983.80</td>\n",
       "      <td>65173.06</td>\n",
       "      <td>0</td>\n",
       "      <td>0</td>\n",
       "    </tr>\n",
       "  </tbody>\n",
       "</table>\n",
       "</div>"
      ],
      "text/plain": [
       "    Safety Features  Tech Features  Marketing Spend  Premium Hatchback  SUV\n",
       "0         175349.20      116897.80        491784.10                  0    1\n",
       "1         172597.70      131377.59        463898.53                  0    0\n",
       "2         163441.51       81145.55        427934.54                  1    0\n",
       "3         154372.41       98671.85        403199.62                  0    1\n",
       "4         152107.34       71391.77        386168.42                  1    0\n",
       "5         141876.90       79814.71        382861.36                  0    1\n",
       "6         144615.46      127198.87        147716.82                  0    0\n",
       "7         140298.13      125530.06        343876.68                  1    0\n",
       "8         130542.52      128718.95        331613.29                  0    1\n",
       "9         133334.88       88679.17        324981.62                  0    0\n",
       "10        111913.08       90594.11        249160.95                  1    0\n",
       "11        110671.96       71790.61        269744.55                  0    0\n",
       "12        103863.75      107320.38        269839.44                  1    0\n",
       "13        101992.39      115495.07        272664.93                  0    0\n",
       "14        129943.24      136547.42        276512.92                  1    0\n",
       "15        124523.61      102616.84        281776.23                  0    1\n",
       "16         88013.11      101597.55        284346.06                  0    0\n",
       "17        104657.16      125077.58        302574.31                  0    1\n",
       "18        101749.16       94175.79        314919.57                  1    0\n",
       "19         96419.70      133514.11         20000.00                  0    1\n",
       "20         86253.86       93867.30        318664.47                  0    0\n",
       "21         88389.47      133773.43        319737.29                  0    1\n",
       "22         83994.56      102782.75        323319.26                  1    0\n",
       "23         77532.53       85751.03        324768.73                  1    0\n",
       "24         87044.01       79281.34        160574.81                  0    1\n",
       "25         74664.71      119553.16        157962.62                  0    0\n",
       "26         85328.87      124135.98        154050.07                  1    0\n",
       "27         82107.60      107864.55        373183.81                  0    1\n",
       "28         76051.52      162645.56        138148.20                  1    0\n",
       "29         75605.48      133032.06        127138.38                  0    1\n",
       "30         71994.48       95641.28        111131.24                  1    0\n",
       "31         71136.38      132701.92        108218.23                  0    1\n",
       "32         73408.86      109219.61         66085.25                  0    0\n",
       "33         65493.95       83057.49        234634.81                  1    0\n",
       "34         56426.07      137693.92        230797.67                  0    0\n",
       "35         56014.02       65047.44        225517.64                  0    1\n",
       "36         38663.76      107056.21        221126.82                  1    0\n",
       "37         54069.95       31283.14        217029.42                  0    0\n",
       "38         30229.59       45947.93        205265.10                  0    1\n",
       "39         48558.51       62982.09        194999.30                  0    0\n",
       "40         38754.33       98546.05        192795.67                  0    0\n",
       "41         37892.92       64710.77        184470.71                  1    0\n",
       "42         33640.93       76189.63        168001.11                  0    0\n",
       "43         25505.73      107382.30         55534.17                  0    1\n",
       "44         32177.74      134806.14         48334.72                  0    0\n",
       "45         11000.23      104153.04         21903.93                  0    1\n",
       "46         11315.46       95816.21        317114.46                  1    0\n",
       "47         10000.00      115426.92         20000.00                  0    0\n",
       "48         10542.05       31743.15         20000.00                  0    1\n",
       "49         10000.00       96983.80         65173.06                  0    0"
      ]
     },
     "execution_count": 105,
     "metadata": {},
     "output_type": "execute_result"
    }
   ],
   "source": [
    "dfX = pd.read_excel(\"X.xlsx\")\n",
    "dfX"
   ]
  },
  {
   "cell_type": "code",
   "execution_count": 106,
   "id": "918f7468425815db",
   "metadata": {
    "ExecuteTime": {
     "end_time": "2023-11-15T06:29:27.364619200Z",
     "start_time": "2023-11-15T06:29:26.958205Z"
    },
    "collapsed": false
   },
   "outputs": [
    {
     "data": {
      "text/html": [
       "<div>\n",
       "<style scoped>\n",
       "    .dataframe tbody tr th:only-of-type {\n",
       "        vertical-align: middle;\n",
       "    }\n",
       "\n",
       "    .dataframe tbody tr th {\n",
       "        vertical-align: top;\n",
       "    }\n",
       "\n",
       "    .dataframe thead th {\n",
       "        text-align: right;\n",
       "    }\n",
       "</style>\n",
       "<table border=\"1\" class=\"dataframe\">\n",
       "  <thead>\n",
       "    <tr style=\"text-align: right;\">\n",
       "      <th></th>\n",
       "      <th>Profit</th>\n",
       "    </tr>\n",
       "  </thead>\n",
       "  <tbody>\n",
       "    <tr>\n",
       "      <th>0</th>\n",
       "      <td>227261.83</td>\n",
       "    </tr>\n",
       "    <tr>\n",
       "      <th>1</th>\n",
       "      <td>226792.06</td>\n",
       "    </tr>\n",
       "    <tr>\n",
       "      <th>2</th>\n",
       "      <td>226050.39</td>\n",
       "    </tr>\n",
       "    <tr>\n",
       "      <th>3</th>\n",
       "      <td>217901.99</td>\n",
       "    </tr>\n",
       "    <tr>\n",
       "      <th>4</th>\n",
       "      <td>201187.94</td>\n",
       "    </tr>\n",
       "    <tr>\n",
       "      <th>5</th>\n",
       "      <td>191991.12</td>\n",
       "    </tr>\n",
       "    <tr>\n",
       "      <th>6</th>\n",
       "      <td>191122.51</td>\n",
       "    </tr>\n",
       "    <tr>\n",
       "      <th>7</th>\n",
       "      <td>190752.60</td>\n",
       "    </tr>\n",
       "    <tr>\n",
       "      <th>8</th>\n",
       "      <td>187211.77</td>\n",
       "    </tr>\n",
       "    <tr>\n",
       "      <th>9</th>\n",
       "      <td>184759.96</td>\n",
       "    </tr>\n",
       "    <tr>\n",
       "      <th>10</th>\n",
       "      <td>181121.95</td>\n",
       "    </tr>\n",
       "    <tr>\n",
       "      <th>11</th>\n",
       "      <td>179259.40</td>\n",
       "    </tr>\n",
       "    <tr>\n",
       "      <th>12</th>\n",
       "      <td>176585.52</td>\n",
       "    </tr>\n",
       "    <tr>\n",
       "      <th>13</th>\n",
       "      <td>169307.35</td>\n",
       "    </tr>\n",
       "    <tr>\n",
       "      <th>14</th>\n",
       "      <td>167602.65</td>\n",
       "    </tr>\n",
       "    <tr>\n",
       "      <th>15</th>\n",
       "      <td>164917.04</td>\n",
       "    </tr>\n",
       "    <tr>\n",
       "      <th>16</th>\n",
       "      <td>161992.93</td>\n",
       "    </tr>\n",
       "    <tr>\n",
       "      <th>17</th>\n",
       "      <td>160370.37</td>\n",
       "    </tr>\n",
       "    <tr>\n",
       "      <th>18</th>\n",
       "      <td>159266.90</td>\n",
       "    </tr>\n",
       "    <tr>\n",
       "      <th>19</th>\n",
       "      <td>157776.86</td>\n",
       "    </tr>\n",
       "    <tr>\n",
       "      <th>20</th>\n",
       "      <td>153474.03</td>\n",
       "    </tr>\n",
       "    <tr>\n",
       "      <th>21</th>\n",
       "      <td>146313.02</td>\n",
       "    </tr>\n",
       "    <tr>\n",
       "      <th>22</th>\n",
       "      <td>145352.25</td>\n",
       "    </tr>\n",
       "    <tr>\n",
       "      <th>23</th>\n",
       "      <td>143733.99</td>\n",
       "    </tr>\n",
       "    <tr>\n",
       "      <th>24</th>\n",
       "      <td>143552.04</td>\n",
       "    </tr>\n",
       "    <tr>\n",
       "      <th>25</th>\n",
       "      <td>142404.34</td>\n",
       "    </tr>\n",
       "    <tr>\n",
       "      <th>26</th>\n",
       "      <td>140733.54</td>\n",
       "    </tr>\n",
       "    <tr>\n",
       "      <th>27</th>\n",
       "      <td>140008.31</td>\n",
       "    </tr>\n",
       "    <tr>\n",
       "      <th>28</th>\n",
       "      <td>138282.38</td>\n",
       "    </tr>\n",
       "    <tr>\n",
       "      <th>29</th>\n",
       "      <td>136004.64</td>\n",
       "    </tr>\n",
       "    <tr>\n",
       "      <th>30</th>\n",
       "      <td>134937.59</td>\n",
       "    </tr>\n",
       "    <tr>\n",
       "      <th>31</th>\n",
       "      <td>132483.56</td>\n",
       "    </tr>\n",
       "    <tr>\n",
       "      <th>32</th>\n",
       "      <td>132427.84</td>\n",
       "    </tr>\n",
       "    <tr>\n",
       "      <th>33</th>\n",
       "      <td>131778.92</td>\n",
       "    </tr>\n",
       "    <tr>\n",
       "      <th>34</th>\n",
       "      <td>131712.80</td>\n",
       "    </tr>\n",
       "    <tr>\n",
       "      <th>35</th>\n",
       "      <td>131479.51</td>\n",
       "    </tr>\n",
       "    <tr>\n",
       "      <th>36</th>\n",
       "      <td>125708.19</td>\n",
       "    </tr>\n",
       "    <tr>\n",
       "      <th>37</th>\n",
       "      <td>124949.14</td>\n",
       "    </tr>\n",
       "    <tr>\n",
       "      <th>38</th>\n",
       "      <td>116229.06</td>\n",
       "    </tr>\n",
       "    <tr>\n",
       "      <th>39</th>\n",
       "      <td>116005.76</td>\n",
       "    </tr>\n",
       "    <tr>\n",
       "      <th>40</th>\n",
       "      <td>113239.91</td>\n",
       "    </tr>\n",
       "    <tr>\n",
       "      <th>41</th>\n",
       "      <td>112798.83</td>\n",
       "    </tr>\n",
       "    <tr>\n",
       "      <th>42</th>\n",
       "      <td>106498.49</td>\n",
       "    </tr>\n",
       "    <tr>\n",
       "      <th>43</th>\n",
       "      <td>104758.98</td>\n",
       "    </tr>\n",
       "    <tr>\n",
       "      <th>44</th>\n",
       "      <td>100200.33</td>\n",
       "    </tr>\n",
       "    <tr>\n",
       "      <th>45</th>\n",
       "      <td>99926.08</td>\n",
       "    </tr>\n",
       "    <tr>\n",
       "      <th>46</th>\n",
       "      <td>84490.75</td>\n",
       "    </tr>\n",
       "    <tr>\n",
       "      <th>47</th>\n",
       "      <td>77559.73</td>\n",
       "    </tr>\n",
       "    <tr>\n",
       "      <th>48</th>\n",
       "      <td>70673.41</td>\n",
       "    </tr>\n",
       "    <tr>\n",
       "      <th>49</th>\n",
       "      <td>49681.40</td>\n",
       "    </tr>\n",
       "  </tbody>\n",
       "</table>\n",
       "</div>"
      ],
      "text/plain": [
       "       Profit\n",
       "0   227261.83\n",
       "1   226792.06\n",
       "2   226050.39\n",
       "3   217901.99\n",
       "4   201187.94\n",
       "5   191991.12\n",
       "6   191122.51\n",
       "7   190752.60\n",
       "8   187211.77\n",
       "9   184759.96\n",
       "10  181121.95\n",
       "11  179259.40\n",
       "12  176585.52\n",
       "13  169307.35\n",
       "14  167602.65\n",
       "15  164917.04\n",
       "16  161992.93\n",
       "17  160370.37\n",
       "18  159266.90\n",
       "19  157776.86\n",
       "20  153474.03\n",
       "21  146313.02\n",
       "22  145352.25\n",
       "23  143733.99\n",
       "24  143552.04\n",
       "25  142404.34\n",
       "26  140733.54\n",
       "27  140008.31\n",
       "28  138282.38\n",
       "29  136004.64\n",
       "30  134937.59\n",
       "31  132483.56\n",
       "32  132427.84\n",
       "33  131778.92\n",
       "34  131712.80\n",
       "35  131479.51\n",
       "36  125708.19\n",
       "37  124949.14\n",
       "38  116229.06\n",
       "39  116005.76\n",
       "40  113239.91\n",
       "41  112798.83\n",
       "42  106498.49\n",
       "43  104758.98\n",
       "44  100200.33\n",
       "45   99926.08\n",
       "46   84490.75\n",
       "47   77559.73\n",
       "48   70673.41\n",
       "49   49681.40"
      ]
     },
     "execution_count": 106,
     "metadata": {},
     "output_type": "execute_result"
    }
   ],
   "source": [
    "dfY = pd.read_excel(\"Y.xlsx\")\n",
    "dfY"
   ]
  },
  {
   "cell_type": "code",
   "execution_count": 107,
   "id": "b89b400105afb35c",
   "metadata": {
    "ExecuteTime": {
     "end_time": "2023-11-15T06:29:30.794522900Z",
     "start_time": "2023-11-15T06:29:30.409471600Z"
    },
    "collapsed": false
   },
   "outputs": [],
   "source": [
    "# split data into training and testing sets\n",
    "X_train, X_test, y_train, y_test = train_test_split(dfX, dfY, test_size=0.2, random_state=0)"
   ]
  },
  {
   "cell_type": "code",
   "execution_count": 108,
   "id": "d655c2a42fbb457",
   "metadata": {
    "ExecuteTime": {
     "end_time": "2023-11-15T06:29:40.706622600Z",
     "start_time": "2023-11-15T06:29:40.686422200Z"
    },
    "collapsed": false
   },
   "outputs": [
    {
     "name": "stdout",
     "output_type": "stream",
     "text": [
      "R-squared value: 0.9347068473282425\n"
     ]
    }
   ],
   "source": [
    "model = LinearRegression()\n",
    "model.fit(X_train, y_train)\n",
    "\n",
    "y_pred = model.predict(X_test)\n",
    "\n",
    "r2 = model.score(X_test, y_test)\n",
    "print(\"R-squared value:\", r2)"
   ]
  },
  {
   "cell_type": "markdown",
   "id": "1c69bae6d42d214e",
   "metadata": {
    "collapsed": false
   },
   "source": [
    "**What is the value of the intercept?**"
   ]
  },
  {
   "cell_type": "code",
   "execution_count": 109,
   "id": "a81f03a83bca1912",
   "metadata": {
    "ExecuteTime": {
     "end_time": "2023-11-15T06:29:47.546637700Z",
     "start_time": "2023-11-15T06:29:47.535723700Z"
    },
    "collapsed": false
   },
   "outputs": [
    {
     "name": "stdout",
     "output_type": "stream",
     "text": [
      "model intercept: 69744.9871238524\n"
     ]
    }
   ],
   "source": [
    "print(\"model intercept:\", model.intercept_[0])"
   ]
  },
  {
   "cell_type": "markdown",
   "id": "a252a7e3c0446e95",
   "metadata": {
    "collapsed": false
   },
   "source": [
    "**If X1 = 1315.46, X2 = 115816.21, X4 = 297114.46, X5 = 1, X6 = 0, then predict the profit from your linear regression model**"
   ]
  },
  {
   "cell_type": "code",
   "execution_count": 110,
   "id": "7f4e0506acceb812",
   "metadata": {
    "ExecuteTime": {
     "end_time": "2023-11-15T06:29:50.966491300Z",
     "start_time": "2023-11-15T06:29:50.802185700Z"
    },
    "collapsed": false
   },
   "outputs": [
    {
     "name": "stdout",
     "output_type": "stream",
     "text": [
      "Predicted profit: [86147.75884887]\n"
     ]
    },
    {
     "name": "stderr",
     "output_type": "stream",
     "text": [
      "D:\\SOFTWARE\\Python\\Lib\\site-packages\\sklearn\\base.py:465: UserWarning: X does not have valid feature names, but LinearRegression was fitted with feature names\n",
      "  warnings.warn(\n"
     ]
    }
   ],
   "source": [
    "X_new = [[1315.46, 115816.21, 297114.46, 0, 1]]\n",
    "y_new = model.predict(X_new)\n",
    "\n",
    "# view the predicted profit\n",
    "print(\"Predicted profit:\", y_new[0])"
   ]
  },
  {
   "cell_type": "code",
   "execution_count": null,
   "id": "aec6f489db045d62",
   "metadata": {
    "collapsed": false
   },
   "outputs": [],
   "source": []
  }
 ],
 "metadata": {
  "kernelspec": {
   "display_name": "Python 3",
   "language": "python",
   "name": "python3"
  },
  "language_info": {
   "codemirror_mode": {
    "name": "ipython",
    "version": 3
   },
   "file_extension": ".py",
   "mimetype": "text/x-python",
   "name": "python",
   "nbconvert_exporter": "python",
   "pygments_lexer": "ipython3",
   "version": "3.10.2"
  }
 },
 "nbformat": 4,
 "nbformat_minor": 5
}
