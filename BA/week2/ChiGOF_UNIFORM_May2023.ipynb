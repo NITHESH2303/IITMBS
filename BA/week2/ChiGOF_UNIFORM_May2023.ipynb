{
  "cells": [
    {
      "cell_type": "code",
      "execution_count": 1,
      "metadata": {
        "colab": {
          "base_uri": "https://localhost:8080/"
        },
        "id": "0pGfJYFuzCSl",
        "outputId": "8177245c-8498-4f93-dc51-8e3aa171eb36"
      },
      "outputs": [
        {
          "name": "stdout",
          "output_type": "stream",
          "text": [
            "         obs\n",
            "0  54.507318\n",
            "1  52.183131\n",
            "2  59.587585\n",
            "3  52.951728\n",
            "4  53.302821\n",
            "(51, 1)\n"
          ]
        }
      ],
      "source": [
        "#Importing Basic Packages and Reading the Data\n",
        "import numpy as np\n",
        "import pandas as pd\n",
        "\n",
        "df = pd.read_excel('data_Uniform.xlsx')\n",
        "\n",
        "print(df.head())\n",
        "print(df.shape)"
      ]
    },
    {
      "cell_type": "code",
      "execution_count": 2,
      "metadata": {
        "colab": {
          "base_uri": "https://localhost:8080/",
          "height": 430
        },
        "id": "h02TaTmIzRXK",
        "outputId": "49c3be37-76c8-4e68-d01f-fd320f0e00a0"
      },
      "outputs": [
        {
          "data": {
            "image/png": "[encoded data removed]",
            "text/plain": [
              "<Figure size 640x480 with 1 Axes>"
            ]
          },
          "metadata": {},
          "output_type": "display_data"
        }
      ],
      "source": [
        "#Visualize the data as a histogram\n",
        "import matplotlib.pyplot as plt\n",
        "plt.hist(df['obs'])\n",
        "plt.show()\n"
      ]
    },
    {
      "cell_type": "code",
      "execution_count": 3,
      "metadata": {
        "colab": {
          "base_uri": "https://localhost:8080/",
          "height": 300
        },
        "id": "4q0DVIvKzru4",
        "outputId": "02699148-5248-4691-a7b3-c128cf982577"
      },
      "outputs": [
        {
          "data": {
            "text/html": [
              "<div>\n",
              "<style scoped>\n",
              "    .dataframe tbody tr th:only-of-type {\n",
              "        vertical-align: middle;\n",
              "    }\n",
              "\n",
              "    .dataframe tbody tr th {\n",
              "        vertical-align: top;\n",
              "    }\n",
              "\n",
              "    .dataframe thead th {\n",
              "        text-align: right;\n",
              "    }\n",
              "</style>\n",
              "<table border=\"1\" class=\"dataframe\">\n",
              "  <thead>\n",
              "    <tr style=\"text-align: right;\">\n",
              "      <th></th>\n",
              "      <th>obs</th>\n",
              "    </tr>\n",
              "  </thead>\n",
              "  <tbody>\n",
              "    <tr>\n",
              "      <th>count</th>\n",
              "      <td>51.000000</td>\n",
              "    </tr>\n",
              "    <tr>\n",
              "      <th>mean</th>\n",
              "      <td>54.931441</td>\n",
              "    </tr>\n",
              "    <tr>\n",
              "      <th>std</th>\n",
              "      <td>2.633428</td>\n",
              "    </tr>\n",
              "    <tr>\n",
              "      <th>min</th>\n",
              "      <td>50.340227</td>\n",
              "    </tr>\n",
              "    <tr>\n",
              "      <th>25%</th>\n",
              "      <td>52.979121</td>\n",
              "    </tr>\n",
              "    <tr>\n",
              "      <th>50%</th>\n",
              "      <td>55.079462</td>\n",
              "    </tr>\n",
              "    <tr>\n",
              "      <th>75%</th>\n",
              "      <td>56.820487</td>\n",
              "    </tr>\n",
              "    <tr>\n",
              "      <th>max</th>\n",
              "      <td>59.695597</td>\n",
              "    </tr>\n",
              "  </tbody>\n",
              "</table>\n",
              "</div>"
            ],
            "text/plain": [
              "             obs\n",
              "count  51.000000\n",
              "mean   54.931441\n",
              "std     2.633428\n",
              "min    50.340227\n",
              "25%    52.979121\n",
              "50%    55.079462\n",
              "75%    56.820487\n",
              "max    59.695597"
            ]
          },
          "execution_count": 3,
          "metadata": {},
          "output_type": "execute_result"
        }
      ],
      "source": [
        "#Get the Descriptive statistics for the data\n",
        "df.describe()"
      ]
    },
    {
      "cell_type": "code",
      "execution_count": 4,
      "metadata": {
        "colab": {
          "base_uri": "https://localhost:8080/"
        },
        "id": "7pFsqJi5zy8O",
        "outputId": "b0effbc6-dfb2-43fa-f0b1-80a17eefdf40"
      },
      "outputs": [
        {
          "name": "stdout",
          "output_type": "stream",
          "text": [
            "{('Variance Observed', 6.93), ('Kurt Observed', -0.83), ('Skew Observed', 0.18)}\n"
          ]
        }
      ],
      "source": [
        "#Some additional descriptive statistics\n",
        "stats_labels = ['Variance Observed', 'Skew Observed', 'Kurt Observed']\n",
        "stats_values = [round(df['obs'].var(), 2), round(df['obs'].skew(),2), round(df['obs'].kurt(),2)]\n",
        "print(set(zip(stats_labels, stats_values)))\n"
      ]
    },
    {
      "cell_type": "code",
      "execution_count": 5,
      "metadata": {
        "id": "JweW3Jar0QeT"
      },
      "outputs": [],
      "source": [
        "#Importing the required statistical packages\n",
        "import statsmodels.api as sm\n",
        "import scipy.stats as stats\n",
        "from scipy.stats import norm, uniform, poisson\n",
        "from statsmodels.graphics.gofplots import qqplot\n",
        "from scipy.stats import chisquare\n",
        "from scipy.stats import chi2"
      ]
    },
    {
      "cell_type": "code",
      "execution_count": 23,
      "metadata": {
        "colab": {
          "base_uri": "https://localhost:8080/",
          "height": 449
        },
        "id": "e4xlpy100cbZ",
        "outputId": "f66a5ed7-ee51-4ba6-a446-39ca8ef9f4e2"
      },
      "outputs": [
        {
          "data": {
            "image/png": "[encoded data removed]",
            "text/plain": [
              "<Figure size 640x480 with 1 Axes>"
            ]
          },
          "metadata": {},
          "output_type": "display_data"
        }
      ],
      "source": [
        "# Developing a qq plot to compare the quantiles (amplify the differences in the tails)\n",
        "sm.qqplot(df['obs'], stats.uniform, fit = True, line = '45')\n",
        "plt.show()"
      ]
    },
    {
      "cell_type": "code",
      "execution_count": 17,
      "metadata": {},
      "outputs": [
        {
          "data": {
            "image/png": "[encoded data removed]",
            "text/plain": [
              "<Figure size 640x480 with 1 Axes>"
            ]
          },
          "metadata": {},
          "output_type": "display_data"
        }
      ],
      "source": [
        "\n",
        "theoretical_quantiles = stats.poisson.ppf(np.linspace(0.01,0.99,len(df)),mu=np.mean(df))\n",
        "plt.scatter(theoretical_quantiles, np.sort(df))\n",
        "plt.plot([np.min(theoretical_quantiles), np.max(theoretical_quantiles)], [np.min(df), np.max(df)], color='red', linestyle='--')\n",
        "plt.xlabel(\"Theoretical Quantiles\")\n",
        "plt.ylabel(\"Observed Quantiles\")\n",
        "plt.title(\"Q-Q Plot for Poisson Distribution\")\n",
        "plt.show()"
      ]
    },
    {
      "cell_type": "code",
      "execution_count": 25,
      "metadata": {
        "colab": {
          "base_uri": "https://localhost:8080/",
          "height": 472
        },
        "id": "GPEoxckf0hYu",
        "outputId": "d36588a7-367a-46f6-941f-3f0f731b0d8d"
      },
      "outputs": [
        {
          "data": {
            "image/png": "[encoded data removed]",
            "text/plain": [
              "<Figure size 640x480 with 1 Axes>"
            ]
          },
          "metadata": {},
          "output_type": "display_data"
        }
      ],
      "source": [
        "# Developing a qq plot to compare the quantiles (amplify the differences in the centre)\n",
        "stats.probplot(df['obs'], dist='uniform', plot=plt)\n",
        "plt.show()\n"
      ]
    },
    {
      "cell_type": "code",
      "execution_count": null,
      "metadata": {
        "id": "9wD1dfET0z7m"
      },
      "outputs": [],
      "source": [
        "# NULL HYPOTHESIS: The given data follows Uniform distribution.\n",
        "# ALTERNATE HYPOTHESIS: The given data does not follow Uniform distribution\n"
      ]
    },
    {
      "cell_type": "code",
      "execution_count": 26,
      "metadata": {
        "colab": {
          "base_uri": "https://localhost:8080/"
        },
        "id": "k9heatK11uXT",
        "outputId": "4614c75b-37c5-4bea-ef43-f24a2b98d11e"
      },
      "outputs": [
        {
          "name": "stdout",
          "output_type": "stream",
          "text": [
            "          obs              Bins\n",
            "0   54.507318  (54.082, 55.018]\n",
            "1   52.183131  (51.276, 52.211]\n",
            "2   59.587585   (58.76, 59.696]\n",
            "3   52.951728  (52.211, 53.147]\n",
            "4   53.302821  (53.147, 54.082]\n",
            "5   54.383157  (54.082, 55.018]\n",
            "6   55.394090  (55.018, 55.953]\n",
            "7   59.637172   (58.76, 59.696]\n",
            "8   53.811463  (53.147, 54.082]\n",
            "9   52.035259  (51.276, 52.211]\n",
            "10  53.763910  (53.147, 54.082]\n",
            "11  59.488890   (58.76, 59.696]\n",
            "12  56.798223  (55.953, 56.889]\n",
            "13  55.727858  (55.018, 55.953]\n",
            "14  54.434550  (54.082, 55.018]\n",
            "15  55.162684  (55.018, 55.953]\n",
            "16  51.287706  (51.276, 52.211]\n",
            "17  54.884016  (54.082, 55.018]\n",
            "18  50.340227  (50.331, 51.276]\n",
            "19  51.009715  (50.331, 51.276]\n",
            "20  53.006514  (52.211, 53.147]\n",
            "21  52.653531  (52.211, 53.147]\n",
            "22  56.323987  (55.953, 56.889]\n",
            "23  51.467548  (51.276, 52.211]\n",
            "24  56.900738  (56.889, 57.825]\n",
            "25  58.482138   (57.825, 58.76]\n",
            "26  57.659965  (56.889, 57.825]\n",
            "27  57.974599   (57.825, 58.76]\n",
            "28  52.115398  (51.276, 52.211]\n",
            "29  55.079462  (55.018, 55.953]\n",
            "30  50.647267  (50.331, 51.276]\n",
            "31  59.547734   (58.76, 59.696]\n",
            "32  53.077537  (52.211, 53.147]\n",
            "33  53.323793  (53.147, 54.082]\n",
            "34  59.695597   (58.76, 59.696]\n",
            "35  55.575524  (55.018, 55.953]\n",
            "36  51.640132  (51.276, 52.211]\n",
            "37  58.677772   (57.825, 58.76]\n",
            "38  56.789595  (55.953, 56.889]\n",
            "39  56.842751  (55.953, 56.889]\n",
            "40  52.427073  (52.211, 53.147]\n",
            "41  54.723054  (54.082, 55.018]\n",
            "42  55.294794  (55.018, 55.953]\n",
            "43  57.131708  (56.889, 57.825]\n",
            "44  55.607499  (55.018, 55.953]\n",
            "45  53.664759  (53.147, 54.082]\n",
            "46  57.620416  (56.889, 57.825]\n",
            "47  55.473823  (55.018, 55.953]\n",
            "48  55.249491  (55.018, 55.953]\n",
            "49  50.888293  (50.331, 51.276]\n",
            "50  55.249491  (55.018, 55.953]\n"
          ]
        }
      ],
      "source": [
        "#Step-1 in CHi-Square GOF: Create Bins\n",
        "df['Bins'] = pd.cut(df['obs'], bins=10)\n",
        "print(df)"
      ]
    },
    {
      "cell_type": "code",
      "execution_count": 27,
      "metadata": {
        "colab": {
          "base_uri": "https://localhost:8080/",
          "height": 394
        },
        "id": "ogg-6YYZ1DUa",
        "outputId": "ba67aece-7598-4351-c119-20f842cce847"
      },
      "outputs": [
        {
          "name": "stderr",
          "output_type": "stream",
          "text": [
            "/var/folders/_6/tlx3n2s10kg748mn6t_08mjw0000gp/T/ipykernel_11209/379125594.py:3: FutureWarning: The default of observed=False is deprecated and will be changed to True in a future version of pandas. Pass observed=False to retain current behavior or observed=True to adopt the future default and silence this warning.\n",
            "  df_2 [\"Observed Frequency\"] = (df.groupby('Bins').count())\n"
          ]
        },
        {
          "data": {
            "text/html": [
              "<div>\n",
              "<style scoped>\n",
              "    .dataframe tbody tr th:only-of-type {\n",
              "        vertical-align: middle;\n",
              "    }\n",
              "\n",
              "    .dataframe tbody tr th {\n",
              "        vertical-align: top;\n",
              "    }\n",
              "\n",
              "    .dataframe thead th {\n",
              "        text-align: right;\n",
              "    }\n",
              "</style>\n",
              "<table border=\"1\" class=\"dataframe\">\n",
              "  <thead>\n",
              "    <tr style=\"text-align: right;\">\n",
              "      <th></th>\n",
              "      <th>Observed Frequency</th>\n",
              "    </tr>\n",
              "    <tr>\n",
              "      <th>Bins</th>\n",
              "      <th></th>\n",
              "    </tr>\n",
              "  </thead>\n",
              "  <tbody>\n",
              "    <tr>\n",
              "      <th>(50.331, 51.276]</th>\n",
              "      <td>4</td>\n",
              "    </tr>\n",
              "    <tr>\n",
              "      <th>(51.276, 52.211]</th>\n",
              "      <td>6</td>\n",
              "    </tr>\n",
              "    <tr>\n",
              "      <th>(52.211, 53.147]</th>\n",
              "      <td>5</td>\n",
              "    </tr>\n",
              "    <tr>\n",
              "      <th>(53.147, 54.082]</th>\n",
              "      <td>5</td>\n",
              "    </tr>\n",
              "    <tr>\n",
              "      <th>(54.082, 55.018]</th>\n",
              "      <td>5</td>\n",
              "    </tr>\n",
              "    <tr>\n",
              "      <th>(55.018, 55.953]</th>\n",
              "      <td>10</td>\n",
              "    </tr>\n",
              "    <tr>\n",
              "      <th>(55.953, 56.889]</th>\n",
              "      <td>4</td>\n",
              "    </tr>\n",
              "    <tr>\n",
              "      <th>(56.889, 57.825]</th>\n",
              "      <td>4</td>\n",
              "    </tr>\n",
              "    <tr>\n",
              "      <th>(57.825, 58.76]</th>\n",
              "      <td>3</td>\n",
              "    </tr>\n",
              "    <tr>\n",
              "      <th>(58.76, 59.696]</th>\n",
              "      <td>5</td>\n",
              "    </tr>\n",
              "  </tbody>\n",
              "</table>\n",
              "</div>"
            ],
            "text/plain": [
              "                  Observed Frequency\n",
              "Bins                                \n",
              "(50.331, 51.276]                   4\n",
              "(51.276, 52.211]                   6\n",
              "(52.211, 53.147]                   5\n",
              "(53.147, 54.082]                   5\n",
              "(54.082, 55.018]                   5\n",
              "(55.018, 55.953]                  10\n",
              "(55.953, 56.889]                   4\n",
              "(56.889, 57.825]                   4\n",
              "(57.825, 58.76]                    3\n",
              "(58.76, 59.696]                    5"
            ]
          },
          "execution_count": 27,
          "metadata": {},
          "output_type": "execute_result"
        }
      ],
      "source": [
        "#Step-2 in CHi-Square GOF: Count Number of Observations in Each Bin\n",
        "df_2 = pd.DataFrame()\n",
        "df_2 [\"Observed Frequency\"] = (df.groupby('Bins').count())\n",
        "df_2"
      ]
    },
    {
      "cell_type": "code",
      "execution_count": 28,
      "metadata": {
        "colab": {
          "base_uri": "https://localhost:8080/",
          "height": 394
        },
        "id": "-DoNMeAF1I45",
        "outputId": "a3e96377-404d-4c2c-8e2c-7f711140ed90"
      },
      "outputs": [
        {
          "data": {
            "text/html": [
              "<div>\n",
              "<style scoped>\n",
              "    .dataframe tbody tr th:only-of-type {\n",
              "        vertical-align: middle;\n",
              "    }\n",
              "\n",
              "    .dataframe tbody tr th {\n",
              "        vertical-align: top;\n",
              "    }\n",
              "\n",
              "    .dataframe thead th {\n",
              "        text-align: right;\n",
              "    }\n",
              "</style>\n",
              "<table border=\"1\" class=\"dataframe\">\n",
              "  <thead>\n",
              "    <tr style=\"text-align: right;\">\n",
              "      <th></th>\n",
              "      <th>Observed Frequency</th>\n",
              "      <th>Expected Frequency</th>\n",
              "    </tr>\n",
              "    <tr>\n",
              "      <th>Bins</th>\n",
              "      <th></th>\n",
              "      <th></th>\n",
              "    </tr>\n",
              "  </thead>\n",
              "  <tbody>\n",
              "    <tr>\n",
              "      <th>(50.331, 51.276]</th>\n",
              "      <td>4</td>\n",
              "      <td>5.1</td>\n",
              "    </tr>\n",
              "    <tr>\n",
              "      <th>(51.276, 52.211]</th>\n",
              "      <td>6</td>\n",
              "      <td>5.1</td>\n",
              "    </tr>\n",
              "    <tr>\n",
              "      <th>(52.211, 53.147]</th>\n",
              "      <td>5</td>\n",
              "      <td>5.1</td>\n",
              "    </tr>\n",
              "    <tr>\n",
              "      <th>(53.147, 54.082]</th>\n",
              "      <td>5</td>\n",
              "      <td>5.1</td>\n",
              "    </tr>\n",
              "    <tr>\n",
              "      <th>(54.082, 55.018]</th>\n",
              "      <td>5</td>\n",
              "      <td>5.1</td>\n",
              "    </tr>\n",
              "    <tr>\n",
              "      <th>(55.018, 55.953]</th>\n",
              "      <td>10</td>\n",
              "      <td>5.1</td>\n",
              "    </tr>\n",
              "    <tr>\n",
              "      <th>(55.953, 56.889]</th>\n",
              "      <td>4</td>\n",
              "      <td>5.1</td>\n",
              "    </tr>\n",
              "    <tr>\n",
              "      <th>(56.889, 57.825]</th>\n",
              "      <td>4</td>\n",
              "      <td>5.1</td>\n",
              "    </tr>\n",
              "    <tr>\n",
              "      <th>(57.825, 58.76]</th>\n",
              "      <td>3</td>\n",
              "      <td>5.1</td>\n",
              "    </tr>\n",
              "    <tr>\n",
              "      <th>(58.76, 59.696]</th>\n",
              "      <td>5</td>\n",
              "      <td>5.1</td>\n",
              "    </tr>\n",
              "  </tbody>\n",
              "</table>\n",
              "</div>"
            ],
            "text/plain": [
              "                  Observed Frequency  Expected Frequency\n",
              "Bins                                                    \n",
              "(50.331, 51.276]                   4                 5.1\n",
              "(51.276, 52.211]                   6                 5.1\n",
              "(52.211, 53.147]                   5                 5.1\n",
              "(53.147, 54.082]                   5                 5.1\n",
              "(54.082, 55.018]                   5                 5.1\n",
              "(55.018, 55.953]                  10                 5.1\n",
              "(55.953, 56.889]                   4                 5.1\n",
              "(56.889, 57.825]                   4                 5.1\n",
              "(57.825, 58.76]                    3                 5.1\n",
              "(58.76, 59.696]                    5                 5.1"
            ]
          },
          "execution_count": 28,
          "metadata": {},
          "output_type": "execute_result"
        }
      ],
      "source": [
        "#Step-3 in CHi-Square GOF: Determine the Expected Number of Observations in Each Bin\n",
        "mean = df_2[\"Observed Frequency\"].mean()\n",
        "df_2[\"Expected Frequency\"] = mean\n",
        "df_2\n"
      ]
    },
    {
      "cell_type": "code",
      "execution_count": 29,
      "metadata": {
        "colab": {
          "base_uri": "https://localhost:8080/"
        },
        "id": "CvemZah61NZN",
        "outputId": "21f512d9-dad3-4643-c3b5-7ee274c30bbb"
      },
      "outputs": [
        {
          "data": {
            "text/plain": [
              "Power_divergenceResult(statistic=6.450980392156864, pvalue=0.6940703597580011)"
            ]
          },
          "execution_count": 29,
          "metadata": {},
          "output_type": "execute_result"
        }
      ],
      "source": [
        "#Step-4A in CHi-Square GOF: Determine the Test Statistics and P-Value \n",
        "chisquare(df_2['Observed Frequency'], df_2['Expected Frequency'])\n"
      ]
    },
    {
      "cell_type": "code",
      "execution_count": 30,
      "metadata": {
        "id": "GLqtWdKH8TR4"
      },
      "outputs": [],
      "source": [
        "# GUIDE FOR INFERENCE IF CONCLUSION IS GOING TO BE BASED ON STEP-4A\n",
        "\n",
        "# REJECT the Null if the p-value < level of significant\n",
        "# DO NOT REJECT the Null if the p-value >= level of significant\n",
        "\n",
        "# Say the level of significance is 5%, then for given data set, p-value (0.694)>>0.05 --> DO NOT REJECT THE NULL\n",
        "\n",
        "# Note: For any level of significance ~>70%, we do not reject the null for the current data set. "
      ]
    },
    {
      "cell_type": "code",
      "execution_count": 31,
      "metadata": {
        "colab": {
          "base_uri": "https://localhost:8080/"
        },
        "id": "8JbTax311S0T",
        "outputId": "84645157-874e-4009-e077-f92e38651c5d"
      },
      "outputs": [
        {
          "data": {
            "text/plain": [
              "14.067140449340169"
            ]
          },
          "execution_count": 31,
          "metadata": {},
          "output_type": "execute_result"
        }
      ],
      "source": [
        "#Step-4B in CHi-Square GOF: Determine the Tabulated Value of the Test Statistic\n",
        "chi2.ppf(0.95,len(df_2)-2-1)\n",
        "\n",
        "# GUIDE FOR INFERENCE IF CONCLUSION IS GOING TO BE BASED ON STEP-4B\n",
        "\n",
        "# REJECT the Null if the \"Tabluated Test Statistic Value\" < \"Computed Test Statistic Value\"\n",
        "# DO NOT REJECT the Null if the \"Tabluated Test Statistic Value\" >= \"Computed Test Statistic Value\"\n"
      ]
    },
    {
      "cell_type": "code",
      "execution_count": null,
      "metadata": {},
      "outputs": [],
      "source": []
    }
  ],
  "metadata": {
    "colab": {
      "provenance": []
    },
    "kernelspec": {
      "display_name": "Python 3",
      "name": "python3"
    },
    "language_info": {
      "codemirror_mode": {
        "name": "ipython",
        "version": 3
      },
      "file_extension": ".py",
      "mimetype": "text/x-python",
      "name": "python",
      "nbconvert_exporter": "python",
      "pygments_lexer": "ipython3",
      "version": "3.10.2"
    }
  },
  "nbformat": 4,
  "nbformat_minor": 0
}
