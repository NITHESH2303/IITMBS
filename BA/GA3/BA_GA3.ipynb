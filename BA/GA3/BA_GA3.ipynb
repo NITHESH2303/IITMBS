{
  "nbformat": 4,
  "nbformat_minor": 0,
  "metadata": {
    "colab": {
      "provenance": []
    },
    "kernelspec": {
      "name": "python3",
      "display_name": "Python 3"
    },
    "language_info": {
      "name": "python"
    }
  },
  "cells": [
    {
      "cell_type": "code",
      "source": [
        "import pandas as pd\n",
        "from sklearn.model_selection import train_test_split\n",
        "from sklearn.linear_model import LogisticRegression\n",
        "from sklearn.metrics import classification_report, confusion_matrix, accuracy_score, precision_score, recall_score"
      ],
      "metadata": {
        "id": "TMW_vGgdJGcA"
      },
      "execution_count": 36,
      "outputs": []
    },
    {
      "cell_type": "code",
      "execution_count": 2,
      "metadata": {
        "id": "zUufxCDnCSxA"
      },
      "outputs": [],
      "source": [
        "url='https://drive.google.com/file/d/1e_9vM-HnPm4mzKFLP1KbiAEF7KP_W3di/view'\n",
        "url='https://drive.google.com/uc?id=' + url.split('/')[-2]\n",
        "train_data = pd.read_csv(url)"
      ]
    },
    {
      "cell_type": "code",
      "source": [
        "train_data"
      ],
      "metadata": {
        "colab": {
          "base_uri": "https://localhost:8080/",
          "height": 461
        },
        "id": "e4YnBlZmE0hO",
        "outputId": "ce306515-059f-4b74-e177-14841a71b74d"
      },
      "execution_count": 3,
      "outputs": [
        {
          "output_type": "execute_result",
          "data": {
            "text/plain": [
              "        Tier  FICO  Term   Amount  Previous_Rate  Competition_rate  Rate  \\\n",
              "0          2   729    66  22000.0            -10              5.75  6.29   \n",
              "1          1   786    60  37000.0            -10              4.09  4.09   \n",
              "2          1   742    60  25000.0            -10              3.99  3.99   \n",
              "3          1   631    60  25000.0            -10              4.59  4.49   \n",
              "4          4   656    72  27300.0            -10              5.35  7.99   \n",
              "...      ...   ...   ...      ...            ...               ...   ...   \n",
              "109239     1   786    36  35000.0            -10              3.79  3.79   \n",
              "109240     2   692    36  11900.0              6              4.75  5.03   \n",
              "109241     1   800    60  26955.0            -10              5.49  5.24   \n",
              "109242     1   746    48  33000.0            -10              4.99  4.44   \n",
              "109243     3   710    48  15000.0            -10              5.75  5.98   \n",
              "\n",
              "        Cost_Funds  Partner Bin  Car_Type_N  Car_Type_R  Car_Type_U  Accept  \n",
              "0           1.1625            1           0           0           1       1  \n",
              "1           1.1400            2           1           0           0       0  \n",
              "2           1.1163            3           1           0           0       0  \n",
              "3           1.6150            1           1           0           0       0  \n",
              "4           1.1200            1           0           0           1       1  \n",
              "...            ...          ...         ...         ...         ...     ...  \n",
              "109239      1.1800            1           1           0           0       0  \n",
              "109240      1.1000            3           0           1           0       1  \n",
              "109241      1.8100            3           1           0           0       0  \n",
              "109242      1.3800            3           1           0           0       0  \n",
              "109243      1.8200            2           0           0           1       1  \n",
              "\n",
              "[109244 rows x 13 columns]"
            ],
            "text/html": [
              "\n",
              "  <div id=\"df-62cdb7cb-83aa-4744-9a96-26ac8f959273\" class=\"colab-df-container\">\n",
              "    <div>\n",
              "<style scoped>\n",
              "    .dataframe tbody tr th:only-of-type {\n",
              "        vertical-align: middle;\n",
              "    }\n",
              "\n",
              "    .dataframe tbody tr th {\n",
              "        vertical-align: top;\n",
              "    }\n",
              "\n",
              "    .dataframe thead th {\n",
              "        text-align: right;\n",
              "    }\n",
              "</style>\n",
              "<table border=\"1\" class=\"dataframe\">\n",
              "  <thead>\n",
              "    <tr style=\"text-align: right;\">\n",
              "      <th></th>\n",
              "      <th>Tier</th>\n",
              "      <th>FICO</th>\n",
              "      <th>Term</th>\n",
              "      <th>Amount</th>\n",
              "      <th>Previous_Rate</th>\n",
              "      <th>Competition_rate</th>\n",
              "      <th>Rate</th>\n",
              "      <th>Cost_Funds</th>\n",
              "      <th>Partner Bin</th>\n",
              "      <th>Car_Type_N</th>\n",
              "      <th>Car_Type_R</th>\n",
              "      <th>Car_Type_U</th>\n",
              "      <th>Accept</th>\n",
              "    </tr>\n",
              "  </thead>\n",
              "  <tbody>\n",
              "    <tr>\n",
              "      <th>0</th>\n",
              "      <td>2</td>\n",
              "      <td>729</td>\n",
              "      <td>66</td>\n",
              "      <td>22000.0</td>\n",
              "      <td>-10</td>\n",
              "      <td>5.75</td>\n",
              "      <td>6.29</td>\n",
              "      <td>1.1625</td>\n",
              "      <td>1</td>\n",
              "      <td>0</td>\n",
              "      <td>0</td>\n",
              "      <td>1</td>\n",
              "      <td>1</td>\n",
              "    </tr>\n",
              "    <tr>\n",
              "      <th>1</th>\n",
              "      <td>1</td>\n",
              "      <td>786</td>\n",
              "      <td>60</td>\n",
              "      <td>37000.0</td>\n",
              "      <td>-10</td>\n",
              "      <td>4.09</td>\n",
              "      <td>4.09</td>\n",
              "      <td>1.1400</td>\n",
              "      <td>2</td>\n",
              "      <td>1</td>\n",
              "      <td>0</td>\n",
              "      <td>0</td>\n",
              "      <td>0</td>\n",
              "    </tr>\n",
              "    <tr>\n",
              "      <th>2</th>\n",
              "      <td>1</td>\n",
              "      <td>742</td>\n",
              "      <td>60</td>\n",
              "      <td>25000.0</td>\n",
              "      <td>-10</td>\n",
              "      <td>3.99</td>\n",
              "      <td>3.99</td>\n",
              "      <td>1.1163</td>\n",
              "      <td>3</td>\n",
              "      <td>1</td>\n",
              "      <td>0</td>\n",
              "      <td>0</td>\n",
              "      <td>0</td>\n",
              "    </tr>\n",
              "    <tr>\n",
              "      <th>3</th>\n",
              "      <td>1</td>\n",
              "      <td>631</td>\n",
              "      <td>60</td>\n",
              "      <td>25000.0</td>\n",
              "      <td>-10</td>\n",
              "      <td>4.59</td>\n",
              "      <td>4.49</td>\n",
              "      <td>1.6150</td>\n",
              "      <td>1</td>\n",
              "      <td>1</td>\n",
              "      <td>0</td>\n",
              "      <td>0</td>\n",
              "      <td>0</td>\n",
              "    </tr>\n",
              "    <tr>\n",
              "      <th>4</th>\n",
              "      <td>4</td>\n",
              "      <td>656</td>\n",
              "      <td>72</td>\n",
              "      <td>27300.0</td>\n",
              "      <td>-10</td>\n",
              "      <td>5.35</td>\n",
              "      <td>7.99</td>\n",
              "      <td>1.1200</td>\n",
              "      <td>1</td>\n",
              "      <td>0</td>\n",
              "      <td>0</td>\n",
              "      <td>1</td>\n",
              "      <td>1</td>\n",
              "    </tr>\n",
              "    <tr>\n",
              "      <th>...</th>\n",
              "      <td>...</td>\n",
              "      <td>...</td>\n",
              "      <td>...</td>\n",
              "      <td>...</td>\n",
              "      <td>...</td>\n",
              "      <td>...</td>\n",
              "      <td>...</td>\n",
              "      <td>...</td>\n",
              "      <td>...</td>\n",
              "      <td>...</td>\n",
              "      <td>...</td>\n",
              "      <td>...</td>\n",
              "      <td>...</td>\n",
              "    </tr>\n",
              "    <tr>\n",
              "      <th>109239</th>\n",
              "      <td>1</td>\n",
              "      <td>786</td>\n",
              "      <td>36</td>\n",
              "      <td>35000.0</td>\n",
              "      <td>-10</td>\n",
              "      <td>3.79</td>\n",
              "      <td>3.79</td>\n",
              "      <td>1.1800</td>\n",
              "      <td>1</td>\n",
              "      <td>1</td>\n",
              "      <td>0</td>\n",
              "      <td>0</td>\n",
              "      <td>0</td>\n",
              "    </tr>\n",
              "    <tr>\n",
              "      <th>109240</th>\n",
              "      <td>2</td>\n",
              "      <td>692</td>\n",
              "      <td>36</td>\n",
              "      <td>11900.0</td>\n",
              "      <td>6</td>\n",
              "      <td>4.75</td>\n",
              "      <td>5.03</td>\n",
              "      <td>1.1000</td>\n",
              "      <td>3</td>\n",
              "      <td>0</td>\n",
              "      <td>1</td>\n",
              "      <td>0</td>\n",
              "      <td>1</td>\n",
              "    </tr>\n",
              "    <tr>\n",
              "      <th>109241</th>\n",
              "      <td>1</td>\n",
              "      <td>800</td>\n",
              "      <td>60</td>\n",
              "      <td>26955.0</td>\n",
              "      <td>-10</td>\n",
              "      <td>5.49</td>\n",
              "      <td>5.24</td>\n",
              "      <td>1.8100</td>\n",
              "      <td>3</td>\n",
              "      <td>1</td>\n",
              "      <td>0</td>\n",
              "      <td>0</td>\n",
              "      <td>0</td>\n",
              "    </tr>\n",
              "    <tr>\n",
              "      <th>109242</th>\n",
              "      <td>1</td>\n",
              "      <td>746</td>\n",
              "      <td>48</td>\n",
              "      <td>33000.0</td>\n",
              "      <td>-10</td>\n",
              "      <td>4.99</td>\n",
              "      <td>4.44</td>\n",
              "      <td>1.3800</td>\n",
              "      <td>3</td>\n",
              "      <td>1</td>\n",
              "      <td>0</td>\n",
              "      <td>0</td>\n",
              "      <td>0</td>\n",
              "    </tr>\n",
              "    <tr>\n",
              "      <th>109243</th>\n",
              "      <td>3</td>\n",
              "      <td>710</td>\n",
              "      <td>48</td>\n",
              "      <td>15000.0</td>\n",
              "      <td>-10</td>\n",
              "      <td>5.75</td>\n",
              "      <td>5.98</td>\n",
              "      <td>1.8200</td>\n",
              "      <td>2</td>\n",
              "      <td>0</td>\n",
              "      <td>0</td>\n",
              "      <td>1</td>\n",
              "      <td>1</td>\n",
              "    </tr>\n",
              "  </tbody>\n",
              "</table>\n",
              "<p>109244 rows × 13 columns</p>\n",
              "</div>\n",
              "    <div class=\"colab-df-buttons\">\n",
              "\n",
              "  <div class=\"colab-df-container\">\n",
              "    <button class=\"colab-df-convert\" onclick=\"convertToInteractive('df-62cdb7cb-83aa-4744-9a96-26ac8f959273')\"\n",
              "            title=\"Convert this dataframe to an interactive table.\"\n",
              "            style=\"display:none;\">\n",
              "\n",
              "  <svg xmlns=\"http://www.w3.org/2000/svg\" height=\"24px\" viewBox=\"0 -960 960 960\">\n",
              "    <path d=\"M120-120v-720h720v720H120Zm60-500h600v-160H180v160Zm220 220h160v-160H400v160Zm0 220h160v-160H400v160ZM180-400h160v-160H180v160Zm440 0h160v-160H620v160ZM180-180h160v-160H180v160Zm440 0h160v-160H620v160Z\"/>\n",
              "  </svg>\n",
              "    </button>\n",
              "\n",
              "  <style>\n",
              "    .colab-df-container {\n",
              "      display:flex;\n",
              "      gap: 12px;\n",
              "    }\n",
              "\n",
              "    .colab-df-convert {\n",
              "      background-color: #E8F0FE;\n",
              "      border: none;\n",
              "      border-radius: 50%;\n",
              "      cursor: pointer;\n",
              "      display: none;\n",
              "      fill: #1967D2;\n",
              "      height: 32px;\n",
              "      padding: 0 0 0 0;\n",
              "      width: 32px;\n",
              "    }\n",
              "\n",
              "    .colab-df-convert:hover {\n",
              "      background-color: #E2EBFA;\n",
              "      box-shadow: 0px 1px 2px rgba(60, 64, 67, 0.3), 0px 1px 3px 1px rgba(60, 64, 67, 0.15);\n",
              "      fill: #174EA6;\n",
              "    }\n",
              "\n",
              "    .colab-df-buttons div {\n",
              "      margin-bottom: 4px;\n",
              "    }\n",
              "\n",
              "    [theme=dark] .colab-df-convert {\n",
              "      background-color: #3B4455;\n",
              "      fill: #D2E3FC;\n",
              "    }\n",
              "\n",
              "    [theme=dark] .colab-df-convert:hover {\n",
              "      background-color: #434B5C;\n",
              "      box-shadow: 0px 1px 3px 1px rgba(0, 0, 0, 0.15);\n",
              "      filter: drop-shadow(0px 1px 2px rgba(0, 0, 0, 0.3));\n",
              "      fill: #FFFFFF;\n",
              "    }\n",
              "  </style>\n",
              "\n",
              "    <script>\n",
              "      const buttonEl =\n",
              "        document.querySelector('#df-62cdb7cb-83aa-4744-9a96-26ac8f959273 button.colab-df-convert');\n",
              "      buttonEl.style.display =\n",
              "        google.colab.kernel.accessAllowed ? 'block' : 'none';\n",
              "\n",
              "      async function convertToInteractive(key) {\n",
              "        const element = document.querySelector('#df-62cdb7cb-83aa-4744-9a96-26ac8f959273');\n",
              "        const dataTable =\n",
              "          await google.colab.kernel.invokeFunction('convertToInteractive',\n",
              "                                                    [key], {});\n",
              "        if (!dataTable) return;\n",
              "\n",
              "        const docLinkHtml = 'Like what you see? Visit the ' +\n",
              "          '<a target=\"_blank\" href=https://colab.research.google.com/notebooks/data_table.ipynb>data table notebook</a>'\n",
              "          + ' to learn more about interactive tables.';\n",
              "        element.innerHTML = '';\n",
              "        dataTable['output_type'] = 'display_data';\n",
              "        await google.colab.output.renderOutput(dataTable, element);\n",
              "        const docLink = document.createElement('div');\n",
              "        docLink.innerHTML = docLinkHtml;\n",
              "        element.appendChild(docLink);\n",
              "      }\n",
              "    </script>\n",
              "  </div>\n",
              "\n",
              "\n",
              "<div id=\"df-4a64a0ac-7243-4880-943c-f7832b39640f\">\n",
              "  <button class=\"colab-df-quickchart\" onclick=\"quickchart('df-4a64a0ac-7243-4880-943c-f7832b39640f')\"\n",
              "            title=\"Suggest charts\"\n",
              "            style=\"display:none;\">\n",
              "\n",
              "<svg xmlns=\"http://www.w3.org/2000/svg\" height=\"24px\"viewBox=\"0 0 24 24\"\n",
              "     width=\"24px\">\n",
              "    <g>\n",
              "        <path d=\"M19 3H5c-1.1 0-2 .9-2 2v14c0 1.1.9 2 2 2h14c1.1 0 2-.9 2-2V5c0-1.1-.9-2-2-2zM9 17H7v-7h2v7zm4 0h-2V7h2v10zm4 0h-2v-4h2v4z\"/>\n",
              "    </g>\n",
              "</svg>\n",
              "  </button>\n",
              "\n",
              "<style>\n",
              "  .colab-df-quickchart {\n",
              "      --bg-color: #E8F0FE;\n",
              "      --fill-color: #1967D2;\n",
              "      --hover-bg-color: #E2EBFA;\n",
              "      --hover-fill-color: #174EA6;\n",
              "      --disabled-fill-color: #AAA;\n",
              "      --disabled-bg-color: #DDD;\n",
              "  }\n",
              "\n",
              "  [theme=dark] .colab-df-quickchart {\n",
              "      --bg-color: #3B4455;\n",
              "      --fill-color: #D2E3FC;\n",
              "      --hover-bg-color: #434B5C;\n",
              "      --hover-fill-color: #FFFFFF;\n",
              "      --disabled-bg-color: #3B4455;\n",
              "      --disabled-fill-color: #666;\n",
              "  }\n",
              "\n",
              "  .colab-df-quickchart {\n",
              "    background-color: var(--bg-color);\n",
              "    border: none;\n",
              "    border-radius: 50%;\n",
              "    cursor: pointer;\n",
              "    display: none;\n",
              "    fill: var(--fill-color);\n",
              "    height: 32px;\n",
              "    padding: 0;\n",
              "    width: 32px;\n",
              "  }\n",
              "\n",
              "  .colab-df-quickchart:hover {\n",
              "    background-color: var(--hover-bg-color);\n",
              "    box-shadow: 0 1px 2px rgba(60, 64, 67, 0.3), 0 1px 3px 1px rgba(60, 64, 67, 0.15);\n",
              "    fill: var(--button-hover-fill-color);\n",
              "  }\n",
              "\n",
              "  .colab-df-quickchart-complete:disabled,\n",
              "  .colab-df-quickchart-complete:disabled:hover {\n",
              "    background-color: var(--disabled-bg-color);\n",
              "    fill: var(--disabled-fill-color);\n",
              "    box-shadow: none;\n",
              "  }\n",
              "\n",
              "  .colab-df-spinner {\n",
              "    border: 2px solid var(--fill-color);\n",
              "    border-color: transparent;\n",
              "    border-bottom-color: var(--fill-color);\n",
              "    animation:\n",
              "      spin 1s steps(1) infinite;\n",
              "  }\n",
              "\n",
              "  @keyframes spin {\n",
              "    0% {\n",
              "      border-color: transparent;\n",
              "      border-bottom-color: var(--fill-color);\n",
              "      border-left-color: var(--fill-color);\n",
              "    }\n",
              "    20% {\n",
              "      border-color: transparent;\n",
              "      border-left-color: var(--fill-color);\n",
              "      border-top-color: var(--fill-color);\n",
              "    }\n",
              "    30% {\n",
              "      border-color: transparent;\n",
              "      border-left-color: var(--fill-color);\n",
              "      border-top-color: var(--fill-color);\n",
              "      border-right-color: var(--fill-color);\n",
              "    }\n",
              "    40% {\n",
              "      border-color: transparent;\n",
              "      border-right-color: var(--fill-color);\n",
              "      border-top-color: var(--fill-color);\n",
              "    }\n",
              "    60% {\n",
              "      border-color: transparent;\n",
              "      border-right-color: var(--fill-color);\n",
              "    }\n",
              "    80% {\n",
              "      border-color: transparent;\n",
              "      border-right-color: var(--fill-color);\n",
              "      border-bottom-color: var(--fill-color);\n",
              "    }\n",
              "    90% {\n",
              "      border-color: transparent;\n",
              "      border-bottom-color: var(--fill-color);\n",
              "    }\n",
              "  }\n",
              "</style>\n",
              "\n",
              "  <script>\n",
              "    async function quickchart(key) {\n",
              "      const quickchartButtonEl =\n",
              "        document.querySelector('#' + key + ' button');\n",
              "      quickchartButtonEl.disabled = true;  // To prevent multiple clicks.\n",
              "      quickchartButtonEl.classList.add('colab-df-spinner');\n",
              "      try {\n",
              "        const charts = await google.colab.kernel.invokeFunction(\n",
              "            'suggestCharts', [key], {});\n",
              "      } catch (error) {\n",
              "        console.error('Error during call to suggestCharts:', error);\n",
              "      }\n",
              "      quickchartButtonEl.classList.remove('colab-df-spinner');\n",
              "      quickchartButtonEl.classList.add('colab-df-quickchart-complete');\n",
              "    }\n",
              "    (() => {\n",
              "      let quickchartButtonEl =\n",
              "        document.querySelector('#df-4a64a0ac-7243-4880-943c-f7832b39640f button');\n",
              "      quickchartButtonEl.style.display =\n",
              "        google.colab.kernel.accessAllowed ? 'block' : 'none';\n",
              "    })();\n",
              "  </script>\n",
              "</div>\n",
              "    </div>\n",
              "  </div>\n"
            ]
          },
          "metadata": {},
          "execution_count": 3
        }
      ]
    },
    {
      "cell_type": "code",
      "source": [
        "train_data.isnull().sum()"
      ],
      "metadata": {
        "colab": {
          "base_uri": "https://localhost:8080/"
        },
        "id": "jKW3c7LUFV9h",
        "outputId": "015220c1-8a71-4130-c325-64deeacf0662"
      },
      "execution_count": 4,
      "outputs": [
        {
          "output_type": "execute_result",
          "data": {
            "text/plain": [
              "Tier                0\n",
              "FICO                0\n",
              "Term                0\n",
              "Amount              0\n",
              "Previous_Rate       0\n",
              "Competition_rate    0\n",
              "Rate                0\n",
              "Cost_Funds          0\n",
              "Partner Bin         0\n",
              "Car_Type_N          0\n",
              "Car_Type_R          0\n",
              "Car_Type_U          0\n",
              "Accept              0\n",
              "dtype: int64"
            ]
          },
          "metadata": {},
          "execution_count": 4
        }
      ]
    },
    {
      "cell_type": "code",
      "source": [
        "train_data.info()"
      ],
      "metadata": {
        "colab": {
          "base_uri": "https://localhost:8080/"
        },
        "id": "JHpumSHvFWAg",
        "outputId": "4a8f95d7-2b3b-4657-c5c9-d9dcfebea064"
      },
      "execution_count": 5,
      "outputs": [
        {
          "output_type": "stream",
          "name": "stdout",
          "text": [
            "<class 'pandas.core.frame.DataFrame'>\n",
            "RangeIndex: 109244 entries, 0 to 109243\n",
            "Data columns (total 13 columns):\n",
            " #   Column            Non-Null Count   Dtype  \n",
            "---  ------            --------------   -----  \n",
            " 0   Tier              109244 non-null  int64  \n",
            " 1   FICO              109244 non-null  int64  \n",
            " 2   Term              109244 non-null  int64  \n",
            " 3   Amount            109244 non-null  float64\n",
            " 4   Previous_Rate     109244 non-null  int64  \n",
            " 5   Competition_rate  109244 non-null  float64\n",
            " 6   Rate              109244 non-null  float64\n",
            " 7   Cost_Funds        109244 non-null  float64\n",
            " 8   Partner Bin       109244 non-null  int64  \n",
            " 9   Car_Type_N        109244 non-null  int64  \n",
            " 10  Car_Type_R        109244 non-null  int64  \n",
            " 11  Car_Type_U        109244 non-null  int64  \n",
            " 12  Accept            109244 non-null  int64  \n",
            "dtypes: float64(4), int64(9)\n",
            "memory usage: 10.8 MB\n"
          ]
        }
      ]
    },
    {
      "cell_type": "code",
      "source": [
        "train_data.describe()"
      ],
      "metadata": {
        "colab": {
          "base_uri": "https://localhost:8080/",
          "height": 320
        },
        "id": "Nk5kHYu6FWC_",
        "outputId": "a86fdf16-4b08-4157-85a2-44048e905f0d"
      },
      "execution_count": 6,
      "outputs": [
        {
          "output_type": "execute_result",
          "data": {
            "text/plain": [
              "                Tier           FICO           Term         Amount  \\\n",
              "count  109244.000000  109244.000000  109244.000000  109244.000000   \n",
              "mean        1.929918     726.628977      56.823588   26019.478454   \n",
              "std         1.051381      44.737310      11.194134   11138.549527   \n",
              "min         1.000000     601.000000      36.000000    4526.620000   \n",
              "25%         1.000000     692.000000      48.000000   17800.000000   \n",
              "50%         2.000000     726.000000      60.000000   25000.000000   \n",
              "75%         3.000000     762.000000      60.000000   33000.000000   \n",
              "max         4.000000     852.000000      72.000000  100000.000000   \n",
              "\n",
              "       Previous_Rate  Competition_rate           Rate     Cost_Funds  \\\n",
              "count  109244.000000     109244.000000  109244.000000  109244.000000   \n",
              "mean       -6.014500          4.807711       5.625135       1.329651   \n",
              "std         7.490635          0.585854       1.546583       0.278490   \n",
              "min       -10.000000          2.990000       2.450000       1.020000   \n",
              "25%       -10.000000          4.390000       4.490000       1.110000   \n",
              "50%       -10.000000          4.790000       5.090000       1.262500   \n",
              "75%       -10.000000          5.190000       6.390000       1.419400   \n",
              "max        24.000000          6.450000      12.990000       2.127000   \n",
              "\n",
              "         Partner Bin     Car_Type_N     Car_Type_R     Car_Type_U  \\\n",
              "count  109244.000000  109244.000000  109244.000000  109244.000000   \n",
              "mean        2.028981       0.572251       0.226099       0.201650   \n",
              "std         0.910976       0.494755       0.418306       0.401234   \n",
              "min         1.000000       0.000000       0.000000       0.000000   \n",
              "25%         1.000000       0.000000       0.000000       0.000000   \n",
              "50%         2.000000       1.000000       0.000000       0.000000   \n",
              "75%         3.000000       1.000000       0.000000       0.000000   \n",
              "max         3.000000       1.000000       1.000000       1.000000   \n",
              "\n",
              "              Accept  \n",
              "count  109244.000000  \n",
              "mean        0.219564  \n",
              "std         0.413953  \n",
              "min         0.000000  \n",
              "25%         0.000000  \n",
              "50%         0.000000  \n",
              "75%         0.000000  \n",
              "max         1.000000  "
            ],
            "text/html": [
              "\n",
              "  <div id=\"df-8fc643d0-3dc9-426e-b7ff-99ea30be0c0b\" class=\"colab-df-container\">\n",
              "    <div>\n",
              "<style scoped>\n",
              "    .dataframe tbody tr th:only-of-type {\n",
              "        vertical-align: middle;\n",
              "    }\n",
              "\n",
              "    .dataframe tbody tr th {\n",
              "        vertical-align: top;\n",
              "    }\n",
              "\n",
              "    .dataframe thead th {\n",
              "        text-align: right;\n",
              "    }\n",
              "</style>\n",
              "<table border=\"1\" class=\"dataframe\">\n",
              "  <thead>\n",
              "    <tr style=\"text-align: right;\">\n",
              "      <th></th>\n",
              "      <th>Tier</th>\n",
              "      <th>FICO</th>\n",
              "      <th>Term</th>\n",
              "      <th>Amount</th>\n",
              "      <th>Previous_Rate</th>\n",
              "      <th>Competition_rate</th>\n",
              "      <th>Rate</th>\n",
              "      <th>Cost_Funds</th>\n",
              "      <th>Partner Bin</th>\n",
              "      <th>Car_Type_N</th>\n",
              "      <th>Car_Type_R</th>\n",
              "      <th>Car_Type_U</th>\n",
              "      <th>Accept</th>\n",
              "    </tr>\n",
              "  </thead>\n",
              "  <tbody>\n",
              "    <tr>\n",
              "      <th>count</th>\n",
              "      <td>109244.000000</td>\n",
              "      <td>109244.000000</td>\n",
              "      <td>109244.000000</td>\n",
              "      <td>109244.000000</td>\n",
              "      <td>109244.000000</td>\n",
              "      <td>109244.000000</td>\n",
              "      <td>109244.000000</td>\n",
              "      <td>109244.000000</td>\n",
              "      <td>109244.000000</td>\n",
              "      <td>109244.000000</td>\n",
              "      <td>109244.000000</td>\n",
              "      <td>109244.000000</td>\n",
              "      <td>109244.000000</td>\n",
              "    </tr>\n",
              "    <tr>\n",
              "      <th>mean</th>\n",
              "      <td>1.929918</td>\n",
              "      <td>726.628977</td>\n",
              "      <td>56.823588</td>\n",
              "      <td>26019.478454</td>\n",
              "      <td>-6.014500</td>\n",
              "      <td>4.807711</td>\n",
              "      <td>5.625135</td>\n",
              "      <td>1.329651</td>\n",
              "      <td>2.028981</td>\n",
              "      <td>0.572251</td>\n",
              "      <td>0.226099</td>\n",
              "      <td>0.201650</td>\n",
              "      <td>0.219564</td>\n",
              "    </tr>\n",
              "    <tr>\n",
              "      <th>std</th>\n",
              "      <td>1.051381</td>\n",
              "      <td>44.737310</td>\n",
              "      <td>11.194134</td>\n",
              "      <td>11138.549527</td>\n",
              "      <td>7.490635</td>\n",
              "      <td>0.585854</td>\n",
              "      <td>1.546583</td>\n",
              "      <td>0.278490</td>\n",
              "      <td>0.910976</td>\n",
              "      <td>0.494755</td>\n",
              "      <td>0.418306</td>\n",
              "      <td>0.401234</td>\n",
              "      <td>0.413953</td>\n",
              "    </tr>\n",
              "    <tr>\n",
              "      <th>min</th>\n",
              "      <td>1.000000</td>\n",
              "      <td>601.000000</td>\n",
              "      <td>36.000000</td>\n",
              "      <td>4526.620000</td>\n",
              "      <td>-10.000000</td>\n",
              "      <td>2.990000</td>\n",
              "      <td>2.450000</td>\n",
              "      <td>1.020000</td>\n",
              "      <td>1.000000</td>\n",
              "      <td>0.000000</td>\n",
              "      <td>0.000000</td>\n",
              "      <td>0.000000</td>\n",
              "      <td>0.000000</td>\n",
              "    </tr>\n",
              "    <tr>\n",
              "      <th>25%</th>\n",
              "      <td>1.000000</td>\n",
              "      <td>692.000000</td>\n",
              "      <td>48.000000</td>\n",
              "      <td>17800.000000</td>\n",
              "      <td>-10.000000</td>\n",
              "      <td>4.390000</td>\n",
              "      <td>4.490000</td>\n",
              "      <td>1.110000</td>\n",
              "      <td>1.000000</td>\n",
              "      <td>0.000000</td>\n",
              "      <td>0.000000</td>\n",
              "      <td>0.000000</td>\n",
              "      <td>0.000000</td>\n",
              "    </tr>\n",
              "    <tr>\n",
              "      <th>50%</th>\n",
              "      <td>2.000000</td>\n",
              "      <td>726.000000</td>\n",
              "      <td>60.000000</td>\n",
              "      <td>25000.000000</td>\n",
              "      <td>-10.000000</td>\n",
              "      <td>4.790000</td>\n",
              "      <td>5.090000</td>\n",
              "      <td>1.262500</td>\n",
              "      <td>2.000000</td>\n",
              "      <td>1.000000</td>\n",
              "      <td>0.000000</td>\n",
              "      <td>0.000000</td>\n",
              "      <td>0.000000</td>\n",
              "    </tr>\n",
              "    <tr>\n",
              "      <th>75%</th>\n",
              "      <td>3.000000</td>\n",
              "      <td>762.000000</td>\n",
              "      <td>60.000000</td>\n",
              "      <td>33000.000000</td>\n",
              "      <td>-10.000000</td>\n",
              "      <td>5.190000</td>\n",
              "      <td>6.390000</td>\n",
              "      <td>1.419400</td>\n",
              "      <td>3.000000</td>\n",
              "      <td>1.000000</td>\n",
              "      <td>0.000000</td>\n",
              "      <td>0.000000</td>\n",
              "      <td>0.000000</td>\n",
              "    </tr>\n",
              "    <tr>\n",
              "      <th>max</th>\n",
              "      <td>4.000000</td>\n",
              "      <td>852.000000</td>\n",
              "      <td>72.000000</td>\n",
              "      <td>100000.000000</td>\n",
              "      <td>24.000000</td>\n",
              "      <td>6.450000</td>\n",
              "      <td>12.990000</td>\n",
              "      <td>2.127000</td>\n",
              "      <td>3.000000</td>\n",
              "      <td>1.000000</td>\n",
              "      <td>1.000000</td>\n",
              "      <td>1.000000</td>\n",
              "      <td>1.000000</td>\n",
              "    </tr>\n",
              "  </tbody>\n",
              "</table>\n",
              "</div>\n",
              "    <div class=\"colab-df-buttons\">\n",
              "\n",
              "  <div class=\"colab-df-container\">\n",
              "    <button class=\"colab-df-convert\" onclick=\"convertToInteractive('df-8fc643d0-3dc9-426e-b7ff-99ea30be0c0b')\"\n",
              "            title=\"Convert this dataframe to an interactive table.\"\n",
              "            style=\"display:none;\">\n",
              "\n",
              "  <svg xmlns=\"http://www.w3.org/2000/svg\" height=\"24px\" viewBox=\"0 -960 960 960\">\n",
              "    <path d=\"M120-120v-720h720v720H120Zm60-500h600v-160H180v160Zm220 220h160v-160H400v160Zm0 220h160v-160H400v160ZM180-400h160v-160H180v160Zm440 0h160v-160H620v160ZM180-180h160v-160H180v160Zm440 0h160v-160H620v160Z\"/>\n",
              "  </svg>\n",
              "    </button>\n",
              "\n",
              "  <style>\n",
              "    .colab-df-container {\n",
              "      display:flex;\n",
              "      gap: 12px;\n",
              "    }\n",
              "\n",
              "    .colab-df-convert {\n",
              "      background-color: #E8F0FE;\n",
              "      border: none;\n",
              "      border-radius: 50%;\n",
              "      cursor: pointer;\n",
              "      display: none;\n",
              "      fill: #1967D2;\n",
              "      height: 32px;\n",
              "      padding: 0 0 0 0;\n",
              "      width: 32px;\n",
              "    }\n",
              "\n",
              "    .colab-df-convert:hover {\n",
              "      background-color: #E2EBFA;\n",
              "      box-shadow: 0px 1px 2px rgba(60, 64, 67, 0.3), 0px 1px 3px 1px rgba(60, 64, 67, 0.15);\n",
              "      fill: #174EA6;\n",
              "    }\n",
              "\n",
              "    .colab-df-buttons div {\n",
              "      margin-bottom: 4px;\n",
              "    }\n",
              "\n",
              "    [theme=dark] .colab-df-convert {\n",
              "      background-color: #3B4455;\n",
              "      fill: #D2E3FC;\n",
              "    }\n",
              "\n",
              "    [theme=dark] .colab-df-convert:hover {\n",
              "      background-color: #434B5C;\n",
              "      box-shadow: 0px 1px 3px 1px rgba(0, 0, 0, 0.15);\n",
              "      filter: drop-shadow(0px 1px 2px rgba(0, 0, 0, 0.3));\n",
              "      fill: #FFFFFF;\n",
              "    }\n",
              "  </style>\n",
              "\n",
              "    <script>\n",
              "      const buttonEl =\n",
              "        document.querySelector('#df-8fc643d0-3dc9-426e-b7ff-99ea30be0c0b button.colab-df-convert');\n",
              "      buttonEl.style.display =\n",
              "        google.colab.kernel.accessAllowed ? 'block' : 'none';\n",
              "\n",
              "      async function convertToInteractive(key) {\n",
              "        const element = document.querySelector('#df-8fc643d0-3dc9-426e-b7ff-99ea30be0c0b');\n",
              "        const dataTable =\n",
              "          await google.colab.kernel.invokeFunction('convertToInteractive',\n",
              "                                                    [key], {});\n",
              "        if (!dataTable) return;\n",
              "\n",
              "        const docLinkHtml = 'Like what you see? Visit the ' +\n",
              "          '<a target=\"_blank\" href=https://colab.research.google.com/notebooks/data_table.ipynb>data table notebook</a>'\n",
              "          + ' to learn more about interactive tables.';\n",
              "        element.innerHTML = '';\n",
              "        dataTable['output_type'] = 'display_data';\n",
              "        await google.colab.output.renderOutput(dataTable, element);\n",
              "        const docLink = document.createElement('div');\n",
              "        docLink.innerHTML = docLinkHtml;\n",
              "        element.appendChild(docLink);\n",
              "      }\n",
              "    </script>\n",
              "  </div>\n",
              "\n",
              "\n",
              "<div id=\"df-86b58899-a80a-4641-8e42-8c985be428a8\">\n",
              "  <button class=\"colab-df-quickchart\" onclick=\"quickchart('df-86b58899-a80a-4641-8e42-8c985be428a8')\"\n",
              "            title=\"Suggest charts\"\n",
              "            style=\"display:none;\">\n",
              "\n",
              "<svg xmlns=\"http://www.w3.org/2000/svg\" height=\"24px\"viewBox=\"0 0 24 24\"\n",
              "     width=\"24px\">\n",
              "    <g>\n",
              "        <path d=\"M19 3H5c-1.1 0-2 .9-2 2v14c0 1.1.9 2 2 2h14c1.1 0 2-.9 2-2V5c0-1.1-.9-2-2-2zM9 17H7v-7h2v7zm4 0h-2V7h2v10zm4 0h-2v-4h2v4z\"/>\n",
              "    </g>\n",
              "</svg>\n",
              "  </button>\n",
              "\n",
              "<style>\n",
              "  .colab-df-quickchart {\n",
              "      --bg-color: #E8F0FE;\n",
              "      --fill-color: #1967D2;\n",
              "      --hover-bg-color: #E2EBFA;\n",
              "      --hover-fill-color: #174EA6;\n",
              "      --disabled-fill-color: #AAA;\n",
              "      --disabled-bg-color: #DDD;\n",
              "  }\n",
              "\n",
              "  [theme=dark] .colab-df-quickchart {\n",
              "      --bg-color: #3B4455;\n",
              "      --fill-color: #D2E3FC;\n",
              "      --hover-bg-color: #434B5C;\n",
              "      --hover-fill-color: #FFFFFF;\n",
              "      --disabled-bg-color: #3B4455;\n",
              "      --disabled-fill-color: #666;\n",
              "  }\n",
              "\n",
              "  .colab-df-quickchart {\n",
              "    background-color: var(--bg-color);\n",
              "    border: none;\n",
              "    border-radius: 50%;\n",
              "    cursor: pointer;\n",
              "    display: none;\n",
              "    fill: var(--fill-color);\n",
              "    height: 32px;\n",
              "    padding: 0;\n",
              "    width: 32px;\n",
              "  }\n",
              "\n",
              "  .colab-df-quickchart:hover {\n",
              "    background-color: var(--hover-bg-color);\n",
              "    box-shadow: 0 1px 2px rgba(60, 64, 67, 0.3), 0 1px 3px 1px rgba(60, 64, 67, 0.15);\n",
              "    fill: var(--button-hover-fill-color);\n",
              "  }\n",
              "\n",
              "  .colab-df-quickchart-complete:disabled,\n",
              "  .colab-df-quickchart-complete:disabled:hover {\n",
              "    background-color: var(--disabled-bg-color);\n",
              "    fill: var(--disabled-fill-color);\n",
              "    box-shadow: none;\n",
              "  }\n",
              "\n",
              "  .colab-df-spinner {\n",
              "    border: 2px solid var(--fill-color);\n",
              "    border-color: transparent;\n",
              "    border-bottom-color: var(--fill-color);\n",
              "    animation:\n",
              "      spin 1s steps(1) infinite;\n",
              "  }\n",
              "\n",
              "  @keyframes spin {\n",
              "    0% {\n",
              "      border-color: transparent;\n",
              "      border-bottom-color: var(--fill-color);\n",
              "      border-left-color: var(--fill-color);\n",
              "    }\n",
              "    20% {\n",
              "      border-color: transparent;\n",
              "      border-left-color: var(--fill-color);\n",
              "      border-top-color: var(--fill-color);\n",
              "    }\n",
              "    30% {\n",
              "      border-color: transparent;\n",
              "      border-left-color: var(--fill-color);\n",
              "      border-top-color: var(--fill-color);\n",
              "      border-right-color: var(--fill-color);\n",
              "    }\n",
              "    40% {\n",
              "      border-color: transparent;\n",
              "      border-right-color: var(--fill-color);\n",
              "      border-top-color: var(--fill-color);\n",
              "    }\n",
              "    60% {\n",
              "      border-color: transparent;\n",
              "      border-right-color: var(--fill-color);\n",
              "    }\n",
              "    80% {\n",
              "      border-color: transparent;\n",
              "      border-right-color: var(--fill-color);\n",
              "      border-bottom-color: var(--fill-color);\n",
              "    }\n",
              "    90% {\n",
              "      border-color: transparent;\n",
              "      border-bottom-color: var(--fill-color);\n",
              "    }\n",
              "  }\n",
              "</style>\n",
              "\n",
              "  <script>\n",
              "    async function quickchart(key) {\n",
              "      const quickchartButtonEl =\n",
              "        document.querySelector('#' + key + ' button');\n",
              "      quickchartButtonEl.disabled = true;  // To prevent multiple clicks.\n",
              "      quickchartButtonEl.classList.add('colab-df-spinner');\n",
              "      try {\n",
              "        const charts = await google.colab.kernel.invokeFunction(\n",
              "            'suggestCharts', [key], {});\n",
              "      } catch (error) {\n",
              "        console.error('Error during call to suggestCharts:', error);\n",
              "      }\n",
              "      quickchartButtonEl.classList.remove('colab-df-spinner');\n",
              "      quickchartButtonEl.classList.add('colab-df-quickchart-complete');\n",
              "    }\n",
              "    (() => {\n",
              "      let quickchartButtonEl =\n",
              "        document.querySelector('#df-86b58899-a80a-4641-8e42-8c985be428a8 button');\n",
              "      quickchartButtonEl.style.display =\n",
              "        google.colab.kernel.accessAllowed ? 'block' : 'none';\n",
              "    })();\n",
              "  </script>\n",
              "</div>\n",
              "    </div>\n",
              "  </div>\n"
            ]
          },
          "metadata": {},
          "execution_count": 6
        }
      ]
    },
    {
      "cell_type": "code",
      "source": [
        "train_data[train_data['Accept']==0].count()"
      ],
      "metadata": {
        "colab": {
          "base_uri": "https://localhost:8080/"
        },
        "id": "whXfUS5sFWFc",
        "outputId": "e83572a3-0800-493d-bf52-3f12152db237"
      },
      "execution_count": 7,
      "outputs": [
        {
          "output_type": "execute_result",
          "data": {
            "text/plain": [
              "Tier                85258\n",
              "FICO                85258\n",
              "Term                85258\n",
              "Amount              85258\n",
              "Previous_Rate       85258\n",
              "Competition_rate    85258\n",
              "Rate                85258\n",
              "Cost_Funds          85258\n",
              "Partner Bin         85258\n",
              "Car_Type_N          85258\n",
              "Car_Type_R          85258\n",
              "Car_Type_U          85258\n",
              "Accept              85258\n",
              "dtype: int64"
            ]
          },
          "metadata": {},
          "execution_count": 7
        }
      ]
    },
    {
      "cell_type": "code",
      "source": [],
      "metadata": {
        "id": "_SfkxuI0FWKL"
      },
      "execution_count": 7,
      "outputs": []
    },
    {
      "cell_type": "code",
      "source": [
        "import pandas as pd\n",
        "url='https://drive.google.com/file/d/1HwY2P5AYoSRU6ruewwGmGd4brRdo5bRS/view'\n",
        "url='https://drive.google.com/uc?id=' + url.split('/')[-2]\n",
        "test_data = pd.read_csv(url)"
      ],
      "metadata": {
        "id": "DOtfoOG7FCOI"
      },
      "execution_count": 8,
      "outputs": []
    },
    {
      "cell_type": "code",
      "source": [
        "test_data"
      ],
      "metadata": {
        "colab": {
          "base_uri": "https://localhost:8080/",
          "height": 461
        },
        "id": "H6S0W2VlFOD1",
        "outputId": "ce74a096-45f5-4a2f-e6f6-913460254717"
      },
      "execution_count": 9,
      "outputs": [
        {
          "output_type": "execute_result",
          "data": {
            "text/plain": [
              "       Tier  FICO  Term   Amount  Previous_Rate  Competition_rate  Rate  \\\n",
              "0         2   725    72  30500.0              5              6.09  4.99   \n",
              "1         1   739    60  25995.0            -10              4.79  4.79   \n",
              "2         2   715    48  30000.0              5              5.19  4.79   \n",
              "3         1   742    60  45000.0            -10              4.59  4.59   \n",
              "4         4   649    60  27900.0            -10              4.49  6.99   \n",
              "...     ...   ...   ...      ...            ...               ...   ...   \n",
              "36410     1   739    36  11400.0              9              4.75  4.75   \n",
              "36411     2   704    72  15800.0             12              6.09  6.94   \n",
              "36412     1   761    60  36000.0            -10              4.89  3.89   \n",
              "36413     1   752    48  12093.0             10              5.29  5.25   \n",
              "36414     3   682    60  23000.0            -10              4.49  5.15   \n",
              "\n",
              "       Cost_Funds  Partner Bin  Car_Type_N  Car_Type_R  Car_Type_U  Accept  \n",
              "0          1.1200            2           0           1           0       0  \n",
              "1          1.9590            2           0           0           1       0  \n",
              "2          1.1200            2           0           1           0       0  \n",
              "3          1.5788            3           1           0           0       0  \n",
              "4          1.3206            3           1           0           0       1  \n",
              "...           ...          ...         ...         ...         ...     ...  \n",
              "36410      1.1413            1           0           1           0       1  \n",
              "36411      1.1194            3           0           1           0       1  \n",
              "36412      1.3400            2           1           0           0       0  \n",
              "36413      1.1100            3           0           1           0       1  \n",
              "36414      1.2800            1           1           0           0       0  \n",
              "\n",
              "[36415 rows x 13 columns]"
            ],
            "text/html": [
              "\n",
              "  <div id=\"df-10d39db1-16cc-446e-a1b0-0f8f51c449d3\" class=\"colab-df-container\">\n",
              "    <div>\n",
              "<style scoped>\n",
              "    .dataframe tbody tr th:only-of-type {\n",
              "        vertical-align: middle;\n",
              "    }\n",
              "\n",
              "    .dataframe tbody tr th {\n",
              "        vertical-align: top;\n",
              "    }\n",
              "\n",
              "    .dataframe thead th {\n",
              "        text-align: right;\n",
              "    }\n",
              "</style>\n",
              "<table border=\"1\" class=\"dataframe\">\n",
              "  <thead>\n",
              "    <tr style=\"text-align: right;\">\n",
              "      <th></th>\n",
              "      <th>Tier</th>\n",
              "      <th>FICO</th>\n",
              "      <th>Term</th>\n",
              "      <th>Amount</th>\n",
              "      <th>Previous_Rate</th>\n",
              "      <th>Competition_rate</th>\n",
              "      <th>Rate</th>\n",
              "      <th>Cost_Funds</th>\n",
              "      <th>Partner Bin</th>\n",
              "      <th>Car_Type_N</th>\n",
              "      <th>Car_Type_R</th>\n",
              "      <th>Car_Type_U</th>\n",
              "      <th>Accept</th>\n",
              "    </tr>\n",
              "  </thead>\n",
              "  <tbody>\n",
              "    <tr>\n",
              "      <th>0</th>\n",
              "      <td>2</td>\n",
              "      <td>725</td>\n",
              "      <td>72</td>\n",
              "      <td>30500.0</td>\n",
              "      <td>5</td>\n",
              "      <td>6.09</td>\n",
              "      <td>4.99</td>\n",
              "      <td>1.1200</td>\n",
              "      <td>2</td>\n",
              "      <td>0</td>\n",
              "      <td>1</td>\n",
              "      <td>0</td>\n",
              "      <td>0</td>\n",
              "    </tr>\n",
              "    <tr>\n",
              "      <th>1</th>\n",
              "      <td>1</td>\n",
              "      <td>739</td>\n",
              "      <td>60</td>\n",
              "      <td>25995.0</td>\n",
              "      <td>-10</td>\n",
              "      <td>4.79</td>\n",
              "      <td>4.79</td>\n",
              "      <td>1.9590</td>\n",
              "      <td>2</td>\n",
              "      <td>0</td>\n",
              "      <td>0</td>\n",
              "      <td>1</td>\n",
              "      <td>0</td>\n",
              "    </tr>\n",
              "    <tr>\n",
              "      <th>2</th>\n",
              "      <td>2</td>\n",
              "      <td>715</td>\n",
              "      <td>48</td>\n",
              "      <td>30000.0</td>\n",
              "      <td>5</td>\n",
              "      <td>5.19</td>\n",
              "      <td>4.79</td>\n",
              "      <td>1.1200</td>\n",
              "      <td>2</td>\n",
              "      <td>0</td>\n",
              "      <td>1</td>\n",
              "      <td>0</td>\n",
              "      <td>0</td>\n",
              "    </tr>\n",
              "    <tr>\n",
              "      <th>3</th>\n",
              "      <td>1</td>\n",
              "      <td>742</td>\n",
              "      <td>60</td>\n",
              "      <td>45000.0</td>\n",
              "      <td>-10</td>\n",
              "      <td>4.59</td>\n",
              "      <td>4.59</td>\n",
              "      <td>1.5788</td>\n",
              "      <td>3</td>\n",
              "      <td>1</td>\n",
              "      <td>0</td>\n",
              "      <td>0</td>\n",
              "      <td>0</td>\n",
              "    </tr>\n",
              "    <tr>\n",
              "      <th>4</th>\n",
              "      <td>4</td>\n",
              "      <td>649</td>\n",
              "      <td>60</td>\n",
              "      <td>27900.0</td>\n",
              "      <td>-10</td>\n",
              "      <td>4.49</td>\n",
              "      <td>6.99</td>\n",
              "      <td>1.3206</td>\n",
              "      <td>3</td>\n",
              "      <td>1</td>\n",
              "      <td>0</td>\n",
              "      <td>0</td>\n",
              "      <td>1</td>\n",
              "    </tr>\n",
              "    <tr>\n",
              "      <th>...</th>\n",
              "      <td>...</td>\n",
              "      <td>...</td>\n",
              "      <td>...</td>\n",
              "      <td>...</td>\n",
              "      <td>...</td>\n",
              "      <td>...</td>\n",
              "      <td>...</td>\n",
              "      <td>...</td>\n",
              "      <td>...</td>\n",
              "      <td>...</td>\n",
              "      <td>...</td>\n",
              "      <td>...</td>\n",
              "      <td>...</td>\n",
              "    </tr>\n",
              "    <tr>\n",
              "      <th>36410</th>\n",
              "      <td>1</td>\n",
              "      <td>739</td>\n",
              "      <td>36</td>\n",
              "      <td>11400.0</td>\n",
              "      <td>9</td>\n",
              "      <td>4.75</td>\n",
              "      <td>4.75</td>\n",
              "      <td>1.1413</td>\n",
              "      <td>1</td>\n",
              "      <td>0</td>\n",
              "      <td>1</td>\n",
              "      <td>0</td>\n",
              "      <td>1</td>\n",
              "    </tr>\n",
              "    <tr>\n",
              "      <th>36411</th>\n",
              "      <td>2</td>\n",
              "      <td>704</td>\n",
              "      <td>72</td>\n",
              "      <td>15800.0</td>\n",
              "      <td>12</td>\n",
              "      <td>6.09</td>\n",
              "      <td>6.94</td>\n",
              "      <td>1.1194</td>\n",
              "      <td>3</td>\n",
              "      <td>0</td>\n",
              "      <td>1</td>\n",
              "      <td>0</td>\n",
              "      <td>1</td>\n",
              "    </tr>\n",
              "    <tr>\n",
              "      <th>36412</th>\n",
              "      <td>1</td>\n",
              "      <td>761</td>\n",
              "      <td>60</td>\n",
              "      <td>36000.0</td>\n",
              "      <td>-10</td>\n",
              "      <td>4.89</td>\n",
              "      <td>3.89</td>\n",
              "      <td>1.3400</td>\n",
              "      <td>2</td>\n",
              "      <td>1</td>\n",
              "      <td>0</td>\n",
              "      <td>0</td>\n",
              "      <td>0</td>\n",
              "    </tr>\n",
              "    <tr>\n",
              "      <th>36413</th>\n",
              "      <td>1</td>\n",
              "      <td>752</td>\n",
              "      <td>48</td>\n",
              "      <td>12093.0</td>\n",
              "      <td>10</td>\n",
              "      <td>5.29</td>\n",
              "      <td>5.25</td>\n",
              "      <td>1.1100</td>\n",
              "      <td>3</td>\n",
              "      <td>0</td>\n",
              "      <td>1</td>\n",
              "      <td>0</td>\n",
              "      <td>1</td>\n",
              "    </tr>\n",
              "    <tr>\n",
              "      <th>36414</th>\n",
              "      <td>3</td>\n",
              "      <td>682</td>\n",
              "      <td>60</td>\n",
              "      <td>23000.0</td>\n",
              "      <td>-10</td>\n",
              "      <td>4.49</td>\n",
              "      <td>5.15</td>\n",
              "      <td>1.2800</td>\n",
              "      <td>1</td>\n",
              "      <td>1</td>\n",
              "      <td>0</td>\n",
              "      <td>0</td>\n",
              "      <td>0</td>\n",
              "    </tr>\n",
              "  </tbody>\n",
              "</table>\n",
              "<p>36415 rows × 13 columns</p>\n",
              "</div>\n",
              "    <div class=\"colab-df-buttons\">\n",
              "\n",
              "  <div class=\"colab-df-container\">\n",
              "    <button class=\"colab-df-convert\" onclick=\"convertToInteractive('df-10d39db1-16cc-446e-a1b0-0f8f51c449d3')\"\n",
              "            title=\"Convert this dataframe to an interactive table.\"\n",
              "            style=\"display:none;\">\n",
              "\n",
              "  <svg xmlns=\"http://www.w3.org/2000/svg\" height=\"24px\" viewBox=\"0 -960 960 960\">\n",
              "    <path d=\"M120-120v-720h720v720H120Zm60-500h600v-160H180v160Zm220 220h160v-160H400v160Zm0 220h160v-160H400v160ZM180-400h160v-160H180v160Zm440 0h160v-160H620v160ZM180-180h160v-160H180v160Zm440 0h160v-160H620v160Z\"/>\n",
              "  </svg>\n",
              "    </button>\n",
              "\n",
              "  <style>\n",
              "    .colab-df-container {\n",
              "      display:flex;\n",
              "      gap: 12px;\n",
              "    }\n",
              "\n",
              "    .colab-df-convert {\n",
              "      background-color: #E8F0FE;\n",
              "      border: none;\n",
              "      border-radius: 50%;\n",
              "      cursor: pointer;\n",
              "      display: none;\n",
              "      fill: #1967D2;\n",
              "      height: 32px;\n",
              "      padding: 0 0 0 0;\n",
              "      width: 32px;\n",
              "    }\n",
              "\n",
              "    .colab-df-convert:hover {\n",
              "      background-color: #E2EBFA;\n",
              "      box-shadow: 0px 1px 2px rgba(60, 64, 67, 0.3), 0px 1px 3px 1px rgba(60, 64, 67, 0.15);\n",
              "      fill: #174EA6;\n",
              "    }\n",
              "\n",
              "    .colab-df-buttons div {\n",
              "      margin-bottom: 4px;\n",
              "    }\n",
              "\n",
              "    [theme=dark] .colab-df-convert {\n",
              "      background-color: #3B4455;\n",
              "      fill: #D2E3FC;\n",
              "    }\n",
              "\n",
              "    [theme=dark] .colab-df-convert:hover {\n",
              "      background-color: #434B5C;\n",
              "      box-shadow: 0px 1px 3px 1px rgba(0, 0, 0, 0.15);\n",
              "      filter: drop-shadow(0px 1px 2px rgba(0, 0, 0, 0.3));\n",
              "      fill: #FFFFFF;\n",
              "    }\n",
              "  </style>\n",
              "\n",
              "    <script>\n",
              "      const buttonEl =\n",
              "        document.querySelector('#df-10d39db1-16cc-446e-a1b0-0f8f51c449d3 button.colab-df-convert');\n",
              "      buttonEl.style.display =\n",
              "        google.colab.kernel.accessAllowed ? 'block' : 'none';\n",
              "\n",
              "      async function convertToInteractive(key) {\n",
              "        const element = document.querySelector('#df-10d39db1-16cc-446e-a1b0-0f8f51c449d3');\n",
              "        const dataTable =\n",
              "          await google.colab.kernel.invokeFunction('convertToInteractive',\n",
              "                                                    [key], {});\n",
              "        if (!dataTable) return;\n",
              "\n",
              "        const docLinkHtml = 'Like what you see? Visit the ' +\n",
              "          '<a target=\"_blank\" href=https://colab.research.google.com/notebooks/data_table.ipynb>data table notebook</a>'\n",
              "          + ' to learn more about interactive tables.';\n",
              "        element.innerHTML = '';\n",
              "        dataTable['output_type'] = 'display_data';\n",
              "        await google.colab.output.renderOutput(dataTable, element);\n",
              "        const docLink = document.createElement('div');\n",
              "        docLink.innerHTML = docLinkHtml;\n",
              "        element.appendChild(docLink);\n",
              "      }\n",
              "    </script>\n",
              "  </div>\n",
              "\n",
              "\n",
              "<div id=\"df-16cae1f1-d2ce-4d38-8c38-8ab61b2e3592\">\n",
              "  <button class=\"colab-df-quickchart\" onclick=\"quickchart('df-16cae1f1-d2ce-4d38-8c38-8ab61b2e3592')\"\n",
              "            title=\"Suggest charts\"\n",
              "            style=\"display:none;\">\n",
              "\n",
              "<svg xmlns=\"http://www.w3.org/2000/svg\" height=\"24px\"viewBox=\"0 0 24 24\"\n",
              "     width=\"24px\">\n",
              "    <g>\n",
              "        <path d=\"M19 3H5c-1.1 0-2 .9-2 2v14c0 1.1.9 2 2 2h14c1.1 0 2-.9 2-2V5c0-1.1-.9-2-2-2zM9 17H7v-7h2v7zm4 0h-2V7h2v10zm4 0h-2v-4h2v4z\"/>\n",
              "    </g>\n",
              "</svg>\n",
              "  </button>\n",
              "\n",
              "<style>\n",
              "  .colab-df-quickchart {\n",
              "      --bg-color: #E8F0FE;\n",
              "      --fill-color: #1967D2;\n",
              "      --hover-bg-color: #E2EBFA;\n",
              "      --hover-fill-color: #174EA6;\n",
              "      --disabled-fill-color: #AAA;\n",
              "      --disabled-bg-color: #DDD;\n",
              "  }\n",
              "\n",
              "  [theme=dark] .colab-df-quickchart {\n",
              "      --bg-color: #3B4455;\n",
              "      --fill-color: #D2E3FC;\n",
              "      --hover-bg-color: #434B5C;\n",
              "      --hover-fill-color: #FFFFFF;\n",
              "      --disabled-bg-color: #3B4455;\n",
              "      --disabled-fill-color: #666;\n",
              "  }\n",
              "\n",
              "  .colab-df-quickchart {\n",
              "    background-color: var(--bg-color);\n",
              "    border: none;\n",
              "    border-radius: 50%;\n",
              "    cursor: pointer;\n",
              "    display: none;\n",
              "    fill: var(--fill-color);\n",
              "    height: 32px;\n",
              "    padding: 0;\n",
              "    width: 32px;\n",
              "  }\n",
              "\n",
              "  .colab-df-quickchart:hover {\n",
              "    background-color: var(--hover-bg-color);\n",
              "    box-shadow: 0 1px 2px rgba(60, 64, 67, 0.3), 0 1px 3px 1px rgba(60, 64, 67, 0.15);\n",
              "    fill: var(--button-hover-fill-color);\n",
              "  }\n",
              "\n",
              "  .colab-df-quickchart-complete:disabled,\n",
              "  .colab-df-quickchart-complete:disabled:hover {\n",
              "    background-color: var(--disabled-bg-color);\n",
              "    fill: var(--disabled-fill-color);\n",
              "    box-shadow: none;\n",
              "  }\n",
              "\n",
              "  .colab-df-spinner {\n",
              "    border: 2px solid var(--fill-color);\n",
              "    border-color: transparent;\n",
              "    border-bottom-color: var(--fill-color);\n",
              "    animation:\n",
              "      spin 1s steps(1) infinite;\n",
              "  }\n",
              "\n",
              "  @keyframes spin {\n",
              "    0% {\n",
              "      border-color: transparent;\n",
              "      border-bottom-color: var(--fill-color);\n",
              "      border-left-color: var(--fill-color);\n",
              "    }\n",
              "    20% {\n",
              "      border-color: transparent;\n",
              "      border-left-color: var(--fill-color);\n",
              "      border-top-color: var(--fill-color);\n",
              "    }\n",
              "    30% {\n",
              "      border-color: transparent;\n",
              "      border-left-color: var(--fill-color);\n",
              "      border-top-color: var(--fill-color);\n",
              "      border-right-color: var(--fill-color);\n",
              "    }\n",
              "    40% {\n",
              "      border-color: transparent;\n",
              "      border-right-color: var(--fill-color);\n",
              "      border-top-color: var(--fill-color);\n",
              "    }\n",
              "    60% {\n",
              "      border-color: transparent;\n",
              "      border-right-color: var(--fill-color);\n",
              "    }\n",
              "    80% {\n",
              "      border-color: transparent;\n",
              "      border-right-color: var(--fill-color);\n",
              "      border-bottom-color: var(--fill-color);\n",
              "    }\n",
              "    90% {\n",
              "      border-color: transparent;\n",
              "      border-bottom-color: var(--fill-color);\n",
              "    }\n",
              "  }\n",
              "</style>\n",
              "\n",
              "  <script>\n",
              "    async function quickchart(key) {\n",
              "      const quickchartButtonEl =\n",
              "        document.querySelector('#' + key + ' button');\n",
              "      quickchartButtonEl.disabled = true;  // To prevent multiple clicks.\n",
              "      quickchartButtonEl.classList.add('colab-df-spinner');\n",
              "      try {\n",
              "        const charts = await google.colab.kernel.invokeFunction(\n",
              "            'suggestCharts', [key], {});\n",
              "      } catch (error) {\n",
              "        console.error('Error during call to suggestCharts:', error);\n",
              "      }\n",
              "      quickchartButtonEl.classList.remove('colab-df-spinner');\n",
              "      quickchartButtonEl.classList.add('colab-df-quickchart-complete');\n",
              "    }\n",
              "    (() => {\n",
              "      let quickchartButtonEl =\n",
              "        document.querySelector('#df-16cae1f1-d2ce-4d38-8c38-8ab61b2e3592 button');\n",
              "      quickchartButtonEl.style.display =\n",
              "        google.colab.kernel.accessAllowed ? 'block' : 'none';\n",
              "    })();\n",
              "  </script>\n",
              "</div>\n",
              "    </div>\n",
              "  </div>\n"
            ]
          },
          "metadata": {},
          "execution_count": 9
        }
      ]
    },
    {
      "cell_type": "code",
      "source": [
        "X_train = train_data.drop('Accept', axis=1)\n",
        "y_train = train_data['Accept']"
      ],
      "metadata": {
        "id": "41OurImIFOcz"
      },
      "execution_count": 10,
      "outputs": []
    },
    {
      "cell_type": "code",
      "source": [
        "X_test = test_data.drop('Accept', axis=1)\n",
        "y_test = test_data['Accept']"
      ],
      "metadata": {
        "id": "mHCPcqsCKO3W"
      },
      "execution_count": 39,
      "outputs": []
    },
    {
      "cell_type": "code",
      "source": [
        "model = LogisticRegression(random_state=17)\n",
        "model.fit(X_train, y_train)"
      ],
      "metadata": {
        "colab": {
          "base_uri": "https://localhost:8080/",
          "height": 233
        },
        "id": "G_cOv_xbI-Vl",
        "outputId": "be2b70f7-5c24-4e22-fcb5-b3026f0ba5fd"
      },
      "execution_count": 12,
      "outputs": [
        {
          "output_type": "stream",
          "name": "stderr",
          "text": [
            "/usr/local/lib/python3.10/dist-packages/sklearn/linear_model/_logistic.py:458: ConvergenceWarning: lbfgs failed to converge (status=1):\n",
            "STOP: TOTAL NO. of ITERATIONS REACHED LIMIT.\n",
            "\n",
            "Increase the number of iterations (max_iter) or scale the data as shown in:\n",
            "    https://scikit-learn.org/stable/modules/preprocessing.html\n",
            "Please also refer to the documentation for alternative solver options:\n",
            "    https://scikit-learn.org/stable/modules/linear_model.html#logistic-regression\n",
            "  n_iter_i = _check_optimize_result(\n"
          ]
        },
        {
          "output_type": "execute_result",
          "data": {
            "text/plain": [
              "LogisticRegression(random_state=17)"
            ],
            "text/html": [
              "<style>#sk-container-id-1 {color: black;background-color: white;}#sk-container-id-1 pre{padding: 0;}#sk-container-id-1 div.sk-toggleable {background-color: white;}#sk-container-id-1 label.sk-toggleable__label {cursor: pointer;display: block;width: 100%;margin-bottom: 0;padding: 0.3em;box-sizing: border-box;text-align: center;}#sk-container-id-1 label.sk-toggleable__label-arrow:before {content: \"▸\";float: left;margin-right: 0.25em;color: #696969;}#sk-container-id-1 label.sk-toggleable__label-arrow:hover:before {color: black;}#sk-container-id-1 div.sk-estimator:hover label.sk-toggleable__label-arrow:before {color: black;}#sk-container-id-1 div.sk-toggleable__content {max-height: 0;max-width: 0;overflow: hidden;text-align: left;background-color: #f0f8ff;}#sk-container-id-1 div.sk-toggleable__content pre {margin: 0.2em;color: black;border-radius: 0.25em;background-color: #f0f8ff;}#sk-container-id-1 input.sk-toggleable__control:checked~div.sk-toggleable__content {max-height: 200px;max-width: 100%;overflow: auto;}#sk-container-id-1 input.sk-toggleable__control:checked~label.sk-toggleable__label-arrow:before {content: \"▾\";}#sk-container-id-1 div.sk-estimator input.sk-toggleable__control:checked~label.sk-toggleable__label {background-color: #d4ebff;}#sk-container-id-1 div.sk-label input.sk-toggleable__control:checked~label.sk-toggleable__label {background-color: #d4ebff;}#sk-container-id-1 input.sk-hidden--visually {border: 0;clip: rect(1px 1px 1px 1px);clip: rect(1px, 1px, 1px, 1px);height: 1px;margin: -1px;overflow: hidden;padding: 0;position: absolute;width: 1px;}#sk-container-id-1 div.sk-estimator {font-family: monospace;background-color: #f0f8ff;border: 1px dotted black;border-radius: 0.25em;box-sizing: border-box;margin-bottom: 0.5em;}#sk-container-id-1 div.sk-estimator:hover {background-color: #d4ebff;}#sk-container-id-1 div.sk-parallel-item::after {content: \"\";width: 100%;border-bottom: 1px solid gray;flex-grow: 1;}#sk-container-id-1 div.sk-label:hover label.sk-toggleable__label {background-color: #d4ebff;}#sk-container-id-1 div.sk-serial::before {content: \"\";position: absolute;border-left: 1px solid gray;box-sizing: border-box;top: 0;bottom: 0;left: 50%;z-index: 0;}#sk-container-id-1 div.sk-serial {display: flex;flex-direction: column;align-items: center;background-color: white;padding-right: 0.2em;padding-left: 0.2em;position: relative;}#sk-container-id-1 div.sk-item {position: relative;z-index: 1;}#sk-container-id-1 div.sk-parallel {display: flex;align-items: stretch;justify-content: center;background-color: white;position: relative;}#sk-container-id-1 div.sk-item::before, #sk-container-id-1 div.sk-parallel-item::before {content: \"\";position: absolute;border-left: 1px solid gray;box-sizing: border-box;top: 0;bottom: 0;left: 50%;z-index: -1;}#sk-container-id-1 div.sk-parallel-item {display: flex;flex-direction: column;z-index: 1;position: relative;background-color: white;}#sk-container-id-1 div.sk-parallel-item:first-child::after {align-self: flex-end;width: 50%;}#sk-container-id-1 div.sk-parallel-item:last-child::after {align-self: flex-start;width: 50%;}#sk-container-id-1 div.sk-parallel-item:only-child::after {width: 0;}#sk-container-id-1 div.sk-dashed-wrapped {border: 1px dashed gray;margin: 0 0.4em 0.5em 0.4em;box-sizing: border-box;padding-bottom: 0.4em;background-color: white;}#sk-container-id-1 div.sk-label label {font-family: monospace;font-weight: bold;display: inline-block;line-height: 1.2em;}#sk-container-id-1 div.sk-label-container {text-align: center;}#sk-container-id-1 div.sk-container {/* jupyter's `normalize.less` sets `[hidden] { display: none; }` but bootstrap.min.css set `[hidden] { display: none !important; }` so we also need the `!important` here to be able to override the default hidden behavior on the sphinx rendered scikit-learn.org. See: https://github.com/scikit-learn/scikit-learn/issues/21755 */display: inline-block !important;position: relative;}#sk-container-id-1 div.sk-text-repr-fallback {display: none;}</style><div id=\"sk-container-id-1\" class=\"sk-top-container\"><div class=\"sk-text-repr-fallback\"><pre>LogisticRegression(random_state=17)</pre><b>In a Jupyter environment, please rerun this cell to show the HTML representation or trust the notebook. <br />On GitHub, the HTML representation is unable to render, please try loading this page with nbviewer.org.</b></div><div class=\"sk-container\" hidden><div class=\"sk-item\"><div class=\"sk-estimator sk-toggleable\"><input class=\"sk-toggleable__control sk-hidden--visually\" id=\"sk-estimator-id-1\" type=\"checkbox\" checked><label for=\"sk-estimator-id-1\" class=\"sk-toggleable__label sk-toggleable__label-arrow\">LogisticRegression</label><div class=\"sk-toggleable__content\"><pre>LogisticRegression(random_state=17)</pre></div></div></div></div></div>"
            ]
          },
          "metadata": {},
          "execution_count": 12
        }
      ]
    },
    {
      "cell_type": "code",
      "source": [
        "y_pred_train = model.predict(X_train)"
      ],
      "metadata": {
        "id": "Pq0B9DU_JCO5"
      },
      "execution_count": 13,
      "outputs": []
    },
    {
      "cell_type": "code",
      "source": [
        "y_pred_test = model.predict(X_test)"
      ],
      "metadata": {
        "id": "M7ik6RnkKdoG"
      },
      "execution_count": 14,
      "outputs": []
    },
    {
      "cell_type": "code",
      "source": [
        "print(\"Classification Report - Training Data:\")\n",
        "print(classification_report(y_train, y_pred_train))"
      ],
      "metadata": {
        "colab": {
          "base_uri": "https://localhost:8080/"
        },
        "id": "lAnJUPmdJhvm",
        "outputId": "a6fd10d0-ae75-4edb-b845-0d1a248e2af2"
      },
      "execution_count": 15,
      "outputs": [
        {
          "output_type": "stream",
          "name": "stdout",
          "text": [
            "Classification Report - Training Data:\n",
            "              precision    recall  f1-score   support\n",
            "\n",
            "           0       0.83      0.94      0.88     85258\n",
            "           1       0.61      0.32      0.42     23986\n",
            "\n",
            "    accuracy                           0.81    109244\n",
            "   macro avg       0.72      0.63      0.65    109244\n",
            "weighted avg       0.78      0.81      0.78    109244\n",
            "\n"
          ]
        }
      ]
    },
    {
      "cell_type": "code",
      "source": [
        "print(\"Classification Report - Testing Data:\")\n",
        "print(classification_report(y_test, y_pred_test))"
      ],
      "metadata": {
        "colab": {
          "base_uri": "https://localhost:8080/"
        },
        "id": "g-fI2Z_cK2Md",
        "outputId": "a456ca76-3d4a-46a0-fa5b-5eaf374b3e78"
      },
      "execution_count": 16,
      "outputs": [
        {
          "output_type": "stream",
          "name": "stdout",
          "text": [
            "Classification Report - Testing Data:\n",
            "              precision    recall  f1-score   support\n",
            "\n",
            "           0       0.83      0.94      0.88     28350\n",
            "           1       0.59      0.31      0.41      8065\n",
            "\n",
            "    accuracy                           0.80     36415\n",
            "   macro avg       0.71      0.63      0.64     36415\n",
            "weighted avg       0.78      0.80      0.78     36415\n",
            "\n"
          ]
        }
      ]
    },
    {
      "cell_type": "code",
      "source": [
        "confusion_mat = confusion_matrix(y_test, y_pred_test)\n",
        "print(\"Confusion Matrix - Test Data:\")\n",
        "print(confusion_mat)"
      ],
      "metadata": {
        "colab": {
          "base_uri": "https://localhost:8080/"
        },
        "id": "R6TA8ggaJkMd",
        "outputId": "1fb3c3a7-e832-4af6-8702-4130247f3240"
      },
      "execution_count": 17,
      "outputs": [
        {
          "output_type": "stream",
          "name": "stdout",
          "text": [
            "Confusion Matrix - Test Data:\n",
            "[[26624  1726]\n",
            " [ 5550  2515]]\n"
          ]
        }
      ]
    },
    {
      "cell_type": "code",
      "source": [
        "print(y_train.value_counts())"
      ],
      "metadata": {
        "colab": {
          "base_uri": "https://localhost:8080/"
        },
        "id": "JYzoLVVlLGGg",
        "outputId": "e4c42d14-b956-4e74-ff2d-dc0787e1c970"
      },
      "execution_count": 18,
      "outputs": [
        {
          "output_type": "stream",
          "name": "stdout",
          "text": [
            "0    85258\n",
            "1    23986\n",
            "Name: Accept, dtype: int64\n"
          ]
        }
      ]
    },
    {
      "cell_type": "markdown",
      "source": [
        "**What is the proportion of customers who have not accepted the loan in the training dataset?**\n",
        "> Hint: Mention your answer in terms of percentage.\n",
        "If your answer is 70.51%, enter 70.51"
      ],
      "metadata": {
        "id": "MPIcmqESx8iO"
      }
    },
    {
      "cell_type": "code",
      "source": [
        "not_accepted_proportion_train = y_train.value_counts()[0]/len(y_train)\n",
        "print(\"{:.2f}\".format(not_accepted_proportion_train * 100))"
      ],
      "metadata": {
        "colab": {
          "base_uri": "https://localhost:8080/"
        },
        "id": "f7MmJlEwLebm",
        "outputId": "fb06654c-f0bd-417c-82cc-ad51787e2cfd"
      },
      "execution_count": 19,
      "outputs": [
        {
          "output_type": "stream",
          "name": "stdout",
          "text": [
            "78.04\n"
          ]
        }
      ]
    },
    {
      "cell_type": "markdown",
      "source": [
        "**What is the proportion of customers who have accepted the loan in the training dataset?**\n",
        "> Hint: Mention your answer in terms of percentage. If your answer is 70.51%, enter 70.51"
      ],
      "metadata": {
        "id": "hVJzd676yAYi"
      }
    },
    {
      "cell_type": "code",
      "source": [
        "accepted_proportion_test = y_train.value_counts()[1]/len(y_train)\n",
        "print(\"{:.2f}\".format(accepted_proportion_test * 100))"
      ],
      "metadata": {
        "colab": {
          "base_uri": "https://localhost:8080/"
        },
        "id": "FNW3fe5iLp-S",
        "outputId": "91f74868-c374-4904-f927-e2146a0cdc0b"
      },
      "execution_count": 20,
      "outputs": [
        {
          "output_type": "stream",
          "name": "stdout",
          "text": [
            "21.96\n"
          ]
        }
      ]
    },
    {
      "cell_type": "code",
      "source": [
        "print(y_test.value_counts())"
      ],
      "metadata": {
        "colab": {
          "base_uri": "https://localhost:8080/"
        },
        "id": "LaNsvsK6MObd",
        "outputId": "55402c10-0e78-432d-b4b8-fcbf39a7f230"
      },
      "execution_count": 21,
      "outputs": [
        {
          "output_type": "stream",
          "name": "stdout",
          "text": [
            "0    28350\n",
            "1     8065\n",
            "Name: Accept, dtype: int64\n"
          ]
        }
      ]
    },
    {
      "cell_type": "markdown",
      "source": [
        "\n",
        "**What is the proportion of customers who have not accepted the loan in the test dataset?**\n",
        "> Hint: Mention your answer in terms of percentage. If your answer is 70.51%, enter 70.51"
      ],
      "metadata": {
        "id": "7lEHvGcfyJFW"
      }
    },
    {
      "cell_type": "code",
      "source": [
        "not_accepted_proportion_test = y_test.value_counts()[0]/len(y_test)\n",
        "print(\"{:.2f}\".format(not_accepted_proportion_test * 100))"
      ],
      "metadata": {
        "colab": {
          "base_uri": "https://localhost:8080/"
        },
        "id": "AxDgP7kHL-hg",
        "outputId": "12c63ae3-df35-4fa3-9350-755683a74db8"
      },
      "execution_count": 22,
      "outputs": [
        {
          "output_type": "stream",
          "name": "stdout",
          "text": [
            "77.85\n"
          ]
        }
      ]
    },
    {
      "cell_type": "markdown",
      "source": [
        "**What is the proportion of customers who have accepted the loan in the test dataset?**\n",
        "> Hint: Mention your answer in terms of percentage. If your answer is 70.51%, enter 70.51"
      ],
      "metadata": {
        "id": "ZOknBLAMyNDC"
      }
    },
    {
      "cell_type": "code",
      "source": [
        "accepted_proportion_test = y_test.value_counts()[1]/len(y_test)\n",
        "print(\"{:.2f}\".format(accepted_proportion_test * 100))"
      ],
      "metadata": {
        "colab": {
          "base_uri": "https://localhost:8080/"
        },
        "id": "iW-KuL8eMSYD",
        "outputId": "0e0f1992-d20f-45f5-f56a-a57d951aedcd"
      },
      "execution_count": 23,
      "outputs": [
        {
          "output_type": "stream",
          "name": "stdout",
          "text": [
            "22.15\n"
          ]
        }
      ]
    },
    {
      "cell_type": "markdown",
      "source": [
        "\n",
        "Fit the model on the train data (`use LogisticRegression from sklearn.linear_model and random state=17`) and make predictions on the train data, and answer questions (7 to 9).\n",
        "\n",
        "**What is the training accuracy?**\n",
        "\n",
        "> If your answer is 70.51%, enter 70.5.\n",
        "\n",
        "> Hint: Compare the predictions of y_train and y_pred_train. If your answer is 70.51%, enter 70.51"
      ],
      "metadata": {
        "id": "j9oxbKCVprDj"
      }
    },
    {
      "cell_type": "code",
      "source": [
        "model = LogisticRegression(random_state=17)\n",
        "model.fit(X_train, y_train)"
      ],
      "metadata": {
        "colab": {
          "base_uri": "https://localhost:8080/",
          "height": 233
        },
        "id": "QqyB2WlVMZ6S",
        "outputId": "c891dfa2-4d45-44bd-e7b0-8b4211485aed"
      },
      "execution_count": 24,
      "outputs": [
        {
          "output_type": "stream",
          "name": "stderr",
          "text": [
            "/usr/local/lib/python3.10/dist-packages/sklearn/linear_model/_logistic.py:458: ConvergenceWarning: lbfgs failed to converge (status=1):\n",
            "STOP: TOTAL NO. of ITERATIONS REACHED LIMIT.\n",
            "\n",
            "Increase the number of iterations (max_iter) or scale the data as shown in:\n",
            "    https://scikit-learn.org/stable/modules/preprocessing.html\n",
            "Please also refer to the documentation for alternative solver options:\n",
            "    https://scikit-learn.org/stable/modules/linear_model.html#logistic-regression\n",
            "  n_iter_i = _check_optimize_result(\n"
          ]
        },
        {
          "output_type": "execute_result",
          "data": {
            "text/plain": [
              "LogisticRegression(random_state=17)"
            ],
            "text/html": [
              "<style>#sk-container-id-2 {color: black;background-color: white;}#sk-container-id-2 pre{padding: 0;}#sk-container-id-2 div.sk-toggleable {background-color: white;}#sk-container-id-2 label.sk-toggleable__label {cursor: pointer;display: block;width: 100%;margin-bottom: 0;padding: 0.3em;box-sizing: border-box;text-align: center;}#sk-container-id-2 label.sk-toggleable__label-arrow:before {content: \"▸\";float: left;margin-right: 0.25em;color: #696969;}#sk-container-id-2 label.sk-toggleable__label-arrow:hover:before {color: black;}#sk-container-id-2 div.sk-estimator:hover label.sk-toggleable__label-arrow:before {color: black;}#sk-container-id-2 div.sk-toggleable__content {max-height: 0;max-width: 0;overflow: hidden;text-align: left;background-color: #f0f8ff;}#sk-container-id-2 div.sk-toggleable__content pre {margin: 0.2em;color: black;border-radius: 0.25em;background-color: #f0f8ff;}#sk-container-id-2 input.sk-toggleable__control:checked~div.sk-toggleable__content {max-height: 200px;max-width: 100%;overflow: auto;}#sk-container-id-2 input.sk-toggleable__control:checked~label.sk-toggleable__label-arrow:before {content: \"▾\";}#sk-container-id-2 div.sk-estimator input.sk-toggleable__control:checked~label.sk-toggleable__label {background-color: #d4ebff;}#sk-container-id-2 div.sk-label input.sk-toggleable__control:checked~label.sk-toggleable__label {background-color: #d4ebff;}#sk-container-id-2 input.sk-hidden--visually {border: 0;clip: rect(1px 1px 1px 1px);clip: rect(1px, 1px, 1px, 1px);height: 1px;margin: -1px;overflow: hidden;padding: 0;position: absolute;width: 1px;}#sk-container-id-2 div.sk-estimator {font-family: monospace;background-color: #f0f8ff;border: 1px dotted black;border-radius: 0.25em;box-sizing: border-box;margin-bottom: 0.5em;}#sk-container-id-2 div.sk-estimator:hover {background-color: #d4ebff;}#sk-container-id-2 div.sk-parallel-item::after {content: \"\";width: 100%;border-bottom: 1px solid gray;flex-grow: 1;}#sk-container-id-2 div.sk-label:hover label.sk-toggleable__label {background-color: #d4ebff;}#sk-container-id-2 div.sk-serial::before {content: \"\";position: absolute;border-left: 1px solid gray;box-sizing: border-box;top: 0;bottom: 0;left: 50%;z-index: 0;}#sk-container-id-2 div.sk-serial {display: flex;flex-direction: column;align-items: center;background-color: white;padding-right: 0.2em;padding-left: 0.2em;position: relative;}#sk-container-id-2 div.sk-item {position: relative;z-index: 1;}#sk-container-id-2 div.sk-parallel {display: flex;align-items: stretch;justify-content: center;background-color: white;position: relative;}#sk-container-id-2 div.sk-item::before, #sk-container-id-2 div.sk-parallel-item::before {content: \"\";position: absolute;border-left: 1px solid gray;box-sizing: border-box;top: 0;bottom: 0;left: 50%;z-index: -1;}#sk-container-id-2 div.sk-parallel-item {display: flex;flex-direction: column;z-index: 1;position: relative;background-color: white;}#sk-container-id-2 div.sk-parallel-item:first-child::after {align-self: flex-end;width: 50%;}#sk-container-id-2 div.sk-parallel-item:last-child::after {align-self: flex-start;width: 50%;}#sk-container-id-2 div.sk-parallel-item:only-child::after {width: 0;}#sk-container-id-2 div.sk-dashed-wrapped {border: 1px dashed gray;margin: 0 0.4em 0.5em 0.4em;box-sizing: border-box;padding-bottom: 0.4em;background-color: white;}#sk-container-id-2 div.sk-label label {font-family: monospace;font-weight: bold;display: inline-block;line-height: 1.2em;}#sk-container-id-2 div.sk-label-container {text-align: center;}#sk-container-id-2 div.sk-container {/* jupyter's `normalize.less` sets `[hidden] { display: none; }` but bootstrap.min.css set `[hidden] { display: none !important; }` so we also need the `!important` here to be able to override the default hidden behavior on the sphinx rendered scikit-learn.org. See: https://github.com/scikit-learn/scikit-learn/issues/21755 */display: inline-block !important;position: relative;}#sk-container-id-2 div.sk-text-repr-fallback {display: none;}</style><div id=\"sk-container-id-2\" class=\"sk-top-container\"><div class=\"sk-text-repr-fallback\"><pre>LogisticRegression(random_state=17)</pre><b>In a Jupyter environment, please rerun this cell to show the HTML representation or trust the notebook. <br />On GitHub, the HTML representation is unable to render, please try loading this page with nbviewer.org.</b></div><div class=\"sk-container\" hidden><div class=\"sk-item\"><div class=\"sk-estimator sk-toggleable\"><input class=\"sk-toggleable__control sk-hidden--visually\" id=\"sk-estimator-id-2\" type=\"checkbox\" checked><label for=\"sk-estimator-id-2\" class=\"sk-toggleable__label sk-toggleable__label-arrow\">LogisticRegression</label><div class=\"sk-toggleable__content\"><pre>LogisticRegression(random_state=17)</pre></div></div></div></div></div>"
            ]
          },
          "metadata": {},
          "execution_count": 24
        }
      ]
    },
    {
      "cell_type": "code",
      "source": [
        "y_pred_train = model.predict(X_train)"
      ],
      "metadata": {
        "id": "dMJKfsSep3hr"
      },
      "execution_count": 26,
      "outputs": []
    },
    {
      "cell_type": "code",
      "source": [
        "training_accuracy = accuracy_score(y_train, y_pred_train) * 100\n",
        "print(f\"The training accuracy is: {training_accuracy:.2f}%\")"
      ],
      "metadata": {
        "colab": {
          "base_uri": "https://localhost:8080/"
        },
        "id": "n0fRxOAcqBql",
        "outputId": "8149521c-91dd-48a1-f876-7c46a331c9d9"
      },
      "execution_count": 29,
      "outputs": [
        {
          "output_type": "stream",
          "name": "stdout",
          "text": [
            "The training accuracy is: 80.52%\n"
          ]
        }
      ]
    },
    {
      "cell_type": "markdown",
      "source": [
        "\n",
        "**What is the training data precision of your model if the aim is to find customers who will not accept the loan?**\n",
        "\n",
        "> Hint: Compare the predictions of y_train and y_pred_train. Mention your answer in terms of percentage. If your answer is 70.51%, enter 70.51"
      ],
      "metadata": {
        "id": "bOprB-7pqNk9"
      }
    },
    {
      "cell_type": "code",
      "source": [
        "precision_not_accepted = precision_score(y_train, y_pred_train, pos_label=0)*100\n",
        "print(f\"The training precision for customers not accepting the loan is: {precision_not_accepted:.2f}%\")"
      ],
      "metadata": {
        "colab": {
          "base_uri": "https://localhost:8080/"
        },
        "id": "ELJ1sfmCrdWq",
        "outputId": "4c074ae9-11b7-49f3-acba-a1e0654ed629"
      },
      "execution_count": 34,
      "outputs": [
        {
          "output_type": "stream",
          "name": "stdout",
          "text": [
            "The training precision for customers not accepting the loan is: 83.09%\n"
          ]
        }
      ]
    },
    {
      "cell_type": "markdown",
      "source": [
        "\n",
        "**What is the training data recall of your model if the aim is to find customers who will accept the loan?**\n",
        "\n",
        "> Hint: enter your answer in terms of percentage, If your answer is 70.51%, enter 70.51"
      ],
      "metadata": {
        "id": "iVm663hIsDFT"
      }
    },
    {
      "cell_type": "code",
      "source": [
        "recall_accept_train = recall_score(y_train, y_pred_train, pos_label=1)*100\n",
        "print(f\"The training recall for customers accepting the loan is: {recall_accept_train:.2f}%\")"
      ],
      "metadata": {
        "colab": {
          "base_uri": "https://localhost:8080/"
        },
        "id": "yyKhLx1lsHbp",
        "outputId": "23cf9e27-cdab-4b76-b92d-9b696d18afb2"
      },
      "execution_count": 50,
      "outputs": [
        {
          "output_type": "stream",
          "name": "stdout",
          "text": [
            "The training recall for customers accepting the loan is: 31.87%\n"
          ]
        }
      ]
    },
    {
      "cell_type": "markdown",
      "source": [
        "\n",
        "`After training your model on the train data, make predictions on the test data, and answer questions 10 to 14.`\n",
        "\n",
        "**From the confusion matrix, identify the number of predictions that have a type 1 error (false positive).**\n",
        "\n",
        "> Hint: Use confusion_matrix(y_test, y_pred_test).ravel() and enter your answer as an integer\n"
      ],
      "metadata": {
        "id": "slQTh7aTswIT"
      }
    },
    {
      "cell_type": "code",
      "source": [
        "y_pred_test = model.predict(X_test)\n",
        "\n",
        "confusion_mat = confusion_matrix(y_test, y_pred_test)\n",
        "print(confusion_mat)\n",
        "\n",
        "true_positives, false_positives, false_negatives, true_positives = confusion_mat.ravel()\n",
        "\n",
        "# False Positives (Type 1 Error)\n",
        "# False Negatives (Type 2 Error)\n",
        "print(f\"The number of predictions with a type 1 error (false positive) is: {false_positives}\")\n"
      ],
      "metadata": {
        "colab": {
          "base_uri": "https://localhost:8080/"
        },
        "id": "U75TafzKscoY",
        "outputId": "28cc63c8-dcfc-4aed-bf4a-fb07d16f34e7"
      },
      "execution_count": 43,
      "outputs": [
        {
          "output_type": "stream",
          "name": "stdout",
          "text": [
            "[[26624  1726]\n",
            " [ 5550  2515]]\n",
            "The number of predictions with a type 1 error (false positive) is: 1726\n"
          ]
        }
      ]
    },
    {
      "cell_type": "markdown",
      "source": [
        "**In the test data confusion matrix, identify the number of predictions that have a type 2 error (false negative).**\n",
        "> Hint: Use confusion_matrix(y_test, y_pred_test).ravel() and enter your answer as an integer."
      ],
      "metadata": {
        "id": "LZLueQmJtto2"
      }
    },
    {
      "cell_type": "code",
      "source": [
        "print(f\"The number of predictions with a type 2 error (false negative) is: {false_negatives}\")"
      ],
      "metadata": {
        "colab": {
          "base_uri": "https://localhost:8080/"
        },
        "id": "Qul6t-D-tsiD",
        "outputId": "a41ba0e2-7ffe-4aed-b258-2480100c896d"
      },
      "execution_count": 44,
      "outputs": [
        {
          "output_type": "stream",
          "name": "stdout",
          "text": [
            "The number of predictions with a type 2 error (false negative) is: 5550\n"
          ]
        }
      ]
    },
    {
      "cell_type": "markdown",
      "source": [
        "\n",
        "**What is the accuracy of the model in the test data? Mention your answer in terms of percentage and round off the answers to two decimals.**\n",
        "> Hint: If your answer is 70.51%, enter 70.51"
      ],
      "metadata": {
        "id": "d4GF2cPLttE2"
      }
    },
    {
      "cell_type": "code",
      "source": [
        "y_pred_test = model.predict(X_test)\n",
        "\n",
        "test_accuracy = accuracy_score(y_test, y_pred_test) * 100\n",
        "print(f\"The accuracy of the model on the test data is: {test_accuracy:.2f}%\")"
      ],
      "metadata": {
        "colab": {
          "base_uri": "https://localhost:8080/"
        },
        "id": "U8JSRZ2ftXL_",
        "outputId": "51a3c7cb-66b5-4616-f08a-5a3abba2add5"
      },
      "execution_count": 46,
      "outputs": [
        {
          "output_type": "stream",
          "name": "stdout",
          "text": [
            "The accuracy of the model on the test data is: 80.02%\n"
          ]
        }
      ]
    },
    {
      "cell_type": "markdown",
      "source": [
        "**What is the precision of your model in the test data if the aim is to find customers who will accept the loan?**\n",
        "> Hint: Mention your answer in terms of percentage and round off the answers to two decimals. If your answer is 70.51%, enter 70.51"
      ],
      "metadata": {
        "id": "YGLL5wUFvBlg"
      }
    },
    {
      "cell_type": "code",
      "source": [
        "precision_accepted = precision_score(y_test, y_pred_test, pos_label=1)*100\n",
        "print(f\"The testing precision for customers not accepting the loan is: {precision_accepted:.2f}%\")"
      ],
      "metadata": {
        "colab": {
          "base_uri": "https://localhost:8080/"
        },
        "id": "5GQqlJinuxQ8",
        "outputId": "84832004-a75b-4c9e-a482-c9e804d7dccd"
      },
      "execution_count": 48,
      "outputs": [
        {
          "output_type": "stream",
          "name": "stdout",
          "text": [
            "The testing precision for customers not accepting the loan is: 59.30%\n"
          ]
        }
      ]
    },
    {
      "cell_type": "markdown",
      "source": [
        "\n",
        "**What is the recall of your model in the test data if the aim is to find customers who will accept the loan?**\n",
        "\n",
        "> Mention your answer in terms of percentage and round off the answers to two decimals. If your answer is 70.51%, enter 70.51"
      ],
      "metadata": {
        "id": "YYeE7CwCv6kM"
      }
    },
    {
      "cell_type": "code",
      "source": [
        "recall_accept_test = recall_score(y_test, y_pred_test, pos_label=1)*100\n",
        "print(f\"The testing recall for customers accepting the loan is: {recall_accept_test:.2f}%\")"
      ],
      "metadata": {
        "colab": {
          "base_uri": "https://localhost:8080/"
        },
        "id": "UCba30Mgv2PZ",
        "outputId": "83118890-ec3e-43f0-ccad-e69842ec46bd"
      },
      "execution_count": 53,
      "outputs": [
        {
          "output_type": "stream",
          "name": "stdout",
          "text": [
            "The testing recall for customers accepting the loan is: 31.18%\n"
          ]
        }
      ]
    },
    {
      "cell_type": "code",
      "source": [],
      "metadata": {
        "id": "vM7QF7LZwVKV"
      },
      "execution_count": null,
      "outputs": []
    }
  ]
}