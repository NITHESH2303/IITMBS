{
 "cells": [
  {
   "cell_type": "markdown",
   "metadata": {
    "colab_type": "text",
    "id": "view-in-github"
   },
   "source": [
    "<a href=\"https://colab.research.google.com/gist/CKPIITM/8fe82e0a9821bc3604515d5e9687519e/mlp_week_2.ipynb\" target=\"_parent\"><img src=\"https://colab.research.google.com/assets/colab-badge.svg\" alt=\"Open In Colab\"/></a>"
   ]
  },
  {
   "cell_type": "code",
   "execution_count": 102,
   "metadata": {
    "id": "OEjjr5FSZHMD"
   },
   "outputs": [],
   "source": [
    "from IPython.display import display, Math, Latex\n",
    "import numpy as np\n",
    "import matplotlib.pyplot as plt\n",
    "import pandas as pd\n",
    "import seaborn as sns\n",
    "sns.set_theme(style=\"whitegrid\")\n"
   ]
  },
  {
   "cell_type": "code",
   "execution_count": 103,
   "metadata": {
    "colab": {
     "base_uri": "https://localhost:8080/"
    },
    "id": "bw6buzQP35zp",
    "outputId": "9551627e-1b0d-447a-fd93-ebab6d0c212c"
   },
   "outputs": [
    {
     "data": {
      "text/plain": [
       "(748, 6)"
      ]
     },
     "execution_count": 103,
     "metadata": {},
     "output_type": "execute_result"
    }
   ],
   "source": [
    "from sklearn.impute import SimpleImputer \n",
    "data_assignment = pd.read_csv('/content/DataPreprocessingGraded_dataset.csv')\n",
    "data_assignment.shape"
   ]
  },
  {
   "cell_type": "code",
   "execution_count": 104,
   "metadata": {
    "colab": {
     "base_uri": "https://localhost:8080/"
    },
    "id": "0Obc1Q2o9fr1",
    "outputId": "6e46e1d4-3409-49a1-8870-b49634b62ab2"
   },
   "outputs": [
    {
     "name": "stdout",
     "output_type": "stream",
     "text": [
      "<class 'pandas.core.frame.DataFrame'>\n",
      "RangeIndex: 748 entries, 0 to 747\n",
      "Data columns (total 6 columns):\n",
      " #   Column  Non-Null Count  Dtype  \n",
      "---  ------  --------------  -----  \n",
      " 0   V1      748 non-null    object \n",
      " 1   V2      748 non-null    object \n",
      " 2   V3      748 non-null    float64\n",
      " 3   V4      748 non-null    float64\n",
      " 4   V5      748 non-null    object \n",
      " 5   Target  748 non-null    object \n",
      "dtypes: float64(2), object(4)\n",
      "memory usage: 35.2+ KB\n"
     ]
    }
   ],
   "source": [
    "data_assignment.info()"
   ]
  },
  {
   "cell_type": "markdown",
   "metadata": {
    "id": "WwEEAZn6ADhK"
   },
   "source": [
    "#Data pre-processing Techniques\n",
    "\n",
    "___\n",
    "Data preprocessing involves several transformations that are applied to the raw data to make it more amenable for learning. It is carried out before using it for model training or prediction.\n",
    "\n",
    "There are many pre-processing techniques for \n",
    "* Data Cleaning\n",
    "  * Data Imputation\n",
    "  * Feature scaling\n",
    "* Feature transformation\n",
    "  * Polynomial Features\n",
    "  * Discretization\n",
    "  * Handling categorical features\n",
    "  * Custom Transformers\n",
    "  * Composiste Transformers\n",
    "    * Apply Transformation to diverse features\n",
    "    * TargetTranformedRegressor\n",
    "* Feature selection\n",
    "    * Filter based feature selection\n",
    "    * Wrapper based feature selection\n",
    "* Feature Extraction\n",
    "  * PCA\n",
    "\n",
    "The transformation are applied in a specific order and the order can be specified via ```Pipeline```. We need to apply different transformations based on the feature type. `FeatureUnion` helps us perform that task and combine outputs from multiple transformations into a single transformed feature matrix. We will also study as how to visualize this pipeline.\n",
    "\n",
    "#Importing basic libraries\n",
    "\n",
    "In this colab, we are importing as needed. However it is a good practice to have all imports in one cell -arranged in alphabetical order. This helps us weed out any duplicate imports and some such issues.\n"
   ]
  },
  {
   "cell_type": "code",
   "execution_count": 105,
   "metadata": {
    "id": "EG1rCkl_Ts-I"
   },
   "outputs": [],
   "source": [
    "import numpy as np\n",
    "import matplotlib.pyplot as plt\n",
    "import pandas as pd\n",
    "import seaborn as sns\n",
    "sns.set_theme(style='whitegrid')\n"
   ]
  },
  {
   "cell_type": "markdown",
   "metadata": {
    "id": "sdsEdbeBW8d0"
   },
   "source": [
    "# 1.**Feature Extraction**\n",
    "\n",
    "#DictVectorizer\n",
    "Many a times the data is present as a $\\textbf {list of dictionary objects.}$ ML algorithms expect the data in **matrix form** with shape $(n,m)$ where $n$ is the number of samples and $m$ is the number of features.\n",
    "`Vectorizer` **converts** a list of dictionary objects to feature matrix.\n",
    "\n",
    "Let's create a sample data for demo purpose containing `age` and `height` of children.\n",
    "  Each record/sample is a dictionary with two keys `age` and `height` , and corresponding values.\n",
    "  \n"
   ]
  },
  {
   "cell_type": "code",
   "execution_count": 106,
   "metadata": {
    "id": "VE7W8AXPTtzB"
   },
   "outputs": [],
   "source": [
    "data = [{'age':4,'height':96.0},{'age':1,'height':73.9},{'age':3,'height':88.9},{'age':2,'height':81.6}]"
   ]
  },
  {
   "cell_type": "markdown",
   "metadata": {
    "id": "CS1aRNxNYSSw"
   },
   "source": [
    "There are 4 data samples with 2 features each.\n",
    "Let's make use of `DictVectorizer` to convert the list of dictionary objects to the feature matrix.\n"
   ]
  },
  {
   "cell_type": "code",
   "execution_count": 107,
   "metadata": {
    "colab": {
     "base_uri": "https://localhost:8080/"
    },
    "id": "nSEBVqZyYjdI",
    "outputId": "ad9969b8-483c-433d-95ce-ad0436fdd1b0"
   },
   "outputs": [
    {
     "data": {
      "text/plain": [
       "array([[ 4. , 96. ],\n",
       "       [ 1. , 73.9],\n",
       "       [ 3. , 88.9],\n",
       "       [ 2. , 81.6]])"
      ]
     },
     "execution_count": 107,
     "metadata": {},
     "output_type": "execute_result"
    }
   ],
   "source": [
    "from sklearn.feature_extraction import DictVectorizer\n",
    "dv = DictVectorizer(sparse=False) \n",
    "data_transformed = dv.fit_transform(data)\n",
    "data_transformed"
   ]
  },
  {
   "cell_type": "markdown",
   "metadata": {
    "id": "aQZfJBWnY2w_"
   },
   "source": [
    "#Data Imputation\n",
    "  * Many machine learning algorithms need full feature matrix and they mayy not work in presence of missing data.\n",
    "  * Data imputation identifies **missing values** in each featurer of the dataset and **replaces** them with an **appropriate values** based on a **fixed strategy** such as\n",
    "    * **mean** or **median** or **mode** of that feature.\n",
    "    * **use specified constant** value\n",
    "Sklearn library provides `sklearn.impute.SimpleImputer` class for this purpose."
   ]
  },
  {
   "cell_type": "code",
   "execution_count": 108,
   "metadata": {
    "id": "BHlxx4u1ZvRM"
   },
   "outputs": [],
   "source": [
    "from sklearn.impute import SimpleImputer"
   ]
  },
  {
   "cell_type": "markdown",
   "metadata": {
    "id": "tcI_HqvkZ36j"
   },
   "source": [
    "Some of its important parameters:\n",
    "  * *missing_values:* could be `int`,`str`,`np.nan` or `None`. Default is `np.nan`.\n",
    "  * `strategy`: string, default is 'mean'. One the following strategies can be used:\n",
    "    * `mean`- missing values are  replaced using the **mean** along each column.\n",
    "    * `median`-missing values are replaced using the **median** along each column.\n",
    "    * `most_frequent`-missing values are replaced using the **most_frequent** along each column\n",
    "    * `constant` -missing values are replaced with value specified in `fill_value` argument.\n",
    "    * `add_indicator` is a boolean parameter that when set to `True` returns **missing value indicators** in `indicator_` memeber value.\n",
    "\n",
    "**Note** \n",
    "   * `mean` and `median` strategies can nonly be used with numeric data. \n",
    "   * `most_frequent` and `constant` strategies can be used with strings or numberic data.\n",
    "\n",
    "# Data imputation on real world dataset.\n",
    "  Let's perform data imputation on real world dataset. We will be using <https://archive.ics.uci.edu/ml/machine-learning-databases/heart-disease/cleveland.data> for this purpose. We will load this dataset from csv file."
   ]
  },
  {
   "cell_type": "code",
   "execution_count": 109,
   "metadata": {
    "colab": {
     "base_uri": "https://localhost:8080/"
    },
    "id": "gglv4yPrZRDl",
    "outputId": "468d6e8a-a8df-4f83-d439-d066def7be4f"
   },
   "outputs": [
    {
     "data": {
      "text/plain": [
       "<bound method NDFrame.describe of       age  sex   cp  trestbps   chol  fbs  ...  exang  oldpeak  slope   ca  thal num\n",
       "0    63.0  1.0  1.0     145.0  233.0  1.0  ...    0.0      2.3    3.0  0.0   6.0   0\n",
       "1    67.0  1.0  4.0     160.0  286.0  0.0  ...    1.0      1.5    2.0  3.0   3.0   2\n",
       "2    67.0  1.0  4.0     120.0  229.0  0.0  ...    1.0      2.6    2.0  2.0   7.0   1\n",
       "3    37.0  1.0  3.0     130.0  250.0  0.0  ...    0.0      3.5    3.0  0.0   3.0   0\n",
       "4    41.0  0.0  2.0     130.0  204.0  0.0  ...    0.0      1.4    1.0  0.0   3.0   0\n",
       "..    ...  ...  ...       ...    ...  ...  ...    ...      ...    ...  ...   ...  ..\n",
       "298  45.0  1.0  1.0     110.0  264.0  0.0  ...    0.0      1.2    2.0  0.0   7.0   1\n",
       "299  68.0  1.0  4.0     144.0  193.0  1.0  ...    0.0      3.4    2.0  2.0   7.0   2\n",
       "300  57.0  1.0  4.0     130.0  131.0  0.0  ...    1.0      1.2    2.0  1.0   7.0   3\n",
       "301  57.0  0.0  2.0     130.0  236.0  0.0  ...    0.0      0.0    2.0  1.0   3.0   1\n",
       "302  38.0  1.0  3.0     138.0  175.0  0.0  ...    0.0      0.0    1.0    ?   3.0   0\n",
       "\n",
       "[303 rows x 14 columns]>"
      ]
     },
     "execution_count": 109,
     "metadata": {},
     "output_type": "execute_result"
    }
   ],
   "source": [
    "cols =['age','sex','cp','trestbps','chol','fbs','restecg','thalach','exang','oldpeak','slope','ca','thal','num']\n",
    "heart_data =pd.read_csv('https://archive.ics.uci.edu/ml/machine-learning-databases/heart-disease/processed.cleveland.data',header=None,names=cols) \n",
    "heart_data.describe"
   ]
  },
  {
   "cell_type": "markdown",
   "metadata": {
    "id": "eSPV8LmYf0hv"
   },
   "source": [
    "The dataset has the following features:\n",
    "    \n",
    "    Age (in years)\n",
    "    sex(1=male; 0=female)\n",
    "    cp - chest pain type\n",
    "    trestbps - resting blood pressure (anything above 130-140 is typically cause for concern) \n",
    "    fbs -fasting blood sugar (>120 mg/dl) (1=true; 0 = false)\n",
    "    restecg - resting electrocardiographic results\n",
    "        * normal=0\n",
    "        * 1 = having ST-T wave abnormality;\n",
    "        * 2 = showing probable or definite left ventricular hypertropy by Estes' criteria\n",
    "    thalch - maximum heart rate achieved\n",
    "    exang -excercise induced angina\n",
    "        * 1 = yes\n",
    "        * 0 = no\n",
    "    oldpeak - depression induced by excercise relative to rest\n",
    "    slope - slope of the peak excercise ST segment\n",
    "        * 1 = unsloping;\n",
    "        * 2 = flat value;\n",
    "        * 3 = downsloping\n",
    "    ca - number of major vessels (0-3) colored by fluroscopy \n",
    "    thal - (3 = normal; 6 =fixed defect; 7 = reversable defect)\n",
    "    num - diagnosis of heart disease (angiographic disease status) (\n",
    "      * 0 < 50% diameter narrowing;\n",
    "      * 1: . 50% diameter narrowing"
   ]
  },
  {
   "cell_type": "markdown",
   "metadata": {
    "id": "wId2FV1PjHz6"
   },
   "source": [
    "# **STEP 1** Check if the data contains missing values.\n",
    "* This can be checked via dataset description or by check number of `nan` or `np.null` in the dataframe. However such check can be performed only for numerical features.\n",
    "* For non-numberical features, we can list their unique values and check if there are values like `?`."
   ]
  },
  {
   "cell_type": "code",
   "execution_count": 110,
   "metadata": {
    "colab": {
     "base_uri": "https://localhost:8080/"
    },
    "id": "48N1UwzwjmWH",
    "outputId": "0503896e-968a-4ff6-afa3-869c87ddf962"
   },
   "outputs": [
    {
     "name": "stdout",
     "output_type": "stream",
     "text": [
      "<class 'pandas.core.frame.DataFrame'>\n",
      "RangeIndex: 303 entries, 0 to 302\n",
      "Data columns (total 14 columns):\n",
      " #   Column    Non-Null Count  Dtype  \n",
      "---  ------    --------------  -----  \n",
      " 0   age       303 non-null    float64\n",
      " 1   sex       303 non-null    float64\n",
      " 2   cp        303 non-null    float64\n",
      " 3   trestbps  303 non-null    float64\n",
      " 4   chol      303 non-null    float64\n",
      " 5   fbs       303 non-null    float64\n",
      " 6   restecg   303 non-null    float64\n",
      " 7   thalach   303 non-null    float64\n",
      " 8   exang     303 non-null    float64\n",
      " 9   oldpeak   303 non-null    float64\n",
      " 10  slope     303 non-null    float64\n",
      " 11  ca        303 non-null    object \n",
      " 12  thal      303 non-null    object \n",
      " 13  num       303 non-null    int64  \n",
      "dtypes: float64(11), int64(1), object(2)\n",
      "memory usage: 33.3+ KB\n"
     ]
    }
   ],
   "source": [
    "heart_data.info() #without parentesis also it gives some outpur bu the entire."
   ]
  },
  {
   "cell_type": "markdown",
   "metadata": {
    "id": "2Xt-0gulkA3p"
   },
   "source": [
    "Let's check if there are any missing values in numerical columns-here we have checked it for all columns in the dataframe.\n"
   ]
  },
  {
   "cell_type": "code",
   "execution_count": 111,
   "metadata": {
    "colab": {
     "base_uri": "https://localhost:8080/"
    },
    "id": "BawjYGqGkK3I",
    "outputId": "37973a8d-57df-4a9e-c26b-5c91776610c2"
   },
   "outputs": [
    {
     "data": {
      "text/plain": [
       "age         0\n",
       "sex         0\n",
       "cp          0\n",
       "trestbps    0\n",
       "chol        0\n",
       "fbs         0\n",
       "restecg     0\n",
       "thalach     0\n",
       "exang       0\n",
       "oldpeak     0\n",
       "slope       0\n",
       "ca          0\n",
       "thal        0\n",
       "num         0\n",
       "dtype: int64"
      ]
     },
     "execution_count": 111,
     "metadata": {},
     "output_type": "execute_result"
    }
   ],
   "source": [
    "heart_data.isnull().sum()"
   ]
  },
  {
   "cell_type": "markdown",
   "metadata": {
    "id": "CAMpIMlQkQ0z"
   },
   "source": [
    "There are two non-numerical features `ca` and `thal`\n",
    "* List their unique values:\n"
   ]
  },
  {
   "cell_type": "code",
   "execution_count": 112,
   "metadata": {
    "colab": {
     "base_uri": "https://localhost:8080/"
    },
    "id": "oCTXhCZykY6w",
    "outputId": "e38eb314-ad7a-4db2-d92c-b14915a1c6aa"
   },
   "outputs": [
    {
     "name": "stdout",
     "output_type": "stream",
     "text": [
      "Unique values in ca: ['0.0' '3.0' '2.0' '1.0' '?']\n",
      "Unique values in thal: ['6.0' '3.0' '7.0' '?']\n"
     ]
    }
   ],
   "source": [
    "print('Unique values in ca:', heart_data.ca.unique())\n",
    "print('Unique values in thal:', heart_data.thal.unique())"
   ]
  },
  {
   "cell_type": "markdown",
   "metadata": {
    "id": "XG3cUi-Yk6Bm"
   },
   "source": [
    "Both of them contain `?`, which is a missing values. Let's count the number of missing values."
   ]
  },
  {
   "cell_type": "code",
   "execution_count": 113,
   "metadata": {
    "colab": {
     "base_uri": "https://localhost:8080/"
    },
    "id": "EnVqkT3qlIIw",
    "outputId": "4a91b63d-a8af-4d91-d0b3-e057a844427d"
   },
   "outputs": [
    {
     "name": "stdout",
     "output_type": "stream",
     "text": [
      "# missing vlaue in ca: 4\n",
      "# missing vlaue in ca: 2\n"
     ]
    }
   ],
   "source": [
    "print('# missing vlaue in ca:', heart_data.loc[heart_data.ca=='?', 'ca'].count())\n",
    "print('# missing vlaue in ca:', heart_data.loc[heart_data.thal=='?', 'thal'].count())\n"
   ]
  },
  {
   "cell_type": "markdown",
   "metadata": {
    "id": "etVKXbBMl3K_"
   },
   "source": [
    "#**STEP 2** Replace '?' with `nan`."
   ]
  },
  {
   "cell_type": "code",
   "execution_count": 114,
   "metadata": {
    "id": "3T024oWQmB6A"
   },
   "outputs": [],
   "source": [
    "heart_data.replace('?',np.nan, inplace=True)"
   ]
  },
  {
   "cell_type": "markdown",
   "metadata": {
    "id": "Zk4PdUw5mpkl"
   },
   "source": [
    "#**STEP 3**: Fill the missing values with `sklearn` missing value imputation utilities.\n",
    "> Here we use `SimpleImputer` with `mean` strategy.\n",
    "\n",
    "We will try two variations-\n",
    "* add_indicator = `False`: Default choice that only imputes missing values.\n"
   ]
  },
  {
   "cell_type": "code",
   "execution_count": 115,
   "metadata": {
    "colab": {
     "base_uri": "https://localhost:8080/"
    },
    "id": "II6sr5vCoxXO",
    "outputId": "4e8b868a-134d-4d4c-be54-26031e9aebac"
   },
   "outputs": [
    {
     "name": "stdout",
     "output_type": "stream",
     "text": [
      "(303, 14)\n"
     ]
    }
   ],
   "source": [
    "imputer = SimpleImputer(missing_values=np.nan, strategy='mean')\n",
    "imputer = imputer.fit(heart_data)\n",
    "heart_data_imputed = imputer.transform(heart_data) # the above code is for fit and transform both operations together\n",
    "print(heart_data_imputed.shape)"
   ]
  },
  {
   "cell_type": "markdown",
   "metadata": {
    "id": "olUOnxBgptcP"
   },
   "source": [
    "`add_indicator = True:` Adds additional column for each column containing missing values. In our case, this adds two columns one for `ca` and other for `thal`. It indicates if the sample has a missing value.\n",
    "now the number of extra column added will be 1 per missing columns that contains the boolean value i.e True/False to indicate that earlier some values were missing. It is just like a pointer for missing  value update."
   ]
  },
  {
   "cell_type": "code",
   "execution_count": 116,
   "metadata": {
    "colab": {
     "base_uri": "https://localhost:8080/"
    },
    "id": "21Uw2R3cqPZu",
    "outputId": "6f9eda06-cbbd-4850-af9b-1b2752f8b7db"
   },
   "outputs": [
    {
     "data": {
      "text/plain": [
       "(303, 16)"
      ]
     },
     "execution_count": 116,
     "metadata": {},
     "output_type": "execute_result"
    }
   ],
   "source": [
    "imputer = SimpleImputer(missing_values= np.nan, strategy='mean', add_indicator=True)\n",
    "imputer = imputer.fit(heart_data)\n",
    "heart_data_imputed_with_indicator = imputer.transform(heart_data)\n",
    "heart_data_imputed_with_indicator.shape"
   ]
  },
  {
   "cell_type": "markdown",
   "metadata": {
    "id": "Jx1XPYRErVku"
   },
   "source": [
    "#**Feature Scaling**\n",
    "Feature Scaling **transform feature values** such that **all the features are on the same scale**\n",
    "When we use feature matrix with all features on the same scale, it provides us certain advantages as listed below:\n",
    "* __Enables Faster Convergence__ in iterative optimization algorithms like gradien descent and its variants.\n",
    "* The performance of ML algorithms such as SVM, K-NN and K-means etc that compute euclidean distance among input samples gets impacted if the features are not scaled.\n",
    "\n",
    "`Tree` based Ml algorithms are not affected by feature-scaling. In other words, feature scaling is not required for `tree` based ML algorithms.\n",
    "Feature scaling can be performed with the following methods:\n",
    "* Standardization\n",
    "* Normalization\n",
    "* MaxAbsScaler\n",
    "\n",
    "Let's demonstrate feature scaling on a real world dataset. For This purpose we will be using <https://archive.ics.uci.edu/ml/datasets/Abalone> We will use different scaling utilities in `sklearn` library."
   ]
  },
  {
   "cell_type": "code",
   "execution_count": 117,
   "metadata": {
    "id": "pBP1WR00uTX5"
   },
   "outputs": [],
   "source": [
    "cols = ['sex', 'Length', 'Diameter', 'Height','Whole weight', 'Shucked weight', 'Viscera weight', 'Shell weight', 'Rings']\n",
    "abalone_data = pd.read_csv('https://archive.ics.uci.edu/ml/machine-learning-databases/abalone/abalone.data',header=None, names=cols)"
   ]
  },
  {
   "cell_type": "markdown",
   "metadata": {
    "id": "XTiV1_AHvXjV"
   },
   "source": [
    "[Abalone dataset](https://archive.ics.uci.edu/ml/machine-learning-databases/abalone/abalone.data) has the following columns:\n",
    "    \n",
    "    Sex -nominal (M, F, and I (infant)) \n",
    "    Length (mm - Longest shell measurement) \n",
    "    Diameter (mm - perpendicular to lenght)\n",
    "    Height (mm - with meat in shell) \n",
    "    Whole weight (grams -whole abalone)\n",
    "    Shucked weight (grams - whole abalone)\n",
    "    Viscera weight (grams - gut weight (after bleeding))\n",
    "    Shell weight (grams - after being dried)\n",
    "    Rings (target - age in years)\n",
    "    "
   ]
  },
  {
   "cell_type": "markdown",
   "metadata": {
    "id": "6RQXNbLwxzaH"
   },
   "source": [
    "#**STEP 1:** Examine the dataset\n",
    "Feature scaling is performed only on numerical attributes. Let's check which are numerical attributes in this dataset. We can get that via `info()` method."
   ]
  },
  {
   "cell_type": "code",
   "execution_count": 118,
   "metadata": {
    "colab": {
     "base_uri": "https://localhost:8080/"
    },
    "id": "nDy-kE32yKet",
    "outputId": "93307e3d-cd32-4ff3-a6f9-8314fd5298a0"
   },
   "outputs": [
    {
     "name": "stdout",
     "output_type": "stream",
     "text": [
      "<class 'pandas.core.frame.DataFrame'>\n",
      "RangeIndex: 4177 entries, 0 to 4176\n",
      "Data columns (total 9 columns):\n",
      " #   Column          Non-Null Count  Dtype  \n",
      "---  ------          --------------  -----  \n",
      " 0   sex             4177 non-null   object \n",
      " 1   Length          4177 non-null   float64\n",
      " 2   Diameter        4177 non-null   float64\n",
      " 3   Height          4177 non-null   float64\n",
      " 4   Whole weight    4177 non-null   float64\n",
      " 5   Shucked weight  4177 non-null   float64\n",
      " 6   Viscera weight  4177 non-null   float64\n",
      " 7   Shell weight    4177 non-null   float64\n",
      " 8   Rings           4177 non-null   int64  \n",
      "dtypes: float64(7), int64(1), object(1)\n",
      "memory usage: 293.8+ KB\n"
     ]
    }
   ],
   "source": [
    "abalone_data.info()"
   ]
  },
  {
   "cell_type": "markdown",
   "metadata": {
    "id": "--HGjQ2eyb3S"
   },
   "source": [
    "#**STEP 1a [Optional]: Convert non-numerical attributes to numerical ones. \n",
    "> In this dataset, `sex` is a non-numeric column in this dataset. Let's examine it and see if we can convert it to numeric representation."
   ]
  },
  {
   "cell_type": "code",
   "execution_count": 119,
   "metadata": {
    "colab": {
     "base_uri": "https://localhost:8080/"
    },
    "id": "BRfyEMNIy-P1",
    "outputId": "f5668592-f970-4140-daea-9a7010ca6c8b"
   },
   "outputs": [
    {
     "data": {
      "text/plain": [
       "array(['M', 'F', 'I'], dtype=object)"
      ]
     },
     "execution_count": 119,
     "metadata": {},
     "output_type": "execute_result"
    }
   ],
   "source": [
    "abalone_data.sex.unique()"
   ]
  },
  {
   "cell_type": "code",
   "execution_count": 120,
   "metadata": {
    "colab": {
     "base_uri": "https://localhost:8080/"
    },
    "id": "96lnPl91zR4P",
    "outputId": "7985da9d-cf7d-404b-c027-68091b85b05a"
   },
   "outputs": [
    {
     "name": "stdout",
     "output_type": "stream",
     "text": [
      "<class 'pandas.core.frame.DataFrame'>\n",
      "RangeIndex: 4177 entries, 0 to 4176\n",
      "Data columns (total 9 columns):\n",
      " #   Column          Non-Null Count  Dtype  \n",
      "---  ------          --------------  -----  \n",
      " 0   sex             4177 non-null   int64  \n",
      " 1   Length          4177 non-null   float64\n",
      " 2   Diameter        4177 non-null   float64\n",
      " 3   Height          4177 non-null   float64\n",
      " 4   Whole weight    4177 non-null   float64\n",
      " 5   Shucked weight  4177 non-null   float64\n",
      " 6   Viscera weight  4177 non-null   float64\n",
      " 7   Shell weight    4177 non-null   float64\n",
      " 8   Rings           4177 non-null   int64  \n",
      "dtypes: float64(7), int64(2)\n",
      "memory usage: 293.8 KB\n"
     ]
    }
   ],
   "source": [
    "#Assign numerical values to sex.\n",
    "abalone_data = abalone_data.replace({\"sex\": {'M':1,'F':2, 'I':3}})\n",
    "abalone_data.info()"
   ]
  },
  {
   "cell_type": "markdown",
   "metadata": {
    "id": "SRfMHX_H0B6E"
   },
   "source": [
    "#**STEP**: Separate labels from features.\n"
   ]
  },
  {
   "cell_type": "code",
   "execution_count": 121,
   "metadata": {
    "colab": {
     "base_uri": "https://localhost:8080/"
    },
    "id": "bgKwIroH0HcC",
    "outputId": "ce4510ef-820d-42eb-94ff-dbf00b3a83e2"
   },
   "outputs": [
    {
     "name": "stdout",
     "output_type": "stream",
     "text": [
      "The DataFrame object after deleting the column\n",
      "<class 'pandas.core.frame.DataFrame'>\n",
      "RangeIndex: 4177 entries, 0 to 4176\n",
      "Data columns (total 8 columns):\n",
      " #   Column          Non-Null Count  Dtype  \n",
      "---  ------          --------------  -----  \n",
      " 0   sex             4177 non-null   int64  \n",
      " 1   Length          4177 non-null   float64\n",
      " 2   Diameter        4177 non-null   float64\n",
      " 3   Height          4177 non-null   float64\n",
      " 4   Whole weight    4177 non-null   float64\n",
      " 5   Shucked weight  4177 non-null   float64\n",
      " 6   Viscera weight  4177 non-null   float64\n",
      " 7   Shell weight    4177 non-null   float64\n",
      "dtypes: float64(7), int64(1)\n",
      "memory usage: 261.2 KB\n"
     ]
    }
   ],
   "source": [
    "y = abalone_data.pop('Rings')\n",
    "print('The DataFrame object after deleting the column')\n",
    "abalone_data.info()"
   ]
  },
  {
   "cell_type": "markdown",
   "metadata": {
    "id": "3-Gzr6uY0cDX"
   },
   "source": [
    "#**STEP 3:** Examine feature scales\n",
    "\n",
    "## Statistical method\n",
    "  check the scales of different feature with `describe` method of dataframe.\n",
    "  "
   ]
  },
  {
   "cell_type": "code",
   "execution_count": 122,
   "metadata": {
    "colab": {
     "base_uri": "https://localhost:8080/",
     "height": 300
    },
    "id": "JDD8QUUV08nc",
    "outputId": "0929b754-494e-41ff-a17e-c126466de6d0"
   },
   "outputs": [
    {
     "data": {
      "text/html": [
       "\n",
       "  <div id=\"df-cfae0dcb-5a83-4145-b906-8c57d86576d4\">\n",
       "    <div class=\"colab-df-container\">\n",
       "      <div>\n",
       "<style scoped>\n",
       "    .dataframe tbody tr th:only-of-type {\n",
       "        vertical-align: middle;\n",
       "    }\n",
       "\n",
       "    .dataframe tbody tr th {\n",
       "        vertical-align: top;\n",
       "    }\n",
       "\n",
       "    .dataframe thead th {\n",
       "        text-align: right;\n",
       "    }\n",
       "</style>\n",
       "<table border=\"1\" class=\"dataframe\">\n",
       "  <thead>\n",
       "    <tr style=\"text-align: right;\">\n",
       "      <th></th>\n",
       "      <th>count</th>\n",
       "      <th>mean</th>\n",
       "      <th>std</th>\n",
       "      <th>min</th>\n",
       "      <th>25%</th>\n",
       "      <th>50%</th>\n",
       "      <th>75%</th>\n",
       "      <th>max</th>\n",
       "    </tr>\n",
       "  </thead>\n",
       "  <tbody>\n",
       "    <tr>\n",
       "      <th>sex</th>\n",
       "      <td>4177.0</td>\n",
       "      <td>1.955470</td>\n",
       "      <td>0.827815</td>\n",
       "      <td>1.0000</td>\n",
       "      <td>1.0000</td>\n",
       "      <td>2.0000</td>\n",
       "      <td>3.000</td>\n",
       "      <td>3.0000</td>\n",
       "    </tr>\n",
       "    <tr>\n",
       "      <th>Length</th>\n",
       "      <td>4177.0</td>\n",
       "      <td>0.523992</td>\n",
       "      <td>0.120093</td>\n",
       "      <td>0.0750</td>\n",
       "      <td>0.4500</td>\n",
       "      <td>0.5450</td>\n",
       "      <td>0.615</td>\n",
       "      <td>0.8150</td>\n",
       "    </tr>\n",
       "    <tr>\n",
       "      <th>Diameter</th>\n",
       "      <td>4177.0</td>\n",
       "      <td>0.407881</td>\n",
       "      <td>0.099240</td>\n",
       "      <td>0.0550</td>\n",
       "      <td>0.3500</td>\n",
       "      <td>0.4250</td>\n",
       "      <td>0.480</td>\n",
       "      <td>0.6500</td>\n",
       "    </tr>\n",
       "    <tr>\n",
       "      <th>Height</th>\n",
       "      <td>4177.0</td>\n",
       "      <td>0.139516</td>\n",
       "      <td>0.041827</td>\n",
       "      <td>0.0000</td>\n",
       "      <td>0.1150</td>\n",
       "      <td>0.1400</td>\n",
       "      <td>0.165</td>\n",
       "      <td>1.1300</td>\n",
       "    </tr>\n",
       "    <tr>\n",
       "      <th>Whole weight</th>\n",
       "      <td>4177.0</td>\n",
       "      <td>0.828742</td>\n",
       "      <td>0.490389</td>\n",
       "      <td>0.0020</td>\n",
       "      <td>0.4415</td>\n",
       "      <td>0.7995</td>\n",
       "      <td>1.153</td>\n",
       "      <td>2.8255</td>\n",
       "    </tr>\n",
       "    <tr>\n",
       "      <th>Shucked weight</th>\n",
       "      <td>4177.0</td>\n",
       "      <td>0.359367</td>\n",
       "      <td>0.221963</td>\n",
       "      <td>0.0010</td>\n",
       "      <td>0.1860</td>\n",
       "      <td>0.3360</td>\n",
       "      <td>0.502</td>\n",
       "      <td>1.4880</td>\n",
       "    </tr>\n",
       "    <tr>\n",
       "      <th>Viscera weight</th>\n",
       "      <td>4177.0</td>\n",
       "      <td>0.180594</td>\n",
       "      <td>0.109614</td>\n",
       "      <td>0.0005</td>\n",
       "      <td>0.0935</td>\n",
       "      <td>0.1710</td>\n",
       "      <td>0.253</td>\n",
       "      <td>0.7600</td>\n",
       "    </tr>\n",
       "    <tr>\n",
       "      <th>Shell weight</th>\n",
       "      <td>4177.0</td>\n",
       "      <td>0.238831</td>\n",
       "      <td>0.139203</td>\n",
       "      <td>0.0015</td>\n",
       "      <td>0.1300</td>\n",
       "      <td>0.2340</td>\n",
       "      <td>0.329</td>\n",
       "      <td>1.0050</td>\n",
       "    </tr>\n",
       "  </tbody>\n",
       "</table>\n",
       "</div>\n",
       "      <button class=\"colab-df-convert\" onclick=\"convertToInteractive('df-cfae0dcb-5a83-4145-b906-8c57d86576d4')\"\n",
       "              title=\"Convert this dataframe to an interactive table.\"\n",
       "              style=\"display:none;\">\n",
       "        \n",
       "  <svg xmlns=\"http://www.w3.org/2000/svg\" height=\"24px\"viewBox=\"0 0 24 24\"\n",
       "       width=\"24px\">\n",
       "    <path d=\"M0 0h24v24H0V0z\" fill=\"none\"/>\n",
       "    <path d=\"M18.56 5.44l.94 2.06.94-2.06 2.06-.94-2.06-.94-.94-2.06-.94 2.06-2.06.94zm-11 1L8.5 8.5l.94-2.06 2.06-.94-2.06-.94L8.5 2.5l-.94 2.06-2.06.94zm10 10l.94 2.06.94-2.06 2.06-.94-2.06-.94-.94-2.06-.94 2.06-2.06.94z\"/><path d=\"M17.41 7.96l-1.37-1.37c-.4-.4-.92-.59-1.43-.59-.52 0-1.04.2-1.43.59L10.3 9.45l-7.72 7.72c-.78.78-.78 2.05 0 2.83L4 21.41c.39.39.9.59 1.41.59.51 0 1.02-.2 1.41-.59l7.78-7.78 2.81-2.81c.8-.78.8-2.07 0-2.86zM5.41 20L4 18.59l7.72-7.72 1.47 1.35L5.41 20z\"/>\n",
       "  </svg>\n",
       "      </button>\n",
       "      \n",
       "  <style>\n",
       "    .colab-df-container {\n",
       "      display:flex;\n",
       "      flex-wrap:wrap;\n",
       "      gap: 12px;\n",
       "    }\n",
       "\n",
       "    .colab-df-convert {\n",
       "      background-color: #E8F0FE;\n",
       "      border: none;\n",
       "      border-radius: 50%;\n",
       "      cursor: pointer;\n",
       "      display: none;\n",
       "      fill: #1967D2;\n",
       "      height: 32px;\n",
       "      padding: 0 0 0 0;\n",
       "      width: 32px;\n",
       "    }\n",
       "\n",
       "    .colab-df-convert:hover {\n",
       "      background-color: #E2EBFA;\n",
       "      box-shadow: 0px 1px 2px rgba(60, 64, 67, 0.3), 0px 1px 3px 1px rgba(60, 64, 67, 0.15);\n",
       "      fill: #174EA6;\n",
       "    }\n",
       "\n",
       "    [theme=dark] .colab-df-convert {\n",
       "      background-color: #3B4455;\n",
       "      fill: #D2E3FC;\n",
       "    }\n",
       "\n",
       "    [theme=dark] .colab-df-convert:hover {\n",
       "      background-color: #434B5C;\n",
       "      box-shadow: 0px 1px 3px 1px rgba(0, 0, 0, 0.15);\n",
       "      filter: drop-shadow(0px 1px 2px rgba(0, 0, 0, 0.3));\n",
       "      fill: #FFFFFF;\n",
       "    }\n",
       "  </style>\n",
       "\n",
       "      <script>\n",
       "        const buttonEl =\n",
       "          document.querySelector('#df-cfae0dcb-5a83-4145-b906-8c57d86576d4 button.colab-df-convert');\n",
       "        buttonEl.style.display =\n",
       "          google.colab.kernel.accessAllowed ? 'block' : 'none';\n",
       "\n",
       "        async function convertToInteractive(key) {\n",
       "          const element = document.querySelector('#df-cfae0dcb-5a83-4145-b906-8c57d86576d4');\n",
       "          const dataTable =\n",
       "            await google.colab.kernel.invokeFunction('convertToInteractive',\n",
       "                                                     [key], {});\n",
       "          if (!dataTable) return;\n",
       "\n",
       "          const docLinkHtml = 'Like what you see? Visit the ' +\n",
       "            '<a target=\"_blank\" href=https://colab.research.google.com/notebooks/data_table.ipynb>data table notebook</a>'\n",
       "            + ' to learn more about interactive tables.';\n",
       "          element.innerHTML = '';\n",
       "          dataTable['output_type'] = 'display_data';\n",
       "          await google.colab.output.renderOutput(dataTable, element);\n",
       "          const docLink = document.createElement('div');\n",
       "          docLink.innerHTML = docLinkHtml;\n",
       "          element.appendChild(docLink);\n",
       "        }\n",
       "      </script>\n",
       "    </div>\n",
       "  </div>\n",
       "  "
      ],
      "text/plain": [
       "                 count      mean       std  ...     50%    75%     max\n",
       "sex             4177.0  1.955470  0.827815  ...  2.0000  3.000  3.0000\n",
       "Length          4177.0  0.523992  0.120093  ...  0.5450  0.615  0.8150\n",
       "Diameter        4177.0  0.407881  0.099240  ...  0.4250  0.480  0.6500\n",
       "Height          4177.0  0.139516  0.041827  ...  0.1400  0.165  1.1300\n",
       "Whole weight    4177.0  0.828742  0.490389  ...  0.7995  1.153  2.8255\n",
       "Shucked weight  4177.0  0.359367  0.221963  ...  0.3360  0.502  1.4880\n",
       "Viscera weight  4177.0  0.180594  0.109614  ...  0.1710  0.253  0.7600\n",
       "Shell weight    4177.0  0.238831  0.139203  ...  0.2340  0.329  1.0050\n",
       "\n",
       "[8 rows x 8 columns]"
      ]
     },
     "execution_count": 122,
     "metadata": {},
     "output_type": "execute_result"
    }
   ],
   "source": [
    "abalone_data.describe().T"
   ]
  },
  {
   "cell_type": "markdown",
   "metadata": {
    "id": "xPIAL7IP07zf"
   },
   "source": [
    "Note that\n",
    "* There are 4177 examples or rows in this dataset.\n",
    "* The mean and standard deviation of features are quite different from one another.\n",
    "\n",
    "> We can confirm that with a variety of visualization techniques and plots.\n",
    "#Visualization of feature distributions.\n",
    "\n",
    "  Visualize feature distributions.\n",
    "  * HIstrogram\n",
    "  * Kernel density estimation (KDE) plot\n",
    "  * Box\n",
    "  * Violin\n",
    "\n",
    "Feature histogram:\n",
    "  We will have separate and combined histogram plots to check if the feature are indeed on different scales.\n",
    "\n",
    "  "
   ]
  },
  {
   "cell_type": "code",
   "execution_count": 123,
   "metadata": {
    "colab": {
     "base_uri": "https://localhost:8080/",
     "height": 355
    },
    "id": "hhB1m0Pl2bcA",
    "outputId": "843e17dd-c5ee-42d1-b8db-8724aa0fac96"
   },
   "outputs": [
    {
     "data": {
      "text/plain": [
       "(array([   7.,   60.,  147.,  304.,  460.,  778., 1051., 1017.,  324.,\n",
       "          29.]),\n",
       " array([0.075, 0.149, 0.223, 0.297, 0.371, 0.445, 0.519, 0.593, 0.667,\n",
       "        0.741, 0.815]),\n",
       " <a list of 10 Patch objects>)"
      ]
     },
     "execution_count": 123,
     "metadata": {},
     "output_type": "execute_result"
    },
    {
     "data": {
      "image/png": "[encoded data removed]",
      "text/plain": [
       "<Figure size 432x288 with 1 Axes>"
      ]
     },
     "metadata": {
      "needs_background": "light"
     },
     "output_type": "display_data"
    }
   ],
   "source": [
    "%matplotlib inline\n",
    "plt.hist(np.array(abalone_data['Length']))"
   ]
  },
  {
   "cell_type": "code",
   "execution_count": 124,
   "metadata": {
    "colab": {
     "base_uri": "https://localhost:8080/",
     "height": 372
    },
    "id": "YYN9kctp3wx9",
    "outputId": "d393e3e3-d075-475d-a380-af3184b379c2"
   },
   "outputs": [
    {
     "data": {
      "text/plain": [
       "(array([ 786., 1052.,  962.,  775.,  399.,  123.,   46.,   24.,    7.,\n",
       "           3.]),\n",
       " array([1.0000e-03, 1.4970e-01, 2.9840e-01, 4.4710e-01, 5.9580e-01,\n",
       "        7.4450e-01, 8.9320e-01, 1.0419e+00, 1.1906e+00, 1.3393e+00,\n",
       "        1.4880e+00]),\n",
       " <a list of 10 Patch objects>)"
      ]
     },
     "execution_count": 124,
     "metadata": {},
     "output_type": "execute_result"
    },
    {
     "data": {
      "image/png": "[encoded data removed]",
      "text/plain": [
       "<Figure size 432x288 with 1 Axes>"
      ]
     },
     "metadata": {
      "needs_background": "light"
     },
     "output_type": "display_data"
    }
   ],
   "source": [
    "plt.hist(np.array(abalone_data['Shucked weight']))"
   ]
  },
  {
   "cell_type": "code",
   "execution_count": 125,
   "metadata": {
    "colab": {
     "base_uri": "https://localhost:8080/"
    },
    "id": "lavURUqz6zR6",
    "outputId": "9e8615d1-4dcb-4391-9e5c-f3709f3597cb"
   },
   "outputs": [
    {
     "data": {
      "text/plain": [
       "Index(['sex', 'Length', 'Diameter', 'Height', 'Whole weight', 'Shucked weight',\n",
       "       'Viscera weight', 'Shell weight'],\n",
       "      dtype='object')"
      ]
     },
     "execution_count": 125,
     "metadata": {},
     "output_type": "execute_result"
    }
   ],
   "source": [
    "in_cols = abalone_data.columns\n",
    "in_cols"
   ]
  },
  {
   "cell_type": "code",
   "execution_count": 126,
   "metadata": {
    "colab": {
     "base_uri": "https://localhost:8080/",
     "height": 355
    },
    "id": "xK72lsWk-f22",
    "outputId": "60035c0d-aaf6-4547-880f-fb28000624f7"
   },
   "outputs": [
    {
     "data": {
      "text/plain": [
       "(array([7.770e+02, 1.023e+03, 1.078e+03, 7.980e+02, 3.490e+02, 1.040e+02,\n",
       "        3.300e+01, 9.000e+00, 5.000e+00, 1.000e+00]),\n",
       " array([0.0015 , 0.10185, 0.2022 , 0.30255, 0.4029 , 0.50325, 0.6036 ,\n",
       "        0.70395, 0.8043 , 0.90465, 1.005  ]),\n",
       " <a list of 10 Patch objects>)"
      ]
     },
     "execution_count": 126,
     "metadata": {},
     "output_type": "execute_result"
    },
    {
     "data": {
      "image/png": "[encoded data removed]",
      "text/plain": [
       "<Figure size 432x288 with 1 Axes>"
      ]
     },
     "metadata": {
      "needs_background": "light"
     },
     "output_type": "display_data"
    }
   ],
   "source": [
    "plt.hist(np.array(abalone_data['sex']))\n",
    "plt.hist(np.array(abalone_data['Length']))\n",
    "plt.hist(np.array(abalone_data['Height']))\n",
    "plt.hist(np.array(abalone_data['Whole weight']))\n",
    "plt.hist(np.array(abalone_data['Shucked weight']))\n",
    "plt.hist(np.array(abalone_data['Viscera weight']))\n",
    "plt.hist(np.array(abalone_data['Shell weight']))"
   ]
  },
  {
   "cell_type": "markdown",
   "metadata": {
    "id": "wu5RhYDT_K8k"
   },
   "source": [
    "KDE plot\n",
    "Alternatively, we can generate **Kernel Density Estimate** plot using Gaussian Kernels.\n",
    "> In statistics, kernel density function (KDE) is a non-parametric way to estimate the probability density function (PDF) of a random variable.\n",
    "This function uses Gaussian Kernels and includes automatic bandwidth determination."
   ]
  },
  {
   "cell_type": "code",
   "execution_count": 127,
   "metadata": {
    "colab": {
     "base_uri": "https://localhost:8080/",
     "height": 268
    },
    "id": "hVIz3FKq_tOt",
    "outputId": "49f72b9c-2e0c-4188-f92f-f950075d2089"
   },
   "outputs": [
    {
     "data": {
      "image/png": "[encoded data removed]",
      "text/plain": [
       "<Figure size 432x288 with 1 Axes>"
      ]
     },
     "metadata": {
      "needs_background": "light"
     },
     "output_type": "display_data"
    }
   ],
   "source": [
    "#@title [KDE plots - combined]\n",
    "ax =abalone_data.plot.kde()"
   ]
  },
  {
   "cell_type": "markdown",
   "metadata": {
    "id": "fhWbN9tx_-5U"
   },
   "source": [
    "Observe that the features have different distributions and scales.\n",
    "#Box plot\n",
    "A **box plot** (or box-and-whisker plot) shows the **distribution of quantitative** in a way that facilitates comparisions between variables or across levels of a categorical variables.\n",
    "\n",
    "The box shows the **quartiles** of the dataset while the **whiskers** extend to show the rest of the distribution, except for points that are determined to be 'outliers' using a method that is a function of the inter-quartile range.\n",
    "\n",
    "#[Box Plot]\n"
   ]
  },
  {
   "cell_type": "code",
   "execution_count": 319,
   "metadata": {
    "colab": {
     "base_uri": "https://localhost:8080/",
     "height": 285
    },
    "id": "8wUHfGy-BEjs",
    "outputId": "b0e8822a-1a23-47ec-a0be-326362ec8b94"
   },
   "outputs": [
    {
     "data": {
      "text/plain": [
       "<matplotlib.axes._subplots.AxesSubplot at 0x7ff728f56810>"
      ]
     },
     "execution_count": 319,
     "metadata": {},
     "output_type": "execute_result"
    },
    {
     "data": {
      "image/png": "[encoded data removed]",
      "text/plain": [
       "<Figure size 432x288 with 1 Axes>"
      ]
     },
     "metadata": {
      "needs_background": "light"
     },
     "output_type": "display_data"
    }
   ],
   "source": [
    "ax = sns.boxplot(data=abalone_data, orient='h')\n",
    "\n",
    "ax"
   ]
  },
  {
   "cell_type": "markdown",
   "metadata": {
    "id": "PkQzwBLfHKoy"
   },
   "source": [
    "#**STEP 4:** Scaling\n",
    "\n",
    "\n",
    "Normalization\n",
    "\n",
    "The features are normalized such that their range lies between $[0,1] or [-1,1]$.There are two way to achieve this.\n",
    "\n",
    "* `MaxAbsScaler` transform features in range $[-1,1]$ \n",
    "* `MinMaxScaler` transforms features in range $[0,1]$\n",
    "\n",
    "MaxAbsScaler\n",
    "It transforms the original features vector $ \\textbf x$ into new feature vector $\\textbf x^{'} $ so that all values fall within range [-1,1] \\\\\n",
    "\\begin{equation} \\textbf x^{'} = \\frac{\\textbf x}{\\text {MaxAbsoluteValue}}\\end{equation}\n",
    "\n",
    "where \\begin{equation} \\text {MaxAbsolutevalue}= \\text {max}(\\textbf x.max,|\\textbf x.min|)\\end{equation}\n"
   ]
  },
  {
   "cell_type": "code",
   "execution_count": 129,
   "metadata": {
    "colab": {
     "base_uri": "https://localhost:8080/"
    },
    "id": "ZQD6BvGBJj3Q",
    "outputId": "657e0df0-5fc9-4ea5-bceb-8c6d82f4976c"
   },
   "outputs": [
    {
     "name": "stdout",
     "output_type": "stream",
     "text": [
      "[[   4]\n",
      " [   2]\n",
      " [   5]\n",
      " [  -2]\n",
      " [-100]]\n"
     ]
    }
   ],
   "source": [
    "x = np.array([4,2,5,-2,-100]).reshape(-1,1)\n",
    "print(x)"
   ]
  },
  {
   "cell_type": "code",
   "execution_count": 130,
   "metadata": {
    "colab": {
     "base_uri": "https://localhost:8080/"
    },
    "id": "UgpBy08QJ8Y-",
    "outputId": "a67b31e6-db1b-4fa6-fa5e-7ef7dda17008"
   },
   "outputs": [
    {
     "data": {
      "text/plain": [
       "array([[ 0.04],\n",
       "       [ 0.02],\n",
       "       [ 0.05],\n",
       "       [-0.02],\n",
       "       [-1.  ]])"
      ]
     },
     "execution_count": 130,
     "metadata": {},
     "output_type": "execute_result"
    }
   ],
   "source": [
    "from sklearn.preprocessing import MaxAbsScaler \n",
    "mas = MaxAbsScaler() \n",
    "x_new = mas.fit_transform(x)\n",
    "x_new"
   ]
  },
  {
   "cell_type": "markdown",
   "metadata": {
    "id": "W2Riojm-KPUO"
   },
   "source": [
    "#MinMaxScaler \n",
    "Normalization is a procedure in which the features' values are scaled such that they range between 0 and 1. This technique is also called **min-max scaling**. It is performed with the following formula:\n",
    "\\begin{equation} \\mathbf X_{new} = \\frac{X_{old} - X_{min} }{\\mathbf X_{max} - X_{min}}\\end{equation}\n",
    "\n",
    "Where\n",
    "* $X_{old}$ is the old value of a data point, which is rescaled to $ X_{new}$.\n",
    "* $X_{min}$ is minimum value of feature $X$\n",
    "* $X_{max}$, is maximum value of feature $X$.\n",
    "\n",
    "Normalization can be achieved by `MinMaxScaler` from sklearn library.\n"
   ]
  },
  {
   "cell_type": "code",
   "execution_count": 131,
   "metadata": {
    "colab": {
     "base_uri": "https://localhost:8080/"
    },
    "id": "_gfIUvVwMKUY",
    "outputId": "536ea638-f7dc-4121-d06f-fe349121af8c"
   },
   "outputs": [
    {
     "data": {
      "text/plain": [
       "array([[0.        , 0.51351351, 0.5210084 , 0.0840708 , 0.18133522,\n",
       "        0.15030262, 0.1323239 , 0.14798206],\n",
       "       [0.        , 0.37162162, 0.35294118, 0.07964602, 0.07915707,\n",
       "        0.06624075, 0.06319947, 0.06826109],\n",
       "       [0.5       , 0.61486486, 0.61344538, 0.11946903, 0.23906499,\n",
       "        0.17182246, 0.18564845, 0.2077728 ],\n",
       "       [0.        , 0.49324324, 0.5210084 , 0.11061947, 0.18204356,\n",
       "        0.14425017, 0.14944042, 0.15296462],\n",
       "       [1.        , 0.34459459, 0.33613445, 0.07079646, 0.07189658,\n",
       "        0.0595158 , 0.05134957, 0.0533134 ]])"
      ]
     },
     "execution_count": 131,
     "metadata": {},
     "output_type": "execute_result"
    }
   ],
   "source": [
    "from sklearn.preprocessing import MinMaxScaler \n",
    "X = abalone_data \n",
    "mm = MinMaxScaler() \n",
    "X_normalized = mm.fit_transform(X)\n",
    "X_normalized[:5]"
   ]
  },
  {
   "cell_type": "markdown",
   "metadata": {
    "id": "__CP7gAmMp9-"
   },
   "source": [
    "Let's look at the mean and standard deviation (SD) of each feature:\n"
   ]
  },
  {
   "cell_type": "code",
   "execution_count": 132,
   "metadata": {
    "colab": {
     "base_uri": "https://localhost:8080/"
    },
    "id": "eCGOYiERMy0E",
    "outputId": "bf40fdb4-49c6-40ee-fa30-79c9c99a21f7"
   },
   "outputs": [
    {
     "data": {
      "text/plain": [
       "array([0.47773522, 0.60674608, 0.59307774, 0.12346584, 0.29280756,\n",
       "       0.24100033, 0.23712127, 0.2365031 ])"
      ]
     },
     "execution_count": 132,
     "metadata": {},
     "output_type": "execute_result"
    }
   ],
   "source": [
    "X_normalized.mean(axis=0)"
   ]
  },
  {
   "cell_type": "code",
   "execution_count": 133,
   "metadata": {
    "colab": {
     "base_uri": "https://localhost:8080/"
    },
    "id": "Hi_er1AgM72S",
    "outputId": "acc12e5a-08b9-49d2-c14b-28c3beb96753"
   },
   "outputs": [
    {
     "data": {
      "text/plain": [
       "array([0.4138578 , 0.16226829, 0.16676972, 0.03701066, 0.17366046,\n",
       "       0.14925109, 0.14430695, 0.13870055])"
      ]
     },
     "execution_count": 133,
     "metadata": {},
     "output_type": "execute_result"
    }
   ],
   "source": [
    "X_normalized.std(axis=0)"
   ]
  },
  {
   "cell_type": "markdown",
   "metadata": {
    "id": "53WaV7UtM_8b"
   },
   "source": [
    "The means of SDs of different features are now comparable. We can confirm this again through visualization as before:"
   ]
  },
  {
   "cell_type": "markdown",
   "metadata": {
    "id": "zIcGNtkuNLGt"
   },
   "source": [
    "[Histogram of tranformed features]"
   ]
  },
  {
   "cell_type": "code",
   "execution_count": 134,
   "metadata": {
    "colab": {
     "base_uri": "https://localhost:8080/"
    },
    "id": "qhpAjLYnNQ-k",
    "outputId": "b6e28818-589d-4b45-f1ab-be40171ddbd9"
   },
   "outputs": [
    {
     "name": "stdout",
     "output_type": "stream",
     "text": [
      "<class 'pandas.core.frame.DataFrame'>\n",
      "RangeIndex: 4177 entries, 0 to 4176\n",
      "Data columns (total 8 columns):\n",
      " #   Column          Non-Null Count  Dtype  \n",
      "---  ------          --------------  -----  \n",
      " 0   sex             4177 non-null   float64\n",
      " 1   Length          4177 non-null   float64\n",
      " 2   Diameter        4177 non-null   float64\n",
      " 3   Height          4177 non-null   float64\n",
      " 4   Whole weight    4177 non-null   float64\n",
      " 5   Shucked weight  4177 non-null   float64\n",
      " 6   Viscera weight  4177 non-null   float64\n",
      " 7   Shell weight    4177 non-null   float64\n",
      "dtypes: float64(8)\n",
      "memory usage: 261.2 KB\n"
     ]
    }
   ],
   "source": [
    "cols = ['sex', 'Length', 'Diameter', 'Height','Whole weight', 'Shucked weight', 'Viscera weight', 'Shell weight']\n",
    "X_normalized = pd.DataFrame(X_normalized, columns= cols)\n",
    "X_normalized.info()\n"
   ]
  },
  {
   "cell_type": "code",
   "execution_count": 320,
   "metadata": {
    "colab": {
     "base_uri": "https://localhost:8080/",
     "height": 288
    },
    "id": "wAEw_vdJQWMk",
    "outputId": "c5922513-068d-41c3-df9e-53289f3fd85f"
   },
   "outputs": [
    {
     "data": {
      "text/plain": [
       "<matplotlib.axes._subplots.AxesSubplot at 0x7ff728e75cd0>"
      ]
     },
     "execution_count": 320,
     "metadata": {},
     "output_type": "execute_result"
    },
    {
     "data": {
      "image/png": "[encoded data removed]",
      "text/plain": [
       "<Figure size 432x288 with 1 Axes>"
      ]
     },
     "metadata": {
      "needs_background": "light"
     },
     "output_type": "display_data"
    }
   ],
   "source": [
    "sns.histplot(data=X_normalized)"
   ]
  },
  {
   "cell_type": "code",
   "execution_count": 321,
   "metadata": {
    "colab": {
     "base_uri": "https://localhost:8080/",
     "height": 285
    },
    "id": "UuKwQdCKRKgD",
    "outputId": "323ad065-904e-4eb8-b715-53a3f32ead94"
   },
   "outputs": [
    {
     "data": {
      "text/plain": [
       "<matplotlib.axes._subplots.AxesSubplot at 0x7ff728c1ced0>"
      ]
     },
     "execution_count": 321,
     "metadata": {},
     "output_type": "execute_result"
    },
    {
     "data": {
      "image/png": "[encoded data removed]",
      "text/plain": [
       "<Figure size 432x288 with 1 Axes>"
      ]
     },
     "metadata": {
      "needs_background": "light"
     },
     "output_type": "display_data"
    }
   ],
   "source": [
    "\n",
    "sns.kdeplot(data=X_normalized)"
   ]
  },
  {
   "cell_type": "markdown",
   "metadata": {
    "id": "WYtttGfHRvRl"
   },
   "source": [
    "#Standardization \n",
    "\n",
    "Standardization is another feature scaling technique that results into (close to ) zero mean and unit standard deviation of a feature's values.\n",
    "Formula for standardization:\n",
    "\\begin{equation} X_{new} = \\frac{X_{old}-\\mu}{\\sigma}\\end{equation}\n",
    "\n",
    "Here $\\mu$  and $\\sigma$ respectively are the mean and standard deviation of the feature values.\n",
    "\n",
    "Standardization can be achieved by StandardScaler from sklearn library.\n"
   ]
  },
  {
   "cell_type": "code",
   "execution_count": 137,
   "metadata": {
    "colab": {
     "base_uri": "https://localhost:8080/"
    },
    "id": "O-BFHrtRSnJC",
    "outputId": "99b6cab0-f3a4-4237-de6f-e5ba891f23bf"
   },
   "outputs": [
    {
     "data": {
      "text/plain": [
       "array([[-1.15434629, -0.57455813, -0.43214879, -1.06442415, -0.64189823,\n",
       "        -0.60768536, -0.72621157, -0.63821689],\n",
       "       [-1.15434629, -1.44898585, -1.439929  , -1.18397831, -1.23027711,\n",
       "        -1.17090984, -1.20522124, -1.21298732],\n",
       "       [ 0.05379815,  0.05003309,  0.12213032, -0.10799087, -0.30946926,\n",
       "        -0.4634999 , -0.35668983, -0.20713907],\n",
       "       [-1.15434629, -0.69947638, -0.43214879, -0.34709919, -0.63781934,\n",
       "        -0.64823753, -0.60759966, -0.60229374],\n",
       "       [ 1.26194258, -1.61554351, -1.54070702, -1.42308663, -1.27208566,\n",
       "        -1.2159678 , -1.28733718, -1.32075677]])"
      ]
     },
     "execution_count": 137,
     "metadata": {},
     "output_type": "execute_result"
    }
   ],
   "source": [
    "from sklearn.preprocessing import StandardScaler \n",
    "ss = StandardScaler() \n",
    "X_standardized = ss.fit_transform(X)\n",
    "X_standardized[:5]"
   ]
  },
  {
   "cell_type": "code",
   "execution_count": 138,
   "metadata": {
    "colab": {
     "base_uri": "https://localhost:8080/"
    },
    "id": "rU-wAgCJTWrR",
    "outputId": "d9b3e18f-d8ea-4352-d07d-626f67b618e6"
   },
   "outputs": [
    {
     "data": {
      "text/plain": [
       "array([-1.19075871e-17, -5.83471770e-16, -3.02792930e-16,  3.91249292e-16,\n",
       "        8.84563616e-17,  3.40216776e-18,  6.80433551e-18,  2.89184259e-16])"
      ]
     },
     "execution_count": 138,
     "metadata": {},
     "output_type": "execute_result"
    }
   ],
   "source": [
    "X_standardized.mean(axis=0)"
   ]
  },
  {
   "cell_type": "code",
   "execution_count": 139,
   "metadata": {
    "colab": {
     "base_uri": "https://localhost:8080/"
    },
    "id": "PuxRok4wTnEE",
    "outputId": "b674da5b-206a-4064-c210-8827462b38ca"
   },
   "outputs": [
    {
     "data": {
      "text/plain": [
       "array([1., 1., 1., 1., 1., 1., 1., 1.])"
      ]
     },
     "execution_count": 139,
     "metadata": {},
     "output_type": "execute_result"
    }
   ],
   "source": [
    "X_standardized.std(axis=0)"
   ]
  },
  {
   "cell_type": "markdown",
   "metadata": {
    "id": "9gFmflZcT3I_"
   },
   "source": [
    "The `means` of different features are now comparable with SD =1"
   ]
  },
  {
   "cell_type": "code",
   "execution_count": 322,
   "metadata": {
    "colab": {
     "base_uri": "https://localhost:8080/",
     "height": 288
    },
    "id": "kHcrzYgeUCAj",
    "outputId": "9670b799-1c8a-4698-fa9f-2b026c8dbed7"
   },
   "outputs": [
    {
     "data": {
      "text/plain": [
       "<matplotlib.axes._subplots.AxesSubplot at 0x7ff7292a4fd0>"
      ]
     },
     "execution_count": 322,
     "metadata": {},
     "output_type": "execute_result"
    },
    {
     "data": {
      "image/png": "[encoded data removed]",
      "text/plain": [
       "<Figure size 432x288 with 1 Axes>"
      ]
     },
     "metadata": {
      "needs_background": "light"
     },
     "output_type": "display_data"
    }
   ],
   "source": [
    "#@title $[Histogram - combined]$\n",
    "# create a new plot \n",
    "#sns.histplot(data=X_standardized)\n",
    "in_cols=cols[:len(cols)-1]\n",
    "plt.figure (figsize=(15,8))\n",
    "data = pd.DataFrame(X_standardized, columns = cols)\n",
    "for colname in abalone_data:\n",
    "  plt.hist(data[colname].values , alpha=0.4)\n",
    "plt.legend (in_cols, fontsize=18, loc='upper right',frameon=True)\n",
    "plt.title('Distribution of features across samples after standardization')\n",
    "plt.xlabel ('Range', fontsize=16)\n",
    "plt.ylabel('Frequency',fontsize=16) \n",
    "plt.show()"
   ]
  },
  {
   "cell_type": "code",
   "execution_count": 141,
   "metadata": {
    "colab": {
     "base_uri": "https://localhost:8080/",
     "height": 286
    },
    "id": "Vc9jsDVeW6F8",
    "outputId": "2bd1eafd-8650-4429-d53b-776229434f4f"
   },
   "outputs": [
    {
     "data": {
      "text/plain": [
       "<matplotlib.axes._subplots.AxesSubplot at 0x7ff73bfec250>"
      ]
     },
     "execution_count": 141,
     "metadata": {},
     "output_type": "execute_result"
    },
    {
     "data": {
      "image/png": "[encoded data removed]",
      "text/plain": [
       "<Figure size 432x288 with 1 Axes>"
      ]
     },
     "metadata": {
      "needs_background": "light"
     },
     "output_type": "display_data"
    }
   ],
   "source": [
    "data.plot.kde()"
   ]
  },
  {
   "cell_type": "code",
   "execution_count": 142,
   "metadata": {
    "colab": {
     "base_uri": "https://localhost:8080/",
     "height": 268
    },
    "id": "j-dIx-PXXelW",
    "outputId": "10f067fe-fc22-4de8-c009-390ea27c6299"
   },
   "outputs": [
    {
     "data": {
      "image/png": "[encoded data removed]",
      "text/plain": [
       "<Figure size 432x288 with 1 Axes>"
      ]
     },
     "metadata": {
      "needs_background": "light"
     },
     "output_type": "display_data"
    }
   ],
   "source": [
    "#@title [Box plot]\n",
    "ax = sns.boxplot(data=data , orient='h')"
   ]
  },
  {
   "cell_type": "code",
   "execution_count": 143,
   "metadata": {
    "colab": {
     "base_uri": "https://localhost:8080/",
     "height": 268
    },
    "id": "8fzb96ihYQ97",
    "outputId": "c421af99-9095-4a7e-dfb5-9269fc8db0d1"
   },
   "outputs": [
    {
     "data": {
      "image/png": "[encoded data removed]",
      "text/plain": [
       "<Figure size 432x288 with 1 Axes>"
      ]
     },
     "metadata": {
      "needs_background": "light"
     },
     "output_type": "display_data"
    }
   ],
   "source": [
    "ax = sns.violinplot(data = data , orient='h')"
   ]
  },
  {
   "cell_type": "markdown",
   "metadata": {
    "id": "dTFsjGeJZtwX"
   },
   "source": [
    "#4. `add_dummy_feature`\n",
    "Augments dataset with a column vector, each value in the column vector is 1. this is useful for adding a parameter for bias term in the model."
   ]
  },
  {
   "cell_type": "code",
   "execution_count": 144,
   "metadata": {
    "colab": {
     "base_uri": "https://localhost:8080/"
    },
    "id": "1Oci0NoraBIf",
    "outputId": "c98c71cf-4d97-4b10-c717-25c0a8e53778"
   },
   "outputs": [
    {
     "data": {
      "text/plain": [
       "array([[1., 7., 1.],\n",
       "       [1., 1., 8.],\n",
       "       [1., 2., 0.],\n",
       "       [1., 9., 6.]])"
      ]
     },
     "execution_count": 144,
     "metadata": {},
     "output_type": "execute_result"
    }
   ],
   "source": [
    "x = np.array([\n",
    "              [7,1],\n",
    "              [1,8],\n",
    "              [2,0],\n",
    "              [9,6]\n",
    "])\n",
    "from sklearn.preprocessing import add_dummy_feature \n",
    "x_new = add_dummy_feature(x)\n",
    "x_new"
   ]
  },
  {
   "cell_type": "markdown",
   "metadata": {
    "id": "RTTo2C4BalZ9"
   },
   "source": [
    "#**5.Custom transformers**\n",
    "\n",
    "Enables conversion of an existing Python function into a transformer to assist in data cleaning or processing.\n",
    "\n",
    "Useful when:\n",
    "1. The dataset consists of *hetereogeneous data types* (e.g. raster images and text captions),\n",
    "2. The dataset is stored in a `pandas.DataFrame` and different columns reuqire *different processing pipelines.*\n",
    "3. We need stateless transformations such as taking the log of frequencies, custom scaling, etc."
   ]
  },
  {
   "cell_type": "code",
   "execution_count": 145,
   "metadata": {
    "id": "w7uhaV6QbmP9"
   },
   "outputs": [],
   "source": [
    "from sklearn.preprocessing import FunctionTransformer \n"
   ]
  },
  {
   "cell_type": "markdown",
   "metadata": {
    "id": "BucbugEdbr-i"
   },
   "source": [
    "You can implement a transformer from an arbitrary function with `FunctionTransformer`. \n",
    "* For example, let us build a tranformer that applies a log transformation to features.\n",
    "For this demonstration, we will be using a  [wine quality dataset](https://archive.ics.uci.edu/ml/machine-learning-databases/wine-quality/winequality-red.csv) from uci machine learning repository.\n",
    "\n",
    "It has got the following attributes:\n",
    "\n",
    "    1. fixed acidity\n",
    "    2. volatile acidity\n",
    "    3. citric acid\n",
    "    4. residual sugar\n",
    "    5. chlorides\n",
    "    6. free sulfur dioxide \n",
    "    7. total sulfur dioxide\n",
    "    8. density\n",
    "    9. pH\n",
    "    10. sulphates\n",
    "    11. alcohol\n",
    "    12. quality (output: score between 0 and 10) \n",
    "    "
   ]
  },
  {
   "cell_type": "code",
   "execution_count": 146,
   "metadata": {
    "colab": {
     "base_uri": "https://localhost:8080/",
     "height": 426
    },
    "id": "9fAXwY86kver",
    "outputId": "86816328-28bc-4c9a-c1cf-9a2aaaa21c62"
   },
   "outputs": [
    {
     "data": {
      "text/html": [
       "\n",
       "  <div id=\"df-c8bb2907-5c93-4bb4-a966-7e9503456d86\">\n",
       "    <div class=\"colab-df-container\">\n",
       "      <div>\n",
       "<style scoped>\n",
       "    .dataframe tbody tr th:only-of-type {\n",
       "        vertical-align: middle;\n",
       "    }\n",
       "\n",
       "    .dataframe tbody tr th {\n",
       "        vertical-align: top;\n",
       "    }\n",
       "\n",
       "    .dataframe thead th {\n",
       "        text-align: right;\n",
       "    }\n",
       "</style>\n",
       "<table border=\"1\" class=\"dataframe\">\n",
       "  <thead>\n",
       "    <tr style=\"text-align: right;\">\n",
       "      <th></th>\n",
       "      <th>count</th>\n",
       "      <th>mean</th>\n",
       "      <th>std</th>\n",
       "      <th>min</th>\n",
       "      <th>25%</th>\n",
       "      <th>50%</th>\n",
       "      <th>75%</th>\n",
       "      <th>max</th>\n",
       "    </tr>\n",
       "  </thead>\n",
       "  <tbody>\n",
       "    <tr>\n",
       "      <th>fixed acidity</th>\n",
       "      <td>1599.0</td>\n",
       "      <td>8.319637</td>\n",
       "      <td>1.741096</td>\n",
       "      <td>4.60000</td>\n",
       "      <td>7.1000</td>\n",
       "      <td>7.90000</td>\n",
       "      <td>9.200000</td>\n",
       "      <td>15.90000</td>\n",
       "    </tr>\n",
       "    <tr>\n",
       "      <th>volatile acidity</th>\n",
       "      <td>1599.0</td>\n",
       "      <td>0.527821</td>\n",
       "      <td>0.179060</td>\n",
       "      <td>0.12000</td>\n",
       "      <td>0.3900</td>\n",
       "      <td>0.52000</td>\n",
       "      <td>0.640000</td>\n",
       "      <td>1.58000</td>\n",
       "    </tr>\n",
       "    <tr>\n",
       "      <th>citric acid</th>\n",
       "      <td>1599.0</td>\n",
       "      <td>0.270976</td>\n",
       "      <td>0.194801</td>\n",
       "      <td>0.00000</td>\n",
       "      <td>0.0900</td>\n",
       "      <td>0.26000</td>\n",
       "      <td>0.420000</td>\n",
       "      <td>1.00000</td>\n",
       "    </tr>\n",
       "    <tr>\n",
       "      <th>residual sugar</th>\n",
       "      <td>1599.0</td>\n",
       "      <td>2.538806</td>\n",
       "      <td>1.409928</td>\n",
       "      <td>0.90000</td>\n",
       "      <td>1.9000</td>\n",
       "      <td>2.20000</td>\n",
       "      <td>2.600000</td>\n",
       "      <td>15.50000</td>\n",
       "    </tr>\n",
       "    <tr>\n",
       "      <th>chlorides</th>\n",
       "      <td>1599.0</td>\n",
       "      <td>0.087467</td>\n",
       "      <td>0.047065</td>\n",
       "      <td>0.01200</td>\n",
       "      <td>0.0700</td>\n",
       "      <td>0.07900</td>\n",
       "      <td>0.090000</td>\n",
       "      <td>0.61100</td>\n",
       "    </tr>\n",
       "    <tr>\n",
       "      <th>free sulfur dioxide</th>\n",
       "      <td>1599.0</td>\n",
       "      <td>15.874922</td>\n",
       "      <td>10.460157</td>\n",
       "      <td>1.00000</td>\n",
       "      <td>7.0000</td>\n",
       "      <td>14.00000</td>\n",
       "      <td>21.000000</td>\n",
       "      <td>72.00000</td>\n",
       "    </tr>\n",
       "    <tr>\n",
       "      <th>total sulfur dioxide</th>\n",
       "      <td>1599.0</td>\n",
       "      <td>46.467792</td>\n",
       "      <td>32.895324</td>\n",
       "      <td>6.00000</td>\n",
       "      <td>22.0000</td>\n",
       "      <td>38.00000</td>\n",
       "      <td>62.000000</td>\n",
       "      <td>289.00000</td>\n",
       "    </tr>\n",
       "    <tr>\n",
       "      <th>density</th>\n",
       "      <td>1599.0</td>\n",
       "      <td>0.996747</td>\n",
       "      <td>0.001887</td>\n",
       "      <td>0.99007</td>\n",
       "      <td>0.9956</td>\n",
       "      <td>0.99675</td>\n",
       "      <td>0.997835</td>\n",
       "      <td>1.00369</td>\n",
       "    </tr>\n",
       "    <tr>\n",
       "      <th>pH</th>\n",
       "      <td>1599.0</td>\n",
       "      <td>3.311113</td>\n",
       "      <td>0.154386</td>\n",
       "      <td>2.74000</td>\n",
       "      <td>3.2100</td>\n",
       "      <td>3.31000</td>\n",
       "      <td>3.400000</td>\n",
       "      <td>4.01000</td>\n",
       "    </tr>\n",
       "    <tr>\n",
       "      <th>sulphates</th>\n",
       "      <td>1599.0</td>\n",
       "      <td>0.658149</td>\n",
       "      <td>0.169507</td>\n",
       "      <td>0.33000</td>\n",
       "      <td>0.5500</td>\n",
       "      <td>0.62000</td>\n",
       "      <td>0.730000</td>\n",
       "      <td>2.00000</td>\n",
       "    </tr>\n",
       "    <tr>\n",
       "      <th>alcohol</th>\n",
       "      <td>1599.0</td>\n",
       "      <td>10.422983</td>\n",
       "      <td>1.065668</td>\n",
       "      <td>8.40000</td>\n",
       "      <td>9.5000</td>\n",
       "      <td>10.20000</td>\n",
       "      <td>11.100000</td>\n",
       "      <td>14.90000</td>\n",
       "    </tr>\n",
       "    <tr>\n",
       "      <th>quality</th>\n",
       "      <td>1599.0</td>\n",
       "      <td>5.636023</td>\n",
       "      <td>0.807569</td>\n",
       "      <td>3.00000</td>\n",
       "      <td>5.0000</td>\n",
       "      <td>6.00000</td>\n",
       "      <td>6.000000</td>\n",
       "      <td>8.00000</td>\n",
       "    </tr>\n",
       "  </tbody>\n",
       "</table>\n",
       "</div>\n",
       "      <button class=\"colab-df-convert\" onclick=\"convertToInteractive('df-c8bb2907-5c93-4bb4-a966-7e9503456d86')\"\n",
       "              title=\"Convert this dataframe to an interactive table.\"\n",
       "              style=\"display:none;\">\n",
       "        \n",
       "  <svg xmlns=\"http://www.w3.org/2000/svg\" height=\"24px\"viewBox=\"0 0 24 24\"\n",
       "       width=\"24px\">\n",
       "    <path d=\"M0 0h24v24H0V0z\" fill=\"none\"/>\n",
       "    <path d=\"M18.56 5.44l.94 2.06.94-2.06 2.06-.94-2.06-.94-.94-2.06-.94 2.06-2.06.94zm-11 1L8.5 8.5l.94-2.06 2.06-.94-2.06-.94L8.5 2.5l-.94 2.06-2.06.94zm10 10l.94 2.06.94-2.06 2.06-.94-2.06-.94-.94-2.06-.94 2.06-2.06.94z\"/><path d=\"M17.41 7.96l-1.37-1.37c-.4-.4-.92-.59-1.43-.59-.52 0-1.04.2-1.43.59L10.3 9.45l-7.72 7.72c-.78.78-.78 2.05 0 2.83L4 21.41c.39.39.9.59 1.41.59.51 0 1.02-.2 1.41-.59l7.78-7.78 2.81-2.81c.8-.78.8-2.07 0-2.86zM5.41 20L4 18.59l7.72-7.72 1.47 1.35L5.41 20z\"/>\n",
       "  </svg>\n",
       "      </button>\n",
       "      \n",
       "  <style>\n",
       "    .colab-df-container {\n",
       "      display:flex;\n",
       "      flex-wrap:wrap;\n",
       "      gap: 12px;\n",
       "    }\n",
       "\n",
       "    .colab-df-convert {\n",
       "      background-color: #E8F0FE;\n",
       "      border: none;\n",
       "      border-radius: 50%;\n",
       "      cursor: pointer;\n",
       "      display: none;\n",
       "      fill: #1967D2;\n",
       "      height: 32px;\n",
       "      padding: 0 0 0 0;\n",
       "      width: 32px;\n",
       "    }\n",
       "\n",
       "    .colab-df-convert:hover {\n",
       "      background-color: #E2EBFA;\n",
       "      box-shadow: 0px 1px 2px rgba(60, 64, 67, 0.3), 0px 1px 3px 1px rgba(60, 64, 67, 0.15);\n",
       "      fill: #174EA6;\n",
       "    }\n",
       "\n",
       "    [theme=dark] .colab-df-convert {\n",
       "      background-color: #3B4455;\n",
       "      fill: #D2E3FC;\n",
       "    }\n",
       "\n",
       "    [theme=dark] .colab-df-convert:hover {\n",
       "      background-color: #434B5C;\n",
       "      box-shadow: 0px 1px 3px 1px rgba(0, 0, 0, 0.15);\n",
       "      filter: drop-shadow(0px 1px 2px rgba(0, 0, 0, 0.3));\n",
       "      fill: #FFFFFF;\n",
       "    }\n",
       "  </style>\n",
       "\n",
       "      <script>\n",
       "        const buttonEl =\n",
       "          document.querySelector('#df-c8bb2907-5c93-4bb4-a966-7e9503456d86 button.colab-df-convert');\n",
       "        buttonEl.style.display =\n",
       "          google.colab.kernel.accessAllowed ? 'block' : 'none';\n",
       "\n",
       "        async function convertToInteractive(key) {\n",
       "          const element = document.querySelector('#df-c8bb2907-5c93-4bb4-a966-7e9503456d86');\n",
       "          const dataTable =\n",
       "            await google.colab.kernel.invokeFunction('convertToInteractive',\n",
       "                                                     [key], {});\n",
       "          if (!dataTable) return;\n",
       "\n",
       "          const docLinkHtml = 'Like what you see? Visit the ' +\n",
       "            '<a target=\"_blank\" href=https://colab.research.google.com/notebooks/data_table.ipynb>data table notebook</a>'\n",
       "            + ' to learn more about interactive tables.';\n",
       "          element.innerHTML = '';\n",
       "          dataTable['output_type'] = 'display_data';\n",
       "          await google.colab.output.renderOutput(dataTable, element);\n",
       "          const docLink = document.createElement('div');\n",
       "          docLink.innerHTML = docLinkHtml;\n",
       "          element.appendChild(docLink);\n",
       "        }\n",
       "      </script>\n",
       "    </div>\n",
       "  </div>\n",
       "  "
      ],
      "text/plain": [
       "                       count       mean  ...        75%        max\n",
       "fixed acidity         1599.0   8.319637  ...   9.200000   15.90000\n",
       "volatile acidity      1599.0   0.527821  ...   0.640000    1.58000\n",
       "citric acid           1599.0   0.270976  ...   0.420000    1.00000\n",
       "residual sugar        1599.0   2.538806  ...   2.600000   15.50000\n",
       "chlorides             1599.0   0.087467  ...   0.090000    0.61100\n",
       "free sulfur dioxide   1599.0  15.874922  ...  21.000000   72.00000\n",
       "total sulfur dioxide  1599.0  46.467792  ...  62.000000  289.00000\n",
       "density               1599.0   0.996747  ...   0.997835    1.00369\n",
       "pH                    1599.0   3.311113  ...   3.400000    4.01000\n",
       "sulphates             1599.0   0.658149  ...   0.730000    2.00000\n",
       "alcohol               1599.0  10.422983  ...  11.100000   14.90000\n",
       "quality               1599.0   5.636023  ...   6.000000    8.00000\n",
       "\n",
       "[12 rows x 8 columns]"
      ]
     },
     "execution_count": 146,
     "metadata": {},
     "output_type": "execute_result"
    }
   ],
   "source": [
    "wine_data = pd.read_csv(\"https://archive.ics.uci.edu/ml/machine-learning-databases/wine-quality/winequality-red.csv\",sep=';')\n",
    "wine_data.describe().T"
   ]
  },
  {
   "cell_type": "markdown",
   "metadata": {
    "id": "LAX8BniVlb78"
   },
   "source": [
    "Let's use `np.log1p` which returns natural logarithm of (1 + the feature value).\n"
   ]
  },
  {
   "cell_type": "code",
   "execution_count": 147,
   "metadata": {
    "colab": {
     "base_uri": "https://localhost:8080/",
     "height": 426
    },
    "id": "zjTucpiJlrCN",
    "outputId": "eb8c6477-92ef-4ce4-c66e-6235e703b029"
   },
   "outputs": [
    {
     "data": {
      "text/html": [
       "\n",
       "  <div id=\"df-511a3bcd-46d9-421c-82b6-d83436a51ec1\">\n",
       "    <div class=\"colab-df-container\">\n",
       "      <div>\n",
       "<style scoped>\n",
       "    .dataframe tbody tr th:only-of-type {\n",
       "        vertical-align: middle;\n",
       "    }\n",
       "\n",
       "    .dataframe tbody tr th {\n",
       "        vertical-align: top;\n",
       "    }\n",
       "\n",
       "    .dataframe thead th {\n",
       "        text-align: right;\n",
       "    }\n",
       "</style>\n",
       "<table border=\"1\" class=\"dataframe\">\n",
       "  <thead>\n",
       "    <tr style=\"text-align: right;\">\n",
       "      <th></th>\n",
       "      <th>count</th>\n",
       "      <th>mean</th>\n",
       "      <th>std</th>\n",
       "      <th>min</th>\n",
       "      <th>25%</th>\n",
       "      <th>50%</th>\n",
       "      <th>75%</th>\n",
       "      <th>max</th>\n",
       "    </tr>\n",
       "  </thead>\n",
       "  <tbody>\n",
       "    <tr>\n",
       "      <th>fixed acidity</th>\n",
       "      <td>1599.0</td>\n",
       "      <td>2.215842</td>\n",
       "      <td>0.178100</td>\n",
       "      <td>1.722767</td>\n",
       "      <td>2.091864</td>\n",
       "      <td>2.186051</td>\n",
       "      <td>2.322388</td>\n",
       "      <td>2.827314</td>\n",
       "    </tr>\n",
       "    <tr>\n",
       "      <th>volatile acidity</th>\n",
       "      <td>1599.0</td>\n",
       "      <td>0.417173</td>\n",
       "      <td>0.114926</td>\n",
       "      <td>0.113329</td>\n",
       "      <td>0.329304</td>\n",
       "      <td>0.418710</td>\n",
       "      <td>0.494696</td>\n",
       "      <td>0.947789</td>\n",
       "    </tr>\n",
       "    <tr>\n",
       "      <th>citric acid</th>\n",
       "      <td>1599.0</td>\n",
       "      <td>0.228147</td>\n",
       "      <td>0.152423</td>\n",
       "      <td>0.000000</td>\n",
       "      <td>0.086178</td>\n",
       "      <td>0.231112</td>\n",
       "      <td>0.350657</td>\n",
       "      <td>0.693147</td>\n",
       "    </tr>\n",
       "    <tr>\n",
       "      <th>residual sugar</th>\n",
       "      <td>1599.0</td>\n",
       "      <td>1.218131</td>\n",
       "      <td>0.269969</td>\n",
       "      <td>0.641854</td>\n",
       "      <td>1.064711</td>\n",
       "      <td>1.163151</td>\n",
       "      <td>1.280934</td>\n",
       "      <td>2.803360</td>\n",
       "    </tr>\n",
       "    <tr>\n",
       "      <th>chlorides</th>\n",
       "      <td>1599.0</td>\n",
       "      <td>0.083038</td>\n",
       "      <td>0.038991</td>\n",
       "      <td>0.011929</td>\n",
       "      <td>0.067659</td>\n",
       "      <td>0.076035</td>\n",
       "      <td>0.086178</td>\n",
       "      <td>0.476855</td>\n",
       "    </tr>\n",
       "    <tr>\n",
       "      <th>free sulfur dioxide</th>\n",
       "      <td>1599.0</td>\n",
       "      <td>2.639013</td>\n",
       "      <td>0.623790</td>\n",
       "      <td>0.693147</td>\n",
       "      <td>2.079442</td>\n",
       "      <td>2.708050</td>\n",
       "      <td>3.091042</td>\n",
       "      <td>4.290459</td>\n",
       "    </tr>\n",
       "    <tr>\n",
       "      <th>total sulfur dioxide</th>\n",
       "      <td>1599.0</td>\n",
       "      <td>3.634750</td>\n",
       "      <td>0.682575</td>\n",
       "      <td>1.945910</td>\n",
       "      <td>3.135494</td>\n",
       "      <td>3.663562</td>\n",
       "      <td>4.143135</td>\n",
       "      <td>5.669881</td>\n",
       "    </tr>\n",
       "    <tr>\n",
       "      <th>density</th>\n",
       "      <td>1599.0</td>\n",
       "      <td>0.691519</td>\n",
       "      <td>0.000945</td>\n",
       "      <td>0.688170</td>\n",
       "      <td>0.690945</td>\n",
       "      <td>0.691521</td>\n",
       "      <td>0.692064</td>\n",
       "      <td>0.694990</td>\n",
       "    </tr>\n",
       "    <tr>\n",
       "      <th>pH</th>\n",
       "      <td>1599.0</td>\n",
       "      <td>1.460557</td>\n",
       "      <td>0.035760</td>\n",
       "      <td>1.319086</td>\n",
       "      <td>1.437463</td>\n",
       "      <td>1.460938</td>\n",
       "      <td>1.481605</td>\n",
       "      <td>1.611436</td>\n",
       "    </tr>\n",
       "    <tr>\n",
       "      <th>sulphates</th>\n",
       "      <td>1599.0</td>\n",
       "      <td>0.501073</td>\n",
       "      <td>0.093731</td>\n",
       "      <td>0.285179</td>\n",
       "      <td>0.438255</td>\n",
       "      <td>0.482426</td>\n",
       "      <td>0.548121</td>\n",
       "      <td>1.098612</td>\n",
       "    </tr>\n",
       "    <tr>\n",
       "      <th>alcohol</th>\n",
       "      <td>1599.0</td>\n",
       "      <td>2.431458</td>\n",
       "      <td>0.090434</td>\n",
       "      <td>2.240710</td>\n",
       "      <td>2.351375</td>\n",
       "      <td>2.415914</td>\n",
       "      <td>2.493205</td>\n",
       "      <td>2.766319</td>\n",
       "    </tr>\n",
       "    <tr>\n",
       "      <th>quality</th>\n",
       "      <td>1599.0</td>\n",
       "      <td>1.885054</td>\n",
       "      <td>0.122749</td>\n",
       "      <td>1.386294</td>\n",
       "      <td>1.791759</td>\n",
       "      <td>1.945910</td>\n",
       "      <td>1.945910</td>\n",
       "      <td>2.197225</td>\n",
       "    </tr>\n",
       "  </tbody>\n",
       "</table>\n",
       "</div>\n",
       "      <button class=\"colab-df-convert\" onclick=\"convertToInteractive('df-511a3bcd-46d9-421c-82b6-d83436a51ec1')\"\n",
       "              title=\"Convert this dataframe to an interactive table.\"\n",
       "              style=\"display:none;\">\n",
       "        \n",
       "  <svg xmlns=\"http://www.w3.org/2000/svg\" height=\"24px\"viewBox=\"0 0 24 24\"\n",
       "       width=\"24px\">\n",
       "    <path d=\"M0 0h24v24H0V0z\" fill=\"none\"/>\n",
       "    <path d=\"M18.56 5.44l.94 2.06.94-2.06 2.06-.94-2.06-.94-.94-2.06-.94 2.06-2.06.94zm-11 1L8.5 8.5l.94-2.06 2.06-.94-2.06-.94L8.5 2.5l-.94 2.06-2.06.94zm10 10l.94 2.06.94-2.06 2.06-.94-2.06-.94-.94-2.06-.94 2.06-2.06.94z\"/><path d=\"M17.41 7.96l-1.37-1.37c-.4-.4-.92-.59-1.43-.59-.52 0-1.04.2-1.43.59L10.3 9.45l-7.72 7.72c-.78.78-.78 2.05 0 2.83L4 21.41c.39.39.9.59 1.41.59.51 0 1.02-.2 1.41-.59l7.78-7.78 2.81-2.81c.8-.78.8-2.07 0-2.86zM5.41 20L4 18.59l7.72-7.72 1.47 1.35L5.41 20z\"/>\n",
       "  </svg>\n",
       "      </button>\n",
       "      \n",
       "  <style>\n",
       "    .colab-df-container {\n",
       "      display:flex;\n",
       "      flex-wrap:wrap;\n",
       "      gap: 12px;\n",
       "    }\n",
       "\n",
       "    .colab-df-convert {\n",
       "      background-color: #E8F0FE;\n",
       "      border: none;\n",
       "      border-radius: 50%;\n",
       "      cursor: pointer;\n",
       "      display: none;\n",
       "      fill: #1967D2;\n",
       "      height: 32px;\n",
       "      padding: 0 0 0 0;\n",
       "      width: 32px;\n",
       "    }\n",
       "\n",
       "    .colab-df-convert:hover {\n",
       "      background-color: #E2EBFA;\n",
       "      box-shadow: 0px 1px 2px rgba(60, 64, 67, 0.3), 0px 1px 3px 1px rgba(60, 64, 67, 0.15);\n",
       "      fill: #174EA6;\n",
       "    }\n",
       "\n",
       "    [theme=dark] .colab-df-convert {\n",
       "      background-color: #3B4455;\n",
       "      fill: #D2E3FC;\n",
       "    }\n",
       "\n",
       "    [theme=dark] .colab-df-convert:hover {\n",
       "      background-color: #434B5C;\n",
       "      box-shadow: 0px 1px 3px 1px rgba(0, 0, 0, 0.15);\n",
       "      filter: drop-shadow(0px 1px 2px rgba(0, 0, 0, 0.3));\n",
       "      fill: #FFFFFF;\n",
       "    }\n",
       "  </style>\n",
       "\n",
       "      <script>\n",
       "        const buttonEl =\n",
       "          document.querySelector('#df-511a3bcd-46d9-421c-82b6-d83436a51ec1 button.colab-df-convert');\n",
       "        buttonEl.style.display =\n",
       "          google.colab.kernel.accessAllowed ? 'block' : 'none';\n",
       "\n",
       "        async function convertToInteractive(key) {\n",
       "          const element = document.querySelector('#df-511a3bcd-46d9-421c-82b6-d83436a51ec1');\n",
       "          const dataTable =\n",
       "            await google.colab.kernel.invokeFunction('convertToInteractive',\n",
       "                                                     [key], {});\n",
       "          if (!dataTable) return;\n",
       "\n",
       "          const docLinkHtml = 'Like what you see? Visit the ' +\n",
       "            '<a target=\"_blank\" href=https://colab.research.google.com/notebooks/data_table.ipynb>data table notebook</a>'\n",
       "            + ' to learn more about interactive tables.';\n",
       "          element.innerHTML = '';\n",
       "          dataTable['output_type'] = 'display_data';\n",
       "          await google.colab.output.renderOutput(dataTable, element);\n",
       "          const docLink = document.createElement('div');\n",
       "          docLink.innerHTML = docLinkHtml;\n",
       "          element.appendChild(docLink);\n",
       "        }\n",
       "      </script>\n",
       "    </div>\n",
       "  </div>\n",
       "  "
      ],
      "text/plain": [
       "                       count      mean       std  ...       50%       75%       max\n",
       "fixed acidity         1599.0  2.215842  0.178100  ...  2.186051  2.322388  2.827314\n",
       "volatile acidity      1599.0  0.417173  0.114926  ...  0.418710  0.494696  0.947789\n",
       "citric acid           1599.0  0.228147  0.152423  ...  0.231112  0.350657  0.693147\n",
       "residual sugar        1599.0  1.218131  0.269969  ...  1.163151  1.280934  2.803360\n",
       "chlorides             1599.0  0.083038  0.038991  ...  0.076035  0.086178  0.476855\n",
       "free sulfur dioxide   1599.0  2.639013  0.623790  ...  2.708050  3.091042  4.290459\n",
       "total sulfur dioxide  1599.0  3.634750  0.682575  ...  3.663562  4.143135  5.669881\n",
       "density               1599.0  0.691519  0.000945  ...  0.691521  0.692064  0.694990\n",
       "pH                    1599.0  1.460557  0.035760  ...  1.460938  1.481605  1.611436\n",
       "sulphates             1599.0  0.501073  0.093731  ...  0.482426  0.548121  1.098612\n",
       "alcohol               1599.0  2.431458  0.090434  ...  2.415914  2.493205  2.766319\n",
       "quality               1599.0  1.885054  0.122749  ...  1.945910  1.945910  2.197225\n",
       "\n",
       "[12 rows x 8 columns]"
      ]
     },
     "execution_count": 147,
     "metadata": {},
     "output_type": "execute_result"
    }
   ],
   "source": [
    "transformer = FunctionTransformer(np.log1p, validate=True)\n",
    "wine_data_transformed = transformer.transform(np.array(wine_data))\n",
    "pd.DataFrame(wine_data_transformed, columns=wine_data.columns).describe().T\n"
   ]
  },
  {
   "cell_type": "markdown",
   "metadata": {
    "id": "gKRc9Xn3mfh4"
   },
   "source": [
    "Notice the change in statistics of all features\n",
    "\n",
    "For example, \n",
    "    \n",
    "    total sulfur dioxide \t1599.0 \t46.467792 \t32.895324 \t6.00000 \t22.0000 \t38.00000 \t62.000000 \t289.00000\n",
    "\n",
    "Became\n",
    "\n",
    "    total sulfur dioxide \t1599.0 \t3.634750 \t0.682575 \t1.945910 \t3.135494 \t3.663562 \t4.143135 \t5.669881    "
   ]
  },
  {
   "cell_type": "markdown",
   "metadata": {
    "id": "X0eobETNXldN"
   },
   "source": [
    "#**6 Polynomial Features** \n",
    "\n",
    "Generate a new feature matrix consisting of all polynomial combinations of the features with degree less than or equal to the specified degree.\n",
    "For example, if an input sample is two dimensional and of the form $[a,b]$, the degree-2 polynomial features are $[1,a,a^2,ab,b^2]$. \n",
    "`sklearn.preprocessing.PolynomialFeatures` enables us to perform polynomial transformation of desired degree. Let's demonstrate it with *wine quality* dataset.\n"
   ]
  },
  {
   "cell_type": "code",
   "execution_count": 148,
   "metadata": {
    "colab": {
     "base_uri": "https://localhost:8080/"
    },
    "id": "cPgfyepYoOBf",
    "outputId": "ece43881-976b-455c-88e9-d8901a41019d"
   },
   "outputs": [
    {
     "name": "stdout",
     "output_type": "stream",
     "text": [
      "Number of features before transformation =  (1599, 11)\n",
      "Number of features after transformation= (1599, 78)\n"
     ]
    }
   ],
   "source": [
    "from sklearn.preprocessing import PolynomialFeatures\n",
    "wine_data = pd.read_csv(\"https://archive.ics.uci.edu/ml/machine-learning-databases/wine-quality/winequality-red.csv\",sep=';')\n",
    "wine_data_copy = wine_data.copy() \n",
    "wine_data = wine_data.drop(['quality'],axis=1) \n",
    "print('Number of features before transformation = ', wine_data.shape)\n",
    "\n",
    "#Let us fit a polynomial of degree-2 to wine_data\n",
    "poly = PolynomialFeatures() \n",
    "poly_wine_data = poly.fit_transform(wine_data) \n",
    "print('Number of features after transformation=', poly_wine_data.shape) \n"
   ]
  },
  {
   "cell_type": "markdown",
   "metadata": {
    "id": "PVpbrOkipRqd"
   },
   "source": [
    "Note that after transformation, we have 78 features. Let's list out these features:\n"
   ]
  },
  {
   "cell_type": "code",
   "execution_count": 149,
   "metadata": {
    "colab": {
     "base_uri": "https://localhost:8080/"
    },
    "id": "2sLW97tCpaDb",
    "outputId": "f0ce6b69-b59a-4685-e929-c917c2302d2a"
   },
   "outputs": [
    {
     "data": {
      "text/plain": [
       "array(['1', 'fixed acidity', 'volatile acidity', 'citric acid',\n",
       "       'residual sugar', 'chlorides', 'free sulfur dioxide',\n",
       "       'total sulfur dioxide', 'density', 'pH', 'sulphates', 'alcohol',\n",
       "       'fixed acidity^2', 'fixed acidity volatile acidity',\n",
       "       'fixed acidity citric acid', 'fixed acidity residual sugar',\n",
       "       'fixed acidity chlorides', 'fixed acidity free sulfur dioxide',\n",
       "       'fixed acidity total sulfur dioxide', 'fixed acidity density',\n",
       "       'fixed acidity pH', 'fixed acidity sulphates',\n",
       "       'fixed acidity alcohol', 'volatile acidity^2',\n",
       "       'volatile acidity citric acid', 'volatile acidity residual sugar',\n",
       "       'volatile acidity chlorides',\n",
       "       'volatile acidity free sulfur dioxide',\n",
       "       'volatile acidity total sulfur dioxide',\n",
       "       'volatile acidity density', 'volatile acidity pH',\n",
       "       'volatile acidity sulphates', 'volatile acidity alcohol',\n",
       "       'citric acid^2', 'citric acid residual sugar',\n",
       "       'citric acid chlorides', 'citric acid free sulfur dioxide',\n",
       "       'citric acid total sulfur dioxide', 'citric acid density',\n",
       "       'citric acid pH', 'citric acid sulphates', 'citric acid alcohol',\n",
       "       'residual sugar^2', 'residual sugar chlorides',\n",
       "       'residual sugar free sulfur dioxide',\n",
       "       'residual sugar total sulfur dioxide', 'residual sugar density',\n",
       "       'residual sugar pH', 'residual sugar sulphates',\n",
       "       'residual sugar alcohol', 'chlorides^2',\n",
       "       'chlorides free sulfur dioxide', 'chlorides total sulfur dioxide',\n",
       "       'chlorides density', 'chlorides pH', 'chlorides sulphates',\n",
       "       'chlorides alcohol', 'free sulfur dioxide^2',\n",
       "       'free sulfur dioxide total sulfur dioxide',\n",
       "       'free sulfur dioxide density', 'free sulfur dioxide pH',\n",
       "       'free sulfur dioxide sulphates', 'free sulfur dioxide alcohol',\n",
       "       'total sulfur dioxide^2', 'total sulfur dioxide density',\n",
       "       'total sulfur dioxide pH', 'total sulfur dioxide sulphates',\n",
       "       'total sulfur dioxide alcohol', 'density^2', 'density pH',\n",
       "       'density sulphates', 'density alcohol', 'pH^2', 'pH sulphates',\n",
       "       'pH alcohol', 'sulphates^2', 'sulphates alcohol', 'alcohol^2'],\n",
       "      dtype=object)"
      ]
     },
     "execution_count": 149,
     "metadata": {},
     "output_type": "execute_result"
    }
   ],
   "source": [
    "poly.get_feature_names_out()"
   ]
  },
  {
   "cell_type": "markdown",
   "metadata": {
    "id": "jOAz3dy1pull"
   },
   "source": [
    "Observe that - \n",
    "* Some features have ^2 suffix - these are degree-2 features of input features. For example, `sulphates^2` is the suqare of `sulphates` features.\n",
    "* Some features are combination of names of the original feature names. For example,`total sulfur dioxide pH` is a combinationn of two features `total sulfur dioxide` and `pH`.\n"
   ]
  },
  {
   "cell_type": "markdown",
   "metadata": {
    "id": "A-6u9cmaqUtJ"
   },
   "source": [
    "#**7. Discretization**\n",
    "\n",
    "**Discretization** (otherwise known as **quantization or binning**) provides a way to partition continuous features into discrete values.\n",
    "\n",
    "\n",
    "* Certain datasets with conntinuous features may benefit from discretization, because discretization can transform the datasets of continuous attributes to one with only nomial attributes.\n",
    "* One-hot encoded discretized features can make a model more expressive, while maintaining interpretability.\n",
    "* For instance, pre-processing with discretizer can introduce non-linearity to linear models.\n"
   ]
  },
  {
   "cell_type": "code",
   "execution_count": 150,
   "metadata": {
    "id": "MlSV9EUXrti6"
   },
   "outputs": [],
   "source": [
    "#KBinsDiscretizer discretizes features into k bins.\n",
    "from sklearn.preprocessing import KBinsDiscretizer"
   ]
  },
  {
   "cell_type": "markdown",
   "metadata": {
    "id": "XG3WNzWDr4Tj"
   },
   "source": [
    "Let's demonstrate KBinsDiscretizer Using wine quality dataset."
   ]
  },
  {
   "cell_type": "code",
   "execution_count": 151,
   "metadata": {
    "id": "csXKXv3EsIMp"
   },
   "outputs": [],
   "source": [
    "wine_data = wine_data_copy.copy() \n",
    "#transform the dataset with KBinDiscretizer \n",
    "enc = KBinsDiscretizer(n_bins=10, encode='onehot')\n",
    "X = np.array(wine_data['chlorides']).reshape(-1,1) \n",
    "X_binned = enc.fit_transform(X) "
   ]
  },
  {
   "cell_type": "code",
   "execution_count": 152,
   "metadata": {
    "colab": {
     "base_uri": "https://localhost:8080/"
    },
    "id": "xRH09eAls80T",
    "outputId": "9dc012fd-8788-4f04-c120-dc285c3e5ebf"
   },
   "outputs": [
    {
     "data": {
      "text/plain": [
       "<1599x10 sparse matrix of type '<class 'numpy.float64'>'\n",
       "\twith 1599 stored elements in Compressed Sparse Row format>"
      ]
     },
     "execution_count": 152,
     "metadata": {},
     "output_type": "execute_result"
    }
   ],
   "source": [
    "X_binned"
   ]
  },
  {
   "cell_type": "code",
   "execution_count": 153,
   "metadata": {
    "colab": {
     "base_uri": "https://localhost:8080/"
    },
    "id": "9nmmXywmtCsm",
    "outputId": "f442487f-0881-478c-b0d9-e6c650f4e4e2"
   },
   "outputs": [
    {
     "data": {
      "text/plain": [
       "array([[0., 0., 0., 0., 1., 0., 0., 0., 0., 0.],\n",
       "       [0., 0., 0., 0., 0., 0., 0., 0., 1., 0.],\n",
       "       [0., 0., 0., 0., 0., 0., 0., 1., 0., 0.],\n",
       "       [0., 0., 0., 1., 0., 0., 0., 0., 0., 0.],\n",
       "       [0., 0., 0., 0., 1., 0., 0., 0., 0., 0.]])"
      ]
     },
     "execution_count": 153,
     "metadata": {},
     "output_type": "execute_result"
    }
   ],
   "source": [
    "X_binned.toarray()[:5]"
   ]
  },
  {
   "cell_type": "markdown",
   "metadata": {
    "id": "bRm3iRfstQfE"
   },
   "source": [
    "#**8. Handling Categorical Features** \n",
    "\n",
    "\n",
    "We need to convert the categorical features into numeric features.\n",
    "1. Ordinal encoding\n",
    "2. One hot encoding\n",
    "3. Label encoding\n",
    "4. Using dummy variables\n"
   ]
  },
  {
   "cell_type": "markdown",
   "metadata": {
    "id": "c2EDuH_LtkQT"
   },
   "source": [
    "**Ordinal Encoding** \n",
    "\n",
    "Categorical features are those that contain categories or groups such as education level, state etc as their data. These are non-numerical features and need to be converted into appropriate from before they feeding them for training an ML model.\n",
    "\n",
    "Our intuitive way of handling them could be to assign them a numerical value. As an example, take state as a feature with 'Punjab', Rajasthan, and Haryana as the possible values. We might consider assigning number to these values as follows:\n",
    "\n",
    "\n",
    "    Old feature | New feature\n",
    "    ------------|-------------\n",
    "    Punjab      |     1\n",
    "    Rajasthan   |     2\n",
    "    Haryana     |     3\n",
    "    \n"
   ]
  },
  {
   "cell_type": "markdown",
   "metadata": {
    "id": "SRaIoPdPvmxW"
   },
   "source": [
    "However, this approach assigns some ordering to the labels, i.e. states, thus representing that Haryana is thrice Punjab and Rajasthan is twice Pubjab, these relationships do not exist in the data, thus providing wrong information to the ML model. \n",
    "\n",
    "One of the most-common approaches to handle this is: *One-hot encoding*\n",
    "\n",
    "\n",
    "#One-hot Encoding\n",
    "\n",
    "This approach consists of creating an addtional feature for each label present in categorical feature(i.e. the number of different states here) and putting a 1 or 0 for these new features depending on the categorical feature's value. That is, \n",
    "\n",
    "      Old feature  |  $ New feature_1 (punjab) | New feature_2 (Rajasthan) | New feature_3(Haryana) \n",
    "     --------------|---------------------------|---------------------------|------------------------\n",
    "     Punjab        |          1                |           0               |         0\n",
    "     --------------|---------------------------|---------------------------|------------------------\n",
    "     Rajasthan     |          0                |           1               |         0\n",
    "     --------------|---------------------------|---------------------------|------------------------\n",
    "     Haryana       |          0                |           1               |         0\n",
    "     --------------|---------------------------|---------------------------|------------------------\n",
    "\n",
    "\n",
    "It may be implemented using `OneHotEncoder` class from sklearn.preprocessing module. Let's demonstrate this concept with `Iris` dataset.\n"
   ]
  },
  {
   "cell_type": "code",
   "execution_count": 154,
   "metadata": {
    "id": "iUXUJJcWw-vY"
   },
   "outputs": [],
   "source": [
    "from sklearn.preprocessing import OneHotEncoder \n",
    "from sklearn.preprocessing import OrdinalEncoder "
   ]
  },
  {
   "cell_type": "markdown",
   "metadata": {
    "id": "EM-TCNcR59Sz"
   },
   "source": [
    "[Iris dataset](https://archive.ics.uci.edu/ml/machine-learning-databases/iris/iris.data) has the following features:\n",
    "\n",
    "    1. sepal length in cm\n",
    "    2. sepal width in cm\n",
    "    3. petal length in cm\n",
    "    4. petal widht in cm\n",
    "    5. class: Iris Setosa, Iris Versicolour, Iris Virginica"
   ]
  },
  {
   "cell_type": "code",
   "execution_count": 155,
   "metadata": {
    "colab": {
     "base_uri": "https://localhost:8080/",
     "height": 206
    },
    "id": "sbFzcoqA9clq",
    "outputId": "50654313-cfa7-4154-a587-14d26d0bfa59"
   },
   "outputs": [
    {
     "data": {
      "text/html": [
       "\n",
       "  <div id=\"df-ee331933-34cb-4628-b218-c55c17f749a5\">\n",
       "    <div class=\"colab-df-container\">\n",
       "      <div>\n",
       "<style scoped>\n",
       "    .dataframe tbody tr th:only-of-type {\n",
       "        vertical-align: middle;\n",
       "    }\n",
       "\n",
       "    .dataframe tbody tr th {\n",
       "        vertical-align: top;\n",
       "    }\n",
       "\n",
       "    .dataframe thead th {\n",
       "        text-align: right;\n",
       "    }\n",
       "</style>\n",
       "<table border=\"1\" class=\"dataframe\">\n",
       "  <thead>\n",
       "    <tr style=\"text-align: right;\">\n",
       "      <th></th>\n",
       "      <th>sepal length</th>\n",
       "      <th>sepal width</th>\n",
       "      <th>petal width</th>\n",
       "      <th>label</th>\n",
       "    </tr>\n",
       "  </thead>\n",
       "  <tbody>\n",
       "    <tr>\n",
       "      <th>5.1</th>\n",
       "      <td>3.5</td>\n",
       "      <td>1.4</td>\n",
       "      <td>0.2</td>\n",
       "      <td>Iris-setosa</td>\n",
       "    </tr>\n",
       "    <tr>\n",
       "      <th>4.9</th>\n",
       "      <td>3.0</td>\n",
       "      <td>1.4</td>\n",
       "      <td>0.2</td>\n",
       "      <td>Iris-setosa</td>\n",
       "    </tr>\n",
       "    <tr>\n",
       "      <th>4.7</th>\n",
       "      <td>3.2</td>\n",
       "      <td>1.3</td>\n",
       "      <td>0.2</td>\n",
       "      <td>Iris-setosa</td>\n",
       "    </tr>\n",
       "    <tr>\n",
       "      <th>4.6</th>\n",
       "      <td>3.1</td>\n",
       "      <td>1.5</td>\n",
       "      <td>0.2</td>\n",
       "      <td>Iris-setosa</td>\n",
       "    </tr>\n",
       "    <tr>\n",
       "      <th>5.0</th>\n",
       "      <td>3.6</td>\n",
       "      <td>1.4</td>\n",
       "      <td>0.2</td>\n",
       "      <td>Iris-setosa</td>\n",
       "    </tr>\n",
       "  </tbody>\n",
       "</table>\n",
       "</div>\n",
       "      <button class=\"colab-df-convert\" onclick=\"convertToInteractive('df-ee331933-34cb-4628-b218-c55c17f749a5')\"\n",
       "              title=\"Convert this dataframe to an interactive table.\"\n",
       "              style=\"display:none;\">\n",
       "        \n",
       "  <svg xmlns=\"http://www.w3.org/2000/svg\" height=\"24px\"viewBox=\"0 0 24 24\"\n",
       "       width=\"24px\">\n",
       "    <path d=\"M0 0h24v24H0V0z\" fill=\"none\"/>\n",
       "    <path d=\"M18.56 5.44l.94 2.06.94-2.06 2.06-.94-2.06-.94-.94-2.06-.94 2.06-2.06.94zm-11 1L8.5 8.5l.94-2.06 2.06-.94-2.06-.94L8.5 2.5l-.94 2.06-2.06.94zm10 10l.94 2.06.94-2.06 2.06-.94-2.06-.94-.94-2.06-.94 2.06-2.06.94z\"/><path d=\"M17.41 7.96l-1.37-1.37c-.4-.4-.92-.59-1.43-.59-.52 0-1.04.2-1.43.59L10.3 9.45l-7.72 7.72c-.78.78-.78 2.05 0 2.83L4 21.41c.39.39.9.59 1.41.59.51 0 1.02-.2 1.41-.59l7.78-7.78 2.81-2.81c.8-.78.8-2.07 0-2.86zM5.41 20L4 18.59l7.72-7.72 1.47 1.35L5.41 20z\"/>\n",
       "  </svg>\n",
       "      </button>\n",
       "      \n",
       "  <style>\n",
       "    .colab-df-container {\n",
       "      display:flex;\n",
       "      flex-wrap:wrap;\n",
       "      gap: 12px;\n",
       "    }\n",
       "\n",
       "    .colab-df-convert {\n",
       "      background-color: #E8F0FE;\n",
       "      border: none;\n",
       "      border-radius: 50%;\n",
       "      cursor: pointer;\n",
       "      display: none;\n",
       "      fill: #1967D2;\n",
       "      height: 32px;\n",
       "      padding: 0 0 0 0;\n",
       "      width: 32px;\n",
       "    }\n",
       "\n",
       "    .colab-df-convert:hover {\n",
       "      background-color: #E2EBFA;\n",
       "      box-shadow: 0px 1px 2px rgba(60, 64, 67, 0.3), 0px 1px 3px 1px rgba(60, 64, 67, 0.15);\n",
       "      fill: #174EA6;\n",
       "    }\n",
       "\n",
       "    [theme=dark] .colab-df-convert {\n",
       "      background-color: #3B4455;\n",
       "      fill: #D2E3FC;\n",
       "    }\n",
       "\n",
       "    [theme=dark] .colab-df-convert:hover {\n",
       "      background-color: #434B5C;\n",
       "      box-shadow: 0px 1px 3px 1px rgba(0, 0, 0, 0.15);\n",
       "      filter: drop-shadow(0px 1px 2px rgba(0, 0, 0, 0.3));\n",
       "      fill: #FFFFFF;\n",
       "    }\n",
       "  </style>\n",
       "\n",
       "      <script>\n",
       "        const buttonEl =\n",
       "          document.querySelector('#df-ee331933-34cb-4628-b218-c55c17f749a5 button.colab-df-convert');\n",
       "        buttonEl.style.display =\n",
       "          google.colab.kernel.accessAllowed ? 'block' : 'none';\n",
       "\n",
       "        async function convertToInteractive(key) {\n",
       "          const element = document.querySelector('#df-ee331933-34cb-4628-b218-c55c17f749a5');\n",
       "          const dataTable =\n",
       "            await google.colab.kernel.invokeFunction('convertToInteractive',\n",
       "                                                     [key], {});\n",
       "          if (!dataTable) return;\n",
       "\n",
       "          const docLinkHtml = 'Like what you see? Visit the ' +\n",
       "            '<a target=\"_blank\" href=https://colab.research.google.com/notebooks/data_table.ipynb>data table notebook</a>'\n",
       "            + ' to learn more about interactive tables.';\n",
       "          element.innerHTML = '';\n",
       "          dataTable['output_type'] = 'display_data';\n",
       "          await google.colab.output.renderOutput(dataTable, element);\n",
       "          const docLink = document.createElement('div');\n",
       "          docLink.innerHTML = docLinkHtml;\n",
       "          element.appendChild(docLink);\n",
       "        }\n",
       "      </script>\n",
       "    </div>\n",
       "  </div>\n",
       "  "
      ],
      "text/plain": [
       "     sepal length  sepal width  petal width        label\n",
       "5.1           3.5          1.4          0.2  Iris-setosa\n",
       "4.9           3.0          1.4          0.2  Iris-setosa\n",
       "4.7           3.2          1.3          0.2  Iris-setosa\n",
       "4.6           3.1          1.5          0.2  Iris-setosa\n",
       "5.0           3.6          1.4          0.2  Iris-setosa"
      ]
     },
     "execution_count": 155,
     "metadata": {},
     "output_type": "execute_result"
    }
   ],
   "source": [
    "cols =['sepal length','sepal width','petal width','label']\n",
    "iris_data = pd.read_csv('https://archive.ics.uci.edu/ml/machine-learning-databases/iris/iris.data',header=None, names=cols)\n",
    "iris_data.head() "
   ]
  },
  {
   "cell_type": "markdown",
   "metadata": {
    "id": "CMDuRSmvBwY_"
   },
   "source": [
    "The `label` is a categorical attribute."
   ]
  },
  {
   "cell_type": "code",
   "execution_count": 156,
   "metadata": {
    "colab": {
     "base_uri": "https://localhost:8080/"
    },
    "id": "eymcfX1oB1d4",
    "outputId": "9f7d1523-b24c-4150-9556-2740956b7ad2"
   },
   "outputs": [
    {
     "data": {
      "text/plain": [
       "array(['Iris-setosa', 'Iris-versicolor', 'Iris-virginica'], dtype=object)"
      ]
     },
     "execution_count": 156,
     "metadata": {},
     "output_type": "execute_result"
    }
   ],
   "source": [
    "iris_data.label.unique() "
   ]
  },
  {
   "cell_type": "markdown",
   "metadata": {
    "id": "bTdO5421B7zu"
   },
   "source": [
    "There are three class labels. Let's convert them to one hot vector."
   ]
  },
  {
   "cell_type": "code",
   "execution_count": 157,
   "metadata": {
    "colab": {
     "base_uri": "https://localhost:8080/"
    },
    "id": "EaogICo0CC-A",
    "outputId": "f186c21e-04e4-4580-ddb5-78606133ccf8"
   },
   "outputs": [
    {
     "name": "stdout",
     "output_type": "stream",
     "text": [
      "shape of y before Encoding (150,)\n",
      "Shape of y after encoding (150, 3)\n",
      "First 5 labels\n",
      "[[1. 0. 0.]\n",
      " [1. 0. 0.]\n",
      " [1. 0. 0.]\n",
      " [1. 0. 0.]\n",
      " [1. 0. 0.]]\n"
     ]
    }
   ],
   "source": [
    "onehotencoder = OneHotEncoder(categories='auto')\n",
    "print('shape of y before Encoding', iris_data.label.shape)\n",
    "\n",
    "\n",
    "''' Passing 1d arrays as data to onehotcoder is deprecated in version, hence reshape to (-1,1) to have two dimensions. \n",
    "Input of onehotencoder fit_transform must not be 1-rank array'''\n",
    "\n",
    "iris_labels = onehotencoder.fit_transform(iris_data.label.values.reshape(-1,1)) \n",
    "\n",
    "# y.reshape(-1,1) is a 450x1 sparse matrix of type <class numpy.float64> \n",
    "#with 150 stored elements in Coordinate format. \n",
    "#y is a 150x3 sparse matrix of type <class numpy.float64> with 150 stored \n",
    "print('Shape of y after encoding', iris_labels.shape)\n",
    "\n",
    "#since output is sparse use       to_array = toarray() to expand it.\n",
    "print('First 5 labels')\n",
    "print(iris_labels.toarray()[:5])"
   ]
  },
  {
   "cell_type": "markdown",
   "metadata": {
    "id": "kUlVFbupx4I1"
   },
   "source": [
    "Let us observe the difference between one hot encoding and ordinal encoding."
   ]
  },
  {
   "cell_type": "code",
   "execution_count": 158,
   "metadata": {
    "colab": {
     "base_uri": "https://localhost:8080/"
    },
    "id": "TK0tPmpryBDx",
    "outputId": "5a2c3c31-4869-4f4f-ed0e-f04030819a32"
   },
   "outputs": [
    {
     "name": "stdout",
     "output_type": "stream",
     "text": [
      "[0. 1. 2.]\n",
      "\\First 5 labels\n",
      "[[0.]\n",
      " [0.]\n",
      " [0.]\n",
      " [0.]\n",
      " [0.]]\n"
     ]
    }
   ],
   "source": [
    "enc = OrdinalEncoder() \n",
    "iris_labels = np.array(iris_data['label']) \n",
    "iris_labels_transformed = enc.fit_transform(iris_labels.reshape(-1,1)) \n",
    "print(np.unique(iris_labels_transformed))\n",
    "\n",
    "print(\"\\First 5 labels\")\n",
    "print(iris_labels_transformed[:5])\n"
   ]
  },
  {
   "cell_type": "markdown",
   "metadata": {
    "id": "v0Z0ljn8GmY2"
   },
   "source": [
    "# LabelEncoder\n",
    "\n",
    "Another option is to use `LabelEncoder` for transforming categorical features into integer codes."
   ]
  },
  {
   "cell_type": "code",
   "execution_count": 159,
   "metadata": {
    "id": "DiPbxglmG6Xc"
   },
   "outputs": [],
   "source": [
    "from sklearn.preprocessing import LabelEncoder \n"
   ]
  },
  {
   "cell_type": "code",
   "execution_count": 160,
   "metadata": {
    "colab": {
     "base_uri": "https://localhost:8080/"
    },
    "id": "YIaznIHIG_6N",
    "outputId": "609b0831-25fd-4806-dac6-e5f0eaa64d95"
   },
   "outputs": [
    {
     "data": {
      "text/plain": [
       "array([0, 0, 0, 0, 0, 0, 0, 0, 0, 0, 0, 0, 0, 0, 0, 0, 0, 0, 0, 0, 0, 0,\n",
       "       0, 0, 0, 0, 0, 0, 0, 0, 0, 0, 0, 0, 0, 0, 0, 0, 0, 0, 0, 0, 0, 0,\n",
       "       0, 0, 0, 0, 0, 0, 1, 1, 1, 1, 1, 1, 1, 1, 1, 1, 1, 1, 1, 1, 1, 1,\n",
       "       1, 1, 1, 1, 1, 1, 1, 1, 1, 1, 1, 1, 1, 1, 1, 1, 1, 1, 1, 1, 1, 1,\n",
       "       1, 1, 1, 1, 1, 1, 1, 1, 1, 1, 1, 1, 2, 2, 2, 2, 2, 2, 2, 2, 2, 2,\n",
       "       2, 2, 2, 2, 2, 2, 2, 2, 2, 2, 2, 2, 2, 2, 2, 2, 2, 2, 2, 2, 2, 2,\n",
       "       2, 2, 2, 2, 2, 2, 2, 2, 2, 2, 2, 2, 2, 2, 2, 2, 2, 2])"
      ]
     },
     "execution_count": 160,
     "metadata": {},
     "output_type": "execute_result"
    }
   ],
   "source": [
    "# get the class column in a new variable\n",
    "\n",
    "iris_labels = np.array(iris_data['label'])\n",
    "\n",
    "#encode the class names to integers\n",
    "\n",
    "enc = LabelEncoder() \n",
    "label_integer = enc.fit_transform(iris_labels) \n",
    "label_integer"
   ]
  },
  {
   "cell_type": "markdown",
   "metadata": {
    "id": "yWZU4Y19yme0"
   },
   "source": [
    "#MultilabelBinarizer\n",
    "\n",
    "Encodes categorical features with value 0 to $ k-1$ where $k$ is number of classes. As the name suggests for case where output are multilabels there we use each unique label as column and assign 0 or 1 depending upon in the dataset that value is present or not. Movie generes is best example to understand.\n"
   ]
  },
  {
   "cell_type": "code",
   "execution_count": 161,
   "metadata": {
    "id": "f0DzFMQ4yxm_"
   },
   "outputs": [],
   "source": [
    "movie_generes = [\n",
    "                {'action','comedy'},\n",
    "                {'comedy'},\n",
    "                {'action','thriller'},\n",
    "                {'science-fiction','action','thriller'}\n",
    "          \n",
    "]"
   ]
  },
  {
   "cell_type": "code",
   "execution_count": 162,
   "metadata": {
    "colab": {
     "base_uri": "https://localhost:8080/"
    },
    "id": "h5RWkce4zQjJ",
    "outputId": "300cc79f-1d9e-41b0-dbb4-822a04c2d060"
   },
   "outputs": [
    {
     "data": {
      "text/plain": [
       "array([[1, 1, 0, 0],\n",
       "       [0, 1, 0, 0],\n",
       "       [1, 0, 0, 1],\n",
       "       [1, 0, 1, 1]])"
      ]
     },
     "execution_count": 162,
     "metadata": {},
     "output_type": "execute_result"
    }
   ],
   "source": [
    "from sklearn.preprocessing import MultiLabelBinarizer \n",
    "mlb = MultiLabelBinarizer() \n",
    "mlb.fit_transform(movie_generes) \n"
   ]
  },
  {
   "cell_type": "markdown",
   "metadata": {
    "id": "oVsbPBCQzvZ2"
   },
   "source": [
    "#Using dummy variables"
   ]
  },
  {
   "cell_type": "code",
   "execution_count": 163,
   "metadata": {
    "colab": {
     "base_uri": "https://localhost:8080/",
     "height": 424
    },
    "id": "fkH_-1X4zwyc",
    "outputId": "014bb737-49a7-434c-cb31-52a360ee5f2f"
   },
   "outputs": [
    {
     "data": {
      "text/html": [
       "\n",
       "  <div id=\"df-f4ec5aec-4508-4d2e-b196-29f366dd2d94\">\n",
       "    <div class=\"colab-df-container\">\n",
       "      <div>\n",
       "<style scoped>\n",
       "    .dataframe tbody tr th:only-of-type {\n",
       "        vertical-align: middle;\n",
       "    }\n",
       "\n",
       "    .dataframe tbody tr th {\n",
       "        vertical-align: top;\n",
       "    }\n",
       "\n",
       "    .dataframe thead th {\n",
       "        text-align: right;\n",
       "    }\n",
       "</style>\n",
       "<table border=\"1\" class=\"dataframe\">\n",
       "  <thead>\n",
       "    <tr style=\"text-align: right;\">\n",
       "      <th></th>\n",
       "      <th>sepal length</th>\n",
       "      <th>sepal width</th>\n",
       "      <th>petal width</th>\n",
       "      <th>one_hot_Iris-setosa</th>\n",
       "      <th>one_hot_Iris-versicolor</th>\n",
       "      <th>one_hot_Iris-virginica</th>\n",
       "    </tr>\n",
       "  </thead>\n",
       "  <tbody>\n",
       "    <tr>\n",
       "      <th>5.1</th>\n",
       "      <td>3.5</td>\n",
       "      <td>1.4</td>\n",
       "      <td>0.2</td>\n",
       "      <td>1</td>\n",
       "      <td>0</td>\n",
       "      <td>0</td>\n",
       "    </tr>\n",
       "    <tr>\n",
       "      <th>4.9</th>\n",
       "      <td>3.0</td>\n",
       "      <td>1.4</td>\n",
       "      <td>0.2</td>\n",
       "      <td>1</td>\n",
       "      <td>0</td>\n",
       "      <td>0</td>\n",
       "    </tr>\n",
       "    <tr>\n",
       "      <th>4.7</th>\n",
       "      <td>3.2</td>\n",
       "      <td>1.3</td>\n",
       "      <td>0.2</td>\n",
       "      <td>1</td>\n",
       "      <td>0</td>\n",
       "      <td>0</td>\n",
       "    </tr>\n",
       "    <tr>\n",
       "      <th>4.6</th>\n",
       "      <td>3.1</td>\n",
       "      <td>1.5</td>\n",
       "      <td>0.2</td>\n",
       "      <td>1</td>\n",
       "      <td>0</td>\n",
       "      <td>0</td>\n",
       "    </tr>\n",
       "    <tr>\n",
       "      <th>5.0</th>\n",
       "      <td>3.6</td>\n",
       "      <td>1.4</td>\n",
       "      <td>0.2</td>\n",
       "      <td>1</td>\n",
       "      <td>0</td>\n",
       "      <td>0</td>\n",
       "    </tr>\n",
       "    <tr>\n",
       "      <th>...</th>\n",
       "      <td>...</td>\n",
       "      <td>...</td>\n",
       "      <td>...</td>\n",
       "      <td>...</td>\n",
       "      <td>...</td>\n",
       "      <td>...</td>\n",
       "    </tr>\n",
       "    <tr>\n",
       "      <th>6.7</th>\n",
       "      <td>3.0</td>\n",
       "      <td>5.2</td>\n",
       "      <td>2.3</td>\n",
       "      <td>0</td>\n",
       "      <td>0</td>\n",
       "      <td>1</td>\n",
       "    </tr>\n",
       "    <tr>\n",
       "      <th>6.3</th>\n",
       "      <td>2.5</td>\n",
       "      <td>5.0</td>\n",
       "      <td>1.9</td>\n",
       "      <td>0</td>\n",
       "      <td>0</td>\n",
       "      <td>1</td>\n",
       "    </tr>\n",
       "    <tr>\n",
       "      <th>6.5</th>\n",
       "      <td>3.0</td>\n",
       "      <td>5.2</td>\n",
       "      <td>2.0</td>\n",
       "      <td>0</td>\n",
       "      <td>0</td>\n",
       "      <td>1</td>\n",
       "    </tr>\n",
       "    <tr>\n",
       "      <th>6.2</th>\n",
       "      <td>3.4</td>\n",
       "      <td>5.4</td>\n",
       "      <td>2.3</td>\n",
       "      <td>0</td>\n",
       "      <td>0</td>\n",
       "      <td>1</td>\n",
       "    </tr>\n",
       "    <tr>\n",
       "      <th>5.9</th>\n",
       "      <td>3.0</td>\n",
       "      <td>5.1</td>\n",
       "      <td>1.8</td>\n",
       "      <td>0</td>\n",
       "      <td>0</td>\n",
       "      <td>1</td>\n",
       "    </tr>\n",
       "  </tbody>\n",
       "</table>\n",
       "<p>150 rows × 6 columns</p>\n",
       "</div>\n",
       "      <button class=\"colab-df-convert\" onclick=\"convertToInteractive('df-f4ec5aec-4508-4d2e-b196-29f366dd2d94')\"\n",
       "              title=\"Convert this dataframe to an interactive table.\"\n",
       "              style=\"display:none;\">\n",
       "        \n",
       "  <svg xmlns=\"http://www.w3.org/2000/svg\" height=\"24px\"viewBox=\"0 0 24 24\"\n",
       "       width=\"24px\">\n",
       "    <path d=\"M0 0h24v24H0V0z\" fill=\"none\"/>\n",
       "    <path d=\"M18.56 5.44l.94 2.06.94-2.06 2.06-.94-2.06-.94-.94-2.06-.94 2.06-2.06.94zm-11 1L8.5 8.5l.94-2.06 2.06-.94-2.06-.94L8.5 2.5l-.94 2.06-2.06.94zm10 10l.94 2.06.94-2.06 2.06-.94-2.06-.94-.94-2.06-.94 2.06-2.06.94z\"/><path d=\"M17.41 7.96l-1.37-1.37c-.4-.4-.92-.59-1.43-.59-.52 0-1.04.2-1.43.59L10.3 9.45l-7.72 7.72c-.78.78-.78 2.05 0 2.83L4 21.41c.39.39.9.59 1.41.59.51 0 1.02-.2 1.41-.59l7.78-7.78 2.81-2.81c.8-.78.8-2.07 0-2.86zM5.41 20L4 18.59l7.72-7.72 1.47 1.35L5.41 20z\"/>\n",
       "  </svg>\n",
       "      </button>\n",
       "      \n",
       "  <style>\n",
       "    .colab-df-container {\n",
       "      display:flex;\n",
       "      flex-wrap:wrap;\n",
       "      gap: 12px;\n",
       "    }\n",
       "\n",
       "    .colab-df-convert {\n",
       "      background-color: #E8F0FE;\n",
       "      border: none;\n",
       "      border-radius: 50%;\n",
       "      cursor: pointer;\n",
       "      display: none;\n",
       "      fill: #1967D2;\n",
       "      height: 32px;\n",
       "      padding: 0 0 0 0;\n",
       "      width: 32px;\n",
       "    }\n",
       "\n",
       "    .colab-df-convert:hover {\n",
       "      background-color: #E2EBFA;\n",
       "      box-shadow: 0px 1px 2px rgba(60, 64, 67, 0.3), 0px 1px 3px 1px rgba(60, 64, 67, 0.15);\n",
       "      fill: #174EA6;\n",
       "    }\n",
       "\n",
       "    [theme=dark] .colab-df-convert {\n",
       "      background-color: #3B4455;\n",
       "      fill: #D2E3FC;\n",
       "    }\n",
       "\n",
       "    [theme=dark] .colab-df-convert:hover {\n",
       "      background-color: #434B5C;\n",
       "      box-shadow: 0px 1px 3px 1px rgba(0, 0, 0, 0.15);\n",
       "      filter: drop-shadow(0px 1px 2px rgba(0, 0, 0, 0.3));\n",
       "      fill: #FFFFFF;\n",
       "    }\n",
       "  </style>\n",
       "\n",
       "      <script>\n",
       "        const buttonEl =\n",
       "          document.querySelector('#df-f4ec5aec-4508-4d2e-b196-29f366dd2d94 button.colab-df-convert');\n",
       "        buttonEl.style.display =\n",
       "          google.colab.kernel.accessAllowed ? 'block' : 'none';\n",
       "\n",
       "        async function convertToInteractive(key) {\n",
       "          const element = document.querySelector('#df-f4ec5aec-4508-4d2e-b196-29f366dd2d94');\n",
       "          const dataTable =\n",
       "            await google.colab.kernel.invokeFunction('convertToInteractive',\n",
       "                                                     [key], {});\n",
       "          if (!dataTable) return;\n",
       "\n",
       "          const docLinkHtml = 'Like what you see? Visit the ' +\n",
       "            '<a target=\"_blank\" href=https://colab.research.google.com/notebooks/data_table.ipynb>data table notebook</a>'\n",
       "            + ' to learn more about interactive tables.';\n",
       "          element.innerHTML = '';\n",
       "          dataTable['output_type'] = 'display_data';\n",
       "          await google.colab.output.renderOutput(dataTable, element);\n",
       "          const docLink = document.createElement('div');\n",
       "          docLink.innerHTML = docLinkHtml;\n",
       "          element.appendChild(docLink);\n",
       "        }\n",
       "      </script>\n",
       "    </div>\n",
       "  </div>\n",
       "  "
      ],
      "text/plain": [
       "     sepal length  sepal width  ...  one_hot_Iris-versicolor  one_hot_Iris-virginica\n",
       "5.1           3.5          1.4  ...                        0                       0\n",
       "4.9           3.0          1.4  ...                        0                       0\n",
       "4.7           3.2          1.3  ...                        0                       0\n",
       "4.6           3.1          1.5  ...                        0                       0\n",
       "5.0           3.6          1.4  ...                        0                       0\n",
       "..            ...          ...  ...                      ...                     ...\n",
       "6.7           3.0          5.2  ...                        0                       1\n",
       "6.3           2.5          5.0  ...                        0                       1\n",
       "6.5           3.0          5.2  ...                        0                       1\n",
       "6.2           3.4          5.4  ...                        0                       1\n",
       "5.9           3.0          5.1  ...                        0                       1\n",
       "\n",
       "[150 rows x 6 columns]"
      ]
     },
     "execution_count": 163,
     "metadata": {},
     "output_type": "execute_result"
    }
   ],
   "source": [
    "#use get_dummies to create a one-hot encoding for each unique categorical value in the 'class' column\n",
    "#Convert categorical class variable to one-hot encoding:\n",
    " \n",
    "iris_data_onehot = pd.get_dummies(iris_data, columns=['label'], prefix=['one_hot'])\n",
    "iris_data_onehot \n"
   ]
  },
  {
   "cell_type": "markdown",
   "metadata": {
    "id": "NYXemvn00CvF"
   },
   "source": [
    "#9. Composite Transformers\n",
    "It applies a set of transformers to columns of an array or `pandas.DataFrame`, concatenates the transformed outputs from different transformers into a single matrix.\n",
    "* It is useful for transforming heterogeneous data by applying different transformers to separate subsets of features.\n",
    "* It combines different feature selection mechanism and transformation into a single transformer object."
   ]
  },
  {
   "cell_type": "code",
   "execution_count": 164,
   "metadata": {
    "colab": {
     "base_uri": "https://localhost:8080/"
    },
    "id": "rUp0NTyWLcPB",
    "outputId": "9d202767-7154-4f63-fbcb-2e45650a15d0"
   },
   "outputs": [
    {
     "data": {
      "text/plain": [
       "array([['20.0', 'male'],\n",
       "       ['11.2', 'female'],\n",
       "       ['15.6', 'female'],\n",
       "       ['13.0', 'male'],\n",
       "       ['18.6', 'male'],\n",
       "       ['16.4', 'female']], dtype='<U32')"
      ]
     },
     "execution_count": 164,
     "metadata": {},
     "output_type": "execute_result"
    }
   ],
   "source": [
    "x = [\n",
    "     [20.0,'male'],\n",
    "     [11.2,'female'],\n",
    "     [15.6,'female'],\n",
    "     [13.0,'male'],\n",
    "     [18.6, 'male'],\n",
    "     [16.4,'female']\n",
    "]\n",
    "x=np.array(x)\n",
    "x"
   ]
  },
  {
   "cell_type": "code",
   "execution_count": 165,
   "metadata": {
    "colab": {
     "base_uri": "https://localhost:8080/"
    },
    "id": "mfhOG-VBNCZ0",
    "outputId": "a6195145-f43f-4259-885d-75890da6799c"
   },
   "outputs": [
    {
     "data": {
      "text/plain": [
       "array([['1.0', '20.0', '0.0', '1.0'],\n",
       "       ['0.5599999999999999', '11.2', '1.0', '0.0'],\n",
       "       ['0.78', '15.6', '1.0', '0.0'],\n",
       "       ['0.65', '13.0', '0.0', '1.0'],\n",
       "       ['0.93', '18.6', '0.0', '1.0'],\n",
       "       ['0.82', '16.4', '1.0', '0.0']], dtype='<U32')"
      ]
     },
     "execution_count": 165,
     "metadata": {},
     "output_type": "execute_result"
    }
   ],
   "source": [
    "from sklearn.compose import ColumnTransformer                  #transformer is list of tuples\n",
    "from sklearn.preprocessing import MaxAbsScaler, OneHotEncoder \n",
    "ct = ColumnTransformer([\n",
    "                        ('scaler',MaxAbsScaler(), [0]), #in the tuple first is reference name, second method and third is column on which we want to apply column transformer\n",
    "                        ('pass','passthrough',[0]),\n",
    "                        ('encoder',OneHotEncoder(),[1])\n",
    "])\n",
    "\n",
    "ct.fit_transform(x)"
   ]
  },
  {
   "cell_type": "markdown",
   "metadata": {
    "id": "aRoi9JsZPkmp"
   },
   "source": [
    "#**TransformedTargetRegressor**\n",
    "\n",
    "> Transforms the target variable `y` before fitting a regression model.\n",
    "* The predicted values are mapped back to the original space via an inverse transform.\n",
    "* It takes **regressor** and **transformer** to be applied to the target variable as arguments.\n"
   ]
  },
  {
   "cell_type": "code",
   "execution_count": 166,
   "metadata": {
    "colab": {
     "base_uri": "https://localhost:8080/"
    },
    "id": "pPF_dAx9QOJ7",
    "outputId": "512d77be-f339-42dc-d034-863d87c03663"
   },
   "outputs": [
    {
     "name": "stdout",
     "output_type": "stream",
     "text": [
      "R2 score of raw_label regression:0.59\n",
      "R2 score of transformed label regression: 0.59\n"
     ]
    }
   ],
   "source": [
    "from sklearn.compose import TransformedTargetRegressor \n",
    "from sklearn.preprocessing import MaxAbsScaler \n",
    "from sklearn.linear_model import LinearRegression \n",
    "from sklearn.model_selection import train_test_split \n",
    "from sklearn.datasets import fetch_california_housing \n",
    "\n",
    "X, y = fetch_california_housing(return_X_y=True)\n",
    "X, y = X[:2000, :] ,y[:2000] #select a subset of data \n",
    "\n",
    "transformer = MaxAbsScaler() \n",
    "\n",
    "#Two regressor - one based on the original label \n",
    "regressor = LinearRegression()\n",
    "\n",
    "# second regressor with transformed labels.\n",
    "regr = TransformedTargetRegressor (regressor=regressor, transformer=transformer)\n",
    "\n",
    "X_train, X_test ,y_train, y_test = train_test_split(X,y,random_state=0)\n",
    "\n",
    "regr.fit(X_train,y_train)\n",
    "\n",
    "print('R2 score of raw_label regression:{0:.2f}'.format(regr.score(X_test,y_test)))\n",
    "\n",
    "raw_target_regr = LinearRegression().fit(X_train, y_train) \n",
    "print('R2 score of transformed label regression: {0:.2f}'.format(raw_target_regr.score(X_test,y_test)))\n"
   ]
  },
  {
   "cell_type": "markdown",
   "metadata": {
    "id": "8Dd970m_VYVU"
   },
   "source": [
    "#**Feature selection** \n",
    "\n",
    "`sklearn.feature_selection` module has useful APIs to select features/reduce dimensionality, either to improve estimators' accuracy score or to boost their performance on very high-dimensional datasets.\n",
    "\n",
    "# Filter based methods\n",
    "\n",
    "---\n",
    "#Variance Threshold \n",
    "\n",
    "This transformer helps to keep only high variance features by providing a certain threshold.\n",
    "> Features with  variance greater or equal to threshold value are kept rest are removed.\n",
    "\n",
    "> By default it removes any feature with same value i.e. 0 variance.\n"
   ]
  },
  {
   "cell_type": "code",
   "execution_count": 167,
   "metadata": {
    "colab": {
     "base_uri": "https://localhost:8080/"
    },
    "id": "CIFFQqXCWaaR",
    "outputId": "27fd58ba-c7c0-4376-b956-3c6c4d18ce61"
   },
   "outputs": [
    {
     "data": {
      "text/plain": [
       "array([ 1.25 , 67.735])"
      ]
     },
     "execution_count": 167,
     "metadata": {},
     "output_type": "execute_result"
    }
   ],
   "source": [
    "data = [{'age': 4 , 'height': 96.0},\n",
    "        {'age': 1 , 'height': 73.9},\n",
    "        {'age': 3,  'height': 88.9},\n",
    "        {'age': 2 , 'height': 81.6}\n",
    "]\n",
    "dv = DictVectorizer(sparse=False)\n",
    "data_transformed = dv.fit_transform(data)\n",
    "np.var(data_transformed, axis=0)\n"
   ]
  },
  {
   "cell_type": "code",
   "execution_count": 168,
   "metadata": {
    "colab": {
     "base_uri": "https://localhost:8080/"
    },
    "id": "E8NVCTlQYIaI",
    "outputId": "62199802-b45c-47ee-ab67-42a90337fb89"
   },
   "outputs": [
    {
     "data": {
      "text/plain": [
       "array([[96. ],\n",
       "       [73.9],\n",
       "       [88.9],\n",
       "       [81.6]])"
      ]
     },
     "execution_count": 168,
     "metadata": {},
     "output_type": "execute_result"
    }
   ],
   "source": [
    "from sklearn.feature_selection import VarianceThreshold \n",
    "vt = VarianceThreshold(threshold = 9)\n",
    "data_new = vt.fit_transform(data_transformed)\n",
    "data_new"
   ]
  },
  {
   "cell_type": "markdown",
   "metadata": {
    "id": "qq6L3Zm2Y868"
   },
   "source": [
    "As you may observe from output of above cell, the transformer has removed the `age` feature because its variance is below the threshold.\n",
    "\n",
    "#SelectKBest \n",
    "It selects `k` highest scoring features based on a function and removes the rest of the features.\n",
    "\n",
    "Let's take an example of California Housing Dataset.\n"
   ]
  },
  {
   "cell_type": "code",
   "execution_count": 169,
   "metadata": {
    "colab": {
     "base_uri": "https://localhost:8080/"
    },
    "id": "8DURh7pXZ5tF",
    "outputId": "ecbc57e9-1183-4d75-c00a-074422165cf0"
   },
   "outputs": [
    {
     "data": {
      "text/plain": [
       "(2000, 8)"
      ]
     },
     "execution_count": 169,
     "metadata": {},
     "output_type": "execute_result"
    }
   ],
   "source": [
    "import numpy as np\n",
    "from sklearn.datasets import fetch_california_housing \n",
    "from sklearn.model_selection import train_test_split \n",
    "from sklearn.feature_selection import SelectKBest, mutual_info_regression \n",
    "\n",
    "#download data\n",
    "\n",
    "X_california, y_california = fetch_california_housing(return_X_y=True) \n",
    "# select a subset of data \n",
    "X , y = X_california[:2000],y_california[:2000]\n",
    "# X_california.shape is (20640, 8)\n",
    "X.shape"
   ]
  },
  {
   "cell_type": "markdown",
   "metadata": {
    "id": "MhI_KXQZbu57"
   },
   "source": [
    "Let's select 3 most important features, since it is a regression problem, we can use only `mutual_info_regression` of `f_regression` scoring functions only."
   ]
  },
  {
   "cell_type": "code",
   "execution_count": 170,
   "metadata": {
    "colab": {
     "base_uri": "https://localhost:8080/"
    },
    "id": "Smovnx8-cPF1",
    "outputId": "08901896-7d7c-475d-e483-613468ff84df"
   },
   "outputs": [
    {
     "name": "stdout",
     "output_type": "stream",
     "text": [
      "shape of feature matrix after feature selection: (2000, 3)\n"
     ]
    }
   ],
   "source": [
    "# mutual_info_regression is scoring method for linear regression method\n",
    "\n",
    "skb = SelectKBest(mutual_info_regression, k =3) \n",
    "X_new = skb.fit_transform(X,y)\n",
    "print(f'shape of feature matrix after feature selection: {X_new.shape}')\n"
   ]
  },
  {
   "cell_type": "markdown",
   "metadata": {
    "id": "V06KT6aEdu96"
   },
   "source": [
    "As you can see from above output, the transformed data only has top 3 features.\n"
   ]
  },
  {
   "cell_type": "code",
   "execution_count": 171,
   "metadata": {
    "colab": {
     "base_uri": "https://localhost:8080/"
    },
    "id": "jtkpdFc6d2zV",
    "outputId": "8afa4b65-a92e-4b7e-9b96-de08f8da4081"
   },
   "outputs": [
    {
     "data": {
      "text/plain": [
       "array(['x0', 'x6', 'x7'], dtype=object)"
      ]
     },
     "execution_count": 171,
     "metadata": {},
     "output_type": "execute_result"
    }
   ],
   "source": [
    "skb.get_feature_names_out()"
   ]
  },
  {
   "cell_type": "markdown",
   "metadata": {
    "id": "utVt6zOod8bF"
   },
   "source": [
    "#Select Percentile \n",
    "This is very similar to `SelectKBest` from previous section, the only difference is, it selects top `percentile` of all features and drops the rest of features.\n",
    "\n",
    "Similar to `SelecKBest`, it also uses a scoring function to decide the importance of features.\n",
    "\n",
    "Let's use the california housing price dataset for this API."
   ]
  },
  {
   "cell_type": "code",
   "execution_count": 172,
   "metadata": {
    "colab": {
     "base_uri": "https://localhost:8080/"
    },
    "id": "H9zAL4Yremd6",
    "outputId": "583d9856-bc84-4364-d434-d4e75e492fc6"
   },
   "outputs": [
    {
     "name": "stdout",
     "output_type": "stream",
     "text": [
      "shape of feature matrix after feature selection:(2000, 3)\n"
     ]
    }
   ],
   "source": [
    "from sklearn.feature_selection import SelectPercentile \n",
    "sp = SelectPercentile(mutual_info_regression , percentile= 30)\n",
    "X_new = sp.fit_transform(X,y)\n",
    "print(f'shape of feature matrix after feature selection:{X_new.shape}')"
   ]
  },
  {
   "cell_type": "markdown",
   "metadata": {
    "id": "ki1Yro_2fR9x"
   },
   "source": [
    "As you can see from above output, the transformed data now only has top 30 percentile of features, i.e only 3 out of 8 features.\n"
   ]
  },
  {
   "cell_type": "code",
   "execution_count": 173,
   "metadata": {
    "colab": {
     "base_uri": "https://localhost:8080/"
    },
    "id": "HSszf03hfe7O",
    "outputId": "f4e34fb4-9eea-442e-f5c5-74b7b39e1307"
   },
   "outputs": [
    {
     "data": {
      "text/plain": [
       "array(['x0', 'x6', 'x7'], dtype=object)"
      ]
     },
     "execution_count": 173,
     "metadata": {},
     "output_type": "execute_result"
    }
   ],
   "source": [
    "skb.get_feature_names_out()"
   ]
  },
  {
   "cell_type": "markdown",
   "metadata": {
    "id": "ocFgRTc4fn6y"
   },
   "source": [
    "#GenericUnivariateSelect\n",
    "\n",
    "\n",
    "It applies  univariate feature selection with a certain strategy, which is passed to the API via `mode` parameter. The `mode` can take one of the following values: `percentile` (top percentage), `k_best` (top k), `fpr`(false positive rate), `fdr` (false discovery rate), `fwe` (family wise error rate) \n",
    "\n",
    "If you want to accomplish the same objective as `SelectKBest`, we can use following code: \n"
   ]
  },
  {
   "cell_type": "code",
   "execution_count": 174,
   "metadata": {
    "colab": {
     "base_uri": "https://localhost:8080/"
    },
    "id": "jXaWZP7lgYGR",
    "outputId": "4a842e4e-1ef1-4c9e-ea4f-bac6a9802c3e"
   },
   "outputs": [
    {
     "name": "stdout",
     "output_type": "stream",
     "text": [
      "shape of feature matrix before feature selection:(2000, 8)\n",
      "shape of feature matrix after feature selection:(2000, 3)\n"
     ]
    }
   ],
   "source": [
    "from sklearn.feature_selection import GenericUnivariateSelect \n",
    "gus= GenericUnivariateSelect(mutual_info_regression, mode='k_best', param = 3)\n",
    "X_new = gus.fit_transform(X,y)\n",
    "print(f'shape of feature matrix before feature selection:{X.shape}')\n",
    "print(f'shape of feature matrix after feature selection:{X_new.shape}')\n"
   ]
  },
  {
   "cell_type": "markdown",
   "metadata": {
    "id": "ZGiegc2chQuh"
   },
   "source": [
    "#RFE (Recursive Feature Elimination) \n",
    "* __STEP 1__: Fits a model and \n",
    "* __STEP 2__: Ranks the features, afterwards it removes one or more features(depending upn `step` parameter)\n",
    "\n",
    "These two steps are repeated until desired number of features are selected.\n"
   ]
  },
  {
   "cell_type": "code",
   "execution_count": 175,
   "metadata": {
    "colab": {
     "base_uri": "https://localhost:8080/"
    },
    "id": "GX8iOYkWh1-u",
    "outputId": "4c601599-8add-41fd-eb59-0a2ed592273f"
   },
   "outputs": [
    {
     "name": "stdout",
     "output_type": "stream",
     "text": [
      "[ True False False False False False  True  True]\n",
      "Rank of each feature is : [1 5 4 3 6 2 1 1]\n"
     ]
    }
   ],
   "source": [
    "from sklearn.datasets import make_friedman1 \n",
    "from sklearn.feature_selection import RFE \n",
    "from sklearn.linear_model import LinearRegression \n",
    "\n",
    "\n",
    "estimator = LinearRegression() \n",
    "selector = RFE(estimator, n_features_to_select = 3 , step=1)\n",
    "selector = selector.fit(X,y)\n",
    "\n",
    "\n",
    "#support_ attribute is a boolean array \n",
    "# marking which features are selected\n",
    "print(selector.support_)\n",
    "\n",
    "#rank of each feature \n",
    "# if it's value is '1', then it is selected\n",
    "# features with rank 2 and onwards are ranked least.\n",
    "print(f'Rank of each feature is : {selector.ranking_}')\n"
   ]
  },
  {
   "cell_type": "code",
   "execution_count": 176,
   "metadata": {
    "colab": {
     "base_uri": "https://localhost:8080/"
    },
    "id": "j3tIad78kM9L",
    "outputId": "379c24a2-327c-4102-da17-816d09f244c7"
   },
   "outputs": [
    {
     "name": "stdout",
     "output_type": "stream",
     "text": [
      "shape of feature matrix after feature selection:(2000, 3)\n"
     ]
    }
   ],
   "source": [
    "X_new = selector.transform(X)\n",
    "print(f'shape of feature matrix after feature selection:{X_new.shape}')\n"
   ]
  },
  {
   "cell_type": "markdown",
   "metadata": {
    "id": "42KAMiZtkbiB"
   },
   "source": [
    "#RFE-CV\n",
    "\n",
    "This adds another layer of cross validation to `RFE`. \n",
    "\n",
    "#SelectFromModel \n",
    "\n",
    ">Selects desired number of important features(as specified with `max_features` parameter) above certain threshold of feature importance as obtained from the trained estimator.\n",
    "* The feature importance is obtained via `coef_`, `feature_importance_` or an `importance_getter` callable from the trained estimator.\n",
    "* The feature importance threshold can be specified either numerically or through string argument based on built-in heuristics such as `mean`, `median` and `float` multiples of these like `0.1*mean`.\n",
    "\n",
    "\n",
    "The following example uses california housing price dataset. Using `SelectFromModel` top three features are selected.\n",
    "\n"
   ]
  },
  {
   "cell_type": "code",
   "execution_count": 177,
   "metadata": {
    "colab": {
     "base_uri": "https://localhost:8080/"
    },
    "id": "0SNRFYQrmtBR",
    "outputId": "0e413db0-bd66-4e16-8c4a-dc29882ccd89"
   },
   "outputs": [
    {
     "name": "stdout",
     "output_type": "stream",
     "text": [
      "Coefficients of features: [ 3.64048292e-01  5.56221906e-03  5.13591243e-02 -1.64474348e-01\n",
      "  5.90411479e-05 -1.64573915e-01 -2.17724525e-01 -1.85343265e-01]\n",
      "Indices of top 3 features:[1 2 0]\n",
      "shape of feature matrix after feature selection:(2000, 3)\n"
     ]
    }
   ],
   "source": [
    "from sklearn.feature_selection import SelectFromModel \n",
    "estimator = LinearRegression() \n",
    "estimator.fit(X,y) \n",
    "\n",
    "\n",
    "print(f'Coefficients of features: {estimator.coef_}')\n",
    "print(f'Indices of top {3} features:{np.argsort(estimator.coef_)[-3:]}')\n",
    "\n",
    "t = np.argsort(np.abs(estimator.coef_))[-3:]\n",
    "model = SelectFromModel(estimator, max_features = 3, prefit = True)\n",
    "X_new = model.transform(X)\n",
    "print(f'shape of feature matrix after feature selection:{X_new.shape}')\n"
   ]
  },
  {
   "cell_type": "markdown",
   "metadata": {
    "id": "VinSUQk1olK7"
   },
   "source": [
    "#SequentialFeatureSelection \n",
    "\n",
    "It performs feature selection by selecting or deselecting features one by one in a greedy manner. "
   ]
  },
  {
   "cell_type": "code",
   "execution_count": 178,
   "metadata": {
    "id": "FKuTWV7PsztH"
   },
   "outputs": [],
   "source": [
    "from sklearn.feature_selection import SequentialFeatureSelector \n"
   ]
  },
  {
   "cell_type": "code",
   "execution_count": 179,
   "metadata": {
    "colab": {
     "base_uri": "https://localhost:8080/"
    },
    "id": "gYxHYG0Es87u",
    "outputId": "3e36e385-07d1-4764-8331-2457f6d50694"
   },
   "outputs": [
    {
     "name": "stdout",
     "output_type": "stream",
     "text": [
      "[ True False False False False  True  True False]\n",
      "CPU times: user 221 ms, sys: 53.2 ms, total: 275 ms\n",
      "Wall time: 239 ms\n"
     ]
    }
   ],
   "source": [
    "%%time \n",
    "estimator= LinearRegression() \n",
    "sfs = SequentialFeatureSelector(estimator, n_features_to_select=3) \n",
    "sfs.fit_transform(X,y)\n",
    "print(sfs.get_support())"
   ]
  },
  {
   "cell_type": "markdown",
   "metadata": {
    "id": "x9SWy0YOuXGg"
   },
   "source": [
    "The features corresponding to `True` in the output `sfs.get_support()` are selected. In this case, feature 1,6,7 are selected.\n"
   ]
  },
  {
   "cell_type": "code",
   "execution_count": 180,
   "metadata": {
    "colab": {
     "base_uri": "https://localhost:8080/"
    },
    "id": "QtpNwCMvuqOH",
    "outputId": "3d4bc29f-8cff-4198-aa7a-6f94b62608fd"
   },
   "outputs": [
    {
     "name": "stdout",
     "output_type": "stream",
     "text": [
      "[ True False False False False  True  True False]\n",
      "CPU times: user 383 ms, sys: 169 ms, total: 552 ms\n",
      "Wall time: 367 ms\n"
     ]
    }
   ],
   "source": [
    "%%time \n",
    "estimator = LinearRegression() \n",
    "sfs = SequentialFeatureSelector(estimator, n_features_to_select=3, direction = 'backward')\n",
    "sfs.fit_transform(X,y)\n",
    "print(sfs.get_support())"
   ]
  },
  {
   "cell_type": "markdown",
   "metadata": {
    "id": "wadlhEmAvQpd"
   },
   "source": [
    "A couple of observations: \n",
    "* Both `forward` and `backward` selection methods select the same featurers.\n",
    "* The `backward` selection method takes longer than `forward` selection method. \n",
    "\n",
    "From above examples, we can observe that depending upon number of features, `SFS` can accomplish feature selection in different periods forwards and backwards. \n",
    "\n",
    "\n",
    "\n"
   ]
  },
  {
   "cell_type": "markdown",
   "metadata": {
    "id": "jiYDTn7GwSFy"
   },
   "source": [
    "#**11. PCA**\n",
    "PCA is used to decompose a multivariate dataset in a set of successive orthogonal components that capture maximum amount of the variance.\n",
    "It helps in reducing dimensions of a dataset, thus computational cost of next steps e.g. training a model, cross validation etc.\n",
    "\n",
    "Let's generate some artificial data to better understand PCA.\n"
   ]
  },
  {
   "cell_type": "code",
   "execution_count": 181,
   "metadata": {
    "colab": {
     "base_uri": "https://localhost:8080/",
     "height": 312
    },
    "id": "sjW-aIgFyddZ",
    "outputId": "c47c8653-fc20-4bfb-d87b-89aa842271cd"
   },
   "outputs": [
    {
     "data": {
      "image/png": "[encoded data removed]",
      "text/plain": [
       "<Figure size 432x288 with 1 Axes>"
      ]
     },
     "metadata": {
      "needs_background": "light"
     },
     "output_type": "display_data"
    }
   ],
   "source": [
    "#@title [Generate synthetic dataset]\n",
    "rand = np.random.RandomState(1)\n",
    "X = np.dot(rand.rand(2, 2), rand.randn(2, 200)).T\n",
    "\n",
    "plt.figure()\n",
    "plt.title('Data points', size = 20)\n",
    "\n",
    "# set x and y labels\n",
    "plt.xlabel('$x_1$', size=20)\n",
    "plt.ylabel('$x_2$', size=20, rotation = 0)\n",
    "\n",
    "# plot the data points\n",
    "plt.scatter(X[:, 0], X[:, 1], alpha=0.5)\n",
    "plt.axis('equal');"
   ]
  },
  {
   "cell_type": "markdown",
   "metadata": {
    "id": "QnVQuHF2zcGC"
   },
   "source": [
    "Let us fit a `PCA` transformer on this data and compute its two principal components: "
   ]
  },
  {
   "cell_type": "code",
   "execution_count": 182,
   "metadata": {
    "colab": {
     "base_uri": "https://localhost:8080/"
    },
    "id": "wCyZohbH0Nan",
    "outputId": "7b0f045c-b7ad-4e2e-d65a-2e96b5bed252"
   },
   "outputs": [
    {
     "data": {
      "text/plain": [
       "PCA(n_components=2)"
      ]
     },
     "execution_count": 182,
     "metadata": {},
     "output_type": "execute_result"
    }
   ],
   "source": [
    "from sklearn.decomposition import PCA \n",
    "pca =PCA(n_components=2)\n",
    "pca.fit(X)"
   ]
  },
  {
   "cell_type": "markdown",
   "metadata": {
    "id": "JZUWH8TU0i9W"
   },
   "source": [
    "Let's print the principle axes, they are two 2D vectors for this example. The PCA object returns them in the form of a matrix, where **each column returns them in the form of a matrix, where each column represents a principle component:** \n"
   ]
  },
  {
   "cell_type": "code",
   "execution_count": 183,
   "metadata": {
    "colab": {
     "base_uri": "https://localhost:8080/"
    },
    "id": "DplmJhri21KD",
    "outputId": "a9b56d85-44cd-4bce-c054-9f3cc3026b5a"
   },
   "outputs": [
    {
     "name": "stdout",
     "output_type": "stream",
     "text": [
      "The 2 principle axes are \n",
      " [[-0.94446029 -0.32862557]\n",
      " [-0.32862557  0.94446029]]\n"
     ]
    }
   ],
   "source": [
    "print(f'The {pca.n_components_} principle axes are \\n',pca.components_)"
   ]
  },
  {
   "cell_type": "markdown",
   "metadata": {
    "id": "Y0gMN_Y14x64"
   },
   "source": [
    "Let's also look at the explained variance corresponding to each priciple axes."
   ]
  },
  {
   "cell_type": "code",
   "execution_count": 184,
   "metadata": {
    "colab": {
     "base_uri": "https://localhost:8080/"
    },
    "id": "XktXisOt5GQY",
    "outputId": "14b6848a-c92a-4847-e0a7-b777c30275c9"
   },
   "outputs": [
    {
     "name": "stdout",
     "output_type": "stream",
     "text": [
      "Explained variance by each component [0.7625315 0.0184779]\n"
     ]
    }
   ],
   "source": [
    "print('Explained variance by each component', pca.explained_variance_)"
   ]
  },
  {
   "cell_type": "markdown",
   "metadata": {
    "id": "TpHe3Y3W6Ph7"
   },
   "source": [
    "To better understand PCA, let's visualize these principle axex.\n",
    "* There are two principle axes $ C_1 and C_2$. They are orthogonal to each other. An additional vector $C_3$ is also mentioned for comparision.\n",
    "* The lenghts of $C_1$ and $C_2$ are taken as square root of respective explained variance. The length of the vector implies how important that vector is."
   ]
  },
  {
   "cell_type": "code",
   "execution_count": 185,
   "metadata": {
    "colab": {
     "base_uri": "https://localhost:8080/"
    },
    "id": "W2wdvVJp6_ln",
    "outputId": "5933de5e-f318-450d-abef-f2f4c088ef1e"
   },
   "outputs": [
    {
     "name": "stdout",
     "output_type": "stream",
     "text": [
      "(200, 2)\n",
      "(200,)\n"
     ]
    }
   ],
   "source": [
    "# draw projections of data points on different vectors\n",
    "\n",
    "projections = X@pca.components_ \n",
    "print(projections.shape)\n",
    "c3= X[2]\n",
    "arbitary_projection = X@c3 \n",
    "print(arbitary_projection.shape)\n"
   ]
  },
  {
   "cell_type": "code",
   "execution_count": 186,
   "metadata": {
    "colab": {
     "base_uri": "https://localhost:8080/",
     "height": 329
    },
    "id": "0msufPF_8WAQ",
    "outputId": "e2ac9f88-6efc-4ab9-855e-669230f2c7b7"
   },
   "outputs": [
    {
     "data": {
      "text/plain": [
       "Text(0.5, 0, '$z$')"
      ]
     },
     "execution_count": 186,
     "metadata": {},
     "output_type": "execute_result"
    },
    {
     "data": {
      "image/png": "[encoded data removed]",
      "text/plain": [
       "<Figure size 432x288 with 1 Axes>"
      ]
     },
     "metadata": {
      "needs_background": "light"
     },
     "output_type": "display_data"
    }
   ],
   "source": [
    "#plt.figure(figsize=(8,6))\n",
    "plt.scatter(projections[:,0], 1+np.zeros((200,1)),alpha=0.3, color='r')\n",
    "plt.scatter(projections[:,1], -1+np.zeros((200,1)),alpha=0.3, color='b')\n",
    "plt.scatter(arbitary_projection, np.zeros((200,)),alpha=0.3, color='grey')\n",
    "plt.legend(['$\\mathbf{C_2}$','$\\mathbf{C_3}$'],prop={'size': 16})\n",
    "plt.title(\"variance covered by different vectors\",size = 20)\n",
    "plt.ylim([-1.5,1.5])\n",
    "plt.axis('equal')\n",
    "plt.grid(True)\n",
    "plt.yticks([],[])\n",
    "plt.xlabel('$z$', size =20)"
   ]
  },
  {
   "cell_type": "markdown",
   "metadata": {
    "id": "1VYJXUJBgUyi"
   },
   "source": [
    "#Reducing Dimensions\n",
    "\n",
    "We can use PCA to reduce number of dimensions of a dataset. The components that are least important i.e. their explained variance is low, are removed and only those components that capture high(i.e. desired) amount of variance are kept.\n",
    "\n",
    "\n",
    "Let's reduce the dimension of our data from 2 to 1. You can observe the transformed data has only 1 feature.\n"
   ]
  },
  {
   "cell_type": "code",
   "execution_count": 187,
   "metadata": {
    "colab": {
     "base_uri": "https://localhost:8080/"
    },
    "id": "dg7vdvdRh1UB",
    "outputId": "876b221f-eecc-41ab-95f7-91abcc773620"
   },
   "outputs": [
    {
     "name": "stdout",
     "output_type": "stream",
     "text": [
      "original shape: (200, 2)\n",
      "transformed shape (200, 1)\n"
     ]
    }
   ],
   "source": [
    "pca = PCA(n_components=1)\n",
    "pca.fit(X)\n",
    "X_pca = pca.transform(X) \n",
    "print('original shape:', X.shape)\n",
    "print('transformed shape',X_pca.shape)"
   ]
  },
  {
   "cell_type": "markdown",
   "metadata": {
    "id": "7gyq4wybiJO3"
   },
   "source": [
    "To better understand what happened to our data, let's visualize our original data and the reduced data.\n",
    "To do this, we will need to bring the transformed data into space or original data, which can be accomplished by `inverse_transform` method of `PCA` object.\n"
   ]
  },
  {
   "cell_type": "code",
   "execution_count": 188,
   "metadata": {
    "colab": {
     "base_uri": "https://localhost:8080/",
     "height": 312
    },
    "id": "a9FTPGSrj_qA",
    "outputId": "6c6c2a93-1e42-46dd-f45a-c7889ba7adf2"
   },
   "outputs": [
    {
     "data": {
      "image/png": "[encoded data removed]",
      "text/plain": [
       "<Figure size 432x288 with 1 Axes>"
      ]
     },
     "metadata": {
      "needs_background": "light"
     },
     "output_type": "display_data"
    }
   ],
   "source": [
    "#@ Visualize data in PC space\n",
    "#@title [Visualize principal components]\n",
    "\n",
    "# set x and y labels\n",
    "\n",
    "plt.figure()\n",
    "\n",
    "plt.title('Data and candidate vectors', size = 20)\n",
    "\n",
    "plt.xlabel('$x_1$', size=20)\n",
    "\n",
    "plt.ylabel('$x_2$', size=20, rotation = 0)\n",
    "\n",
    "# plot data points\n",
    "\n",
    "plt.scatter(X[:, 0], X[:, 1], alpha=0.3)\n",
    "\n",
    "for length, principal_axis, axis_name, i_color in zip(pca.explained_variance_, \n",
    "\n",
    "                                    pca.components_, \n",
    "\n",
    "                                    ['$\\mathbf{C_1}$','$\\mathbf{C_2}$'],\n",
    "\n",
    "                                    ['r','b']):\n",
    "\n",
    "    v = principal_axis * np.sqrt(length)\n",
    "\n",
    "    v0, v1 = pca.mean_, pca.mean_ + v\n",
    "\n",
    "    # draw principal axis\n",
    "\n",
    "    plt.quiver(*v0,*(v1-v0),scale=0.33, scale_units='xy', color=i_color)\n",
    "\n",
    "    # label the  principal axis\n",
    "\n",
    "    plt.text(*(3.4*v1), axis_name, size = 20)\n",
    "\n",
    "# draw 3rd component\n",
    "\n",
    "lengths = np.eye(2)\n",
    "\n",
    "np.fill_diagonal(lengths, np.sqrt(pca.explained_variance_))\n",
    "\n",
    "c3 = pca.mean_+[-0.5,0.3]\n",
    "\n",
    "plt.quiver(*pca.mean_,\n",
    "\n",
    "           *(1.1*(c3-pca.mean_)),\n",
    "\n",
    "           scale=1,\n",
    "\n",
    "           scale_units='xy',\n",
    "\n",
    "           color='grey')\n",
    "\n",
    "# label the  principal axis\n",
    "\n",
    "plt.text(*(1.4*c3), \n",
    "\n",
    "         '$\\mathbf{C_3}$', \n",
    "\n",
    "         size = 20,\n",
    "\n",
    "         color='grey')\n",
    "\n",
    "plt.axis('equal')\n",
    "\n",
    "plt.show()"
   ]
  },
  {
   "cell_type": "markdown",
   "metadata": {
    "id": "slBpAs1lk28A"
   },
   "source": [
    "From above chart it is clear that the new/transformed data points are now projected on $\\mathbf C_1$ vector. \n"
   ]
  },
  {
   "cell_type": "markdown",
   "metadata": {
    "id": "8T0MiFOUlaBW"
   },
   "source": [
    "#**Chaining Transformers**\n",
    "\n",
    "The preprocessing transformations are applied one after another on the input feature matrix.\n",
    ">It is important to apply exactly same transformation on training, evaluation and test set in the same order.\n",
    "Failing to do so would lead to incorrect predictions from model due to distribution shift and hence incorrect performance evaluation.\n",
    "The `sklearn.pipeline` module provides utilities to build a composite estimator, as a chain of transformers and estimators."
   ]
  },
  {
   "cell_type": "markdown",
   "metadata": {
    "id": "USbX76Y-m8BN"
   },
   "source": [
    "#Pipeline\n",
    "\n",
    "Sequentially apply a list of transformers and estimators.\n",
    "* Intermediate steps of the pipeline must be 'transformer' that is, they must implement `fit` and `transform` methods.\n",
    "* The final estimator only needs to implement `fit`. \n",
    "\n",
    "The purpose of the pipeline is to assemble several steps that can be cross-validated together while setting different parameters.\n",
    "\n",
    "#Creating pipelines\n",
    "\n",
    "A pipeline can be created with `Pipeline()`. It takes a list of ('estimatorsName',estimator(...)) tuples. The pipeline object exposes interface of the last step."
   ]
  },
  {
   "cell_type": "code",
   "execution_count": 189,
   "metadata": {
    "id": "1yEmqUc2n4A6"
   },
   "outputs": [],
   "source": [
    "from sklearn.pipeline import Pipeline \n",
    "from sklearn.impute import SimpleImputer \n",
    "from sklearn.preprocessing import StandardScaler \n",
    "estimators =[\n",
    "             ('simpleImputer',SimpleImputer()),\n",
    "             ('standardScaler', StandardScaler()),\n",
    "]\n",
    "pipe = Pipeline(steps=estimators)\n"
   ]
  },
  {
   "cell_type": "markdown",
   "metadata": {
    "id": "bL9GnsaJthHP"
   },
   "source": [
    "The same pipeline can also be created via `make_pipeline()` helper function, which doesn't take names of the steps and assigns them generic names based on their steps."
   ]
  },
  {
   "cell_type": "code",
   "execution_count": 190,
   "metadata": {
    "id": "SfHWpj_Ktw77"
   },
   "outputs": [],
   "source": [
    "from sklearn.pipeline import make_pipeline \n",
    "pipe = make_pipeline(SimpleImputer(),StandardScaler())\n"
   ]
  },
  {
   "cell_type": "markdown",
   "metadata": {
    "id": "4io7M8_puh4S"
   },
   "source": [
    "#Acessing Individual steps in a Pipeline"
   ]
  },
  {
   "cell_type": "code",
   "execution_count": 191,
   "metadata": {
    "id": "zYbRR1XZunPi"
   },
   "outputs": [],
   "source": [
    "from sklearn.decomposition import PCA \n",
    "estimators = [\n",
    "              ('simpleImputer',SimpleImputer()),\n",
    "              ('pca',PCA()),\n",
    "              ('regressor',LinearRegression())\n",
    "]\n",
    "pipe =Pipeline(steps=estimators)\n"
   ]
  },
  {
   "cell_type": "markdown",
   "metadata": {
    "id": "hSR7O0VNuOwT"
   },
   "source": [
    "Let's print number of steps in this pipeline:"
   ]
  },
  {
   "cell_type": "code",
   "execution_count": 192,
   "metadata": {
    "colab": {
     "base_uri": "https://localhost:8080/"
    },
    "id": "mZzI0apnuUuF",
    "outputId": "6687d385-3a43-4cb9-d223-b8448c8a84e6"
   },
   "outputs": [
    {
     "name": "stdout",
     "output_type": "stream",
     "text": [
      "3\n"
     ]
    }
   ],
   "source": [
    "print(len(pipe.steps))"
   ]
  },
  {
   "cell_type": "markdown",
   "metadata": {
    "id": "ub2CaUBOvG3l"
   },
   "source": [
    "Let's look at each of the steps:"
   ]
  },
  {
   "cell_type": "code",
   "execution_count": 193,
   "metadata": {
    "colab": {
     "base_uri": "https://localhost:8080/"
    },
    "id": "9ebNkrLevMwM",
    "outputId": "6bff5189-e075-4468-81ce-bb7a05064122"
   },
   "outputs": [
    {
     "name": "stdout",
     "output_type": "stream",
     "text": [
      "[('simpleImputer', SimpleImputer()), ('pca', PCA()), ('regressor', LinearRegression())]\n"
     ]
    }
   ],
   "source": [
    "print(pipe.steps)"
   ]
  },
  {
   "cell_type": "markdown",
   "metadata": {
    "id": "upPaNstMvd1l"
   },
   "source": [
    "The second estimator can be accessed in following 4 ways:\n"
   ]
  },
  {
   "cell_type": "code",
   "execution_count": 194,
   "metadata": {
    "colab": {
     "base_uri": "https://localhost:8080/"
    },
    "id": "n4gny0_svjK-",
    "outputId": "53eb15c1-a4e7-42a0-a330-d9f28a95b287"
   },
   "outputs": [
    {
     "name": "stdout",
     "output_type": "stream",
     "text": [
      "PCA()\n"
     ]
    }
   ],
   "source": [
    "print(pipe.named_steps.pca)"
   ]
  },
  {
   "cell_type": "code",
   "execution_count": 195,
   "metadata": {
    "colab": {
     "base_uri": "https://localhost:8080/"
    },
    "id": "ezl3C5vhvp0y",
    "outputId": "97c2413e-a17c-4cb2-bc9b-c57b37a1196b"
   },
   "outputs": [
    {
     "data": {
      "text/plain": [
       "('pca', PCA())"
      ]
     },
     "execution_count": 195,
     "metadata": {},
     "output_type": "execute_result"
    }
   ],
   "source": [
    "pipe.steps[1]"
   ]
  },
  {
   "cell_type": "code",
   "execution_count": 196,
   "metadata": {
    "colab": {
     "base_uri": "https://localhost:8080/"
    },
    "id": "daApndV2vtm-",
    "outputId": "b3b37cd5-87bd-4c80-da1e-30e8c4329da2"
   },
   "outputs": [
    {
     "data": {
      "text/plain": [
       "PCA()"
      ]
     },
     "execution_count": 196,
     "metadata": {},
     "output_type": "execute_result"
    }
   ],
   "source": [
    "pipe['pca']"
   ]
  },
  {
   "cell_type": "markdown",
   "metadata": {
    "id": "b_GF-eAxvx8P"
   },
   "source": [
    "#Accessing parameters of a step in pipeline\n",
    "Parameters of the estimators in the pipeline can be accessed using the __syntax, note there are two undercores "
   ]
  },
  {
   "cell_type": "code",
   "execution_count": 197,
   "metadata": {
    "colab": {
     "base_uri": "https://localhost:8080/"
    },
    "id": "9Nywedfpwwvq",
    "outputId": "f6ce1672-6fbe-42e6-99bd-5cb87cfc72f9"
   },
   "outputs": [
    {
     "data": {
      "text/plain": [
       "Pipeline(steps=[('simpleImputer', SimpleImputer()),\n",
       "                ('pca', PCA(n_components=2)),\n",
       "                ('regressor', LinearRegression())])"
      ]
     },
     "execution_count": 197,
     "metadata": {},
     "output_type": "execute_result"
    }
   ],
   "source": [
    "estimators = [\n",
    "              ('simpleImputer',SimpleImputer()),\n",
    "              ('pca', PCA()),\n",
    "              ('regressor',LinearRegression())\n",
    "]\n",
    "pipe = Pipeline(steps=estimators)\n",
    "pipe.set_params(pca__n_components = 2)"
   ]
  },
  {
   "cell_type": "markdown",
   "metadata": {
    "id": "Q25L_iFgxdpL"
   },
   "source": [
    "In above example `n_components` of `PCA()` step is set after the pipeline is created.\n",
    "\n",
    "#**GridSearch with pipeline**\n",
    "\n",
    "\n",
    "---\n",
    "By using naming convention of nested parameters, grid search can be implemented.\n"
   ]
  },
  {
   "cell_type": "code",
   "execution_count": 198,
   "metadata": {
    "id": "J_ck6-Gsx5tx"
   },
   "outputs": [],
   "source": [
    "from sklearn.impute import KNNImputer \n",
    "from sklearn.linear_model import LogisticRegression \n",
    "from sklearn.svm import SVC \n",
    "from sklearn.model_selection import GridSearchCV\n",
    "\n",
    "param_grid = dict(imputer=['passthrough',\n",
    "                           SimpleImputer(),\n",
    "                           KNNImputer()],\n",
    "                  clf=[SVC(),LogisticRegression()],\n",
    "                  clf_C=[0.1,10,100])\n",
    "grid_search = GridSearchCV(pipe, param_grid = param_grid)\n"
   ]
  },
  {
   "cell_type": "markdown",
   "metadata": {
    "id": "E0hBeg1q1czZ"
   },
   "source": [
    "* `c` is an inverse of regularization, lower its value stronger the regularization is.\n",
    "* In the example above `clf_C` provides a set of values for grid search.\n",
    "\n"
   ]
  },
  {
   "cell_type": "markdown",
   "metadata": {
    "id": "VnpcsWt41vcw"
   },
   "source": [
    "#Caching Transformers\n",
    "\n",
    "Transforming data is a computationally expensive step.\n",
    "* For grid search, transformers need not be applied for every parameter configuration. They can be applied only once, and the transformed data can be reused.\n",
    "\n",
    "This can be achived by setting `memory` parameter of `pipeline` object.\n",
    "\n"
   ]
  },
  {
   "cell_type": "code",
   "execution_count": 199,
   "metadata": {
    "id": "F-AhrWld2MD9"
   },
   "outputs": [],
   "source": [
    "import tempfile \n",
    "tempDirPath = tempfile.TemporaryDirectory()"
   ]
  },
  {
   "cell_type": "code",
   "execution_count": 200,
   "metadata": {
    "id": "U6dRaxBl4e7i"
   },
   "outputs": [],
   "source": [
    "estimators = [\n",
    "              ('simpleImputer', SimpleImputer()),\n",
    "              ('pca', PCA(2)),\n",
    "              ('regressor',LinearRegression())\n",
    "]\n",
    "pipe = Pipeline(steps = estimators ,memory = tempDirPath)\n"
   ]
  },
  {
   "cell_type": "markdown",
   "metadata": {
    "id": "170SQ55v5Chk"
   },
   "source": [
    "#FeaturerUnion \n",
    "Concatenates results of multiple transformer objects.\n",
    "\n",
    "* Applies a list of transformer objects in parallel, and their outputs are concatenated side-by-side into a larger matrix.\n",
    "`FeatuerUnion` and `Pipeline` can be used to create complex transformers.\n",
    "\n",
    "#**Visualizaing Pipelines**\n"
   ]
  },
  {
   "cell_type": "code",
   "execution_count": 201,
   "metadata": {
    "id": "9R7L5Xnq5ln_"
   },
   "outputs": [],
   "source": [
    "from sklearn.preprocessing import StandardScaler, LabelBinarizer \n",
    "from sklearn.pipeline import Pipeline, FeatureUnion \n",
    "from sklearn.compose import ColumnTransformer \n",
    "from sklearn.impute import SimpleImputer\n",
    "num_pipeline = Pipeline ([\n",
    "                          ('selector', ColumnTransformer([('select_first_4',\n",
    "                                                           'passthrough',\n",
    "                                                           slice(0,4))])),\n",
    "                           ('imputer',SimpleImputer(strategy='median')),\n",
    "                           ('std_scaler', StandardScaler()),\n",
    "])\n",
    "\n",
    "cat_pipeline = ColumnTransformer([\n",
    "                                  ('label_binarizer',LabelBinarizer(),[4]),\n",
    "])\n",
    "\n",
    "full_pipeline = FeatureUnion(transformer_list=\n",
    "                             [('num_pipeline', num_pipeline),\n",
    "                              ('cat_pipeline',cat_pipeline)\n",
    "])\n",
    "                          \n",
    "                          "
   ]
  },
  {
   "cell_type": "code",
   "execution_count": 202,
   "metadata": {
    "colab": {
     "base_uri": "https://localhost:8080/",
     "height": 245
    },
    "id": "LV5WGctD8zlH",
    "outputId": "7f492229-896d-452e-b5a7-ebb194042067"
   },
   "outputs": [
    {
     "data": {
      "text/html": [
       "<style>#sk-ff1fb6e2-4821-4282-8118-1f402f426f34 {color: black;background-color: white;}#sk-ff1fb6e2-4821-4282-8118-1f402f426f34 pre{padding: 0;}#sk-ff1fb6e2-4821-4282-8118-1f402f426f34 div.sk-toggleable {background-color: white;}#sk-ff1fb6e2-4821-4282-8118-1f402f426f34 label.sk-toggleable__label {cursor: pointer;display: block;width: 100%;margin-bottom: 0;padding: 0.3em;box-sizing: border-box;text-align: center;}#sk-ff1fb6e2-4821-4282-8118-1f402f426f34 div.sk-toggleable__content {max-height: 0;max-width: 0;overflow: hidden;text-align: left;background-color: #f0f8ff;}#sk-ff1fb6e2-4821-4282-8118-1f402f426f34 div.sk-toggleable__content pre {margin: 0.2em;color: black;border-radius: 0.25em;background-color: #f0f8ff;}#sk-ff1fb6e2-4821-4282-8118-1f402f426f34 input.sk-toggleable__control:checked~div.sk-toggleable__content {max-height: 200px;max-width: 100%;overflow: auto;}#sk-ff1fb6e2-4821-4282-8118-1f402f426f34 div.sk-estimator input.sk-toggleable__control:checked~label.sk-toggleable__label {background-color: #d4ebff;}#sk-ff1fb6e2-4821-4282-8118-1f402f426f34 div.sk-label input.sk-toggleable__control:checked~label.sk-toggleable__label {background-color: #d4ebff;}#sk-ff1fb6e2-4821-4282-8118-1f402f426f34 input.sk-hidden--visually {border: 0;clip: rect(1px 1px 1px 1px);clip: rect(1px, 1px, 1px, 1px);height: 1px;margin: -1px;overflow: hidden;padding: 0;position: absolute;width: 1px;}#sk-ff1fb6e2-4821-4282-8118-1f402f426f34 div.sk-estimator {font-family: monospace;background-color: #f0f8ff;border: 1px dotted black;border-radius: 0.25em;box-sizing: border-box;margin-bottom: 0.5em;}#sk-ff1fb6e2-4821-4282-8118-1f402f426f34 div.sk-estimator:hover {background-color: #d4ebff;}#sk-ff1fb6e2-4821-4282-8118-1f402f426f34 div.sk-parallel-item::after {content: \"\";width: 100%;border-bottom: 1px solid gray;flex-grow: 1;}#sk-ff1fb6e2-4821-4282-8118-1f402f426f34 div.sk-label:hover label.sk-toggleable__label {background-color: #d4ebff;}#sk-ff1fb6e2-4821-4282-8118-1f402f426f34 div.sk-serial::before {content: \"\";position: absolute;border-left: 1px solid gray;box-sizing: border-box;top: 2em;bottom: 0;left: 50%;}#sk-ff1fb6e2-4821-4282-8118-1f402f426f34 div.sk-serial {display: flex;flex-direction: column;align-items: center;background-color: white;padding-right: 0.2em;padding-left: 0.2em;}#sk-ff1fb6e2-4821-4282-8118-1f402f426f34 div.sk-item {z-index: 1;}#sk-ff1fb6e2-4821-4282-8118-1f402f426f34 div.sk-parallel {display: flex;align-items: stretch;justify-content: center;background-color: white;}#sk-ff1fb6e2-4821-4282-8118-1f402f426f34 div.sk-parallel::before {content: \"\";position: absolute;border-left: 1px solid gray;box-sizing: border-box;top: 2em;bottom: 0;left: 50%;}#sk-ff1fb6e2-4821-4282-8118-1f402f426f34 div.sk-parallel-item {display: flex;flex-direction: column;position: relative;background-color: white;}#sk-ff1fb6e2-4821-4282-8118-1f402f426f34 div.sk-parallel-item:first-child::after {align-self: flex-end;width: 50%;}#sk-ff1fb6e2-4821-4282-8118-1f402f426f34 div.sk-parallel-item:last-child::after {align-self: flex-start;width: 50%;}#sk-ff1fb6e2-4821-4282-8118-1f402f426f34 div.sk-parallel-item:only-child::after {width: 0;}#sk-ff1fb6e2-4821-4282-8118-1f402f426f34 div.sk-dashed-wrapped {border: 1px dashed gray;margin: 0 0.4em 0.5em 0.4em;box-sizing: border-box;padding-bottom: 0.4em;background-color: white;position: relative;}#sk-ff1fb6e2-4821-4282-8118-1f402f426f34 div.sk-label label {font-family: monospace;font-weight: bold;background-color: white;display: inline-block;line-height: 1.2em;}#sk-ff1fb6e2-4821-4282-8118-1f402f426f34 div.sk-label-container {position: relative;z-index: 2;text-align: center;}#sk-ff1fb6e2-4821-4282-8118-1f402f426f34 div.sk-container {display: inline-block;position: relative;}</style><div id=\"sk-ff1fb6e2-4821-4282-8118-1f402f426f34\" class\"sk-top-container\"><div class=\"sk-container\"><div class=\"sk-item sk-dashed-wrapped\"><div class=\"sk-label-container\"><div class=\"sk-label sk-toggleable\"><input class=\"sk-toggleable__control sk-hidden--visually\" id=\"47c7447a-9f56-493a-ad6a-4b39e982cf94\" type=\"checkbox\" ><label class=\"sk-toggleable__label\" for=\"47c7447a-9f56-493a-ad6a-4b39e982cf94\">FeatureUnion</label><div class=\"sk-toggleable__content\"><pre>FeatureUnion(transformer_list=[('num_pipeline',\n",
       "                                Pipeline(steps=[('selector',\n",
       "                                                 ColumnTransformer(transformers=[('select_first_4',\n",
       "                                                                                  'passthrough',\n",
       "                                                                                  slice(0, 4, None))])),\n",
       "                                                ('imputer',\n",
       "                                                 SimpleImputer(strategy='median')),\n",
       "                                                ('std_scaler',\n",
       "                                                 StandardScaler())])),\n",
       "                               ('cat_pipeline',\n",
       "                                ColumnTransformer(transformers=[('label_binarizer',\n",
       "                                                                 LabelBinarizer(),\n",
       "                                                                 [4])]))])</pre></div></div></div><div class=\"sk-parallel\"><div class=\"sk-parallel-item\"><div class=\"sk-item\"><div class=\"sk-label-container\"><div class=\"sk-label sk-toggleable\"><label>num_pipeline</label></div></div><div class=\"sk-serial\"><div class=\"sk-item\"><div class=\"sk-serial\"><div class=\"sk-item sk-dashed-wrapped\"><div class=\"sk-label-container\"><div class=\"sk-label sk-toggleable\"><input class=\"sk-toggleable__control sk-hidden--visually\" id=\"ed409245-c5d3-4f0f-959a-29ebbee06d37\" type=\"checkbox\" ><label class=\"sk-toggleable__label\" for=\"ed409245-c5d3-4f0f-959a-29ebbee06d37\">selector: ColumnTransformer</label><div class=\"sk-toggleable__content\"><pre>ColumnTransformer(transformers=[('select_first_4', 'passthrough',\n",
       "                                 slice(0, 4, None))])</pre></div></div></div><div class=\"sk-parallel\"><div class=\"sk-parallel-item\"><div class=\"sk-item\"><div class=\"sk-label-container\"><div class=\"sk-label sk-toggleable\"><input class=\"sk-toggleable__control sk-hidden--visually\" id=\"c04a3b1b-f627-448d-90e3-adfda6a6b29e\" type=\"checkbox\" ><label class=\"sk-toggleable__label\" for=\"c04a3b1b-f627-448d-90e3-adfda6a6b29e\">select_first_4</label><div class=\"sk-toggleable__content\"><pre>slice(0, 4, None)</pre></div></div></div><div class=\"sk-serial\"><div class=\"sk-item\"><div class=\"sk-estimator sk-toggleable\"><input class=\"sk-toggleable__control sk-hidden--visually\" id=\"e237b388-813c-42f9-b94b-217208ef3e7a\" type=\"checkbox\" ><label class=\"sk-toggleable__label\" for=\"e237b388-813c-42f9-b94b-217208ef3e7a\">passthrough</label><div class=\"sk-toggleable__content\"><pre>passthrough</pre></div></div></div></div></div></div></div></div><div class=\"sk-item\"><div class=\"sk-estimator sk-toggleable\"><input class=\"sk-toggleable__control sk-hidden--visually\" id=\"35b80f3d-3bff-468d-9e2f-67acd1a9bac6\" type=\"checkbox\" ><label class=\"sk-toggleable__label\" for=\"35b80f3d-3bff-468d-9e2f-67acd1a9bac6\">SimpleImputer</label><div class=\"sk-toggleable__content\"><pre>SimpleImputer(strategy='median')</pre></div></div></div><div class=\"sk-item\"><div class=\"sk-estimator sk-toggleable\"><input class=\"sk-toggleable__control sk-hidden--visually\" id=\"0af29610-2fb8-4a8e-9046-bafd4fe06135\" type=\"checkbox\" ><label class=\"sk-toggleable__label\" for=\"0af29610-2fb8-4a8e-9046-bafd4fe06135\">StandardScaler</label><div class=\"sk-toggleable__content\"><pre>StandardScaler()</pre></div></div></div></div></div></div></div></div><div class=\"sk-parallel-item\"><div class=\"sk-item\"><div class=\"sk-label-container\"><div class=\"sk-label sk-toggleable\"><label>cat_pipeline</label></div></div><div class=\"sk-serial\"><div class=\"sk-item sk-dashed-wrapped\"><div class=\"sk-parallel\"><div class=\"sk-parallel-item\"><div class=\"sk-item\"><div class=\"sk-label-container\"><div class=\"sk-label sk-toggleable\"><input class=\"sk-toggleable__control sk-hidden--visually\" id=\"6acdec88-c284-4852-9f72-c6537338e722\" type=\"checkbox\" ><label class=\"sk-toggleable__label\" for=\"6acdec88-c284-4852-9f72-c6537338e722\">label_binarizer</label><div class=\"sk-toggleable__content\"><pre>[4]</pre></div></div></div><div class=\"sk-serial\"><div class=\"sk-item\"><div class=\"sk-estimator sk-toggleable\"><input class=\"sk-toggleable__control sk-hidden--visually\" id=\"1940d361-1ba2-477f-9a79-0efb45074c0e\" type=\"checkbox\" ><label class=\"sk-toggleable__label\" for=\"1940d361-1ba2-477f-9a79-0efb45074c0e\">LabelBinarizer</label><div class=\"sk-toggleable__content\"><pre>LabelBinarizer()</pre></div></div></div></div></div></div></div></div></div></div></div></div></div></div></div>"
      ],
      "text/plain": [
       "FeatureUnion(transformer_list=[('num_pipeline',\n",
       "                                Pipeline(steps=[('selector',\n",
       "                                                 ColumnTransformer(transformers=[('select_first_4',\n",
       "                                                                                  'passthrough',\n",
       "                                                                                  slice(0, 4, None))])),\n",
       "                                                ('imputer',\n",
       "                                                 SimpleImputer(strategy='median')),\n",
       "                                                ('std_scaler',\n",
       "                                                 StandardScaler())])),\n",
       "                               ('cat_pipeline',\n",
       "                                ColumnTransformer(transformers=[('label_binarizer',\n",
       "                                                                 LabelBinarizer(),\n",
       "                                                                 [4])]))])"
      ]
     },
     "execution_count": 202,
     "metadata": {},
     "output_type": "execute_result"
    }
   ],
   "source": [
    "from sklearn import set_config \n",
    "set_config(display='diagram')\n",
    "\n",
    "#displays HTML representation in a jupyter context \n",
    "full_pipeline"
   ]
  },
  {
   "cell_type": "markdown",
   "metadata": {
    "id": "feDGDLOe9WQV"
   },
   "source": [
    "#14. Handling Imbalanced Data \n",
    "\n",
    "\n",
    "Imbalanced datasets are those where one class is very less represented than the other class. This kind of data results in less efficient ML algorithm.\n",
    "\n",
    "There are two main approaches to handle imbalanced data:\n",
    "* Undersampling\n",
    "* Oversampling\n",
    "\n",
    "[Image Source](https://miro.medium.com/max/1400/0*mOgypphrofDS9Z32.png)\n",
    "\n",
    "![Image Source](https://miro.medium.com/max/1400/0*mOgypphrofDS9Z32.png)\n",
    "\n"
   ]
  },
  {
   "cell_type": "markdown",
   "metadata": {
    "id": "DhrxsQfZ_-KI"
   },
   "source": [
    "We will demonstrate how to handle imbalance with the help of wine quality dataset that we have used earlier in this notebook.\n",
    "\n",
    "We will reload this dataset once more before using it for the demonstration.\n"
   ]
  },
  {
   "cell_type": "code",
   "execution_count": 203,
   "metadata": {
    "colab": {
     "base_uri": "https://localhost:8080/",
     "height": 285
    },
    "id": "IVYJzD7NA-0j",
    "outputId": "9653c8aa-356b-4435-e87a-05b33f7bbfd8"
   },
   "outputs": [
    {
     "data": {
      "image/png": "[encoded data removed]",
      "text/plain": [
       "<Figure size 432x288 with 1 Axes>"
      ]
     },
     "metadata": {
      "needs_background": "light"
     },
     "output_type": "display_data"
    }
   ],
   "source": [
    "wine_data = pd.read_csv(\"https://archive.ics.uci.edu/ml/machine-learning-databases/wine-quality/winequality-red.csv\",sep=';')\n",
    "\n",
    "#display the histograms of the target variable 'quality'\n",
    "\n",
    "wine_data['quality'].hist(bins=50)\n",
    "plt.xlabel('Quality')\n",
    "plt.ylabel('Number of samples')\n",
    "plt.show()"
   ]
  },
  {
   "cell_type": "code",
   "execution_count": 204,
   "metadata": {
    "colab": {
     "base_uri": "https://localhost:8080/"
    },
    "id": "HJAodqpkBjlF",
    "outputId": "7c58a220-23fd-4790-b879-f604b4f1a27c"
   },
   "outputs": [
    {
     "data": {
      "text/plain": [
       "(1599, 12)"
      ]
     },
     "execution_count": 204,
     "metadata": {},
     "output_type": "execute_result"
    }
   ],
   "source": [
    "wine_data.shape\n"
   ]
  },
  {
   "cell_type": "markdown",
   "metadata": {
    "id": "2kV6M9qmBrBm"
   },
   "source": [
    "#Undersampling\n",
    "\n",
    "Undersampling refers to sampling from the majority class in order to keep only a part of these data points.\n",
    "\n",
    "It may be carried out using **RandomUnderSampler** class from **imblearn** library \n"
   ]
  },
  {
   "cell_type": "code",
   "execution_count": 205,
   "metadata": {
    "id": "gKszcy3sCAcG"
   },
   "outputs": [],
   "source": [
    "from imblearn.under_sampling import RandomUnderSampler \n"
   ]
  },
  {
   "cell_type": "code",
   "execution_count": 206,
   "metadata": {
    "colab": {
     "base_uri": "https://localhost:8080/",
     "height": 390
    },
    "id": "mSEzBc73CNk7",
    "outputId": "db5e2e02-d55e-4fc1-b70f-fc9d92d5e02d"
   },
   "outputs": [
    {
     "name": "stdout",
     "output_type": "stream",
     "text": [
      "class 3: (10, 12)\n",
      "class 4: (53, 12)\n",
      "class 5: (681, 12)\n",
      "class 6: (638, 12)\n",
      "class 7: (199, 12)\n",
      "class 8: (18, 12)\n"
     ]
    },
    {
     "data": {
      "text/plain": [
       "<matplotlib.axes._subplots.AxesSubplot at 0x7ff72f6df3d0>"
      ]
     },
     "execution_count": 206,
     "metadata": {},
     "output_type": "execute_result"
    },
    {
     "data": {
      "image/png": "[encoded data removed]",
      "text/plain": [
       "<Figure size 432x288 with 1 Axes>"
      ]
     },
     "metadata": {
      "needs_background": "light"
     },
     "output_type": "display_data"
    }
   ],
   "source": [
    "#class\n",
    "class_count_3,class_count_4,class_count_5,class_count_6,class_count_7,class_count_8 = wine_data['quality'].value_counts()\n",
    "\n",
    "#separate class\n",
    "class_3= wine_data[wine_data['quality']==3]\n",
    "class_4= wine_data[wine_data['quality']==4]\n",
    "class_5= wine_data[wine_data['quality']==5]\n",
    "class_3= wine_data[wine_data['quality']==3]\n",
    "class_6= wine_data[wine_data['quality']==6]\n",
    "class_7= wine_data[wine_data['quality']==7]\n",
    "class_8= wine_data[wine_data['quality']==8]\n",
    "\n",
    "\n",
    "# print the shape of the class\n",
    "print(\"class 3:\", class_3.shape)\n",
    "print(\"class 4:\", class_4.shape)\n",
    "print(\"class 5:\", class_5.shape)\n",
    "print(\"class 6:\", class_6.shape)\n",
    "print(\"class 7:\", class_7.shape)\n",
    "print(\"class 8:\", class_8.shape)\n",
    "\n",
    "\n",
    "#for i in range(3,9):\n",
    " # print(f'print(\"class {i}:\", class_{i}.shape)')\n",
    "wine_data.plot.hist()\n"
   ]
  },
  {
   "cell_type": "code",
   "execution_count": 207,
   "metadata": {
    "colab": {
     "base_uri": "https://localhost:8080/"
    },
    "id": "1B6C9xa_Gz0C",
    "outputId": "83c351ca-2e28-4c48-f73e-c31c3e87b0fe"
   },
   "outputs": [
    {
     "name": "stdout",
     "output_type": "stream",
     "text": [
      "original dataset shape: Counter({5: 681, 6: 638, 7: 199, 4: 53, 8: 18, 3: 10})\n",
      "Resample dataset shape Counter({3: 10, 4: 10, 5: 10, 6: 10, 7: 10, 8: 10})\n"
     ]
    }
   ],
   "source": [
    "from collections import Counter #It allows you to count the items in an iterable list.\n",
    "\n",
    "X = wine_data.drop(['quality'],axis=1)\n",
    "y = wine_data['quality']\n",
    "\n",
    "undersample = RandomUnderSampler(random_state =0)\n",
    "X_rus, y_rus = undersample.fit_resample(X,y) # $\\textbf fit_resample$\n",
    "print('original dataset shape:', Counter(y))\n",
    "print('Resample dataset shape',Counter(y_rus))"
   ]
  },
  {
   "cell_type": "markdown",
   "metadata": {
    "id": "daW52X-QIDDg"
   },
   "source": [
    "The class with the least number of samples is'3'. Hence all the other class samples are reduced to the number of samples in the least class.\n"
   ]
  },
  {
   "cell_type": "markdown",
   "metadata": {
    "id": "mAOncClLIPfS"
   },
   "source": [
    "#**Oversampling**\n",
    "\n",
    "Oversampling refers to replicating some points from the minority class in order to increase the cardinality of the minority class. This might consist of either replicating or generating synthetic data for the minority class.\n",
    "\n",
    "It may be carried out using RandomOverSampler class from imblearn library.\n",
    "\n"
   ]
  },
  {
   "cell_type": "code",
   "execution_count": 208,
   "metadata": {
    "colab": {
     "base_uri": "https://localhost:8080/"
    },
    "id": "O3Xd2gfLJk-h",
    "outputId": "1179d363-87b0-4226-edc8-4fd98c9a9088"
   },
   "outputs": [
    {
     "name": "stdout",
     "output_type": "stream",
     "text": [
      "original dataset shape: Counter({5: 681, 6: 638, 7: 199, 4: 53, 8: 18, 3: 10})\n",
      "Resample dataset shape Counter({5: 681, 6: 681, 7: 681, 4: 681, 8: 681, 3: 681})\n"
     ]
    }
   ],
   "source": [
    "from imblearn.over_sampling import RandomOverSampler \n",
    "\n",
    "ros = RandomOverSampler() \n",
    "X_ros, y_ros = ros.fit_resample(X,y)\n",
    "print('original dataset shape:', Counter(y))\n",
    "print('Resample dataset shape', Counter(y_ros))"
   ]
  },
  {
   "cell_type": "code",
   "execution_count": 209,
   "metadata": {
    "colab": {
     "base_uri": "https://localhost:8080/"
    },
    "id": "npwxsGBbKOmH",
    "outputId": "75a0b618-96ca-4cfb-c455-8a1d2b818663"
   },
   "outputs": [
    {
     "name": "stdout",
     "output_type": "stream",
     "text": [
      "2487 New random points generated with RandomOverSampler\n"
     ]
    }
   ],
   "source": [
    "print(X_ros.shape[0]-X.shape[0],'New random points generated with RandomOverSampler')"
   ]
  },
  {
   "cell_type": "markdown",
   "metadata": {
    "id": "B7T6j4muKn73"
   },
   "source": [
    "The class with the majority number of samples is '5'. Hence all the other class samples that are lesser than this class count are newly sampled to the number of samples in the majority class.\n",
    "\n"
   ]
  },
  {
   "cell_type": "markdown",
   "metadata": {
    "id": "F_SDyIiyK9Oo"
   },
   "source": [
    "#**Oversampling using SMOTE**\n",
    "\n",
    "SMOTE (Synthetic Minority Oversampling Technique) is a popular technique for over sampling. It is available under **imblean** library.\n"
   ]
  },
  {
   "cell_type": "code",
   "execution_count": 210,
   "metadata": {
    "id": "G_gVkJZNLTBw"
   },
   "outputs": [],
   "source": [
    "from imblearn.over_sampling import SMOTE \n"
   ]
  },
  {
   "cell_type": "code",
   "execution_count": 211,
   "metadata": {
    "colab": {
     "base_uri": "https://localhost:8080/"
    },
    "id": "7976wA-dLYF0",
    "outputId": "fc901a5b-924b-48fe-c740-b26c564210e0"
   },
   "outputs": [
    {
     "data": {
      "text/plain": [
       "Counter({3: 681, 4: 681, 5: 681, 6: 681, 7: 681, 8: 681})"
      ]
     },
     "execution_count": 211,
     "metadata": {},
     "output_type": "execute_result"
    }
   ],
   "source": [
    "oversample = SMOTE() \n",
    "X_sm, y_sm = oversample.fit_resample(X,y)\n",
    "counter = Counter(y_sm)\n",
    "counter"
   ]
  },
  {
   "cell_type": "code",
   "execution_count": 212,
   "metadata": {
    "colab": {
     "base_uri": "https://localhost:8080/"
    },
    "id": "KgkdVuzALrDB",
    "outputId": "2351ed44-7370-49be-9c8c-2753160316b5"
   },
   "outputs": [
    {
     "name": "stdout",
     "output_type": "stream",
     "text": [
      "2487 New random generated with SMOTE\n"
     ]
    }
   ],
   "source": [
    "print(X_sm.shape[0]-X.shape[0],'New random generated with SMOTE')"
   ]
  },
  {
   "cell_type": "markdown",
   "metadata": {
    "id": "-gF2ClQ5L3Wj"
   },
   "source": [
    "**Types of SMOTE** \n",
    "* Borderline SMOTE\n",
    "* Borderline-SMOTE SVM\n",
    "* Adaptive Synthetic Sampling(ADASYN)"
   ]
  },
  {
   "cell_type": "markdown",
   "metadata": {
    "id": "RnoCLr3LMIS7"
   },
   "source": [
    "Practice Assignment 2-Not Graded \n"
   ]
  },
  {
   "cell_type": "code",
   "execution_count": 215,
   "metadata": {
    "id": "uJ4rnpxAkry7"
   },
   "outputs": [],
   "source": [
    "data = pd.read_csv('/content/DataPreprocessingGraded_dataset.csv')"
   ]
  },
  {
   "cell_type": "code",
   "execution_count": 216,
   "metadata": {
    "colab": {
     "base_uri": "https://localhost:8080/"
    },
    "id": "qGF_tKR9k_lS",
    "outputId": "d496546b-489e-4127-b5ac-d66ab922ddf3"
   },
   "outputs": [
    {
     "data": {
      "text/plain": [
       "(748, 6)"
      ]
     },
     "execution_count": 216,
     "metadata": {},
     "output_type": "execute_result"
    }
   ],
   "source": [
    "data.shape"
   ]
  },
  {
   "cell_type": "code",
   "execution_count": 217,
   "metadata": {
    "colab": {
     "base_uri": "https://localhost:8080/",
     "height": 206
    },
    "id": "U8kE7ZqwlIgq",
    "outputId": "fca430dd-62c2-4fd5-a6fa-447a19b4a8e5"
   },
   "outputs": [
    {
     "data": {
      "text/html": [
       "\n",
       "  <div id=\"df-85303632-593d-4fa5-a459-b7448ae8a376\">\n",
       "    <div class=\"colab-df-container\">\n",
       "      <div>\n",
       "<style scoped>\n",
       "    .dataframe tbody tr th:only-of-type {\n",
       "        vertical-align: middle;\n",
       "    }\n",
       "\n",
       "    .dataframe tbody tr th {\n",
       "        vertical-align: top;\n",
       "    }\n",
       "\n",
       "    .dataframe thead th {\n",
       "        text-align: right;\n",
       "    }\n",
       "</style>\n",
       "<table border=\"1\" class=\"dataframe\">\n",
       "  <thead>\n",
       "    <tr style=\"text-align: right;\">\n",
       "      <th></th>\n",
       "      <th>V1</th>\n",
       "      <th>V2</th>\n",
       "      <th>V3</th>\n",
       "      <th>V4</th>\n",
       "      <th>V5</th>\n",
       "      <th>Target</th>\n",
       "    </tr>\n",
       "  </thead>\n",
       "  <tbody>\n",
       "    <tr>\n",
       "      <th>0</th>\n",
       "      <td>2.0</td>\n",
       "      <td>50.0</td>\n",
       "      <td>12500.0</td>\n",
       "      <td>98.0</td>\n",
       "      <td>NEGATIVE</td>\n",
       "      <td>YES</td>\n",
       "    </tr>\n",
       "    <tr>\n",
       "      <th>1</th>\n",
       "      <td>0.0</td>\n",
       "      <td>13.0</td>\n",
       "      <td>3250.0</td>\n",
       "      <td>28.0</td>\n",
       "      <td>NEGATIVE</td>\n",
       "      <td>YES</td>\n",
       "    </tr>\n",
       "    <tr>\n",
       "      <th>2</th>\n",
       "      <td>?</td>\n",
       "      <td>?</td>\n",
       "      <td>4000.0</td>\n",
       "      <td>35.0</td>\n",
       "      <td>NEGATIVE</td>\n",
       "      <td>YES</td>\n",
       "    </tr>\n",
       "    <tr>\n",
       "      <th>3</th>\n",
       "      <td>?</td>\n",
       "      <td>20.0</td>\n",
       "      <td>5000.0</td>\n",
       "      <td>45.0</td>\n",
       "      <td>NEGATIVE</td>\n",
       "      <td>YES</td>\n",
       "    </tr>\n",
       "    <tr>\n",
       "      <th>4</th>\n",
       "      <td>1.0</td>\n",
       "      <td>24.0</td>\n",
       "      <td>6000.0</td>\n",
       "      <td>77.0</td>\n",
       "      <td>NEGATIVE</td>\n",
       "      <td>NO</td>\n",
       "    </tr>\n",
       "  </tbody>\n",
       "</table>\n",
       "</div>\n",
       "      <button class=\"colab-df-convert\" onclick=\"convertToInteractive('df-85303632-593d-4fa5-a459-b7448ae8a376')\"\n",
       "              title=\"Convert this dataframe to an interactive table.\"\n",
       "              style=\"display:none;\">\n",
       "        \n",
       "  <svg xmlns=\"http://www.w3.org/2000/svg\" height=\"24px\"viewBox=\"0 0 24 24\"\n",
       "       width=\"24px\">\n",
       "    <path d=\"M0 0h24v24H0V0z\" fill=\"none\"/>\n",
       "    <path d=\"M18.56 5.44l.94 2.06.94-2.06 2.06-.94-2.06-.94-.94-2.06-.94 2.06-2.06.94zm-11 1L8.5 8.5l.94-2.06 2.06-.94-2.06-.94L8.5 2.5l-.94 2.06-2.06.94zm10 10l.94 2.06.94-2.06 2.06-.94-2.06-.94-.94-2.06-.94 2.06-2.06.94z\"/><path d=\"M17.41 7.96l-1.37-1.37c-.4-.4-.92-.59-1.43-.59-.52 0-1.04.2-1.43.59L10.3 9.45l-7.72 7.72c-.78.78-.78 2.05 0 2.83L4 21.41c.39.39.9.59 1.41.59.51 0 1.02-.2 1.41-.59l7.78-7.78 2.81-2.81c.8-.78.8-2.07 0-2.86zM5.41 20L4 18.59l7.72-7.72 1.47 1.35L5.41 20z\"/>\n",
       "  </svg>\n",
       "      </button>\n",
       "      \n",
       "  <style>\n",
       "    .colab-df-container {\n",
       "      display:flex;\n",
       "      flex-wrap:wrap;\n",
       "      gap: 12px;\n",
       "    }\n",
       "\n",
       "    .colab-df-convert {\n",
       "      background-color: #E8F0FE;\n",
       "      border: none;\n",
       "      border-radius: 50%;\n",
       "      cursor: pointer;\n",
       "      display: none;\n",
       "      fill: #1967D2;\n",
       "      height: 32px;\n",
       "      padding: 0 0 0 0;\n",
       "      width: 32px;\n",
       "    }\n",
       "\n",
       "    .colab-df-convert:hover {\n",
       "      background-color: #E2EBFA;\n",
       "      box-shadow: 0px 1px 2px rgba(60, 64, 67, 0.3), 0px 1px 3px 1px rgba(60, 64, 67, 0.15);\n",
       "      fill: #174EA6;\n",
       "    }\n",
       "\n",
       "    [theme=dark] .colab-df-convert {\n",
       "      background-color: #3B4455;\n",
       "      fill: #D2E3FC;\n",
       "    }\n",
       "\n",
       "    [theme=dark] .colab-df-convert:hover {\n",
       "      background-color: #434B5C;\n",
       "      box-shadow: 0px 1px 3px 1px rgba(0, 0, 0, 0.15);\n",
       "      filter: drop-shadow(0px 1px 2px rgba(0, 0, 0, 0.3));\n",
       "      fill: #FFFFFF;\n",
       "    }\n",
       "  </style>\n",
       "\n",
       "      <script>\n",
       "        const buttonEl =\n",
       "          document.querySelector('#df-85303632-593d-4fa5-a459-b7448ae8a376 button.colab-df-convert');\n",
       "        buttonEl.style.display =\n",
       "          google.colab.kernel.accessAllowed ? 'block' : 'none';\n",
       "\n",
       "        async function convertToInteractive(key) {\n",
       "          const element = document.querySelector('#df-85303632-593d-4fa5-a459-b7448ae8a376');\n",
       "          const dataTable =\n",
       "            await google.colab.kernel.invokeFunction('convertToInteractive',\n",
       "                                                     [key], {});\n",
       "          if (!dataTable) return;\n",
       "\n",
       "          const docLinkHtml = 'Like what you see? Visit the ' +\n",
       "            '<a target=\"_blank\" href=https://colab.research.google.com/notebooks/data_table.ipynb>data table notebook</a>'\n",
       "            + ' to learn more about interactive tables.';\n",
       "          element.innerHTML = '';\n",
       "          dataTable['output_type'] = 'display_data';\n",
       "          await google.colab.output.renderOutput(dataTable, element);\n",
       "          const docLink = document.createElement('div');\n",
       "          docLink.innerHTML = docLinkHtml;\n",
       "          element.appendChild(docLink);\n",
       "        }\n",
       "      </script>\n",
       "    </div>\n",
       "  </div>\n",
       "  "
      ],
      "text/plain": [
       "    V1    V2       V3    V4        V5 Target\n",
       "0  2.0  50.0  12500.0  98.0  NEGATIVE    YES\n",
       "1  0.0  13.0   3250.0  28.0  NEGATIVE    YES\n",
       "2    ?     ?   4000.0  35.0  NEGATIVE    YES\n",
       "3    ?  20.0   5000.0  45.0  NEGATIVE    YES\n",
       "4  1.0  24.0   6000.0  77.0  NEGATIVE     NO"
      ]
     },
     "execution_count": 217,
     "metadata": {},
     "output_type": "execute_result"
    }
   ],
   "source": [
    "# How many input features are there in this dataset?\n",
    "data.head()"
   ]
  },
  {
   "cell_type": "code",
   "execution_count": 219,
   "metadata": {
    "colab": {
     "base_uri": "https://localhost:8080/",
     "height": 424
    },
    "id": "JLFtlXudlXf6",
    "outputId": "90041331-b9cc-40ab-9edb-089ee22f5472"
   },
   "outputs": [
    {
     "data": {
      "text/html": [
       "\n",
       "  <div id=\"df-6e4af9eb-9e4e-40a7-b302-b1774e1d0a8e\">\n",
       "    <div class=\"colab-df-container\">\n",
       "      <div>\n",
       "<style scoped>\n",
       "    .dataframe tbody tr th:only-of-type {\n",
       "        vertical-align: middle;\n",
       "    }\n",
       "\n",
       "    .dataframe tbody tr th {\n",
       "        vertical-align: top;\n",
       "    }\n",
       "\n",
       "    .dataframe thead th {\n",
       "        text-align: right;\n",
       "    }\n",
       "</style>\n",
       "<table border=\"1\" class=\"dataframe\">\n",
       "  <thead>\n",
       "    <tr style=\"text-align: right;\">\n",
       "      <th></th>\n",
       "      <th>V1</th>\n",
       "      <th>V2</th>\n",
       "      <th>V3</th>\n",
       "      <th>V4</th>\n",
       "      <th>V5</th>\n",
       "      <th>Target</th>\n",
       "    </tr>\n",
       "  </thead>\n",
       "  <tbody>\n",
       "    <tr>\n",
       "      <th>0</th>\n",
       "      <td>2.0</td>\n",
       "      <td>50.0</td>\n",
       "      <td>12500.0</td>\n",
       "      <td>98.0</td>\n",
       "      <td>NEGATIVE</td>\n",
       "      <td>YES</td>\n",
       "    </tr>\n",
       "    <tr>\n",
       "      <th>1</th>\n",
       "      <td>0.0</td>\n",
       "      <td>13.0</td>\n",
       "      <td>3250.0</td>\n",
       "      <td>28.0</td>\n",
       "      <td>NEGATIVE</td>\n",
       "      <td>YES</td>\n",
       "    </tr>\n",
       "    <tr>\n",
       "      <th>2</th>\n",
       "      <td>NaN</td>\n",
       "      <td>NaN</td>\n",
       "      <td>4000.0</td>\n",
       "      <td>35.0</td>\n",
       "      <td>NEGATIVE</td>\n",
       "      <td>YES</td>\n",
       "    </tr>\n",
       "    <tr>\n",
       "      <th>3</th>\n",
       "      <td>NaN</td>\n",
       "      <td>20.0</td>\n",
       "      <td>5000.0</td>\n",
       "      <td>45.0</td>\n",
       "      <td>NEGATIVE</td>\n",
       "      <td>YES</td>\n",
       "    </tr>\n",
       "    <tr>\n",
       "      <th>4</th>\n",
       "      <td>1.0</td>\n",
       "      <td>24.0</td>\n",
       "      <td>6000.0</td>\n",
       "      <td>77.0</td>\n",
       "      <td>NEGATIVE</td>\n",
       "      <td>NO</td>\n",
       "    </tr>\n",
       "    <tr>\n",
       "      <th>...</th>\n",
       "      <td>...</td>\n",
       "      <td>...</td>\n",
       "      <td>...</td>\n",
       "      <td>...</td>\n",
       "      <td>...</td>\n",
       "      <td>...</td>\n",
       "    </tr>\n",
       "    <tr>\n",
       "      <th>743</th>\n",
       "      <td>23.0</td>\n",
       "      <td>2.0</td>\n",
       "      <td>500.0</td>\n",
       "      <td>38.0</td>\n",
       "      <td>NEGATIVE</td>\n",
       "      <td>NO</td>\n",
       "    </tr>\n",
       "    <tr>\n",
       "      <th>744</th>\n",
       "      <td>21.0</td>\n",
       "      <td>2.0</td>\n",
       "      <td>500.0</td>\n",
       "      <td>52.0</td>\n",
       "      <td>NEGATIVE</td>\n",
       "      <td>NO</td>\n",
       "    </tr>\n",
       "    <tr>\n",
       "      <th>745</th>\n",
       "      <td>23.0</td>\n",
       "      <td>3.0</td>\n",
       "      <td>750.0</td>\n",
       "      <td>62.0</td>\n",
       "      <td>NEGATIVE</td>\n",
       "      <td>NO</td>\n",
       "    </tr>\n",
       "    <tr>\n",
       "      <th>746</th>\n",
       "      <td>39.0</td>\n",
       "      <td>1.0</td>\n",
       "      <td>250.0</td>\n",
       "      <td>39.0</td>\n",
       "      <td>NEGATIVE</td>\n",
       "      <td>NO</td>\n",
       "    </tr>\n",
       "    <tr>\n",
       "      <th>747</th>\n",
       "      <td>72.0</td>\n",
       "      <td>1.0</td>\n",
       "      <td>250.0</td>\n",
       "      <td>72.0</td>\n",
       "      <td>NEGATIVE</td>\n",
       "      <td>NO</td>\n",
       "    </tr>\n",
       "  </tbody>\n",
       "</table>\n",
       "<p>748 rows × 6 columns</p>\n",
       "</div>\n",
       "      <button class=\"colab-df-convert\" onclick=\"convertToInteractive('df-6e4af9eb-9e4e-40a7-b302-b1774e1d0a8e')\"\n",
       "              title=\"Convert this dataframe to an interactive table.\"\n",
       "              style=\"display:none;\">\n",
       "        \n",
       "  <svg xmlns=\"http://www.w3.org/2000/svg\" height=\"24px\"viewBox=\"0 0 24 24\"\n",
       "       width=\"24px\">\n",
       "    <path d=\"M0 0h24v24H0V0z\" fill=\"none\"/>\n",
       "    <path d=\"M18.56 5.44l.94 2.06.94-2.06 2.06-.94-2.06-.94-.94-2.06-.94 2.06-2.06.94zm-11 1L8.5 8.5l.94-2.06 2.06-.94-2.06-.94L8.5 2.5l-.94 2.06-2.06.94zm10 10l.94 2.06.94-2.06 2.06-.94-2.06-.94-.94-2.06-.94 2.06-2.06.94z\"/><path d=\"M17.41 7.96l-1.37-1.37c-.4-.4-.92-.59-1.43-.59-.52 0-1.04.2-1.43.59L10.3 9.45l-7.72 7.72c-.78.78-.78 2.05 0 2.83L4 21.41c.39.39.9.59 1.41.59.51 0 1.02-.2 1.41-.59l7.78-7.78 2.81-2.81c.8-.78.8-2.07 0-2.86zM5.41 20L4 18.59l7.72-7.72 1.47 1.35L5.41 20z\"/>\n",
       "  </svg>\n",
       "      </button>\n",
       "      \n",
       "  <style>\n",
       "    .colab-df-container {\n",
       "      display:flex;\n",
       "      flex-wrap:wrap;\n",
       "      gap: 12px;\n",
       "    }\n",
       "\n",
       "    .colab-df-convert {\n",
       "      background-color: #E8F0FE;\n",
       "      border: none;\n",
       "      border-radius: 50%;\n",
       "      cursor: pointer;\n",
       "      display: none;\n",
       "      fill: #1967D2;\n",
       "      height: 32px;\n",
       "      padding: 0 0 0 0;\n",
       "      width: 32px;\n",
       "    }\n",
       "\n",
       "    .colab-df-convert:hover {\n",
       "      background-color: #E2EBFA;\n",
       "      box-shadow: 0px 1px 2px rgba(60, 64, 67, 0.3), 0px 1px 3px 1px rgba(60, 64, 67, 0.15);\n",
       "      fill: #174EA6;\n",
       "    }\n",
       "\n",
       "    [theme=dark] .colab-df-convert {\n",
       "      background-color: #3B4455;\n",
       "      fill: #D2E3FC;\n",
       "    }\n",
       "\n",
       "    [theme=dark] .colab-df-convert:hover {\n",
       "      background-color: #434B5C;\n",
       "      box-shadow: 0px 1px 3px 1px rgba(0, 0, 0, 0.15);\n",
       "      filter: drop-shadow(0px 1px 2px rgba(0, 0, 0, 0.3));\n",
       "      fill: #FFFFFF;\n",
       "    }\n",
       "  </style>\n",
       "\n",
       "      <script>\n",
       "        const buttonEl =\n",
       "          document.querySelector('#df-6e4af9eb-9e4e-40a7-b302-b1774e1d0a8e button.colab-df-convert');\n",
       "        buttonEl.style.display =\n",
       "          google.colab.kernel.accessAllowed ? 'block' : 'none';\n",
       "\n",
       "        async function convertToInteractive(key) {\n",
       "          const element = document.querySelector('#df-6e4af9eb-9e4e-40a7-b302-b1774e1d0a8e');\n",
       "          const dataTable =\n",
       "            await google.colab.kernel.invokeFunction('convertToInteractive',\n",
       "                                                     [key], {});\n",
       "          if (!dataTable) return;\n",
       "\n",
       "          const docLinkHtml = 'Like what you see? Visit the ' +\n",
       "            '<a target=\"_blank\" href=https://colab.research.google.com/notebooks/data_table.ipynb>data table notebook</a>'\n",
       "            + ' to learn more about interactive tables.';\n",
       "          element.innerHTML = '';\n",
       "          dataTable['output_type'] = 'display_data';\n",
       "          await google.colab.output.renderOutput(dataTable, element);\n",
       "          const docLink = document.createElement('div');\n",
       "          docLink.innerHTML = docLinkHtml;\n",
       "          element.appendChild(docLink);\n",
       "        }\n",
       "      </script>\n",
       "    </div>\n",
       "  </div>\n",
       "  "
      ],
      "text/plain": [
       "       V1    V2       V3    V4        V5 Target\n",
       "0     2.0  50.0  12500.0  98.0  NEGATIVE    YES\n",
       "1     0.0  13.0   3250.0  28.0  NEGATIVE    YES\n",
       "2     NaN   NaN   4000.0  35.0  NEGATIVE    YES\n",
       "3     NaN  20.0   5000.0  45.0  NEGATIVE    YES\n",
       "4     1.0  24.0   6000.0  77.0  NEGATIVE     NO\n",
       "..    ...   ...      ...   ...       ...    ...\n",
       "743  23.0   2.0    500.0  38.0  NEGATIVE     NO\n",
       "744  21.0   2.0    500.0  52.0  NEGATIVE     NO\n",
       "745  23.0   3.0    750.0  62.0  NEGATIVE     NO\n",
       "746  39.0   1.0    250.0  39.0  NEGATIVE     NO\n",
       "747  72.0   1.0    250.0  72.0  NEGATIVE     NO\n",
       "\n",
       "[748 rows x 6 columns]"
      ]
     },
     "execution_count": 219,
     "metadata": {},
     "output_type": "execute_result"
    }
   ],
   "source": [
    "data_new = data.replace('?' , np.NaN)\n",
    "data_new"
   ]
  },
  {
   "cell_type": "code",
   "execution_count": 230,
   "metadata": {
    "colab": {
     "base_uri": "https://localhost:8080/"
    },
    "id": "2zxo5CCMloJ_",
    "outputId": "a9d0451a-c716-4f53-e056-51523437717e"
   },
   "outputs": [
    {
     "data": {
      "text/plain": [
       "Index(['V1', 'V2', 'V3', 'V4', 'V5', 'Target'], dtype='object')"
      ]
     },
     "execution_count": 230,
     "metadata": {},
     "output_type": "execute_result"
    }
   ],
   "source": [
    "data_new.columns\n"
   ]
  },
  {
   "cell_type": "code",
   "execution_count": 294,
   "metadata": {
    "colab": {
     "base_uri": "https://localhost:8080/",
     "height": 424
    },
    "id": "Q4WJs54Pm9D2",
    "outputId": "e18eaaa6-f9fe-4457-8c53-c4c3da962c40"
   },
   "outputs": [
    {
     "data": {
      "text/html": [
       "\n",
       "  <div id=\"df-e45ef1ea-1ac6-4ca8-8073-a0bce6521e1a\">\n",
       "    <div class=\"colab-df-container\">\n",
       "      <div>\n",
       "<style scoped>\n",
       "    .dataframe tbody tr th:only-of-type {\n",
       "        vertical-align: middle;\n",
       "    }\n",
       "\n",
       "    .dataframe tbody tr th {\n",
       "        vertical-align: top;\n",
       "    }\n",
       "\n",
       "    .dataframe thead th {\n",
       "        text-align: right;\n",
       "    }\n",
       "</style>\n",
       "<table border=\"1\" class=\"dataframe\">\n",
       "  <thead>\n",
       "    <tr style=\"text-align: right;\">\n",
       "      <th></th>\n",
       "      <th>V1</th>\n",
       "      <th>V2</th>\n",
       "      <th>V3</th>\n",
       "      <th>V4</th>\n",
       "      <th>V5</th>\n",
       "      <th>Target</th>\n",
       "    </tr>\n",
       "  </thead>\n",
       "  <tbody>\n",
       "    <tr>\n",
       "      <th>0</th>\n",
       "      <td>2.0</td>\n",
       "      <td>50.0</td>\n",
       "      <td>12500.0</td>\n",
       "      <td>98.0</td>\n",
       "      <td>NEGATIVE</td>\n",
       "      <td>YES</td>\n",
       "    </tr>\n",
       "    <tr>\n",
       "      <th>1</th>\n",
       "      <td>0.0</td>\n",
       "      <td>13.0</td>\n",
       "      <td>3250.0</td>\n",
       "      <td>28.0</td>\n",
       "      <td>NEGATIVE</td>\n",
       "      <td>YES</td>\n",
       "    </tr>\n",
       "    <tr>\n",
       "      <th>4</th>\n",
       "      <td>1.0</td>\n",
       "      <td>24.0</td>\n",
       "      <td>6000.0</td>\n",
       "      <td>77.0</td>\n",
       "      <td>NEGATIVE</td>\n",
       "      <td>NO</td>\n",
       "    </tr>\n",
       "    <tr>\n",
       "      <th>8</th>\n",
       "      <td>2.0</td>\n",
       "      <td>9.0</td>\n",
       "      <td>2250.0</td>\n",
       "      <td>22.0</td>\n",
       "      <td>NEGATIVE</td>\n",
       "      <td>YES</td>\n",
       "    </tr>\n",
       "    <tr>\n",
       "      <th>9</th>\n",
       "      <td>5.0</td>\n",
       "      <td>46.0</td>\n",
       "      <td>11500.0</td>\n",
       "      <td>98.0</td>\n",
       "      <td>NEGATIVE</td>\n",
       "      <td>YES</td>\n",
       "    </tr>\n",
       "    <tr>\n",
       "      <th>...</th>\n",
       "      <td>...</td>\n",
       "      <td>...</td>\n",
       "      <td>...</td>\n",
       "      <td>...</td>\n",
       "      <td>...</td>\n",
       "      <td>...</td>\n",
       "    </tr>\n",
       "    <tr>\n",
       "      <th>743</th>\n",
       "      <td>23.0</td>\n",
       "      <td>2.0</td>\n",
       "      <td>500.0</td>\n",
       "      <td>38.0</td>\n",
       "      <td>NEGATIVE</td>\n",
       "      <td>NO</td>\n",
       "    </tr>\n",
       "    <tr>\n",
       "      <th>744</th>\n",
       "      <td>21.0</td>\n",
       "      <td>2.0</td>\n",
       "      <td>500.0</td>\n",
       "      <td>52.0</td>\n",
       "      <td>NEGATIVE</td>\n",
       "      <td>NO</td>\n",
       "    </tr>\n",
       "    <tr>\n",
       "      <th>745</th>\n",
       "      <td>23.0</td>\n",
       "      <td>3.0</td>\n",
       "      <td>750.0</td>\n",
       "      <td>62.0</td>\n",
       "      <td>NEGATIVE</td>\n",
       "      <td>NO</td>\n",
       "    </tr>\n",
       "    <tr>\n",
       "      <th>746</th>\n",
       "      <td>39.0</td>\n",
       "      <td>1.0</td>\n",
       "      <td>250.0</td>\n",
       "      <td>39.0</td>\n",
       "      <td>NEGATIVE</td>\n",
       "      <td>NO</td>\n",
       "    </tr>\n",
       "    <tr>\n",
       "      <th>747</th>\n",
       "      <td>72.0</td>\n",
       "      <td>1.0</td>\n",
       "      <td>250.0</td>\n",
       "      <td>72.0</td>\n",
       "      <td>NEGATIVE</td>\n",
       "      <td>NO</td>\n",
       "    </tr>\n",
       "  </tbody>\n",
       "</table>\n",
       "<p>739 rows × 6 columns</p>\n",
       "</div>\n",
       "      <button class=\"colab-df-convert\" onclick=\"convertToInteractive('df-e45ef1ea-1ac6-4ca8-8073-a0bce6521e1a')\"\n",
       "              title=\"Convert this dataframe to an interactive table.\"\n",
       "              style=\"display:none;\">\n",
       "        \n",
       "  <svg xmlns=\"http://www.w3.org/2000/svg\" height=\"24px\"viewBox=\"0 0 24 24\"\n",
       "       width=\"24px\">\n",
       "    <path d=\"M0 0h24v24H0V0z\" fill=\"none\"/>\n",
       "    <path d=\"M18.56 5.44l.94 2.06.94-2.06 2.06-.94-2.06-.94-.94-2.06-.94 2.06-2.06.94zm-11 1L8.5 8.5l.94-2.06 2.06-.94-2.06-.94L8.5 2.5l-.94 2.06-2.06.94zm10 10l.94 2.06.94-2.06 2.06-.94-2.06-.94-.94-2.06-.94 2.06-2.06.94z\"/><path d=\"M17.41 7.96l-1.37-1.37c-.4-.4-.92-.59-1.43-.59-.52 0-1.04.2-1.43.59L10.3 9.45l-7.72 7.72c-.78.78-.78 2.05 0 2.83L4 21.41c.39.39.9.59 1.41.59.51 0 1.02-.2 1.41-.59l7.78-7.78 2.81-2.81c.8-.78.8-2.07 0-2.86zM5.41 20L4 18.59l7.72-7.72 1.47 1.35L5.41 20z\"/>\n",
       "  </svg>\n",
       "      </button>\n",
       "      \n",
       "  <style>\n",
       "    .colab-df-container {\n",
       "      display:flex;\n",
       "      flex-wrap:wrap;\n",
       "      gap: 12px;\n",
       "    }\n",
       "\n",
       "    .colab-df-convert {\n",
       "      background-color: #E8F0FE;\n",
       "      border: none;\n",
       "      border-radius: 50%;\n",
       "      cursor: pointer;\n",
       "      display: none;\n",
       "      fill: #1967D2;\n",
       "      height: 32px;\n",
       "      padding: 0 0 0 0;\n",
       "      width: 32px;\n",
       "    }\n",
       "\n",
       "    .colab-df-convert:hover {\n",
       "      background-color: #E2EBFA;\n",
       "      box-shadow: 0px 1px 2px rgba(60, 64, 67, 0.3), 0px 1px 3px 1px rgba(60, 64, 67, 0.15);\n",
       "      fill: #174EA6;\n",
       "    }\n",
       "\n",
       "    [theme=dark] .colab-df-convert {\n",
       "      background-color: #3B4455;\n",
       "      fill: #D2E3FC;\n",
       "    }\n",
       "\n",
       "    [theme=dark] .colab-df-convert:hover {\n",
       "      background-color: #434B5C;\n",
       "      box-shadow: 0px 1px 3px 1px rgba(0, 0, 0, 0.15);\n",
       "      filter: drop-shadow(0px 1px 2px rgba(0, 0, 0, 0.3));\n",
       "      fill: #FFFFFF;\n",
       "    }\n",
       "  </style>\n",
       "\n",
       "      <script>\n",
       "        const buttonEl =\n",
       "          document.querySelector('#df-e45ef1ea-1ac6-4ca8-8073-a0bce6521e1a button.colab-df-convert');\n",
       "        buttonEl.style.display =\n",
       "          google.colab.kernel.accessAllowed ? 'block' : 'none';\n",
       "\n",
       "        async function convertToInteractive(key) {\n",
       "          const element = document.querySelector('#df-e45ef1ea-1ac6-4ca8-8073-a0bce6521e1a');\n",
       "          const dataTable =\n",
       "            await google.colab.kernel.invokeFunction('convertToInteractive',\n",
       "                                                     [key], {});\n",
       "          if (!dataTable) return;\n",
       "\n",
       "          const docLinkHtml = 'Like what you see? Visit the ' +\n",
       "            '<a target=\"_blank\" href=https://colab.research.google.com/notebooks/data_table.ipynb>data table notebook</a>'\n",
       "            + ' to learn more about interactive tables.';\n",
       "          element.innerHTML = '';\n",
       "          dataTable['output_type'] = 'display_data';\n",
       "          await google.colab.output.renderOutput(dataTable, element);\n",
       "          const docLink = document.createElement('div');\n",
       "          docLink.innerHTML = docLinkHtml;\n",
       "          element.appendChild(docLink);\n",
       "        }\n",
       "      </script>\n",
       "    </div>\n",
       "  </div>\n",
       "  "
      ],
      "text/plain": [
       "       V1    V2       V3    V4        V5 Target\n",
       "0     2.0  50.0  12500.0  98.0  NEGATIVE    YES\n",
       "1     0.0  13.0   3250.0  28.0  NEGATIVE    YES\n",
       "4     1.0  24.0   6000.0  77.0  NEGATIVE     NO\n",
       "8     2.0   9.0   2250.0  22.0  NEGATIVE    YES\n",
       "9     5.0  46.0  11500.0  98.0  NEGATIVE    YES\n",
       "..    ...   ...      ...   ...       ...    ...\n",
       "743  23.0   2.0    500.0  38.0  NEGATIVE     NO\n",
       "744  21.0   2.0    500.0  52.0  NEGATIVE     NO\n",
       "745  23.0   3.0    750.0  62.0  NEGATIVE     NO\n",
       "746  39.0   1.0    250.0  39.0  NEGATIVE     NO\n",
       "747  72.0   1.0    250.0  72.0  NEGATIVE     NO\n",
       "\n",
       "[739 rows x 6 columns]"
      ]
     },
     "execution_count": 294,
     "metadata": {},
     "output_type": "execute_result"
    }
   ],
   "source": [
    "#data_clean=data_new.dropna()\n",
    "#data_clean"
   ]
  },
  {
   "cell_type": "code",
   "execution_count": 295,
   "metadata": {
    "colab": {
     "base_uri": "https://localhost:8080/"
    },
    "id": "SAEVqGRPAtQv",
    "outputId": "954e3d06-a3a3-4f76-85d3-2a50213e979e"
   },
   "outputs": [
    {
     "data": {
      "text/plain": [
       "(739, 6)"
      ]
     },
     "execution_count": 295,
     "metadata": {},
     "output_type": "execute_result"
    }
   ],
   "source": [
    "#data_clean.shape"
   ]
  },
  {
   "cell_type": "code",
   "execution_count": 304,
   "metadata": {
    "colab": {
     "base_uri": "https://localhost:8080/"
    },
    "id": "-f8vqdb5qVfi",
    "outputId": "0d673348-11ac-480f-c658-c20bd1271409"
   },
   "outputs": [
    {
     "data": {
      "text/plain": [
       "Index(['V1', 'V2', 'V3', 'V4', 'V5'], dtype='object')"
      ]
     },
     "execution_count": 304,
     "metadata": {},
     "output_type": "execute_result"
    }
   ],
   "source": [
    "#data_clean.columns"
   ]
  },
  {
   "cell_type": "code",
   "execution_count": 323,
   "metadata": {
    "colab": {
     "base_uri": "https://localhost:8080/",
     "height": 206
    },
    "id": "KbIz0JglrPVd",
    "outputId": "566c48ef-9038-450b-8010-5b61b5b681ce"
   },
   "outputs": [
    {
     "data": {
      "text/html": [
       "\n",
       "  <div id=\"df-b17ccaa5-19ea-4ba6-9490-be3af407d945\">\n",
       "    <div class=\"colab-df-container\">\n",
       "      <div>\n",
       "<style scoped>\n",
       "    .dataframe tbody tr th:only-of-type {\n",
       "        vertical-align: middle;\n",
       "    }\n",
       "\n",
       "    .dataframe tbody tr th {\n",
       "        vertical-align: top;\n",
       "    }\n",
       "\n",
       "    .dataframe thead th {\n",
       "        text-align: right;\n",
       "    }\n",
       "</style>\n",
       "<table border=\"1\" class=\"dataframe\">\n",
       "  <thead>\n",
       "    <tr style=\"text-align: right;\">\n",
       "      <th></th>\n",
       "      <th>V1</th>\n",
       "      <th>V2</th>\n",
       "      <th>V3</th>\n",
       "      <th>V4</th>\n",
       "      <th>V5</th>\n",
       "    </tr>\n",
       "  </thead>\n",
       "  <tbody>\n",
       "    <tr>\n",
       "      <th>0</th>\n",
       "      <td>2.0</td>\n",
       "      <td>50.0</td>\n",
       "      <td>12500.0</td>\n",
       "      <td>98.0</td>\n",
       "      <td>NEGATIVE</td>\n",
       "    </tr>\n",
       "    <tr>\n",
       "      <th>1</th>\n",
       "      <td>0.0</td>\n",
       "      <td>13.0</td>\n",
       "      <td>3250.0</td>\n",
       "      <td>28.0</td>\n",
       "      <td>NEGATIVE</td>\n",
       "    </tr>\n",
       "    <tr>\n",
       "      <th>4</th>\n",
       "      <td>1.0</td>\n",
       "      <td>24.0</td>\n",
       "      <td>6000.0</td>\n",
       "      <td>77.0</td>\n",
       "      <td>NEGATIVE</td>\n",
       "    </tr>\n",
       "    <tr>\n",
       "      <th>8</th>\n",
       "      <td>2.0</td>\n",
       "      <td>9.0</td>\n",
       "      <td>2250.0</td>\n",
       "      <td>22.0</td>\n",
       "      <td>NEGATIVE</td>\n",
       "    </tr>\n",
       "    <tr>\n",
       "      <th>9</th>\n",
       "      <td>5.0</td>\n",
       "      <td>46.0</td>\n",
       "      <td>11500.0</td>\n",
       "      <td>98.0</td>\n",
       "      <td>NEGATIVE</td>\n",
       "    </tr>\n",
       "  </tbody>\n",
       "</table>\n",
       "</div>\n",
       "      <button class=\"colab-df-convert\" onclick=\"convertToInteractive('df-b17ccaa5-19ea-4ba6-9490-be3af407d945')\"\n",
       "              title=\"Convert this dataframe to an interactive table.\"\n",
       "              style=\"display:none;\">\n",
       "        \n",
       "  <svg xmlns=\"http://www.w3.org/2000/svg\" height=\"24px\"viewBox=\"0 0 24 24\"\n",
       "       width=\"24px\">\n",
       "    <path d=\"M0 0h24v24H0V0z\" fill=\"none\"/>\n",
       "    <path d=\"M18.56 5.44l.94 2.06.94-2.06 2.06-.94-2.06-.94-.94-2.06-.94 2.06-2.06.94zm-11 1L8.5 8.5l.94-2.06 2.06-.94-2.06-.94L8.5 2.5l-.94 2.06-2.06.94zm10 10l.94 2.06.94-2.06 2.06-.94-2.06-.94-.94-2.06-.94 2.06-2.06.94z\"/><path d=\"M17.41 7.96l-1.37-1.37c-.4-.4-.92-.59-1.43-.59-.52 0-1.04.2-1.43.59L10.3 9.45l-7.72 7.72c-.78.78-.78 2.05 0 2.83L4 21.41c.39.39.9.59 1.41.59.51 0 1.02-.2 1.41-.59l7.78-7.78 2.81-2.81c.8-.78.8-2.07 0-2.86zM5.41 20L4 18.59l7.72-7.72 1.47 1.35L5.41 20z\"/>\n",
       "  </svg>\n",
       "      </button>\n",
       "      \n",
       "  <style>\n",
       "    .colab-df-container {\n",
       "      display:flex;\n",
       "      flex-wrap:wrap;\n",
       "      gap: 12px;\n",
       "    }\n",
       "\n",
       "    .colab-df-convert {\n",
       "      background-color: #E8F0FE;\n",
       "      border: none;\n",
       "      border-radius: 50%;\n",
       "      cursor: pointer;\n",
       "      display: none;\n",
       "      fill: #1967D2;\n",
       "      height: 32px;\n",
       "      padding: 0 0 0 0;\n",
       "      width: 32px;\n",
       "    }\n",
       "\n",
       "    .colab-df-convert:hover {\n",
       "      background-color: #E2EBFA;\n",
       "      box-shadow: 0px 1px 2px rgba(60, 64, 67, 0.3), 0px 1px 3px 1px rgba(60, 64, 67, 0.15);\n",
       "      fill: #174EA6;\n",
       "    }\n",
       "\n",
       "    [theme=dark] .colab-df-convert {\n",
       "      background-color: #3B4455;\n",
       "      fill: #D2E3FC;\n",
       "    }\n",
       "\n",
       "    [theme=dark] .colab-df-convert:hover {\n",
       "      background-color: #434B5C;\n",
       "      box-shadow: 0px 1px 3px 1px rgba(0, 0, 0, 0.15);\n",
       "      filter: drop-shadow(0px 1px 2px rgba(0, 0, 0, 0.3));\n",
       "      fill: #FFFFFF;\n",
       "    }\n",
       "  </style>\n",
       "\n",
       "      <script>\n",
       "        const buttonEl =\n",
       "          document.querySelector('#df-b17ccaa5-19ea-4ba6-9490-be3af407d945 button.colab-df-convert');\n",
       "        buttonEl.style.display =\n",
       "          google.colab.kernel.accessAllowed ? 'block' : 'none';\n",
       "\n",
       "        async function convertToInteractive(key) {\n",
       "          const element = document.querySelector('#df-b17ccaa5-19ea-4ba6-9490-be3af407d945');\n",
       "          const dataTable =\n",
       "            await google.colab.kernel.invokeFunction('convertToInteractive',\n",
       "                                                     [key], {});\n",
       "          if (!dataTable) return;\n",
       "\n",
       "          const docLinkHtml = 'Like what you see? Visit the ' +\n",
       "            '<a target=\"_blank\" href=https://colab.research.google.com/notebooks/data_table.ipynb>data table notebook</a>'\n",
       "            + ' to learn more about interactive tables.';\n",
       "          element.innerHTML = '';\n",
       "          dataTable['output_type'] = 'display_data';\n",
       "          await google.colab.output.renderOutput(dataTable, element);\n",
       "          const docLink = document.createElement('div');\n",
       "          docLink.innerHTML = docLinkHtml;\n",
       "          element.appendChild(docLink);\n",
       "        }\n",
       "      </script>\n",
       "    </div>\n",
       "  </div>\n",
       "  "
      ],
      "text/plain": [
       "    V1    V2       V3    V4        V5\n",
       "0  2.0  50.0  12500.0  98.0  NEGATIVE\n",
       "1  0.0  13.0   3250.0  28.0  NEGATIVE\n",
       "4  1.0  24.0   6000.0  77.0  NEGATIVE\n",
       "8  2.0   9.0   2250.0  22.0  NEGATIVE\n",
       "9  5.0  46.0  11500.0  98.0  NEGATIVE"
      ]
     },
     "execution_count": 323,
     "metadata": {},
     "output_type": "execute_result"
    }
   ],
   "source": [
    "#data_clean.head()"
   ]
  },
  {
   "cell_type": "code",
   "execution_count": 324,
   "metadata": {
    "colab": {
     "base_uri": "https://localhost:8080/",
     "height": 206
    },
    "id": "GD5WwnByTy5G",
    "outputId": "e3918858-cf25-4bfd-8627-7dbd9c8701b4"
   },
   "outputs": [
    {
     "data": {
      "text/html": [
       "\n",
       "  <div id=\"df-386ac7ad-e78c-42a5-aaa6-0f3199bae6e4\">\n",
       "    <div class=\"colab-df-container\">\n",
       "      <div>\n",
       "<style scoped>\n",
       "    .dataframe tbody tr th:only-of-type {\n",
       "        vertical-align: middle;\n",
       "    }\n",
       "\n",
       "    .dataframe tbody tr th {\n",
       "        vertical-align: top;\n",
       "    }\n",
       "\n",
       "    .dataframe thead th {\n",
       "        text-align: right;\n",
       "    }\n",
       "</style>\n",
       "<table border=\"1\" class=\"dataframe\">\n",
       "  <thead>\n",
       "    <tr style=\"text-align: right;\">\n",
       "      <th></th>\n",
       "      <th>V1</th>\n",
       "      <th>V2</th>\n",
       "      <th>V3</th>\n",
       "      <th>V4</th>\n",
       "      <th>V5</th>\n",
       "      <th>Target</th>\n",
       "    </tr>\n",
       "  </thead>\n",
       "  <tbody>\n",
       "    <tr>\n",
       "      <th>0</th>\n",
       "      <td>2.0</td>\n",
       "      <td>50.0</td>\n",
       "      <td>12500.0</td>\n",
       "      <td>98.0</td>\n",
       "      <td>NEGATIVE</td>\n",
       "      <td>YES</td>\n",
       "    </tr>\n",
       "    <tr>\n",
       "      <th>1</th>\n",
       "      <td>0.0</td>\n",
       "      <td>13.0</td>\n",
       "      <td>3250.0</td>\n",
       "      <td>28.0</td>\n",
       "      <td>NEGATIVE</td>\n",
       "      <td>YES</td>\n",
       "    </tr>\n",
       "    <tr>\n",
       "      <th>2</th>\n",
       "      <td>NaN</td>\n",
       "      <td>NaN</td>\n",
       "      <td>4000.0</td>\n",
       "      <td>35.0</td>\n",
       "      <td>NEGATIVE</td>\n",
       "      <td>YES</td>\n",
       "    </tr>\n",
       "    <tr>\n",
       "      <th>3</th>\n",
       "      <td>NaN</td>\n",
       "      <td>20.0</td>\n",
       "      <td>5000.0</td>\n",
       "      <td>45.0</td>\n",
       "      <td>NEGATIVE</td>\n",
       "      <td>YES</td>\n",
       "    </tr>\n",
       "    <tr>\n",
       "      <th>4</th>\n",
       "      <td>1.0</td>\n",
       "      <td>24.0</td>\n",
       "      <td>6000.0</td>\n",
       "      <td>77.0</td>\n",
       "      <td>NEGATIVE</td>\n",
       "      <td>NO</td>\n",
       "    </tr>\n",
       "  </tbody>\n",
       "</table>\n",
       "</div>\n",
       "      <button class=\"colab-df-convert\" onclick=\"convertToInteractive('df-386ac7ad-e78c-42a5-aaa6-0f3199bae6e4')\"\n",
       "              title=\"Convert this dataframe to an interactive table.\"\n",
       "              style=\"display:none;\">\n",
       "        \n",
       "  <svg xmlns=\"http://www.w3.org/2000/svg\" height=\"24px\"viewBox=\"0 0 24 24\"\n",
       "       width=\"24px\">\n",
       "    <path d=\"M0 0h24v24H0V0z\" fill=\"none\"/>\n",
       "    <path d=\"M18.56 5.44l.94 2.06.94-2.06 2.06-.94-2.06-.94-.94-2.06-.94 2.06-2.06.94zm-11 1L8.5 8.5l.94-2.06 2.06-.94-2.06-.94L8.5 2.5l-.94 2.06-2.06.94zm10 10l.94 2.06.94-2.06 2.06-.94-2.06-.94-.94-2.06-.94 2.06-2.06.94z\"/><path d=\"M17.41 7.96l-1.37-1.37c-.4-.4-.92-.59-1.43-.59-.52 0-1.04.2-1.43.59L10.3 9.45l-7.72 7.72c-.78.78-.78 2.05 0 2.83L4 21.41c.39.39.9.59 1.41.59.51 0 1.02-.2 1.41-.59l7.78-7.78 2.81-2.81c.8-.78.8-2.07 0-2.86zM5.41 20L4 18.59l7.72-7.72 1.47 1.35L5.41 20z\"/>\n",
       "  </svg>\n",
       "      </button>\n",
       "      \n",
       "  <style>\n",
       "    .colab-df-container {\n",
       "      display:flex;\n",
       "      flex-wrap:wrap;\n",
       "      gap: 12px;\n",
       "    }\n",
       "\n",
       "    .colab-df-convert {\n",
       "      background-color: #E8F0FE;\n",
       "      border: none;\n",
       "      border-radius: 50%;\n",
       "      cursor: pointer;\n",
       "      display: none;\n",
       "      fill: #1967D2;\n",
       "      height: 32px;\n",
       "      padding: 0 0 0 0;\n",
       "      width: 32px;\n",
       "    }\n",
       "\n",
       "    .colab-df-convert:hover {\n",
       "      background-color: #E2EBFA;\n",
       "      box-shadow: 0px 1px 2px rgba(60, 64, 67, 0.3), 0px 1px 3px 1px rgba(60, 64, 67, 0.15);\n",
       "      fill: #174EA6;\n",
       "    }\n",
       "\n",
       "    [theme=dark] .colab-df-convert {\n",
       "      background-color: #3B4455;\n",
       "      fill: #D2E3FC;\n",
       "    }\n",
       "\n",
       "    [theme=dark] .colab-df-convert:hover {\n",
       "      background-color: #434B5C;\n",
       "      box-shadow: 0px 1px 3px 1px rgba(0, 0, 0, 0.15);\n",
       "      filter: drop-shadow(0px 1px 2px rgba(0, 0, 0, 0.3));\n",
       "      fill: #FFFFFF;\n",
       "    }\n",
       "  </style>\n",
       "\n",
       "      <script>\n",
       "        const buttonEl =\n",
       "          document.querySelector('#df-386ac7ad-e78c-42a5-aaa6-0f3199bae6e4 button.colab-df-convert');\n",
       "        buttonEl.style.display =\n",
       "          google.colab.kernel.accessAllowed ? 'block' : 'none';\n",
       "\n",
       "        async function convertToInteractive(key) {\n",
       "          const element = document.querySelector('#df-386ac7ad-e78c-42a5-aaa6-0f3199bae6e4');\n",
       "          const dataTable =\n",
       "            await google.colab.kernel.invokeFunction('convertToInteractive',\n",
       "                                                     [key], {});\n",
       "          if (!dataTable) return;\n",
       "\n",
       "          const docLinkHtml = 'Like what you see? Visit the ' +\n",
       "            '<a target=\"_blank\" href=https://colab.research.google.com/notebooks/data_table.ipynb>data table notebook</a>'\n",
       "            + ' to learn more about interactive tables.';\n",
       "          element.innerHTML = '';\n",
       "          dataTable['output_type'] = 'display_data';\n",
       "          await google.colab.output.renderOutput(dataTable, element);\n",
       "          const docLink = document.createElement('div');\n",
       "          docLink.innerHTML = docLinkHtml;\n",
       "          element.appendChild(docLink);\n",
       "        }\n",
       "      </script>\n",
       "    </div>\n",
       "  </div>\n",
       "  "
      ],
      "text/plain": [
       "    V1    V2       V3    V4        V5 Target\n",
       "0  2.0  50.0  12500.0  98.0  NEGATIVE    YES\n",
       "1  0.0  13.0   3250.0  28.0  NEGATIVE    YES\n",
       "2  NaN   NaN   4000.0  35.0  NEGATIVE    YES\n",
       "3  NaN  20.0   5000.0  45.0  NEGATIVE    YES\n",
       "4  1.0  24.0   6000.0  77.0  NEGATIVE     NO"
      ]
     },
     "execution_count": 324,
     "metadata": {},
     "output_type": "execute_result"
    }
   ],
   "source": [
    "data_new.head()"
   ]
  },
  {
   "cell_type": "code",
   "execution_count": 325,
   "metadata": {
    "colab": {
     "base_uri": "https://localhost:8080/"
    },
    "id": "ReJ28CHHT3nz",
    "outputId": "1113b9c7-eb70-4f56-ff1f-abe45ca049a2"
   },
   "outputs": [
    {
     "data": {
      "text/plain": [
       "0      YES\n",
       "1      YES\n",
       "2      YES\n",
       "3      YES\n",
       "4       NO\n",
       "      ... \n",
       "743     NO\n",
       "744     NO\n",
       "745     NO\n",
       "746     NO\n",
       "747     NO\n",
       "Name: Target, Length: 748, dtype: object"
      ]
     },
     "execution_count": 325,
     "metadata": {},
     "output_type": "execute_result"
    }
   ],
   "source": [
    "y = data_new.Target \n",
    "y"
   ]
  },
  {
   "cell_type": "code",
   "execution_count": 327,
   "metadata": {
    "colab": {
     "base_uri": "https://localhost:8080/",
     "height": 206
    },
    "id": "7kosGjySUC5J",
    "outputId": "3a425b8f-6019-43a1-dd33-0bda5d454f83"
   },
   "outputs": [
    {
     "data": {
      "text/html": [
       "\n",
       "  <div id=\"df-3abd7104-f34e-4950-bdc3-f77480f137a1\">\n",
       "    <div class=\"colab-df-container\">\n",
       "      <div>\n",
       "<style scoped>\n",
       "    .dataframe tbody tr th:only-of-type {\n",
       "        vertical-align: middle;\n",
       "    }\n",
       "\n",
       "    .dataframe tbody tr th {\n",
       "        vertical-align: top;\n",
       "    }\n",
       "\n",
       "    .dataframe thead th {\n",
       "        text-align: right;\n",
       "    }\n",
       "</style>\n",
       "<table border=\"1\" class=\"dataframe\">\n",
       "  <thead>\n",
       "    <tr style=\"text-align: right;\">\n",
       "      <th></th>\n",
       "      <th>V1</th>\n",
       "      <th>V2</th>\n",
       "      <th>V3</th>\n",
       "      <th>V4</th>\n",
       "      <th>V5</th>\n",
       "    </tr>\n",
       "  </thead>\n",
       "  <tbody>\n",
       "    <tr>\n",
       "      <th>0</th>\n",
       "      <td>2.0</td>\n",
       "      <td>50.0</td>\n",
       "      <td>12500.0</td>\n",
       "      <td>98.0</td>\n",
       "      <td>NEGATIVE</td>\n",
       "    </tr>\n",
       "    <tr>\n",
       "      <th>1</th>\n",
       "      <td>0.0</td>\n",
       "      <td>13.0</td>\n",
       "      <td>3250.0</td>\n",
       "      <td>28.0</td>\n",
       "      <td>NEGATIVE</td>\n",
       "    </tr>\n",
       "    <tr>\n",
       "      <th>2</th>\n",
       "      <td>NaN</td>\n",
       "      <td>NaN</td>\n",
       "      <td>4000.0</td>\n",
       "      <td>35.0</td>\n",
       "      <td>NEGATIVE</td>\n",
       "    </tr>\n",
       "    <tr>\n",
       "      <th>3</th>\n",
       "      <td>NaN</td>\n",
       "      <td>20.0</td>\n",
       "      <td>5000.0</td>\n",
       "      <td>45.0</td>\n",
       "      <td>NEGATIVE</td>\n",
       "    </tr>\n",
       "    <tr>\n",
       "      <th>4</th>\n",
       "      <td>1.0</td>\n",
       "      <td>24.0</td>\n",
       "      <td>6000.0</td>\n",
       "      <td>77.0</td>\n",
       "      <td>NEGATIVE</td>\n",
       "    </tr>\n",
       "  </tbody>\n",
       "</table>\n",
       "</div>\n",
       "      <button class=\"colab-df-convert\" onclick=\"convertToInteractive('df-3abd7104-f34e-4950-bdc3-f77480f137a1')\"\n",
       "              title=\"Convert this dataframe to an interactive table.\"\n",
       "              style=\"display:none;\">\n",
       "        \n",
       "  <svg xmlns=\"http://www.w3.org/2000/svg\" height=\"24px\"viewBox=\"0 0 24 24\"\n",
       "       width=\"24px\">\n",
       "    <path d=\"M0 0h24v24H0V0z\" fill=\"none\"/>\n",
       "    <path d=\"M18.56 5.44l.94 2.06.94-2.06 2.06-.94-2.06-.94-.94-2.06-.94 2.06-2.06.94zm-11 1L8.5 8.5l.94-2.06 2.06-.94-2.06-.94L8.5 2.5l-.94 2.06-2.06.94zm10 10l.94 2.06.94-2.06 2.06-.94-2.06-.94-.94-2.06-.94 2.06-2.06.94z\"/><path d=\"M17.41 7.96l-1.37-1.37c-.4-.4-.92-.59-1.43-.59-.52 0-1.04.2-1.43.59L10.3 9.45l-7.72 7.72c-.78.78-.78 2.05 0 2.83L4 21.41c.39.39.9.59 1.41.59.51 0 1.02-.2 1.41-.59l7.78-7.78 2.81-2.81c.8-.78.8-2.07 0-2.86zM5.41 20L4 18.59l7.72-7.72 1.47 1.35L5.41 20z\"/>\n",
       "  </svg>\n",
       "      </button>\n",
       "      \n",
       "  <style>\n",
       "    .colab-df-container {\n",
       "      display:flex;\n",
       "      flex-wrap:wrap;\n",
       "      gap: 12px;\n",
       "    }\n",
       "\n",
       "    .colab-df-convert {\n",
       "      background-color: #E8F0FE;\n",
       "      border: none;\n",
       "      border-radius: 50%;\n",
       "      cursor: pointer;\n",
       "      display: none;\n",
       "      fill: #1967D2;\n",
       "      height: 32px;\n",
       "      padding: 0 0 0 0;\n",
       "      width: 32px;\n",
       "    }\n",
       "\n",
       "    .colab-df-convert:hover {\n",
       "      background-color: #E2EBFA;\n",
       "      box-shadow: 0px 1px 2px rgba(60, 64, 67, 0.3), 0px 1px 3px 1px rgba(60, 64, 67, 0.15);\n",
       "      fill: #174EA6;\n",
       "    }\n",
       "\n",
       "    [theme=dark] .colab-df-convert {\n",
       "      background-color: #3B4455;\n",
       "      fill: #D2E3FC;\n",
       "    }\n",
       "\n",
       "    [theme=dark] .colab-df-convert:hover {\n",
       "      background-color: #434B5C;\n",
       "      box-shadow: 0px 1px 3px 1px rgba(0, 0, 0, 0.15);\n",
       "      filter: drop-shadow(0px 1px 2px rgba(0, 0, 0, 0.3));\n",
       "      fill: #FFFFFF;\n",
       "    }\n",
       "  </style>\n",
       "\n",
       "      <script>\n",
       "        const buttonEl =\n",
       "          document.querySelector('#df-3abd7104-f34e-4950-bdc3-f77480f137a1 button.colab-df-convert');\n",
       "        buttonEl.style.display =\n",
       "          google.colab.kernel.accessAllowed ? 'block' : 'none';\n",
       "\n",
       "        async function convertToInteractive(key) {\n",
       "          const element = document.querySelector('#df-3abd7104-f34e-4950-bdc3-f77480f137a1');\n",
       "          const dataTable =\n",
       "            await google.colab.kernel.invokeFunction('convertToInteractive',\n",
       "                                                     [key], {});\n",
       "          if (!dataTable) return;\n",
       "\n",
       "          const docLinkHtml = 'Like what you see? Visit the ' +\n",
       "            '<a target=\"_blank\" href=https://colab.research.google.com/notebooks/data_table.ipynb>data table notebook</a>'\n",
       "            + ' to learn more about interactive tables.';\n",
       "          element.innerHTML = '';\n",
       "          dataTable['output_type'] = 'display_data';\n",
       "          await google.colab.output.renderOutput(dataTable, element);\n",
       "          const docLink = document.createElement('div');\n",
       "          docLink.innerHTML = docLinkHtml;\n",
       "          element.appendChild(docLink);\n",
       "        }\n",
       "      </script>\n",
       "    </div>\n",
       "  </div>\n",
       "  "
      ],
      "text/plain": [
       "    V1    V2       V3    V4        V5\n",
       "0  2.0  50.0  12500.0  98.0  NEGATIVE\n",
       "1  0.0  13.0   3250.0  28.0  NEGATIVE\n",
       "2  NaN   NaN   4000.0  35.0  NEGATIVE\n",
       "3  NaN  20.0   5000.0  45.0  NEGATIVE\n",
       "4  1.0  24.0   6000.0  77.0  NEGATIVE"
      ]
     },
     "execution_count": 327,
     "metadata": {},
     "output_type": "execute_result"
    }
   ],
   "source": [
    "X = data_new[data.columns[:5]]\n",
    "X.head()"
   ]
  },
  {
   "cell_type": "code",
   "execution_count": 332,
   "metadata": {
    "colab": {
     "base_uri": "https://localhost:8080/",
     "height": 206
    },
    "id": "AGPEWOM8UPn3",
    "outputId": "d8bbb257-8753-43f1-be1d-bf082971a524"
   },
   "outputs": [
    {
     "data": {
      "text/html": [
       "\n",
       "  <div id=\"df-9d84ddb7-2a29-4f60-929e-d5027ec0c48b\">\n",
       "    <div class=\"colab-df-container\">\n",
       "      <div>\n",
       "<style scoped>\n",
       "    .dataframe tbody tr th:only-of-type {\n",
       "        vertical-align: middle;\n",
       "    }\n",
       "\n",
       "    .dataframe tbody tr th {\n",
       "        vertical-align: top;\n",
       "    }\n",
       "\n",
       "    .dataframe thead th {\n",
       "        text-align: right;\n",
       "    }\n",
       "</style>\n",
       "<table border=\"1\" class=\"dataframe\">\n",
       "  <thead>\n",
       "    <tr style=\"text-align: right;\">\n",
       "      <th></th>\n",
       "      <th>V1</th>\n",
       "      <th>V2</th>\n",
       "      <th>V3</th>\n",
       "      <th>V4</th>\n",
       "    </tr>\n",
       "  </thead>\n",
       "  <tbody>\n",
       "    <tr>\n",
       "      <th>0</th>\n",
       "      <td>2.0</td>\n",
       "      <td>50.0</td>\n",
       "      <td>12500.0</td>\n",
       "      <td>98.0</td>\n",
       "    </tr>\n",
       "    <tr>\n",
       "      <th>1</th>\n",
       "      <td>0.0</td>\n",
       "      <td>13.0</td>\n",
       "      <td>3250.0</td>\n",
       "      <td>28.0</td>\n",
       "    </tr>\n",
       "    <tr>\n",
       "      <th>2</th>\n",
       "      <td>NaN</td>\n",
       "      <td>NaN</td>\n",
       "      <td>4000.0</td>\n",
       "      <td>35.0</td>\n",
       "    </tr>\n",
       "    <tr>\n",
       "      <th>3</th>\n",
       "      <td>NaN</td>\n",
       "      <td>20.0</td>\n",
       "      <td>5000.0</td>\n",
       "      <td>45.0</td>\n",
       "    </tr>\n",
       "    <tr>\n",
       "      <th>4</th>\n",
       "      <td>1.0</td>\n",
       "      <td>24.0</td>\n",
       "      <td>6000.0</td>\n",
       "      <td>77.0</td>\n",
       "    </tr>\n",
       "  </tbody>\n",
       "</table>\n",
       "</div>\n",
       "      <button class=\"colab-df-convert\" onclick=\"convertToInteractive('df-9d84ddb7-2a29-4f60-929e-d5027ec0c48b')\"\n",
       "              title=\"Convert this dataframe to an interactive table.\"\n",
       "              style=\"display:none;\">\n",
       "        \n",
       "  <svg xmlns=\"http://www.w3.org/2000/svg\" height=\"24px\"viewBox=\"0 0 24 24\"\n",
       "       width=\"24px\">\n",
       "    <path d=\"M0 0h24v24H0V0z\" fill=\"none\"/>\n",
       "    <path d=\"M18.56 5.44l.94 2.06.94-2.06 2.06-.94-2.06-.94-.94-2.06-.94 2.06-2.06.94zm-11 1L8.5 8.5l.94-2.06 2.06-.94-2.06-.94L8.5 2.5l-.94 2.06-2.06.94zm10 10l.94 2.06.94-2.06 2.06-.94-2.06-.94-.94-2.06-.94 2.06-2.06.94z\"/><path d=\"M17.41 7.96l-1.37-1.37c-.4-.4-.92-.59-1.43-.59-.52 0-1.04.2-1.43.59L10.3 9.45l-7.72 7.72c-.78.78-.78 2.05 0 2.83L4 21.41c.39.39.9.59 1.41.59.51 0 1.02-.2 1.41-.59l7.78-7.78 2.81-2.81c.8-.78.8-2.07 0-2.86zM5.41 20L4 18.59l7.72-7.72 1.47 1.35L5.41 20z\"/>\n",
       "  </svg>\n",
       "      </button>\n",
       "      \n",
       "  <style>\n",
       "    .colab-df-container {\n",
       "      display:flex;\n",
       "      flex-wrap:wrap;\n",
       "      gap: 12px;\n",
       "    }\n",
       "\n",
       "    .colab-df-convert {\n",
       "      background-color: #E8F0FE;\n",
       "      border: none;\n",
       "      border-radius: 50%;\n",
       "      cursor: pointer;\n",
       "      display: none;\n",
       "      fill: #1967D2;\n",
       "      height: 32px;\n",
       "      padding: 0 0 0 0;\n",
       "      width: 32px;\n",
       "    }\n",
       "\n",
       "    .colab-df-convert:hover {\n",
       "      background-color: #E2EBFA;\n",
       "      box-shadow: 0px 1px 2px rgba(60, 64, 67, 0.3), 0px 1px 3px 1px rgba(60, 64, 67, 0.15);\n",
       "      fill: #174EA6;\n",
       "    }\n",
       "\n",
       "    [theme=dark] .colab-df-convert {\n",
       "      background-color: #3B4455;\n",
       "      fill: #D2E3FC;\n",
       "    }\n",
       "\n",
       "    [theme=dark] .colab-df-convert:hover {\n",
       "      background-color: #434B5C;\n",
       "      box-shadow: 0px 1px 3px 1px rgba(0, 0, 0, 0.15);\n",
       "      filter: drop-shadow(0px 1px 2px rgba(0, 0, 0, 0.3));\n",
       "      fill: #FFFFFF;\n",
       "    }\n",
       "  </style>\n",
       "\n",
       "      <script>\n",
       "        const buttonEl =\n",
       "          document.querySelector('#df-9d84ddb7-2a29-4f60-929e-d5027ec0c48b button.colab-df-convert');\n",
       "        buttonEl.style.display =\n",
       "          google.colab.kernel.accessAllowed ? 'block' : 'none';\n",
       "\n",
       "        async function convertToInteractive(key) {\n",
       "          const element = document.querySelector('#df-9d84ddb7-2a29-4f60-929e-d5027ec0c48b');\n",
       "          const dataTable =\n",
       "            await google.colab.kernel.invokeFunction('convertToInteractive',\n",
       "                                                     [key], {});\n",
       "          if (!dataTable) return;\n",
       "\n",
       "          const docLinkHtml = 'Like what you see? Visit the ' +\n",
       "            '<a target=\"_blank\" href=https://colab.research.google.com/notebooks/data_table.ipynb>data table notebook</a>'\n",
       "            + ' to learn more about interactive tables.';\n",
       "          element.innerHTML = '';\n",
       "          dataTable['output_type'] = 'display_data';\n",
       "          await google.colab.output.renderOutput(dataTable, element);\n",
       "          const docLink = document.createElement('div');\n",
       "          docLink.innerHTML = docLinkHtml;\n",
       "          element.appendChild(docLink);\n",
       "        }\n",
       "      </script>\n",
       "    </div>\n",
       "  </div>\n",
       "  "
      ],
      "text/plain": [
       "    V1    V2       V3    V4\n",
       "0  2.0  50.0  12500.0  98.0\n",
       "1  0.0  13.0   3250.0  28.0\n",
       "2  NaN   NaN   4000.0  35.0\n",
       "3  NaN  20.0   5000.0  45.0\n",
       "4  1.0  24.0   6000.0  77.0"
      ]
     },
     "execution_count": 332,
     "metadata": {},
     "output_type": "execute_result"
    }
   ],
   "source": [
    "X_to_impute = X[X.columns[:4]]\n",
    "X_to_impute.head() "
   ]
  },
  {
   "cell_type": "code",
   "execution_count": 343,
   "metadata": {
    "colab": {
     "base_uri": "https://localhost:8080/",
     "height": 206
    },
    "id": "1mHtFFTYV4vD",
    "outputId": "d204d77b-ccf4-48e5-93e1-3e26a6370b84"
   },
   "outputs": [
    {
     "data": {
      "text/html": [
       "\n",
       "  <div id=\"df-dd6fda7f-ca73-407e-a635-95ed6c23aef0\">\n",
       "    <div class=\"colab-df-container\">\n",
       "      <div>\n",
       "<style scoped>\n",
       "    .dataframe tbody tr th:only-of-type {\n",
       "        vertical-align: middle;\n",
       "    }\n",
       "\n",
       "    .dataframe tbody tr th {\n",
       "        vertical-align: top;\n",
       "    }\n",
       "\n",
       "    .dataframe thead th {\n",
       "        text-align: right;\n",
       "    }\n",
       "</style>\n",
       "<table border=\"1\" class=\"dataframe\">\n",
       "  <thead>\n",
       "    <tr style=\"text-align: right;\">\n",
       "      <th></th>\n",
       "      <th>0</th>\n",
       "      <th>1</th>\n",
       "      <th>2</th>\n",
       "      <th>3</th>\n",
       "    </tr>\n",
       "  </thead>\n",
       "  <tbody>\n",
       "    <tr>\n",
       "      <th>0</th>\n",
       "      <td>2.000000</td>\n",
       "      <td>50.000000</td>\n",
       "      <td>12500.0</td>\n",
       "      <td>98.0</td>\n",
       "    </tr>\n",
       "    <tr>\n",
       "      <th>1</th>\n",
       "      <td>0.000000</td>\n",
       "      <td>13.000000</td>\n",
       "      <td>3250.0</td>\n",
       "      <td>28.0</td>\n",
       "    </tr>\n",
       "    <tr>\n",
       "      <th>2</th>\n",
       "      <td>9.562584</td>\n",
       "      <td>5.464334</td>\n",
       "      <td>4000.0</td>\n",
       "      <td>35.0</td>\n",
       "    </tr>\n",
       "    <tr>\n",
       "      <th>3</th>\n",
       "      <td>9.562584</td>\n",
       "      <td>20.000000</td>\n",
       "      <td>5000.0</td>\n",
       "      <td>45.0</td>\n",
       "    </tr>\n",
       "    <tr>\n",
       "      <th>4</th>\n",
       "      <td>1.000000</td>\n",
       "      <td>24.000000</td>\n",
       "      <td>6000.0</td>\n",
       "      <td>77.0</td>\n",
       "    </tr>\n",
       "  </tbody>\n",
       "</table>\n",
       "</div>\n",
       "      <button class=\"colab-df-convert\" onclick=\"convertToInteractive('df-dd6fda7f-ca73-407e-a635-95ed6c23aef0')\"\n",
       "              title=\"Convert this dataframe to an interactive table.\"\n",
       "              style=\"display:none;\">\n",
       "        \n",
       "  <svg xmlns=\"http://www.w3.org/2000/svg\" height=\"24px\"viewBox=\"0 0 24 24\"\n",
       "       width=\"24px\">\n",
       "    <path d=\"M0 0h24v24H0V0z\" fill=\"none\"/>\n",
       "    <path d=\"M18.56 5.44l.94 2.06.94-2.06 2.06-.94-2.06-.94-.94-2.06-.94 2.06-2.06.94zm-11 1L8.5 8.5l.94-2.06 2.06-.94-2.06-.94L8.5 2.5l-.94 2.06-2.06.94zm10 10l.94 2.06.94-2.06 2.06-.94-2.06-.94-.94-2.06-.94 2.06-2.06.94z\"/><path d=\"M17.41 7.96l-1.37-1.37c-.4-.4-.92-.59-1.43-.59-.52 0-1.04.2-1.43.59L10.3 9.45l-7.72 7.72c-.78.78-.78 2.05 0 2.83L4 21.41c.39.39.9.59 1.41.59.51 0 1.02-.2 1.41-.59l7.78-7.78 2.81-2.81c.8-.78.8-2.07 0-2.86zM5.41 20L4 18.59l7.72-7.72 1.47 1.35L5.41 20z\"/>\n",
       "  </svg>\n",
       "      </button>\n",
       "      \n",
       "  <style>\n",
       "    .colab-df-container {\n",
       "      display:flex;\n",
       "      flex-wrap:wrap;\n",
       "      gap: 12px;\n",
       "    }\n",
       "\n",
       "    .colab-df-convert {\n",
       "      background-color: #E8F0FE;\n",
       "      border: none;\n",
       "      border-radius: 50%;\n",
       "      cursor: pointer;\n",
       "      display: none;\n",
       "      fill: #1967D2;\n",
       "      height: 32px;\n",
       "      padding: 0 0 0 0;\n",
       "      width: 32px;\n",
       "    }\n",
       "\n",
       "    .colab-df-convert:hover {\n",
       "      background-color: #E2EBFA;\n",
       "      box-shadow: 0px 1px 2px rgba(60, 64, 67, 0.3), 0px 1px 3px 1px rgba(60, 64, 67, 0.15);\n",
       "      fill: #174EA6;\n",
       "    }\n",
       "\n",
       "    [theme=dark] .colab-df-convert {\n",
       "      background-color: #3B4455;\n",
       "      fill: #D2E3FC;\n",
       "    }\n",
       "\n",
       "    [theme=dark] .colab-df-convert:hover {\n",
       "      background-color: #434B5C;\n",
       "      box-shadow: 0px 1px 3px 1px rgba(0, 0, 0, 0.15);\n",
       "      filter: drop-shadow(0px 1px 2px rgba(0, 0, 0, 0.3));\n",
       "      fill: #FFFFFF;\n",
       "    }\n",
       "  </style>\n",
       "\n",
       "      <script>\n",
       "        const buttonEl =\n",
       "          document.querySelector('#df-dd6fda7f-ca73-407e-a635-95ed6c23aef0 button.colab-df-convert');\n",
       "        buttonEl.style.display =\n",
       "          google.colab.kernel.accessAllowed ? 'block' : 'none';\n",
       "\n",
       "        async function convertToInteractive(key) {\n",
       "          const element = document.querySelector('#df-dd6fda7f-ca73-407e-a635-95ed6c23aef0');\n",
       "          const dataTable =\n",
       "            await google.colab.kernel.invokeFunction('convertToInteractive',\n",
       "                                                     [key], {});\n",
       "          if (!dataTable) return;\n",
       "\n",
       "          const docLinkHtml = 'Like what you see? Visit the ' +\n",
       "            '<a target=\"_blank\" href=https://colab.research.google.com/notebooks/data_table.ipynb>data table notebook</a>'\n",
       "            + ' to learn more about interactive tables.';\n",
       "          element.innerHTML = '';\n",
       "          dataTable['output_type'] = 'display_data';\n",
       "          await google.colab.output.renderOutput(dataTable, element);\n",
       "          const docLink = document.createElement('div');\n",
       "          docLink.innerHTML = docLinkHtml;\n",
       "          element.appendChild(docLink);\n",
       "        }\n",
       "      </script>\n",
       "    </div>\n",
       "  </div>\n",
       "  "
      ],
      "text/plain": [
       "          0          1        2     3\n",
       "0  2.000000  50.000000  12500.0  98.0\n",
       "1  0.000000  13.000000   3250.0  28.0\n",
       "2  9.562584   5.464334   4000.0  35.0\n",
       "3  9.562584  20.000000   5000.0  45.0\n",
       "4  1.000000  24.000000   6000.0  77.0"
      ]
     },
     "execution_count": 343,
     "metadata": {},
     "output_type": "execute_result"
    }
   ],
   "source": [
    "si = SimpleImputer() \n",
    "X_imputed = si.fit_transform(X_to_impute)\n",
    "X_imputed = pd.DataFrame(X_imputed)\n",
    "X_imputed.head()"
   ]
  },
  {
   "cell_type": "code",
   "execution_count": 348,
   "metadata": {
    "colab": {
     "base_uri": "https://localhost:8080/",
     "height": 206
    },
    "id": "qTv5dl9dWB5l",
    "outputId": "d8eeb354-78be-4f6b-cdce-d04cd63ab6a2"
   },
   "outputs": [
    {
     "data": {
      "text/html": [
       "\n",
       "  <div id=\"df-373eb10e-0247-47e7-9ae9-11513fef901f\">\n",
       "    <div class=\"colab-df-container\">\n",
       "      <div>\n",
       "<style scoped>\n",
       "    .dataframe tbody tr th:only-of-type {\n",
       "        vertical-align: middle;\n",
       "    }\n",
       "\n",
       "    .dataframe tbody tr th {\n",
       "        vertical-align: top;\n",
       "    }\n",
       "\n",
       "    .dataframe thead th {\n",
       "        text-align: right;\n",
       "    }\n",
       "</style>\n",
       "<table border=\"1\" class=\"dataframe\">\n",
       "  <thead>\n",
       "    <tr style=\"text-align: right;\">\n",
       "      <th></th>\n",
       "      <th>0</th>\n",
       "      <th>1</th>\n",
       "      <th>2</th>\n",
       "      <th>3</th>\n",
       "    </tr>\n",
       "  </thead>\n",
       "  <tbody>\n",
       "    <tr>\n",
       "      <th>0</th>\n",
       "      <td>0.027027</td>\n",
       "      <td>1.000000</td>\n",
       "      <td>1.000000</td>\n",
       "      <td>1.000000</td>\n",
       "    </tr>\n",
       "    <tr>\n",
       "      <th>1</th>\n",
       "      <td>0.000000</td>\n",
       "      <td>0.244898</td>\n",
       "      <td>0.244898</td>\n",
       "      <td>0.270833</td>\n",
       "    </tr>\n",
       "    <tr>\n",
       "      <th>2</th>\n",
       "      <td>0.129224</td>\n",
       "      <td>0.091109</td>\n",
       "      <td>0.306122</td>\n",
       "      <td>0.343750</td>\n",
       "    </tr>\n",
       "    <tr>\n",
       "      <th>3</th>\n",
       "      <td>0.129224</td>\n",
       "      <td>0.387755</td>\n",
       "      <td>0.387755</td>\n",
       "      <td>0.447917</td>\n",
       "    </tr>\n",
       "    <tr>\n",
       "      <th>4</th>\n",
       "      <td>0.013514</td>\n",
       "      <td>0.469388</td>\n",
       "      <td>0.469388</td>\n",
       "      <td>0.781250</td>\n",
       "    </tr>\n",
       "  </tbody>\n",
       "</table>\n",
       "</div>\n",
       "      <button class=\"colab-df-convert\" onclick=\"convertToInteractive('df-373eb10e-0247-47e7-9ae9-11513fef901f')\"\n",
       "              title=\"Convert this dataframe to an interactive table.\"\n",
       "              style=\"display:none;\">\n",
       "        \n",
       "  <svg xmlns=\"http://www.w3.org/2000/svg\" height=\"24px\"viewBox=\"0 0 24 24\"\n",
       "       width=\"24px\">\n",
       "    <path d=\"M0 0h24v24H0V0z\" fill=\"none\"/>\n",
       "    <path d=\"M18.56 5.44l.94 2.06.94-2.06 2.06-.94-2.06-.94-.94-2.06-.94 2.06-2.06.94zm-11 1L8.5 8.5l.94-2.06 2.06-.94-2.06-.94L8.5 2.5l-.94 2.06-2.06.94zm10 10l.94 2.06.94-2.06 2.06-.94-2.06-.94-.94-2.06-.94 2.06-2.06.94z\"/><path d=\"M17.41 7.96l-1.37-1.37c-.4-.4-.92-.59-1.43-.59-.52 0-1.04.2-1.43.59L10.3 9.45l-7.72 7.72c-.78.78-.78 2.05 0 2.83L4 21.41c.39.39.9.59 1.41.59.51 0 1.02-.2 1.41-.59l7.78-7.78 2.81-2.81c.8-.78.8-2.07 0-2.86zM5.41 20L4 18.59l7.72-7.72 1.47 1.35L5.41 20z\"/>\n",
       "  </svg>\n",
       "      </button>\n",
       "      \n",
       "  <style>\n",
       "    .colab-df-container {\n",
       "      display:flex;\n",
       "      flex-wrap:wrap;\n",
       "      gap: 12px;\n",
       "    }\n",
       "\n",
       "    .colab-df-convert {\n",
       "      background-color: #E8F0FE;\n",
       "      border: none;\n",
       "      border-radius: 50%;\n",
       "      cursor: pointer;\n",
       "      display: none;\n",
       "      fill: #1967D2;\n",
       "      height: 32px;\n",
       "      padding: 0 0 0 0;\n",
       "      width: 32px;\n",
       "    }\n",
       "\n",
       "    .colab-df-convert:hover {\n",
       "      background-color: #E2EBFA;\n",
       "      box-shadow: 0px 1px 2px rgba(60, 64, 67, 0.3), 0px 1px 3px 1px rgba(60, 64, 67, 0.15);\n",
       "      fill: #174EA6;\n",
       "    }\n",
       "\n",
       "    [theme=dark] .colab-df-convert {\n",
       "      background-color: #3B4455;\n",
       "      fill: #D2E3FC;\n",
       "    }\n",
       "\n",
       "    [theme=dark] .colab-df-convert:hover {\n",
       "      background-color: #434B5C;\n",
       "      box-shadow: 0px 1px 3px 1px rgba(0, 0, 0, 0.15);\n",
       "      filter: drop-shadow(0px 1px 2px rgba(0, 0, 0, 0.3));\n",
       "      fill: #FFFFFF;\n",
       "    }\n",
       "  </style>\n",
       "\n",
       "      <script>\n",
       "        const buttonEl =\n",
       "          document.querySelector('#df-373eb10e-0247-47e7-9ae9-11513fef901f button.colab-df-convert');\n",
       "        buttonEl.style.display =\n",
       "          google.colab.kernel.accessAllowed ? 'block' : 'none';\n",
       "\n",
       "        async function convertToInteractive(key) {\n",
       "          const element = document.querySelector('#df-373eb10e-0247-47e7-9ae9-11513fef901f');\n",
       "          const dataTable =\n",
       "            await google.colab.kernel.invokeFunction('convertToInteractive',\n",
       "                                                     [key], {});\n",
       "          if (!dataTable) return;\n",
       "\n",
       "          const docLinkHtml = 'Like what you see? Visit the ' +\n",
       "            '<a target=\"_blank\" href=https://colab.research.google.com/notebooks/data_table.ipynb>data table notebook</a>'\n",
       "            + ' to learn more about interactive tables.';\n",
       "          element.innerHTML = '';\n",
       "          dataTable['output_type'] = 'display_data';\n",
       "          await google.colab.output.renderOutput(dataTable, element);\n",
       "          const docLink = document.createElement('div');\n",
       "          docLink.innerHTML = docLinkHtml;\n",
       "          element.appendChild(docLink);\n",
       "        }\n",
       "      </script>\n",
       "    </div>\n",
       "  </div>\n",
       "  "
      ],
      "text/plain": [
       "          0         1         2         3\n",
       "0  0.027027  1.000000  1.000000  1.000000\n",
       "1  0.000000  0.244898  0.244898  0.270833\n",
       "2  0.129224  0.091109  0.306122  0.343750\n",
       "3  0.129224  0.387755  0.387755  0.447917\n",
       "4  0.013514  0.469388  0.469388  0.781250"
      ]
     },
     "execution_count": 348,
     "metadata": {},
     "output_type": "execute_result"
    }
   ],
   "source": [
    "mm = MinMaxScaler() \n",
    "X_normalized = mm.fit_transform(X_imputed)\n",
    "X_normalized = pd.DataFrame(X_normalized)\n",
    "X_normalized.head()"
   ]
  },
  {
   "cell_type": "code",
   "execution_count": 349,
   "metadata": {
    "colab": {
     "base_uri": "https://localhost:8080/"
    },
    "id": "eQwEJLEaYKWH",
    "outputId": "8a1fe4af-2bc5-4c81-ee24-f2b26bac8a14"
   },
   "outputs": [
    {
     "data": {
      "text/plain": [
       "0    1.001339\n",
       "1    1.001339\n",
       "2    1.001339\n",
       "3    1.001339\n",
       "dtype: float64"
      ]
     },
     "execution_count": 349,
     "metadata": {},
     "output_type": "execute_result"
    }
   ],
   "source": [
    "X_standardized.var(axis=0)"
   ]
  },
  {
   "cell_type": "code",
   "execution_count": 355,
   "metadata": {
    "colab": {
     "base_uri": "https://localhost:8080/",
     "height": 424
    },
    "id": "5qYF7Xh_Y87T",
    "outputId": "76b5a61d-c4da-441d-b7d7-0c68b04fa459"
   },
   "outputs": [
    {
     "data": {
      "text/html": [
       "\n",
       "  <div id=\"df-1fa7a072-ed27-4c98-a8f7-8aa16e769d6d\">\n",
       "    <div class=\"colab-df-container\">\n",
       "      <div>\n",
       "<style scoped>\n",
       "    .dataframe tbody tr th:only-of-type {\n",
       "        vertical-align: middle;\n",
       "    }\n",
       "\n",
       "    .dataframe tbody tr th {\n",
       "        vertical-align: top;\n",
       "    }\n",
       "\n",
       "    .dataframe thead th {\n",
       "        text-align: right;\n",
       "    }\n",
       "</style>\n",
       "<table border=\"1\" class=\"dataframe\">\n",
       "  <thead>\n",
       "    <tr style=\"text-align: right;\">\n",
       "      <th></th>\n",
       "      <th>V1</th>\n",
       "      <th>V2</th>\n",
       "      <th>V3</th>\n",
       "      <th>V4</th>\n",
       "      <th>V5</th>\n",
       "      <th>Target</th>\n",
       "    </tr>\n",
       "  </thead>\n",
       "  <tbody>\n",
       "    <tr>\n",
       "      <th>0</th>\n",
       "      <td>2.0</td>\n",
       "      <td>50.0</td>\n",
       "      <td>12500.0</td>\n",
       "      <td>98.0</td>\n",
       "      <td>NEGATIVE</td>\n",
       "      <td>YES</td>\n",
       "    </tr>\n",
       "    <tr>\n",
       "      <th>1</th>\n",
       "      <td>0.0</td>\n",
       "      <td>13.0</td>\n",
       "      <td>3250.0</td>\n",
       "      <td>28.0</td>\n",
       "      <td>NEGATIVE</td>\n",
       "      <td>YES</td>\n",
       "    </tr>\n",
       "    <tr>\n",
       "      <th>2</th>\n",
       "      <td>NaN</td>\n",
       "      <td>NaN</td>\n",
       "      <td>4000.0</td>\n",
       "      <td>35.0</td>\n",
       "      <td>NEGATIVE</td>\n",
       "      <td>YES</td>\n",
       "    </tr>\n",
       "    <tr>\n",
       "      <th>3</th>\n",
       "      <td>NaN</td>\n",
       "      <td>20.0</td>\n",
       "      <td>5000.0</td>\n",
       "      <td>45.0</td>\n",
       "      <td>NEGATIVE</td>\n",
       "      <td>YES</td>\n",
       "    </tr>\n",
       "    <tr>\n",
       "      <th>4</th>\n",
       "      <td>1.0</td>\n",
       "      <td>24.0</td>\n",
       "      <td>6000.0</td>\n",
       "      <td>77.0</td>\n",
       "      <td>NEGATIVE</td>\n",
       "      <td>NO</td>\n",
       "    </tr>\n",
       "    <tr>\n",
       "      <th>...</th>\n",
       "      <td>...</td>\n",
       "      <td>...</td>\n",
       "      <td>...</td>\n",
       "      <td>...</td>\n",
       "      <td>...</td>\n",
       "      <td>...</td>\n",
       "    </tr>\n",
       "    <tr>\n",
       "      <th>743</th>\n",
       "      <td>23.0</td>\n",
       "      <td>2.0</td>\n",
       "      <td>500.0</td>\n",
       "      <td>38.0</td>\n",
       "      <td>NEGATIVE</td>\n",
       "      <td>NO</td>\n",
       "    </tr>\n",
       "    <tr>\n",
       "      <th>744</th>\n",
       "      <td>21.0</td>\n",
       "      <td>2.0</td>\n",
       "      <td>500.0</td>\n",
       "      <td>52.0</td>\n",
       "      <td>NEGATIVE</td>\n",
       "      <td>NO</td>\n",
       "    </tr>\n",
       "    <tr>\n",
       "      <th>745</th>\n",
       "      <td>23.0</td>\n",
       "      <td>3.0</td>\n",
       "      <td>750.0</td>\n",
       "      <td>62.0</td>\n",
       "      <td>NEGATIVE</td>\n",
       "      <td>NO</td>\n",
       "    </tr>\n",
       "    <tr>\n",
       "      <th>746</th>\n",
       "      <td>39.0</td>\n",
       "      <td>1.0</td>\n",
       "      <td>250.0</td>\n",
       "      <td>39.0</td>\n",
       "      <td>NEGATIVE</td>\n",
       "      <td>NO</td>\n",
       "    </tr>\n",
       "    <tr>\n",
       "      <th>747</th>\n",
       "      <td>72.0</td>\n",
       "      <td>1.0</td>\n",
       "      <td>250.0</td>\n",
       "      <td>72.0</td>\n",
       "      <td>NEGATIVE</td>\n",
       "      <td>NO</td>\n",
       "    </tr>\n",
       "  </tbody>\n",
       "</table>\n",
       "<p>748 rows × 6 columns</p>\n",
       "</div>\n",
       "      <button class=\"colab-df-convert\" onclick=\"convertToInteractive('df-1fa7a072-ed27-4c98-a8f7-8aa16e769d6d')\"\n",
       "              title=\"Convert this dataframe to an interactive table.\"\n",
       "              style=\"display:none;\">\n",
       "        \n",
       "  <svg xmlns=\"http://www.w3.org/2000/svg\" height=\"24px\"viewBox=\"0 0 24 24\"\n",
       "       width=\"24px\">\n",
       "    <path d=\"M0 0h24v24H0V0z\" fill=\"none\"/>\n",
       "    <path d=\"M18.56 5.44l.94 2.06.94-2.06 2.06-.94-2.06-.94-.94-2.06-.94 2.06-2.06.94zm-11 1L8.5 8.5l.94-2.06 2.06-.94-2.06-.94L8.5 2.5l-.94 2.06-2.06.94zm10 10l.94 2.06.94-2.06 2.06-.94-2.06-.94-.94-2.06-.94 2.06-2.06.94z\"/><path d=\"M17.41 7.96l-1.37-1.37c-.4-.4-.92-.59-1.43-.59-.52 0-1.04.2-1.43.59L10.3 9.45l-7.72 7.72c-.78.78-.78 2.05 0 2.83L4 21.41c.39.39.9.59 1.41.59.51 0 1.02-.2 1.41-.59l7.78-7.78 2.81-2.81c.8-.78.8-2.07 0-2.86zM5.41 20L4 18.59l7.72-7.72 1.47 1.35L5.41 20z\"/>\n",
       "  </svg>\n",
       "      </button>\n",
       "      \n",
       "  <style>\n",
       "    .colab-df-container {\n",
       "      display:flex;\n",
       "      flex-wrap:wrap;\n",
       "      gap: 12px;\n",
       "    }\n",
       "\n",
       "    .colab-df-convert {\n",
       "      background-color: #E8F0FE;\n",
       "      border: none;\n",
       "      border-radius: 50%;\n",
       "      cursor: pointer;\n",
       "      display: none;\n",
       "      fill: #1967D2;\n",
       "      height: 32px;\n",
       "      padding: 0 0 0 0;\n",
       "      width: 32px;\n",
       "    }\n",
       "\n",
       "    .colab-df-convert:hover {\n",
       "      background-color: #E2EBFA;\n",
       "      box-shadow: 0px 1px 2px rgba(60, 64, 67, 0.3), 0px 1px 3px 1px rgba(60, 64, 67, 0.15);\n",
       "      fill: #174EA6;\n",
       "    }\n",
       "\n",
       "    [theme=dark] .colab-df-convert {\n",
       "      background-color: #3B4455;\n",
       "      fill: #D2E3FC;\n",
       "    }\n",
       "\n",
       "    [theme=dark] .colab-df-convert:hover {\n",
       "      background-color: #434B5C;\n",
       "      box-shadow: 0px 1px 3px 1px rgba(0, 0, 0, 0.15);\n",
       "      filter: drop-shadow(0px 1px 2px rgba(0, 0, 0, 0.3));\n",
       "      fill: #FFFFFF;\n",
       "    }\n",
       "  </style>\n",
       "\n",
       "      <script>\n",
       "        const buttonEl =\n",
       "          document.querySelector('#df-1fa7a072-ed27-4c98-a8f7-8aa16e769d6d button.colab-df-convert');\n",
       "        buttonEl.style.display =\n",
       "          google.colab.kernel.accessAllowed ? 'block' : 'none';\n",
       "\n",
       "        async function convertToInteractive(key) {\n",
       "          const element = document.querySelector('#df-1fa7a072-ed27-4c98-a8f7-8aa16e769d6d');\n",
       "          const dataTable =\n",
       "            await google.colab.kernel.invokeFunction('convertToInteractive',\n",
       "                                                     [key], {});\n",
       "          if (!dataTable) return;\n",
       "\n",
       "          const docLinkHtml = 'Like what you see? Visit the ' +\n",
       "            '<a target=\"_blank\" href=https://colab.research.google.com/notebooks/data_table.ipynb>data table notebook</a>'\n",
       "            + ' to learn more about interactive tables.';\n",
       "          element.innerHTML = '';\n",
       "          dataTable['output_type'] = 'display_data';\n",
       "          await google.colab.output.renderOutput(dataTable, element);\n",
       "          const docLink = document.createElement('div');\n",
       "          docLink.innerHTML = docLinkHtml;\n",
       "          element.appendChild(docLink);\n",
       "        }\n",
       "      </script>\n",
       "    </div>\n",
       "  </div>\n",
       "  "
      ],
      "text/plain": [
       "       V1    V2       V3    V4        V5 Target\n",
       "0     2.0  50.0  12500.0  98.0  NEGATIVE    YES\n",
       "1     0.0  13.0   3250.0  28.0  NEGATIVE    YES\n",
       "2     NaN   NaN   4000.0  35.0  NEGATIVE    YES\n",
       "3     NaN  20.0   5000.0  45.0  NEGATIVE    YES\n",
       "4     1.0  24.0   6000.0  77.0  NEGATIVE     NO\n",
       "..    ...   ...      ...   ...       ...    ...\n",
       "743  23.0   2.0    500.0  38.0  NEGATIVE     NO\n",
       "744  21.0   2.0    500.0  52.0  NEGATIVE     NO\n",
       "745  23.0   3.0    750.0  62.0  NEGATIVE     NO\n",
       "746  39.0   1.0    250.0  39.0  NEGATIVE     NO\n",
       "747  72.0   1.0    250.0  72.0  NEGATIVE     NO\n",
       "\n",
       "[748 rows x 6 columns]"
      ]
     },
     "execution_count": 355,
     "metadata": {},
     "output_type": "execute_result"
    }
   ],
   "source": [
    "data = pd.read_csv('/content/DataPreprocessingGraded_dataset.csv')\n",
    "data.replace('?', np.NaN)"
   ]
  },
  {
   "cell_type": "code",
   "execution_count": 359,
   "metadata": {
    "colab": {
     "base_uri": "https://localhost:8080/"
    },
    "id": "8tOpYA4-ZN-5",
    "outputId": "ef3416ce-0a4d-41b4-ae07-5cbeb5c23029"
   },
   "outputs": [
    {
     "name": "stdout",
     "output_type": "stream",
     "text": [
      "       V1    V2       V3    V4        V5\n",
      "0     2.0  50.0  12500.0  98.0  NEGATIVE\n",
      "1     0.0  13.0   3250.0  28.0  NEGATIVE\n",
      "2     NaN   NaN   4000.0  35.0  NEGATIVE\n",
      "3     NaN  20.0   5000.0  45.0  NEGATIVE\n",
      "4     1.0  24.0   6000.0  77.0  NEGATIVE\n",
      "..    ...   ...      ...   ...       ...\n",
      "743  23.0   2.0    500.0  38.0  NEGATIVE\n",
      "744  21.0   2.0    500.0  52.0  NEGATIVE\n",
      "745  23.0   3.0    750.0  62.0  NEGATIVE\n",
      "746  39.0   1.0    250.0  39.0  NEGATIVE\n",
      "747  72.0   1.0    250.0  72.0  NEGATIVE\n",
      "\n",
      "[748 rows x 5 columns]\n",
      "       V1    V2       V3    V4\n",
      "0     2.0  50.0  12500.0  98.0\n",
      "1     0.0  13.0   3250.0  28.0\n",
      "2     NaN   NaN   4000.0  35.0\n",
      "3     NaN  20.0   5000.0  45.0\n",
      "4     1.0  24.0   6000.0  77.0\n",
      "..    ...   ...      ...   ...\n",
      "743  23.0   2.0    500.0  38.0\n",
      "744  21.0   2.0    500.0  52.0\n",
      "745  23.0   3.0    750.0  62.0\n",
      "746  39.0   1.0    250.0  39.0\n",
      "747  72.0   1.0    250.0  72.0\n",
      "\n",
      "[748 rows x 4 columns]\n"
     ]
    }
   ],
   "source": [
    "data = data.replace('?',np.NaN)\n",
    "y = data.Target \n",
    "X = data[data.columns[0:5]] \n",
    "X_to_impute = data[data.columns[0:4]]\n",
    "print(X)\n",
    "print(X_to_impute)"
   ]
  },
  {
   "cell_type": "code",
   "execution_count": 363,
   "metadata": {
    "colab": {
     "base_uri": "https://localhost:8080/",
     "height": 206
    },
    "id": "rzcy8zUrZ3po",
    "outputId": "4c5bafcf-4744-4549-c06a-9275657cb0e7"
   },
   "outputs": [
    {
     "data": {
      "text/html": [
       "\n",
       "  <div id=\"df-fec4d055-3707-4a13-9d81-e8558b39e04a\">\n",
       "    <div class=\"colab-df-container\">\n",
       "      <div>\n",
       "<style scoped>\n",
       "    .dataframe tbody tr th:only-of-type {\n",
       "        vertical-align: middle;\n",
       "    }\n",
       "\n",
       "    .dataframe tbody tr th {\n",
       "        vertical-align: top;\n",
       "    }\n",
       "\n",
       "    .dataframe thead th {\n",
       "        text-align: right;\n",
       "    }\n",
       "</style>\n",
       "<table border=\"1\" class=\"dataframe\">\n",
       "  <thead>\n",
       "    <tr style=\"text-align: right;\">\n",
       "      <th></th>\n",
       "      <th>0</th>\n",
       "      <th>1</th>\n",
       "      <th>2</th>\n",
       "      <th>3</th>\n",
       "      <th>4</th>\n",
       "    </tr>\n",
       "  </thead>\n",
       "  <tbody>\n",
       "    <tr>\n",
       "      <th>0</th>\n",
       "      <td>2.000000</td>\n",
       "      <td>50.000000</td>\n",
       "      <td>12500.0</td>\n",
       "      <td>98.0</td>\n",
       "      <td>0.0</td>\n",
       "    </tr>\n",
       "    <tr>\n",
       "      <th>1</th>\n",
       "      <td>0.000000</td>\n",
       "      <td>13.000000</td>\n",
       "      <td>3250.0</td>\n",
       "      <td>28.0</td>\n",
       "      <td>0.0</td>\n",
       "    </tr>\n",
       "    <tr>\n",
       "      <th>2</th>\n",
       "      <td>9.562584</td>\n",
       "      <td>5.464334</td>\n",
       "      <td>4000.0</td>\n",
       "      <td>35.0</td>\n",
       "      <td>0.0</td>\n",
       "    </tr>\n",
       "    <tr>\n",
       "      <th>3</th>\n",
       "      <td>9.562584</td>\n",
       "      <td>20.000000</td>\n",
       "      <td>5000.0</td>\n",
       "      <td>45.0</td>\n",
       "      <td>0.0</td>\n",
       "    </tr>\n",
       "    <tr>\n",
       "      <th>4</th>\n",
       "      <td>1.000000</td>\n",
       "      <td>24.000000</td>\n",
       "      <td>6000.0</td>\n",
       "      <td>77.0</td>\n",
       "      <td>0.0</td>\n",
       "    </tr>\n",
       "  </tbody>\n",
       "</table>\n",
       "</div>\n",
       "      <button class=\"colab-df-convert\" onclick=\"convertToInteractive('df-fec4d055-3707-4a13-9d81-e8558b39e04a')\"\n",
       "              title=\"Convert this dataframe to an interactive table.\"\n",
       "              style=\"display:none;\">\n",
       "        \n",
       "  <svg xmlns=\"http://www.w3.org/2000/svg\" height=\"24px\"viewBox=\"0 0 24 24\"\n",
       "       width=\"24px\">\n",
       "    <path d=\"M0 0h24v24H0V0z\" fill=\"none\"/>\n",
       "    <path d=\"M18.56 5.44l.94 2.06.94-2.06 2.06-.94-2.06-.94-.94-2.06-.94 2.06-2.06.94zm-11 1L8.5 8.5l.94-2.06 2.06-.94-2.06-.94L8.5 2.5l-.94 2.06-2.06.94zm10 10l.94 2.06.94-2.06 2.06-.94-2.06-.94-.94-2.06-.94 2.06-2.06.94z\"/><path d=\"M17.41 7.96l-1.37-1.37c-.4-.4-.92-.59-1.43-.59-.52 0-1.04.2-1.43.59L10.3 9.45l-7.72 7.72c-.78.78-.78 2.05 0 2.83L4 21.41c.39.39.9.59 1.41.59.51 0 1.02-.2 1.41-.59l7.78-7.78 2.81-2.81c.8-.78.8-2.07 0-2.86zM5.41 20L4 18.59l7.72-7.72 1.47 1.35L5.41 20z\"/>\n",
       "  </svg>\n",
       "      </button>\n",
       "      \n",
       "  <style>\n",
       "    .colab-df-container {\n",
       "      display:flex;\n",
       "      flex-wrap:wrap;\n",
       "      gap: 12px;\n",
       "    }\n",
       "\n",
       "    .colab-df-convert {\n",
       "      background-color: #E8F0FE;\n",
       "      border: none;\n",
       "      border-radius: 50%;\n",
       "      cursor: pointer;\n",
       "      display: none;\n",
       "      fill: #1967D2;\n",
       "      height: 32px;\n",
       "      padding: 0 0 0 0;\n",
       "      width: 32px;\n",
       "    }\n",
       "\n",
       "    .colab-df-convert:hover {\n",
       "      background-color: #E2EBFA;\n",
       "      box-shadow: 0px 1px 2px rgba(60, 64, 67, 0.3), 0px 1px 3px 1px rgba(60, 64, 67, 0.15);\n",
       "      fill: #174EA6;\n",
       "    }\n",
       "\n",
       "    [theme=dark] .colab-df-convert {\n",
       "      background-color: #3B4455;\n",
       "      fill: #D2E3FC;\n",
       "    }\n",
       "\n",
       "    [theme=dark] .colab-df-convert:hover {\n",
       "      background-color: #434B5C;\n",
       "      box-shadow: 0px 1px 3px 1px rgba(0, 0, 0, 0.15);\n",
       "      filter: drop-shadow(0px 1px 2px rgba(0, 0, 0, 0.3));\n",
       "      fill: #FFFFFF;\n",
       "    }\n",
       "  </style>\n",
       "\n",
       "      <script>\n",
       "        const buttonEl =\n",
       "          document.querySelector('#df-fec4d055-3707-4a13-9d81-e8558b39e04a button.colab-df-convert');\n",
       "        buttonEl.style.display =\n",
       "          google.colab.kernel.accessAllowed ? 'block' : 'none';\n",
       "\n",
       "        async function convertToInteractive(key) {\n",
       "          const element = document.querySelector('#df-fec4d055-3707-4a13-9d81-e8558b39e04a');\n",
       "          const dataTable =\n",
       "            await google.colab.kernel.invokeFunction('convertToInteractive',\n",
       "                                                     [key], {});\n",
       "          if (!dataTable) return;\n",
       "\n",
       "          const docLinkHtml = 'Like what you see? Visit the ' +\n",
       "            '<a target=\"_blank\" href=https://colab.research.google.com/notebooks/data_table.ipynb>data table notebook</a>'\n",
       "            + ' to learn more about interactive tables.';\n",
       "          element.innerHTML = '';\n",
       "          dataTable['output_type'] = 'display_data';\n",
       "          await google.colab.output.renderOutput(dataTable, element);\n",
       "          const docLink = document.createElement('div');\n",
       "          docLink.innerHTML = docLinkHtml;\n",
       "          element.appendChild(docLink);\n",
       "        }\n",
       "      </script>\n",
       "    </div>\n",
       "  </div>\n",
       "  "
      ],
      "text/plain": [
       "          0          1        2     3    4\n",
       "0  2.000000  50.000000  12500.0  98.0  0.0\n",
       "1  0.000000  13.000000   3250.0  28.0  0.0\n",
       "2  9.562584   5.464334   4000.0  35.0  0.0\n",
       "3  9.562584  20.000000   5000.0  45.0  0.0\n",
       "4  1.000000  24.000000   6000.0  77.0  0.0"
      ]
     },
     "execution_count": 363,
     "metadata": {},
     "output_type": "execute_result"
    }
   ],
   "source": [
    "ct = ColumnTransformer([\n",
    "                        ('impute',SimpleImputer(strategy='mean'), [0,1]),\n",
    "                        ('pass','passthrough',[2,3]),\n",
    "                        ('encoder',OrdinalEncoder(),[4])\n",
    "])\n",
    "\n",
    "X_transformed = ct.fit_transform(X)\n",
    "X_transformed = pd.DataFrame(X_transformed)\n",
    "X_transformed.head()"
   ]
  },
  {
   "cell_type": "code",
   "execution_count": 370,
   "metadata": {
    "colab": {
     "base_uri": "https://localhost:8080/",
     "height": 313
    },
    "id": "hkDzJhlLbafp",
    "outputId": "5cb068c4-31c1-41e9-87f3-a583528a0947"
   },
   "outputs": [
    {
     "ename": "KeyError",
     "evalue": "ignored",
     "output_type": "error",
     "traceback": [
      "\u001B[0;31m---------------------------------------------------------------------------\u001B[0m",
      "\u001B[0;31mKeyError\u001B[0m                                  Traceback (most recent call last)",
      "\u001B[0;32m<ipython-input-370-5b9e453c161e>\u001B[0m in \u001B[0;36m<module>\u001B[0;34m()\u001B[0m\n\u001B[0;32m----> 1\u001B[0;31m \u001B[0mX\u001B[0m\u001B[0;34m[\u001B[0m\u001B[0;34m[\u001B[0m\u001B[0;34m'NEGATIVE'\u001B[0m\u001B[0;34m]\u001B[0m\u001B[0;34m]\u001B[0m\u001B[0;34m.\u001B[0m\u001B[0mvalue_counts\u001B[0m\u001B[0;34m\u001B[0m\u001B[0;34m\u001B[0m\u001B[0m\n\u001B[0m",
      "\u001B[0;32m/usr/local/lib/python3.7/dist-packages/pandas/core/frame.py\u001B[0m in \u001B[0;36m__getitem__\u001B[0;34m(self, key)\u001B[0m\n\u001B[1;32m   2910\u001B[0m             \u001B[0;32mif\u001B[0m \u001B[0mis_iterator\u001B[0m\u001B[0;34m(\u001B[0m\u001B[0mkey\u001B[0m\u001B[0;34m)\u001B[0m\u001B[0;34m:\u001B[0m\u001B[0;34m\u001B[0m\u001B[0;34m\u001B[0m\u001B[0m\n\u001B[1;32m   2911\u001B[0m                 \u001B[0mkey\u001B[0m \u001B[0;34m=\u001B[0m \u001B[0mlist\u001B[0m\u001B[0;34m(\u001B[0m\u001B[0mkey\u001B[0m\u001B[0;34m)\u001B[0m\u001B[0;34m\u001B[0m\u001B[0;34m\u001B[0m\u001B[0m\n\u001B[0;32m-> 2912\u001B[0;31m             \u001B[0mindexer\u001B[0m \u001B[0;34m=\u001B[0m \u001B[0mself\u001B[0m\u001B[0;34m.\u001B[0m\u001B[0mloc\u001B[0m\u001B[0;34m.\u001B[0m\u001B[0m_get_listlike_indexer\u001B[0m\u001B[0;34m(\u001B[0m\u001B[0mkey\u001B[0m\u001B[0;34m,\u001B[0m \u001B[0maxis\u001B[0m\u001B[0;34m=\u001B[0m\u001B[0;36m1\u001B[0m\u001B[0;34m,\u001B[0m \u001B[0mraise_missing\u001B[0m\u001B[0;34m=\u001B[0m\u001B[0;32mTrue\u001B[0m\u001B[0;34m)\u001B[0m\u001B[0;34m[\u001B[0m\u001B[0;36m1\u001B[0m\u001B[0;34m]\u001B[0m\u001B[0;34m\u001B[0m\u001B[0;34m\u001B[0m\u001B[0m\n\u001B[0m\u001B[1;32m   2913\u001B[0m \u001B[0;34m\u001B[0m\u001B[0m\n\u001B[1;32m   2914\u001B[0m         \u001B[0;31m# take() does not accept boolean indexers\u001B[0m\u001B[0;34m\u001B[0m\u001B[0;34m\u001B[0m\u001B[0;34m\u001B[0m\u001B[0m\n",
      "\u001B[0;32m/usr/local/lib/python3.7/dist-packages/pandas/core/indexing.py\u001B[0m in \u001B[0;36m_get_listlike_indexer\u001B[0;34m(self, key, axis, raise_missing)\u001B[0m\n\u001B[1;32m   1252\u001B[0m             \u001B[0mkeyarr\u001B[0m\u001B[0;34m,\u001B[0m \u001B[0mindexer\u001B[0m\u001B[0;34m,\u001B[0m \u001B[0mnew_indexer\u001B[0m \u001B[0;34m=\u001B[0m \u001B[0max\u001B[0m\u001B[0;34m.\u001B[0m\u001B[0m_reindex_non_unique\u001B[0m\u001B[0;34m(\u001B[0m\u001B[0mkeyarr\u001B[0m\u001B[0;34m)\u001B[0m\u001B[0;34m\u001B[0m\u001B[0;34m\u001B[0m\u001B[0m\n\u001B[1;32m   1253\u001B[0m \u001B[0;34m\u001B[0m\u001B[0m\n\u001B[0;32m-> 1254\u001B[0;31m         \u001B[0mself\u001B[0m\u001B[0;34m.\u001B[0m\u001B[0m_validate_read_indexer\u001B[0m\u001B[0;34m(\u001B[0m\u001B[0mkeyarr\u001B[0m\u001B[0;34m,\u001B[0m \u001B[0mindexer\u001B[0m\u001B[0;34m,\u001B[0m \u001B[0maxis\u001B[0m\u001B[0;34m,\u001B[0m \u001B[0mraise_missing\u001B[0m\u001B[0;34m=\u001B[0m\u001B[0mraise_missing\u001B[0m\u001B[0;34m)\u001B[0m\u001B[0;34m\u001B[0m\u001B[0;34m\u001B[0m\u001B[0m\n\u001B[0m\u001B[1;32m   1255\u001B[0m         \u001B[0;32mreturn\u001B[0m \u001B[0mkeyarr\u001B[0m\u001B[0;34m,\u001B[0m \u001B[0mindexer\u001B[0m\u001B[0;34m\u001B[0m\u001B[0;34m\u001B[0m\u001B[0m\n\u001B[1;32m   1256\u001B[0m \u001B[0;34m\u001B[0m\u001B[0m\n",
      "\u001B[0;32m/usr/local/lib/python3.7/dist-packages/pandas/core/indexing.py\u001B[0m in \u001B[0;36m_validate_read_indexer\u001B[0;34m(self, key, indexer, axis, raise_missing)\u001B[0m\n\u001B[1;32m   1296\u001B[0m             \u001B[0;32mif\u001B[0m \u001B[0mmissing\u001B[0m \u001B[0;34m==\u001B[0m \u001B[0mlen\u001B[0m\u001B[0;34m(\u001B[0m\u001B[0mindexer\u001B[0m\u001B[0;34m)\u001B[0m\u001B[0;34m:\u001B[0m\u001B[0;34m\u001B[0m\u001B[0;34m\u001B[0m\u001B[0m\n\u001B[1;32m   1297\u001B[0m                 \u001B[0maxis_name\u001B[0m \u001B[0;34m=\u001B[0m \u001B[0mself\u001B[0m\u001B[0;34m.\u001B[0m\u001B[0mobj\u001B[0m\u001B[0;34m.\u001B[0m\u001B[0m_get_axis_name\u001B[0m\u001B[0;34m(\u001B[0m\u001B[0maxis\u001B[0m\u001B[0;34m)\u001B[0m\u001B[0;34m\u001B[0m\u001B[0;34m\u001B[0m\u001B[0m\n\u001B[0;32m-> 1298\u001B[0;31m                 \u001B[0;32mraise\u001B[0m \u001B[0mKeyError\u001B[0m\u001B[0;34m(\u001B[0m\u001B[0;34mf\"None of [{key}] are in the [{axis_name}]\"\u001B[0m\u001B[0;34m)\u001B[0m\u001B[0;34m\u001B[0m\u001B[0;34m\u001B[0m\u001B[0m\n\u001B[0m\u001B[1;32m   1299\u001B[0m \u001B[0;34m\u001B[0m\u001B[0m\n\u001B[1;32m   1300\u001B[0m             \u001B[0;31m# We (temporarily) allow for some missing keys with .loc, except in\u001B[0m\u001B[0;34m\u001B[0m\u001B[0;34m\u001B[0m\u001B[0;34m\u001B[0m\u001B[0m\n",
      "\u001B[0;31mKeyError\u001B[0m: \"None of [Index(['NEGATIVE'], dtype='object')] are in the [columns]\""
     ]
    }
   ],
   "source": [
    "X.V5."
   ]
  }
 ],
 "metadata": {
  "colab": {
   "authorship_tag": "ABX9TyPfO/6QcigaQWxNVqqiuY3Q",
   "collapsed_sections": [],
   "include_colab_link": true,
   "name": "MLP_week_2.ipynb",
   "provenance": []
  },
  "kernelspec": {
   "display_name": "Python 3 (ipykernel)",
   "language": "python",
   "name": "python3"
  },
  "language_info": {
   "codemirror_mode": {
    "name": "ipython",
    "version": 3
   },
   "file_extension": ".py",
   "mimetype": "text/x-python",
   "name": "python",
   "nbconvert_exporter": "python",
   "pygments_lexer": "ipython3",
   "version": "3.11.4"
  }
 },
 "nbformat": 4,
 "nbformat_minor": 4
}
