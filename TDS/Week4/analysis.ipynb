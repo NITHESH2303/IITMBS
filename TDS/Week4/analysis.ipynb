{
 "cells": [
  {
   "cell_type": "code",
   "execution_count": 5,
   "id": "initial_id",
   "metadata": {
    "collapsed": true,
    "ExecuteTime": {
     "end_time": "2023-10-22T17:37:24.577002600Z",
     "start_time": "2023-10-22T17:37:24.564319600Z"
    }
   },
   "outputs": [],
   "source": [
    "import numpy as np\n",
    "import pandas as pd\n",
    "from sklearn.cluster import KMeans"
   ]
  },
  {
   "cell_type": "code",
   "execution_count": 11,
   "outputs": [
    {
     "data": {
      "text/plain": "      record number     Price  Market Cap  Free Float Market Cap %    6m ADV  \\\n0                 0  0.001319    0.001970                 0.826221  0.021519   \n1                 1  0.000769    0.000579                 0.441647  0.003081   \n2                 2  0.000132    0.000316                 0.655003  0.000778   \n3                 3  0.000824    0.007208                 0.000533  0.000252   \n4                 4  0.000596    0.000358                 0.805526  0.003378   \n...             ...       ...         ...                      ...       ...   \n1220           1220  0.000065    0.000760                 0.376574  0.000969   \n1221           1221  0.000233    0.000998                 0.863132  0.001526   \n1222           1222  0.001573    0.000398                 0.465543  0.003392   \n1223           1223  0.002894    0.001251                 0.413271  0.006648   \n1224           1224  1.000000    0.048648                 0.706742  0.172448   \n\n         RoE %    RoCE %  EBIT Margin %       EPS     PAT %  Stock Return %  \n0     0.000000  0.476845       0.038117  0.000701  0.000000        0.268651  \n1     0.000000  0.232072       0.000000  0.025832  0.000000        0.190937  \n2     0.065568  0.000000       0.000000  0.001083  0.000000        0.122265  \n3     0.408417  0.416031       0.000000  0.000918  0.000000        0.100503  \n4     0.116626  0.474160       0.067420  0.029651  0.000000        0.050376  \n...        ...       ...            ...       ...       ...             ...  \n1220  0.529061  0.567416       0.538476  0.022321  0.515244        0.066663  \n1221  0.529061  0.567416       0.538476  0.022321  0.515244        0.076299  \n1222  0.529061  0.567416       0.538476  0.022321  0.515244        0.085711  \n1223  0.529061  0.567416       0.538476  0.022321  0.515244        0.108383  \n1224  0.529061  0.567416       0.538476  0.022321  0.515244        0.175345  \n\n[1225 rows x 11 columns]",
      "text/html": "<div>\n<style scoped>\n    .dataframe tbody tr th:only-of-type {\n        vertical-align: middle;\n    }\n\n    .dataframe tbody tr th {\n        vertical-align: top;\n    }\n\n    .dataframe thead th {\n        text-align: right;\n    }\n</style>\n<table border=\"1\" class=\"dataframe\">\n  <thead>\n    <tr style=\"text-align: right;\">\n      <th></th>\n      <th>record number</th>\n      <th>Price</th>\n      <th>Market Cap</th>\n      <th>Free Float Market Cap %</th>\n      <th>6m ADV</th>\n      <th>RoE %</th>\n      <th>RoCE %</th>\n      <th>EBIT Margin %</th>\n      <th>EPS</th>\n      <th>PAT %</th>\n      <th>Stock Return %</th>\n    </tr>\n  </thead>\n  <tbody>\n    <tr>\n      <th>0</th>\n      <td>0</td>\n      <td>0.001319</td>\n      <td>0.001970</td>\n      <td>0.826221</td>\n      <td>0.021519</td>\n      <td>0.000000</td>\n      <td>0.476845</td>\n      <td>0.038117</td>\n      <td>0.000701</td>\n      <td>0.000000</td>\n      <td>0.268651</td>\n    </tr>\n    <tr>\n      <th>1</th>\n      <td>1</td>\n      <td>0.000769</td>\n      <td>0.000579</td>\n      <td>0.441647</td>\n      <td>0.003081</td>\n      <td>0.000000</td>\n      <td>0.232072</td>\n      <td>0.000000</td>\n      <td>0.025832</td>\n      <td>0.000000</td>\n      <td>0.190937</td>\n    </tr>\n    <tr>\n      <th>2</th>\n      <td>2</td>\n      <td>0.000132</td>\n      <td>0.000316</td>\n      <td>0.655003</td>\n      <td>0.000778</td>\n      <td>0.065568</td>\n      <td>0.000000</td>\n      <td>0.000000</td>\n      <td>0.001083</td>\n      <td>0.000000</td>\n      <td>0.122265</td>\n    </tr>\n    <tr>\n      <th>3</th>\n      <td>3</td>\n      <td>0.000824</td>\n      <td>0.007208</td>\n      <td>0.000533</td>\n      <td>0.000252</td>\n      <td>0.408417</td>\n      <td>0.416031</td>\n      <td>0.000000</td>\n      <td>0.000918</td>\n      <td>0.000000</td>\n      <td>0.100503</td>\n    </tr>\n    <tr>\n      <th>4</th>\n      <td>4</td>\n      <td>0.000596</td>\n      <td>0.000358</td>\n      <td>0.805526</td>\n      <td>0.003378</td>\n      <td>0.116626</td>\n      <td>0.474160</td>\n      <td>0.067420</td>\n      <td>0.029651</td>\n      <td>0.000000</td>\n      <td>0.050376</td>\n    </tr>\n    <tr>\n      <th>...</th>\n      <td>...</td>\n      <td>...</td>\n      <td>...</td>\n      <td>...</td>\n      <td>...</td>\n      <td>...</td>\n      <td>...</td>\n      <td>...</td>\n      <td>...</td>\n      <td>...</td>\n      <td>...</td>\n    </tr>\n    <tr>\n      <th>1220</th>\n      <td>1220</td>\n      <td>0.000065</td>\n      <td>0.000760</td>\n      <td>0.376574</td>\n      <td>0.000969</td>\n      <td>0.529061</td>\n      <td>0.567416</td>\n      <td>0.538476</td>\n      <td>0.022321</td>\n      <td>0.515244</td>\n      <td>0.066663</td>\n    </tr>\n    <tr>\n      <th>1221</th>\n      <td>1221</td>\n      <td>0.000233</td>\n      <td>0.000998</td>\n      <td>0.863132</td>\n      <td>0.001526</td>\n      <td>0.529061</td>\n      <td>0.567416</td>\n      <td>0.538476</td>\n      <td>0.022321</td>\n      <td>0.515244</td>\n      <td>0.076299</td>\n    </tr>\n    <tr>\n      <th>1222</th>\n      <td>1222</td>\n      <td>0.001573</td>\n      <td>0.000398</td>\n      <td>0.465543</td>\n      <td>0.003392</td>\n      <td>0.529061</td>\n      <td>0.567416</td>\n      <td>0.538476</td>\n      <td>0.022321</td>\n      <td>0.515244</td>\n      <td>0.085711</td>\n    </tr>\n    <tr>\n      <th>1223</th>\n      <td>1223</td>\n      <td>0.002894</td>\n      <td>0.001251</td>\n      <td>0.413271</td>\n      <td>0.006648</td>\n      <td>0.529061</td>\n      <td>0.567416</td>\n      <td>0.538476</td>\n      <td>0.022321</td>\n      <td>0.515244</td>\n      <td>0.108383</td>\n    </tr>\n    <tr>\n      <th>1224</th>\n      <td>1224</td>\n      <td>1.000000</td>\n      <td>0.048648</td>\n      <td>0.706742</td>\n      <td>0.172448</td>\n      <td>0.529061</td>\n      <td>0.567416</td>\n      <td>0.538476</td>\n      <td>0.022321</td>\n      <td>0.515244</td>\n      <td>0.175345</td>\n    </tr>\n  </tbody>\n</table>\n<p>1225 rows × 11 columns</p>\n</div>"
     },
     "execution_count": 11,
     "metadata": {},
     "output_type": "execute_result"
    }
   ],
   "source": [
    "df = pd.read_excel(\"TDS_Week_5_Dataset_2.xlsx\")\n",
    "df"
   ],
   "metadata": {
    "collapsed": false,
    "ExecuteTime": {
     "end_time": "2023-10-22T17:42:19.636529Z",
     "start_time": "2023-10-22T17:42:19.169017Z"
    }
   },
   "id": "89e2c5b71fbd085b"
  },
  {
   "cell_type": "code",
   "execution_count": 12,
   "outputs": [
    {
     "data": {
      "text/plain": "         Price  Market Cap  Free Float Market Cap %    6m ADV     RoE %  \\\n0     0.001319    0.001970                 0.826221  0.021519  0.000000   \n1     0.000769    0.000579                 0.441647  0.003081  0.000000   \n2     0.000132    0.000316                 0.655003  0.000778  0.065568   \n3     0.000824    0.007208                 0.000533  0.000252  0.408417   \n4     0.000596    0.000358                 0.805526  0.003378  0.116626   \n...        ...         ...                      ...       ...       ...   \n1220  0.000065    0.000760                 0.376574  0.000969  0.529061   \n1221  0.000233    0.000998                 0.863132  0.001526  0.529061   \n1222  0.001573    0.000398                 0.465543  0.003392  0.529061   \n1223  0.002894    0.001251                 0.413271  0.006648  0.529061   \n1224  1.000000    0.048648                 0.706742  0.172448  0.529061   \n\n        RoCE %  EBIT Margin %       EPS     PAT %  Stock Return %  \n0     0.476845       0.038117  0.000701  0.000000        0.268651  \n1     0.232072       0.000000  0.025832  0.000000        0.190937  \n2     0.000000       0.000000  0.001083  0.000000        0.122265  \n3     0.416031       0.000000  0.000918  0.000000        0.100503  \n4     0.474160       0.067420  0.029651  0.000000        0.050376  \n...        ...            ...       ...       ...             ...  \n1220  0.567416       0.538476  0.022321  0.515244        0.066663  \n1221  0.567416       0.538476  0.022321  0.515244        0.076299  \n1222  0.567416       0.538476  0.022321  0.515244        0.085711  \n1223  0.567416       0.538476  0.022321  0.515244        0.108383  \n1224  0.567416       0.538476  0.022321  0.515244        0.175345  \n\n[1225 rows x 10 columns]",
      "text/html": "<div>\n<style scoped>\n    .dataframe tbody tr th:only-of-type {\n        vertical-align: middle;\n    }\n\n    .dataframe tbody tr th {\n        vertical-align: top;\n    }\n\n    .dataframe thead th {\n        text-align: right;\n    }\n</style>\n<table border=\"1\" class=\"dataframe\">\n  <thead>\n    <tr style=\"text-align: right;\">\n      <th></th>\n      <th>Price</th>\n      <th>Market Cap</th>\n      <th>Free Float Market Cap %</th>\n      <th>6m ADV</th>\n      <th>RoE %</th>\n      <th>RoCE %</th>\n      <th>EBIT Margin %</th>\n      <th>EPS</th>\n      <th>PAT %</th>\n      <th>Stock Return %</th>\n    </tr>\n  </thead>\n  <tbody>\n    <tr>\n      <th>0</th>\n      <td>0.001319</td>\n      <td>0.001970</td>\n      <td>0.826221</td>\n      <td>0.021519</td>\n      <td>0.000000</td>\n      <td>0.476845</td>\n      <td>0.038117</td>\n      <td>0.000701</td>\n      <td>0.000000</td>\n      <td>0.268651</td>\n    </tr>\n    <tr>\n      <th>1</th>\n      <td>0.000769</td>\n      <td>0.000579</td>\n      <td>0.441647</td>\n      <td>0.003081</td>\n      <td>0.000000</td>\n      <td>0.232072</td>\n      <td>0.000000</td>\n      <td>0.025832</td>\n      <td>0.000000</td>\n      <td>0.190937</td>\n    </tr>\n    <tr>\n      <th>2</th>\n      <td>0.000132</td>\n      <td>0.000316</td>\n      <td>0.655003</td>\n      <td>0.000778</td>\n      <td>0.065568</td>\n      <td>0.000000</td>\n      <td>0.000000</td>\n      <td>0.001083</td>\n      <td>0.000000</td>\n      <td>0.122265</td>\n    </tr>\n    <tr>\n      <th>3</th>\n      <td>0.000824</td>\n      <td>0.007208</td>\n      <td>0.000533</td>\n      <td>0.000252</td>\n      <td>0.408417</td>\n      <td>0.416031</td>\n      <td>0.000000</td>\n      <td>0.000918</td>\n      <td>0.000000</td>\n      <td>0.100503</td>\n    </tr>\n    <tr>\n      <th>4</th>\n      <td>0.000596</td>\n      <td>0.000358</td>\n      <td>0.805526</td>\n      <td>0.003378</td>\n      <td>0.116626</td>\n      <td>0.474160</td>\n      <td>0.067420</td>\n      <td>0.029651</td>\n      <td>0.000000</td>\n      <td>0.050376</td>\n    </tr>\n    <tr>\n      <th>...</th>\n      <td>...</td>\n      <td>...</td>\n      <td>...</td>\n      <td>...</td>\n      <td>...</td>\n      <td>...</td>\n      <td>...</td>\n      <td>...</td>\n      <td>...</td>\n      <td>...</td>\n    </tr>\n    <tr>\n      <th>1220</th>\n      <td>0.000065</td>\n      <td>0.000760</td>\n      <td>0.376574</td>\n      <td>0.000969</td>\n      <td>0.529061</td>\n      <td>0.567416</td>\n      <td>0.538476</td>\n      <td>0.022321</td>\n      <td>0.515244</td>\n      <td>0.066663</td>\n    </tr>\n    <tr>\n      <th>1221</th>\n      <td>0.000233</td>\n      <td>0.000998</td>\n      <td>0.863132</td>\n      <td>0.001526</td>\n      <td>0.529061</td>\n      <td>0.567416</td>\n      <td>0.538476</td>\n      <td>0.022321</td>\n      <td>0.515244</td>\n      <td>0.076299</td>\n    </tr>\n    <tr>\n      <th>1222</th>\n      <td>0.001573</td>\n      <td>0.000398</td>\n      <td>0.465543</td>\n      <td>0.003392</td>\n      <td>0.529061</td>\n      <td>0.567416</td>\n      <td>0.538476</td>\n      <td>0.022321</td>\n      <td>0.515244</td>\n      <td>0.085711</td>\n    </tr>\n    <tr>\n      <th>1223</th>\n      <td>0.002894</td>\n      <td>0.001251</td>\n      <td>0.413271</td>\n      <td>0.006648</td>\n      <td>0.529061</td>\n      <td>0.567416</td>\n      <td>0.538476</td>\n      <td>0.022321</td>\n      <td>0.515244</td>\n      <td>0.108383</td>\n    </tr>\n    <tr>\n      <th>1224</th>\n      <td>1.000000</td>\n      <td>0.048648</td>\n      <td>0.706742</td>\n      <td>0.172448</td>\n      <td>0.529061</td>\n      <td>0.567416</td>\n      <td>0.538476</td>\n      <td>0.022321</td>\n      <td>0.515244</td>\n      <td>0.175345</td>\n    </tr>\n  </tbody>\n</table>\n<p>1225 rows × 10 columns</p>\n</div>"
     },
     "execution_count": 12,
     "metadata": {},
     "output_type": "execute_result"
    }
   ],
   "source": [
    "df = df.drop(['record number'], axis=1)\n",
    "df"
   ],
   "metadata": {
    "collapsed": false,
    "ExecuteTime": {
     "end_time": "2023-10-22T17:42:19.652993Z",
     "start_time": "2023-10-22T17:42:19.635524400Z"
    }
   },
   "id": "7c32f5924d8494c2"
  },
  {
   "cell_type": "code",
   "execution_count": 13,
   "outputs": [],
   "source": [
    "np.random.seed(1729)"
   ],
   "metadata": {
    "collapsed": false,
    "ExecuteTime": {
     "end_time": "2023-10-22T17:42:44.260758700Z",
     "start_time": "2023-10-22T17:42:44.135375Z"
    }
   },
   "id": "42d7141626314b4e"
  },
  {
   "cell_type": "code",
   "execution_count": 14,
   "outputs": [
    {
     "name": "stderr",
     "output_type": "stream",
     "text": [
      "D:\\SOFTWARE\\Python\\Lib\\site-packages\\sklearn\\cluster\\_kmeans.py:1416: FutureWarning: The default value of `n_init` will change from 10 to 'auto' in 1.4. Set the value of `n_init` explicitly to suppress the warning\n",
      "  super()._check_params_vs_input(X, default_n_init=10)\n"
     ]
    },
    {
     "data": {
      "text/plain": "KMeans(n_clusters=7)",
      "text/html": "<style>#sk-container-id-1 {color: black;}#sk-container-id-1 pre{padding: 0;}#sk-container-id-1 div.sk-toggleable {background-color: white;}#sk-container-id-1 label.sk-toggleable__label {cursor: pointer;display: block;width: 100%;margin-bottom: 0;padding: 0.3em;box-sizing: border-box;text-align: center;}#sk-container-id-1 label.sk-toggleable__label-arrow:before {content: \"▸\";float: left;margin-right: 0.25em;color: #696969;}#sk-container-id-1 label.sk-toggleable__label-arrow:hover:before {color: black;}#sk-container-id-1 div.sk-estimator:hover label.sk-toggleable__label-arrow:before {color: black;}#sk-container-id-1 div.sk-toggleable__content {max-height: 0;max-width: 0;overflow: hidden;text-align: left;background-color: #f0f8ff;}#sk-container-id-1 div.sk-toggleable__content pre {margin: 0.2em;color: black;border-radius: 0.25em;background-color: #f0f8ff;}#sk-container-id-1 input.sk-toggleable__control:checked~div.sk-toggleable__content {max-height: 200px;max-width: 100%;overflow: auto;}#sk-container-id-1 input.sk-toggleable__control:checked~label.sk-toggleable__label-arrow:before {content: \"▾\";}#sk-container-id-1 div.sk-estimator input.sk-toggleable__control:checked~label.sk-toggleable__label {background-color: #d4ebff;}#sk-container-id-1 div.sk-label input.sk-toggleable__control:checked~label.sk-toggleable__label {background-color: #d4ebff;}#sk-container-id-1 input.sk-hidden--visually {border: 0;clip: rect(1px 1px 1px 1px);clip: rect(1px, 1px, 1px, 1px);height: 1px;margin: -1px;overflow: hidden;padding: 0;position: absolute;width: 1px;}#sk-container-id-1 div.sk-estimator {font-family: monospace;background-color: #f0f8ff;border: 1px dotted black;border-radius: 0.25em;box-sizing: border-box;margin-bottom: 0.5em;}#sk-container-id-1 div.sk-estimator:hover {background-color: #d4ebff;}#sk-container-id-1 div.sk-parallel-item::after {content: \"\";width: 100%;border-bottom: 1px solid gray;flex-grow: 1;}#sk-container-id-1 div.sk-label:hover label.sk-toggleable__label {background-color: #d4ebff;}#sk-container-id-1 div.sk-serial::before {content: \"\";position: absolute;border-left: 1px solid gray;box-sizing: border-box;top: 0;bottom: 0;left: 50%;z-index: 0;}#sk-container-id-1 div.sk-serial {display: flex;flex-direction: column;align-items: center;background-color: white;padding-right: 0.2em;padding-left: 0.2em;position: relative;}#sk-container-id-1 div.sk-item {position: relative;z-index: 1;}#sk-container-id-1 div.sk-parallel {display: flex;align-items: stretch;justify-content: center;background-color: white;position: relative;}#sk-container-id-1 div.sk-item::before, #sk-container-id-1 div.sk-parallel-item::before {content: \"\";position: absolute;border-left: 1px solid gray;box-sizing: border-box;top: 0;bottom: 0;left: 50%;z-index: -1;}#sk-container-id-1 div.sk-parallel-item {display: flex;flex-direction: column;z-index: 1;position: relative;background-color: white;}#sk-container-id-1 div.sk-parallel-item:first-child::after {align-self: flex-end;width: 50%;}#sk-container-id-1 div.sk-parallel-item:last-child::after {align-self: flex-start;width: 50%;}#sk-container-id-1 div.sk-parallel-item:only-child::after {width: 0;}#sk-container-id-1 div.sk-dashed-wrapped {border: 1px dashed gray;margin: 0 0.4em 0.5em 0.4em;box-sizing: border-box;padding-bottom: 0.4em;background-color: white;}#sk-container-id-1 div.sk-label label {font-family: monospace;font-weight: bold;display: inline-block;line-height: 1.2em;}#sk-container-id-1 div.sk-label-container {text-align: center;}#sk-container-id-1 div.sk-container {/* jupyter's `normalize.less` sets `[hidden] { display: none; }` but bootstrap.min.css set `[hidden] { display: none !important; }` so we also need the `!important` here to be able to override the default hidden behavior on the sphinx rendered scikit-learn.org. See: https://github.com/scikit-learn/scikit-learn/issues/21755 */display: inline-block !important;position: relative;}#sk-container-id-1 div.sk-text-repr-fallback {display: none;}</style><div id=\"sk-container-id-1\" class=\"sk-top-container\"><div class=\"sk-text-repr-fallback\"><pre>KMeans(n_clusters=7)</pre><b>In a Jupyter environment, please rerun this cell to show the HTML representation or trust the notebook. <br />On GitHub, the HTML representation is unable to render, please try loading this page with nbviewer.org.</b></div><div class=\"sk-container\" hidden><div class=\"sk-item\"><div class=\"sk-estimator sk-toggleable\"><input class=\"sk-toggleable__control sk-hidden--visually\" id=\"sk-estimator-id-1\" type=\"checkbox\" checked><label for=\"sk-estimator-id-1\" class=\"sk-toggleable__label sk-toggleable__label-arrow\">KMeans</label><div class=\"sk-toggleable__content\"><pre>KMeans(n_clusters=7)</pre></div></div></div></div></div>"
     },
     "execution_count": 14,
     "metadata": {},
     "output_type": "execute_result"
    }
   ],
   "source": [
    "kmeans = KMeans(n_clusters=7)\n",
    "kmeans.fit(df)"
   ],
   "metadata": {
    "collapsed": false,
    "ExecuteTime": {
     "end_time": "2023-10-22T17:44:51.936486700Z",
     "start_time": "2023-10-22T17:44:47.733358100Z"
    }
   },
   "id": "62bd1daf5699a5d1"
  },
  {
   "cell_type": "code",
   "execution_count": 15,
   "outputs": [],
   "source": [
    "df['cluster'] = kmeans.labels_"
   ],
   "metadata": {
    "collapsed": false,
    "ExecuteTime": {
     "end_time": "2023-10-22T17:45:15.017000200Z",
     "start_time": "2023-10-22T17:45:14.999242200Z"
    }
   },
   "id": "ca80e9c09e97935f"
  },
  {
   "cell_type": "code",
   "execution_count": 16,
   "outputs": [
    {
     "data": {
      "text/plain": "         Price  Market Cap  Free Float Market Cap %    6m ADV     RoE %  \\\n0     0.001319    0.001970                 0.826221  0.021519  0.000000   \n1     0.000769    0.000579                 0.441647  0.003081  0.000000   \n2     0.000132    0.000316                 0.655003  0.000778  0.065568   \n3     0.000824    0.007208                 0.000533  0.000252  0.408417   \n4     0.000596    0.000358                 0.805526  0.003378  0.116626   \n...        ...         ...                      ...       ...       ...   \n1220  0.000065    0.000760                 0.376574  0.000969  0.529061   \n1221  0.000233    0.000998                 0.863132  0.001526  0.529061   \n1222  0.001573    0.000398                 0.465543  0.003392  0.529061   \n1223  0.002894    0.001251                 0.413271  0.006648  0.529061   \n1224  1.000000    0.048648                 0.706742  0.172448  0.529061   \n\n        RoCE %  EBIT Margin %       EPS     PAT %  Stock Return %  cluster  \n0     0.476845       0.038117  0.000701  0.000000        0.268651        3  \n1     0.232072       0.000000  0.025832  0.000000        0.190937        3  \n2     0.000000       0.000000  0.001083  0.000000        0.122265        3  \n3     0.416031       0.000000  0.000918  0.000000        0.100503        5  \n4     0.474160       0.067420  0.029651  0.000000        0.050376        3  \n...        ...            ...       ...       ...             ...      ...  \n1220  0.567416       0.538476  0.022321  0.515244        0.066663        0  \n1221  0.567416       0.538476  0.022321  0.515244        0.076299        4  \n1222  0.567416       0.538476  0.022321  0.515244        0.085711        0  \n1223  0.567416       0.538476  0.022321  0.515244        0.108383        0  \n1224  0.567416       0.538476  0.022321  0.515244        0.175345        4  \n\n[1225 rows x 11 columns]",
      "text/html": "<div>\n<style scoped>\n    .dataframe tbody tr th:only-of-type {\n        vertical-align: middle;\n    }\n\n    .dataframe tbody tr th {\n        vertical-align: top;\n    }\n\n    .dataframe thead th {\n        text-align: right;\n    }\n</style>\n<table border=\"1\" class=\"dataframe\">\n  <thead>\n    <tr style=\"text-align: right;\">\n      <th></th>\n      <th>Price</th>\n      <th>Market Cap</th>\n      <th>Free Float Market Cap %</th>\n      <th>6m ADV</th>\n      <th>RoE %</th>\n      <th>RoCE %</th>\n      <th>EBIT Margin %</th>\n      <th>EPS</th>\n      <th>PAT %</th>\n      <th>Stock Return %</th>\n      <th>cluster</th>\n    </tr>\n  </thead>\n  <tbody>\n    <tr>\n      <th>0</th>\n      <td>0.001319</td>\n      <td>0.001970</td>\n      <td>0.826221</td>\n      <td>0.021519</td>\n      <td>0.000000</td>\n      <td>0.476845</td>\n      <td>0.038117</td>\n      <td>0.000701</td>\n      <td>0.000000</td>\n      <td>0.268651</td>\n      <td>3</td>\n    </tr>\n    <tr>\n      <th>1</th>\n      <td>0.000769</td>\n      <td>0.000579</td>\n      <td>0.441647</td>\n      <td>0.003081</td>\n      <td>0.000000</td>\n      <td>0.232072</td>\n      <td>0.000000</td>\n      <td>0.025832</td>\n      <td>0.000000</td>\n      <td>0.190937</td>\n      <td>3</td>\n    </tr>\n    <tr>\n      <th>2</th>\n      <td>0.000132</td>\n      <td>0.000316</td>\n      <td>0.655003</td>\n      <td>0.000778</td>\n      <td>0.065568</td>\n      <td>0.000000</td>\n      <td>0.000000</td>\n      <td>0.001083</td>\n      <td>0.000000</td>\n      <td>0.122265</td>\n      <td>3</td>\n    </tr>\n    <tr>\n      <th>3</th>\n      <td>0.000824</td>\n      <td>0.007208</td>\n      <td>0.000533</td>\n      <td>0.000252</td>\n      <td>0.408417</td>\n      <td>0.416031</td>\n      <td>0.000000</td>\n      <td>0.000918</td>\n      <td>0.000000</td>\n      <td>0.100503</td>\n      <td>5</td>\n    </tr>\n    <tr>\n      <th>4</th>\n      <td>0.000596</td>\n      <td>0.000358</td>\n      <td>0.805526</td>\n      <td>0.003378</td>\n      <td>0.116626</td>\n      <td>0.474160</td>\n      <td>0.067420</td>\n      <td>0.029651</td>\n      <td>0.000000</td>\n      <td>0.050376</td>\n      <td>3</td>\n    </tr>\n    <tr>\n      <th>...</th>\n      <td>...</td>\n      <td>...</td>\n      <td>...</td>\n      <td>...</td>\n      <td>...</td>\n      <td>...</td>\n      <td>...</td>\n      <td>...</td>\n      <td>...</td>\n      <td>...</td>\n      <td>...</td>\n    </tr>\n    <tr>\n      <th>1220</th>\n      <td>0.000065</td>\n      <td>0.000760</td>\n      <td>0.376574</td>\n      <td>0.000969</td>\n      <td>0.529061</td>\n      <td>0.567416</td>\n      <td>0.538476</td>\n      <td>0.022321</td>\n      <td>0.515244</td>\n      <td>0.066663</td>\n      <td>0</td>\n    </tr>\n    <tr>\n      <th>1221</th>\n      <td>0.000233</td>\n      <td>0.000998</td>\n      <td>0.863132</td>\n      <td>0.001526</td>\n      <td>0.529061</td>\n      <td>0.567416</td>\n      <td>0.538476</td>\n      <td>0.022321</td>\n      <td>0.515244</td>\n      <td>0.076299</td>\n      <td>4</td>\n    </tr>\n    <tr>\n      <th>1222</th>\n      <td>0.001573</td>\n      <td>0.000398</td>\n      <td>0.465543</td>\n      <td>0.003392</td>\n      <td>0.529061</td>\n      <td>0.567416</td>\n      <td>0.538476</td>\n      <td>0.022321</td>\n      <td>0.515244</td>\n      <td>0.085711</td>\n      <td>0</td>\n    </tr>\n    <tr>\n      <th>1223</th>\n      <td>0.002894</td>\n      <td>0.001251</td>\n      <td>0.413271</td>\n      <td>0.006648</td>\n      <td>0.529061</td>\n      <td>0.567416</td>\n      <td>0.538476</td>\n      <td>0.022321</td>\n      <td>0.515244</td>\n      <td>0.108383</td>\n      <td>0</td>\n    </tr>\n    <tr>\n      <th>1224</th>\n      <td>1.000000</td>\n      <td>0.048648</td>\n      <td>0.706742</td>\n      <td>0.172448</td>\n      <td>0.529061</td>\n      <td>0.567416</td>\n      <td>0.538476</td>\n      <td>0.022321</td>\n      <td>0.515244</td>\n      <td>0.175345</td>\n      <td>4</td>\n    </tr>\n  </tbody>\n</table>\n<p>1225 rows × 11 columns</p>\n</div>"
     },
     "execution_count": 16,
     "metadata": {},
     "output_type": "execute_result"
    }
   ],
   "source": [
    "df"
   ],
   "metadata": {
    "collapsed": false,
    "ExecuteTime": {
     "end_time": "2023-10-22T17:45:26.159701100Z",
     "start_time": "2023-10-22T17:45:26.116370800Z"
    }
   },
   "id": "68f81fd1afff768a"
  },
  {
   "cell_type": "code",
   "execution_count": 19,
   "outputs": [],
   "source": [
    "df.to_csv(\"DataSet_2_Cluster.csv\", encoding='utf-8')"
   ],
   "metadata": {
    "collapsed": false,
    "ExecuteTime": {
     "end_time": "2023-10-22T17:52:36.284667800Z",
     "start_time": "2023-10-22T17:52:36.247865200Z"
    }
   },
   "id": "72329250bb2fd88e"
  },
  {
   "cell_type": "code",
   "execution_count": null,
   "outputs": [],
   "source": [],
   "metadata": {
    "collapsed": false
   },
   "id": "b977e8f79ae7a50a"
  }
 ],
 "metadata": {
  "kernelspec": {
   "display_name": "Python 3",
   "language": "python",
   "name": "python3"
  },
  "language_info": {
   "codemirror_mode": {
    "name": "ipython",
    "version": 2
   },
   "file_extension": ".py",
   "mimetype": "text/x-python",
   "name": "python",
   "nbconvert_exporter": "python",
   "pygments_lexer": "ipython2",
   "version": "2.7.6"
  }
 },
 "nbformat": 4,
 "nbformat_minor": 5
}
