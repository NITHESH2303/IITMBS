{
 "cells": [
  {
   "cell_type": "code",
   "execution_count": 1,
   "metadata": {},
   "outputs": [],
   "source": [
    "import pandas as pd\n",
    "import numpy as np\n",
    "import matplotlib.pyplot as plt\n",
    "from sklearn.metrics import mean_absolute_error\n",
    "from pandas.plotting import autocorrelation_plot\n",
    "from statsmodels.tsa.arima_model import ARIMA"
   ]
  },
  {
   "cell_type": "code",
   "execution_count": 2,
   "metadata": {},
   "outputs": [
    {
     "data": {
      "text/html": [
       "<div>\n",
       "<style scoped>\n",
       "    .dataframe tbody tr th:only-of-type {\n",
       "        vertical-align: middle;\n",
       "    }\n",
       "\n",
       "    .dataframe tbody tr th {\n",
       "        vertical-align: top;\n",
       "    }\n",
       "\n",
       "    .dataframe thead th {\n",
       "        text-align: right;\n",
       "    }\n",
       "</style>\n",
       "<table border=\"1\" class=\"dataframe\">\n",
       "  <thead>\n",
       "    <tr style=\"text-align: right;\">\n",
       "      <th></th>\n",
       "      <th>iso_code</th>\n",
       "      <th>location</th>\n",
       "      <th>date</th>\n",
       "      <th>new_cases</th>\n",
       "      <th>new_cases_smoothed</th>\n",
       "      <th>total_deaths</th>\n",
       "    </tr>\n",
       "  </thead>\n",
       "  <tbody>\n",
       "    <tr>\n",
       "      <th>0</th>\n",
       "      <td>OWID_EUR</td>\n",
       "      <td>Europe</td>\n",
       "      <td>2021-07-10</td>\n",
       "      <td>85170.0</td>\n",
       "      <td>90282.00</td>\n",
       "      <td>1114963.0</td>\n",
       "    </tr>\n",
       "    <tr>\n",
       "      <th>1</th>\n",
       "      <td>OWID_EUR</td>\n",
       "      <td>Europe</td>\n",
       "      <td>2021-07-09</td>\n",
       "      <td>110454.0</td>\n",
       "      <td>87077.71</td>\n",
       "      <td>1114071.0</td>\n",
       "    </tr>\n",
       "    <tr>\n",
       "      <th>2</th>\n",
       "      <td>OWID_EUR</td>\n",
       "      <td>Europe</td>\n",
       "      <td>2021-07-08</td>\n",
       "      <td>99385.0</td>\n",
       "      <td>82298.14</td>\n",
       "      <td>1113121.0</td>\n",
       "    </tr>\n",
       "    <tr>\n",
       "      <th>3</th>\n",
       "      <td>OWID_EUR</td>\n",
       "      <td>Europe</td>\n",
       "      <td>2021-07-07</td>\n",
       "      <td>96513.0</td>\n",
       "      <td>79298.57</td>\n",
       "      <td>1112044.0</td>\n",
       "    </tr>\n",
       "    <tr>\n",
       "      <th>4</th>\n",
       "      <td>OWID_EUR</td>\n",
       "      <td>Europe</td>\n",
       "      <td>2021-07-06</td>\n",
       "      <td>84329.0</td>\n",
       "      <td>75237.29</td>\n",
       "      <td>1111000.0</td>\n",
       "    </tr>\n",
       "  </tbody>\n",
       "</table>\n",
       "</div>"
      ],
      "text/plain": [
       "   iso_code location       date  new_cases  new_cases_smoothed  total_deaths\n",
       "0  OWID_EUR   Europe 2021-07-10    85170.0            90282.00     1114963.0\n",
       "1  OWID_EUR   Europe 2021-07-09   110454.0            87077.71     1114071.0\n",
       "2  OWID_EUR   Europe 2021-07-08    99385.0            82298.14     1113121.0\n",
       "3  OWID_EUR   Europe 2021-07-07    96513.0            79298.57     1112044.0\n",
       "4  OWID_EUR   Europe 2021-07-06    84329.0            75237.29     1111000.0"
      ]
     },
     "execution_count": 2,
     "metadata": {},
     "output_type": "execute_result"
    }
   ],
   "source": [
    "df = pd.read_excel(\"/Users/nithesh-pt7363/Work/IITMBS/TDS/Week4/Correlation_2.xlsx\")\n",
    "df.head()"
   ]
  },
  {
   "cell_type": "code",
   "execution_count": 3,
   "metadata": {},
   "outputs": [
    {
     "data": {
      "text/html": [
       "<div>\n",
       "<style scoped>\n",
       "    .dataframe tbody tr th:only-of-type {\n",
       "        vertical-align: middle;\n",
       "    }\n",
       "\n",
       "    .dataframe tbody tr th {\n",
       "        vertical-align: top;\n",
       "    }\n",
       "\n",
       "    .dataframe thead th {\n",
       "        text-align: right;\n",
       "    }\n",
       "</style>\n",
       "<table border=\"1\" class=\"dataframe\">\n",
       "  <thead>\n",
       "    <tr style=\"text-align: right;\">\n",
       "      <th></th>\n",
       "      <th>date</th>\n",
       "      <th>new_cases</th>\n",
       "      <th>new_cases_smoothed</th>\n",
       "      <th>total_deaths</th>\n",
       "    </tr>\n",
       "  </thead>\n",
       "  <tbody>\n",
       "    <tr>\n",
       "      <th>count</th>\n",
       "      <td>2607</td>\n",
       "      <td>2605.000000</td>\n",
       "      <td>2579.000000</td>\n",
       "      <td>2.472000e+03</td>\n",
       "    </tr>\n",
       "    <tr>\n",
       "      <th>mean</th>\n",
       "      <td>2020-10-22 14:17:48.814729728</td>\n",
       "      <td>38783.185029</td>\n",
       "      <td>38948.654344</td>\n",
       "      <td>1.596920e+05</td>\n",
       "    </tr>\n",
       "    <tr>\n",
       "      <th>min</th>\n",
       "      <td>2020-01-22 00:00:00</td>\n",
       "      <td>-53.000000</td>\n",
       "      <td>0.000000</td>\n",
       "      <td>1.000000e+00</td>\n",
       "    </tr>\n",
       "    <tr>\n",
       "      <th>25%</th>\n",
       "      <td>2020-06-14 12:00:00</td>\n",
       "      <td>708.000000</td>\n",
       "      <td>755.214000</td>\n",
       "      <td>2.080500e+03</td>\n",
       "    </tr>\n",
       "    <tr>\n",
       "      <th>50%</th>\n",
       "      <td>2020-10-23 00:00:00</td>\n",
       "      <td>9121.000000</td>\n",
       "      <td>11064.290000</td>\n",
       "      <td>2.593750e+04</td>\n",
       "    </tr>\n",
       "    <tr>\n",
       "      <th>75%</th>\n",
       "      <td>2021-03-02 00:00:00</td>\n",
       "      <td>46934.000000</td>\n",
       "      <td>46404.285000</td>\n",
       "      <td>1.958605e+05</td>\n",
       "    </tr>\n",
       "    <tr>\n",
       "      <th>max</th>\n",
       "      <td>2021-07-10 00:00:00</td>\n",
       "      <td>414188.000000</td>\n",
       "      <td>391232.000000</td>\n",
       "      <td>1.114963e+06</td>\n",
       "    </tr>\n",
       "    <tr>\n",
       "      <th>std</th>\n",
       "      <td>NaN</td>\n",
       "      <td>66376.472180</td>\n",
       "      <td>65359.224051</td>\n",
       "      <td>2.543126e+05</td>\n",
       "    </tr>\n",
       "  </tbody>\n",
       "</table>\n",
       "</div>"
      ],
      "text/plain": [
       "                                date      new_cases  new_cases_smoothed  \\\n",
       "count                           2607    2605.000000         2579.000000   \n",
       "mean   2020-10-22 14:17:48.814729728   38783.185029        38948.654344   \n",
       "min              2020-01-22 00:00:00     -53.000000            0.000000   \n",
       "25%              2020-06-14 12:00:00     708.000000          755.214000   \n",
       "50%              2020-10-23 00:00:00    9121.000000        11064.290000   \n",
       "75%              2021-03-02 00:00:00   46934.000000        46404.285000   \n",
       "max              2021-07-10 00:00:00  414188.000000       391232.000000   \n",
       "std                              NaN   66376.472180        65359.224051   \n",
       "\n",
       "       total_deaths  \n",
       "count  2.472000e+03  \n",
       "mean   1.596920e+05  \n",
       "min    1.000000e+00  \n",
       "25%    2.080500e+03  \n",
       "50%    2.593750e+04  \n",
       "75%    1.958605e+05  \n",
       "max    1.114963e+06  \n",
       "std    2.543126e+05  "
      ]
     },
     "execution_count": 3,
     "metadata": {},
     "output_type": "execute_result"
    }
   ],
   "source": [
    "df.describe()"
   ]
  },
  {
   "cell_type": "code",
   "execution_count": 4,
   "metadata": {},
   "outputs": [
    {
     "name": "stdout",
     "output_type": "stream",
     "text": [
      "<class 'pandas.core.frame.DataFrame'>\n",
      "RangeIndex: 2607 entries, 0 to 2606\n",
      "Data columns (total 6 columns):\n",
      " #   Column              Non-Null Count  Dtype         \n",
      "---  ------              --------------  -----         \n",
      " 0   iso_code            2607 non-null   object        \n",
      " 1   location            2607 non-null   object        \n",
      " 2   date                2607 non-null   datetime64[ns]\n",
      " 3   new_cases           2605 non-null   float64       \n",
      " 4   new_cases_smoothed  2579 non-null   float64       \n",
      " 5   total_deaths        2472 non-null   float64       \n",
      "dtypes: datetime64[ns](1), float64(3), object(2)\n",
      "memory usage: 122.3+ KB\n"
     ]
    }
   ],
   "source": [
    "df.info()"
   ]
  },
  {
   "cell_type": "code",
   "execution_count": 6,
   "metadata": {},
   "outputs": [
    {
     "data": {
      "text/plain": [
       "iso_code                 5\n",
       "location                 5\n",
       "date                   536\n",
       "new_cases             2208\n",
       "new_cases_smoothed    2451\n",
       "total_deaths          2270\n",
       "dtype: int64"
      ]
     },
     "execution_count": 6,
     "metadata": {},
     "output_type": "execute_result"
    }
   ],
   "source": [
    "df.nunique()"
   ]
  },
  {
   "cell_type": "code",
   "execution_count": 11,
   "metadata": {},
   "outputs": [
    {
     "data": {
      "text/plain": [
       "array(['Europe', 'Brazil', 'India', 'Japan', 'Israel'], dtype=object)"
      ]
     },
     "execution_count": 11,
     "metadata": {},
     "output_type": "execute_result"
    }
   ],
   "source": [
    "df['location'].unique()"
   ]
  },
  {
   "cell_type": "code",
   "execution_count": 12,
   "metadata": {},
   "outputs": [
    {
     "data": {
      "text/html": [
       "<div>\n",
       "<style scoped>\n",
       "    .dataframe tbody tr th:only-of-type {\n",
       "        vertical-align: middle;\n",
       "    }\n",
       "\n",
       "    .dataframe tbody tr th {\n",
       "        vertical-align: top;\n",
       "    }\n",
       "\n",
       "    .dataframe thead th {\n",
       "        text-align: right;\n",
       "    }\n",
       "</style>\n",
       "<table border=\"1\" class=\"dataframe\">\n",
       "  <thead>\n",
       "    <tr style=\"text-align: right;\">\n",
       "      <th></th>\n",
       "      <th>iso_code</th>\n",
       "      <th>location</th>\n",
       "      <th>date</th>\n",
       "      <th>new_cases</th>\n",
       "      <th>new_cases_smoothed</th>\n",
       "      <th>total_deaths</th>\n",
       "    </tr>\n",
       "  </thead>\n",
       "  <tbody>\n",
       "    <tr>\n",
       "      <th>289</th>\n",
       "      <td>IND</td>\n",
       "      <td>India</td>\n",
       "      <td>2021-07-10</td>\n",
       "      <td>41506.0</td>\n",
       "      <td>41684.14</td>\n",
       "      <td>408040.0</td>\n",
       "    </tr>\n",
       "    <tr>\n",
       "      <th>291</th>\n",
       "      <td>IND</td>\n",
       "      <td>India</td>\n",
       "      <td>2021-07-09</td>\n",
       "      <td>42766.0</td>\n",
       "      <td>41907.71</td>\n",
       "      <td>407145.0</td>\n",
       "    </tr>\n",
       "    <tr>\n",
       "      <th>294</th>\n",
       "      <td>IND</td>\n",
       "      <td>India</td>\n",
       "      <td>2021-07-08</td>\n",
       "      <td>43393.0</td>\n",
       "      <td>42099.86</td>\n",
       "      <td>405939.0</td>\n",
       "    </tr>\n",
       "    <tr>\n",
       "      <th>295</th>\n",
       "      <td>IND</td>\n",
       "      <td>India</td>\n",
       "      <td>2021-07-07</td>\n",
       "      <td>45892.0</td>\n",
       "      <td>42560.43</td>\n",
       "      <td>405028.0</td>\n",
       "    </tr>\n",
       "    <tr>\n",
       "      <th>296</th>\n",
       "      <td>IND</td>\n",
       "      <td>India</td>\n",
       "      <td>2021-07-06</td>\n",
       "      <td>43733.0</td>\n",
       "      <td>42973.86</td>\n",
       "      <td>404211.0</td>\n",
       "    </tr>\n",
       "  </tbody>\n",
       "</table>\n",
       "</div>"
      ],
      "text/plain": [
       "    iso_code location       date  new_cases  new_cases_smoothed  total_deaths\n",
       "289      IND    India 2021-07-10    41506.0            41684.14      408040.0\n",
       "291      IND    India 2021-07-09    42766.0            41907.71      407145.0\n",
       "294      IND    India 2021-07-08    43393.0            42099.86      405939.0\n",
       "295      IND    India 2021-07-07    45892.0            42560.43      405028.0\n",
       "296      IND    India 2021-07-06    43733.0            42973.86      404211.0"
      ]
     },
     "execution_count": 12,
     "metadata": {},
     "output_type": "execute_result"
    }
   ],
   "source": [
    "df = df[df['location']==\"India\"]\n",
    "df.head()"
   ]
  },
  {
   "cell_type": "code",
   "execution_count": 13,
   "metadata": {},
   "outputs": [
    {
     "data": {
      "text/plain": [
       "(Timestamp('2020-01-30 00:00:00'), Timestamp('2021-07-10 00:00:00'))"
      ]
     },
     "execution_count": 13,
     "metadata": {},
     "output_type": "execute_result"
    }
   ],
   "source": [
    "df.sort_values('date', ascending=True, inplace=True)\n",
    "df['date'].min(), df['date'].max()"
   ]
  },
  {
   "cell_type": "code",
   "execution_count": null,
   "metadata": {},
   "outputs": [],
   "source": [
    "plt.xlabel('Date')\n",
    "plt.ylabel('New death')\n",
    "plt.plot(df['date'], df['new death'],)"
   ]
  }
 ],
 "metadata": {
  "kernelspec": {
   "display_name": "Python 3",
   "language": "python",
   "name": "python3"
  },
  "language_info": {
   "codemirror_mode": {
    "name": "ipython",
    "version": 3
   },
   "file_extension": ".py",
   "mimetype": "text/x-python",
   "name": "python",
   "nbconvert_exporter": "python",
   "pygments_lexer": "ipython3",
   "version": "3.10.2"
  }
 },
 "nbformat": 4,
 "nbformat_minor": 2
}
